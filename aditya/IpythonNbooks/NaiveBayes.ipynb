{
 "metadata": {
  "name": ""
 },
 "nbformat": 3,
 "nbformat_minor": 0,
 "worksheets": [
  {
   "cells": [
    {
     "cell_type": "markdown",
     "metadata": {},
     "source": [
      "Tried Naive Bayes Classifier here. Didn't work very well."
     ]
    },
    {
     "cell_type": "code",
     "collapsed": false,
     "input": [
      "#This is how sklearn Naive Bayes works. The rows of X are features and elements of y are the classes\n",
      "\n",
      "\n",
      "from sklearn.naive_bayes import MultinomialNB\n",
      "clf=MultinomialNB()\n",
      "\n",
      "#Example application\n",
      "import numpy as np\n",
      "X=np.random.randint(5, size=(6,100 ))\n",
      "y=np.array(range(6))\n",
      "\n",
      "clf.fit(X,y)\n",
      "\n",
      "#Predictions on test data works well\n",
      "print clf.predict(X[3])==3\n",
      "\n"
     ],
     "language": "python",
     "metadata": {},
     "outputs": []
    },
    {
     "cell_type": "code",
     "collapsed": false,
     "input": [
      "from sklearn.feature_extraction.text import CountVectorizer\n",
      "Vectorizer=CountVectorizer(min_df=1,ngram_range=(1,1))"
     ],
     "language": "python",
     "metadata": {},
     "outputs": [],
     "prompt_number": 2
    },
    {
     "cell_type": "code",
     "collapsed": false,
     "input": [
      "from pandas import *\n",
      "\n",
      "df=read_table('train.csv')\n",
      "\n",
      "X=Vectorizer.fit_transform(df['Phrase'][:100000])\n",
      "y=df['Sentiment'][:100000].values\n",
      "\n",
      "X_train=X[:75000]\n",
      "y_train=y[:75000]\n",
      "\n",
      "X_test=X[75000:]\n",
      "y_test=y[75000:]\n",
      "\n",
      "clf.fit(X_train,y_train)\n",
      "sum(np.fabs(Clf.predict(X_test)-y_test==0))/25000"
     ],
     "language": "python",
     "metadata": {},
     "outputs": [
      {
       "ename": "NameError",
       "evalue": "name 'Vectorizer' is not defined",
       "output_type": "pyerr",
       "traceback": [
        "\u001b[0;31m---------------------------------------------------------------------------\u001b[0m\n\u001b[0;31mNameError\u001b[0m                                 Traceback (most recent call last)",
        "\u001b[0;32m<ipython-input-23-28c9664d649d>\u001b[0m in \u001b[0;36m<module>\u001b[0;34m()\u001b[0m\n\u001b[1;32m      3\u001b[0m \u001b[0mdf\u001b[0m\u001b[0;34m=\u001b[0m\u001b[0mread_table\u001b[0m\u001b[0;34m(\u001b[0m\u001b[0;34m'train.csv'\u001b[0m\u001b[0;34m)\u001b[0m\u001b[0;34m\u001b[0m\u001b[0m\n\u001b[1;32m      4\u001b[0m \u001b[0;34m\u001b[0m\u001b[0m\n\u001b[0;32m----> 5\u001b[0;31m \u001b[0mX\u001b[0m\u001b[0;34m=\u001b[0m\u001b[0mVectorizer\u001b[0m\u001b[0;34m.\u001b[0m\u001b[0mfit_transform\u001b[0m\u001b[0;34m(\u001b[0m\u001b[0mdf\u001b[0m\u001b[0;34m[\u001b[0m\u001b[0;34m'Phrase'\u001b[0m\u001b[0;34m]\u001b[0m\u001b[0;34m[\u001b[0m\u001b[0;34m:\u001b[0m\u001b[0;36m100000\u001b[0m\u001b[0;34m]\u001b[0m\u001b[0;34m)\u001b[0m\u001b[0;34m\u001b[0m\u001b[0m\n\u001b[0m\u001b[1;32m      6\u001b[0m \u001b[0my\u001b[0m\u001b[0;34m=\u001b[0m\u001b[0mdf\u001b[0m\u001b[0;34m[\u001b[0m\u001b[0;34m'Sentiment'\u001b[0m\u001b[0;34m]\u001b[0m\u001b[0;34m[\u001b[0m\u001b[0;34m:\u001b[0m\u001b[0;36m100000\u001b[0m\u001b[0;34m]\u001b[0m\u001b[0;34m.\u001b[0m\u001b[0mvalues\u001b[0m\u001b[0;34m\u001b[0m\u001b[0m\n\u001b[1;32m      7\u001b[0m \u001b[0;34m\u001b[0m\u001b[0m\n",
        "\u001b[0;31mNameError\u001b[0m: name 'Vectorizer' is not defined"
       ]
      }
     ],
     "prompt_number": 23
    },
    {
     "cell_type": "code",
     "collapsed": false,
     "input": [
      "import nltk\n",
      "stemmer = nltk.stem.SnowballStemmer(\"english\", ignore_stopwords=True)\n",
      "print stemmer.stem(\"The quick brown fox jumped over the lazier and lazy dog.\")"
     ],
     "language": "python",
     "metadata": {},
     "outputs": [
      {
       "output_type": "stream",
       "stream": "stdout",
       "text": [
        "the quick brown fox jump and  jumped over the lazier and lazy dog.\n"
       ]
      }
     ],
     "prompt_number": 3
    },
    {
     "cell_type": "code",
     "collapsed": false,
     "input": [
      "df=read_table('train.csv')\n",
      "#df['Phrase']=df['Phrase'].apply(lambda x: stemmer.stem(x))\n",
      "#df.head(8)"
     ],
     "language": "python",
     "metadata": {},
     "outputs": [],
     "prompt_number": 74
    },
    {
     "cell_type": "code",
     "collapsed": false,
     "input": [
      "sum(df['Sentiment']==0),sum(df['Sentiment']==1),sum(df['Sentiment']==2),sum(df['Sentiment']==3),sum(df['Sentiment']==4)"
     ],
     "language": "python",
     "metadata": {},
     "outputs": [],
     "prompt_number": 14
    },
    {
     "cell_type": "code",
     "collapsed": false,
     "input": [
      "#SVM I ran this a while ago doesn't do well\n",
      "\n",
      "from sklearn.svm import SVC\n",
      "\n",
      "svm_clf=SVC()\n",
      "\n",
      "svm_clf.fit(X,y)\n",
      "\n",
      "svm_clf.score(X,y)"
     ],
     "language": "python",
     "metadata": {},
     "outputs": [
      {
       "metadata": {},
       "output_type": "pyout",
       "prompt_number": 8,
       "text": [
        "SVC(C=1.0, cache_size=200, class_weight=None, coef0=0.0, degree=3, gamma=0.0,\n",
        "  kernel='rbf', max_iter=-1, probability=False, random_state=None,\n",
        "  shrinking=True, tol=0.001, verbose=False)"
       ]
      }
     ],
     "prompt_number": 8
    },
    {
     "cell_type": "code",
     "collapsed": false,
     "input": [
      "#Stemming words to avoid overcounting derivatives of words\n",
      "#lemmatizer stems words to actual words which is nicer\n",
      "\n",
      "lemmatizer = nltk.stem.wordnet.WordNetLemmatizer()\n",
      "\n",
      "#Stems words of a sentence and puts them back together\n",
      "def Stemm(sentence):\n",
      "    return \" \".join(map(lemmatizer.lemmatize, sentence.split(\" \")))\n",
      "\n",
      "Stemm(\"Bob bobs for apples.Bob's your uncle\")\n",
      "\n",
      "df['Phrase']=df['Phrase'].apply(Stemm)"
     ],
     "language": "python",
     "metadata": {},
     "outputs": []
    },
    {
     "cell_type": "code",
     "collapsed": false,
     "input": [
      "#Old code I don't remember what I was doing\n",
      "\n",
      "df=df.sort(['Sentiment'])\n",
      "\n",
      "df.apply(np.random.shuffle, axis=0)\n",
      "\n",
      "df=df.drop(df.index[range(40000,90000)])\n",
      "\n",
      "df.loc[range(30000,30010)]\n"
     ],
     "language": "python",
     "metadata": {},
     "outputs": []
    },
    {
     "cell_type": "code",
     "collapsed": false,
     "input": [],
     "language": "python",
     "metadata": {},
     "outputs": []
    }
   ],
   "metadata": {}
  }
 ]
}