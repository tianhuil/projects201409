{
 "metadata": {
  "name": ""
 },
 "nbformat": 3,
 "nbformat_minor": 0,
 "worksheets": [
  {
   "cells": [
    {
     "cell_type": "markdown",
     "metadata": {},
     "source": [
      "This is mostly redundant. Ignore."
     ]
    },
    {
     "cell_type": "code",
     "collapsed": false,
     "input": [
      "import pickle\n",
      "from pandas import *\n",
      "options.display.max_colwidth=0\n",
      "\n",
      "\n",
      "Mov_data=pickle.load(open(\"PickledDataRT.p\", \"rb\"))\n",
      "Mov_data.shape\n",
      "\n",
      "Mov_data.head(20)\n",
      "\n",
      "Mov_data=Mov_data[Mov_data['Rating']!='None']\n",
      "Mov_data_num=Mov_data.copy()"
     ],
     "language": "python",
     "metadata": {},
     "outputs": [],
     "prompt_number": 1
    },
    {
     "cell_type": "code",
     "collapsed": false,
     "input": [
      "Mov_data=Mov_data[Mov_data['Rating']!='None']\n",
      "Mov_data_num=Mov_data.copy()"
     ],
     "language": "python",
     "metadata": {},
     "outputs": [],
     "prompt_number": 2
    },
    {
     "cell_type": "code",
     "collapsed": false,
     "input": [
      "letter2num={'A+':4,'A-':3,'A':4,'B+':3,'B':2,'B-':2,'C':1,'C+':1,'C-':1,'D+':0,'D':0,'D-':0,\n",
      "               '1/5':0,'2/5':1,'3/5':2,'4/5':3,'5/5':4,'1.5/5':1,'2.5/5':2,'3.5/5':3,'4.5/5':4,\n",
      "               '1/4':0,'2/4':2,'3/4':3,'4/4':4,'1.5/4':1,'2.5/4':3,'3.5/4':3,\n",
      "               '1/10':0,'2/10':0,'3/10':1,'4/10':1,'5/10':2,'6/10':2,'7/10':3,'8/10':3,'9/10':4,'10/10':4,\n",
      "               '1 star':0,'2 stars':1,'3 stars':2,'4 stars':3,'5 stars':4}\n",
      "fresh2num={'0':1,'1':3}\n",
      "\n",
      "def L2num(x):\n",
      "    try:\n",
      "        return letter2num[x]            \n",
      "    except KeyError: return 2"
     ],
     "language": "python",
     "metadata": {},
     "outputs": [],
     "prompt_number": 3
    },
    {
     "cell_type": "code",
     "collapsed": false,
     "input": [
      "#Mov_data_num['Rating'].apply(L2num)\n",
      "#Mov_data_num['Review'].apply( lambda x: str(x))\n",
      "\n",
      "Mov_data_num=Mov_data_num[notnull(Mov_data_num['Review'])]\n",
      "Mov_data_num['Rating']=Mov_data_num['Rating'].apply(lambda x:int(L2num(x)))\n",
      "\n",
      "Mov_data_num[['Review','Rating']][100:200]\n",
      "\n",
      "Mov_data_num['Rating'].hist()"
     ],
     "language": "python",
     "metadata": {},
     "outputs": [
      {
       "metadata": {},
       "output_type": "pyout",
       "prompt_number": 4,
       "text": [
        "<matplotlib.axes.AxesSubplot at 0xaf4a186c>"
       ]
      },
      {
       "metadata": {},
       "output_type": "display_data",
       "png": "[encoded data removed]",
       "text": [
        "<matplotlib.figure.Figure at 0xaf4a1e4c>"
       ]
      }
     ],
     "prompt_number": 4
    },
    {
     "cell_type": "code",
     "collapsed": false,
     "input": [
      "Mov_data_num = Mov_data_num[Mov_data_num['Rating'] != 2]"
     ],
     "language": "python",
     "metadata": {},
     "outputs": [],
     "prompt_number": 5
    },
    {
     "cell_type": "code",
     "collapsed": false,
     "input": [],
     "language": "python",
     "metadata": {},
     "outputs": [],
     "prompt_number": 8
    },
    {
     "cell_type": "code",
     "collapsed": false,
     "input": [],
     "language": "python",
     "metadata": {},
     "outputs": [],
     "prompt_number": 9
    },
    {
     "cell_type": "code",
     "collapsed": false,
     "input": [],
     "language": "python",
     "metadata": {},
     "outputs": [
      {
       "html": [
        "<div style=\"max-height:1000px;max-width:1500px;overflow:auto;\">\n",
        "<table border=\"1\" class=\"dataframe\">\n",
        "  <thead>\n",
        "    <tr style=\"text-align: right;\">\n",
        "      <th></th>\n",
        "      <th>Review</th>\n",
        "      <th>Rating</th>\n",
        "    </tr>\n",
        "  </thead>\n",
        "  <tbody>\n",
        "    <tr>\n",
        "      <th>205</th>\n",
        "      <td> In a feature directorial debut that never feels like one, Field is as effortless behind a camera as she is in front of one.</td>\n",
        "      <td> 3</td>\n",
        "    </tr>\n",
        "    <tr>\n",
        "      <th>206</th>\n",
        "      <td> It's a better film when it keeps its heart in cold storage and shows what drives a woman to compete against her peers.</td>\n",
        "      <td> 2</td>\n",
        "    </tr>\n",
        "    <tr>\n",
        "      <th>210</th>\n",
        "      <td> Disappointingly short on substance.</td>\n",
        "      <td> 3</td>\n",
        "    </tr>\n",
        "    <tr>\n",
        "      <th>215</th>\n",
        "      <td> A mess of a movie that suffers from awkward writing, a plot with major disconnects in plausibility, an annoyingly screechy kid character and cheesy production values.</td>\n",
        "      <td> 0</td>\n",
        "    </tr>\n",
        "    <tr>\n",
        "      <th>218</th>\n",
        "      <td> Beautiful ain't. Sally Field may be proclaiming \"You like me! You really like me!\" behind the camera, but don't be egged on.</td>\n",
        "      <td> 2</td>\n",
        "    </tr>\n",
        "    <tr>\n",
        "      <th>222</th>\n",
        "      <td> This movie has no point of view, a wildly inconsistent tone, and no understanding of its characters.</td>\n",
        "      <td> 1</td>\n",
        "    </tr>\n",
        "    <tr>\n",
        "      <th>223</th>\n",
        "      <td> Certainly the beauty biz deserves better than the antsy and dispiriting Beautiful.</td>\n",
        "      <td> 0</td>\n",
        "    </tr>\n",
        "    <tr>\n",
        "      <th>225</th>\n",
        "      <td> The very premise of Bounce sounds suspect, so it's a credit to Roos' writing that he largely overcomes his own dubious plotline and fashions a fairly involving love story.</td>\n",
        "      <td> 3</td>\n",
        "    </tr>\n",
        "    <tr>\n",
        "      <th>226</th>\n",
        "      <td> Entertaining story of fate, alcoholism, and love.</td>\n",
        "      <td> 2</td>\n",
        "    </tr>\n",
        "    <tr>\n",
        "      <th>227</th>\n",
        "      <td> The fact that it remains watchable and enjoyable is a credit to its actors and its writer ...</td>\n",
        "      <td> 1</td>\n",
        "    </tr>\n",
        "    <tr>\n",
        "      <th>228</th>\n",
        "      <td> What should have been graceful understatement instead reads as lifeless detachment.</td>\n",
        "      <td> 2</td>\n",
        "    </tr>\n",
        "    <tr>\n",
        "      <th>229</th>\n",
        "      <td> Affleck and Paltrow seem to be enjoying their roles far more than we do.</td>\n",
        "      <td> 2</td>\n",
        "    </tr>\n",
        "    <tr>\n",
        "      <th>230</th>\n",
        "      <td> Seems too slight and shallow to really work as a drama.</td>\n",
        "      <td> 2</td>\n",
        "    </tr>\n",
        "    <tr>\n",
        "      <th>231</th>\n",
        "      <td> Heavy-handed, unbelievable, predictable, and when without Gwenyth, a not very exciting film to find oneself bouncing ultimately boredly through.</td>\n",
        "      <td> 0</td>\n",
        "    </tr>\n",
        "    <tr>\n",
        "      <th>233</th>\n",
        "      <td> Mais Que o Acaso se salva gracas ao desempenho de seus protagonistas e a quimica existente entre estes.</td>\n",
        "      <td> 2</td>\n",
        "    </tr>\n",
        "    <tr>\n",
        "      <th>234</th>\n",
        "      <td> Two movies in one -- lively when people are talking, lame when things are happening.</td>\n",
        "      <td> 3</td>\n",
        "    </tr>\n",
        "    <tr>\n",
        "      <th>235</th>\n",
        "      <td> What keeps it grounded is the commitment by Roos and his cast to making the emotions of the story real.</td>\n",
        "      <td> 2</td>\n",
        "    </tr>\n",
        "    <tr>\n",
        "      <th>236</th>\n",
        "      <td> Ben and Gwynneth, \"just friends\" or no, have a lovely, believable chemistry that isn't all hot sex or amusing rapid fire witticisms.</td>\n",
        "      <td> 2</td>\n",
        "    </tr>\n",
        "    <tr>\n",
        "      <th>238</th>\n",
        "      <td> You can almost see the strings as the actors are manipulated into position for one more weepy scene.</td>\n",
        "      <td> 1</td>\n",
        "    </tr>\n",
        "    <tr>\n",
        "      <th>239</th>\n",
        "      <td> An agreeable but ultimately insubstantial piece of fluff.</td>\n",
        "      <td> 3</td>\n",
        "    </tr>\n",
        "    <tr>\n",
        "      <th>242</th>\n",
        "      <td> Guys are idiots, lower your standards? I can't tell you how sick I am of seeing this moronic message beaten into women's heads in cinematic 'romance' after romance.</td>\n",
        "      <td> 2</td>\n",
        "    </tr>\n",
        "    <tr>\n",
        "      <th>243</th>\n",
        "      <td> The movie never really works because it's hard to root for a screen romance when one of the actors is stiff and unsympathetic.</td>\n",
        "      <td> 2</td>\n",
        "    </tr>\n",
        "    <tr>\n",
        "      <th>247</th>\n",
        "      <td> Roos' film is a misfire, but only just.</td>\n",
        "      <td> 2</td>\n",
        "    </tr>\n",
        "    <tr>\n",
        "      <th>249</th>\n",
        "      <td> Buddy and Abby's awkward friendship and eventual love affair are pleasant enough but never particularly engaging.</td>\n",
        "      <td> 3</td>\n",
        "    </tr>\n",
        "    <tr>\n",
        "      <th>254</th>\n",
        "      <td> This, [Roos'] second venture, suffers from some of the usual 'sophomore curse' pitfalls.</td>\n",
        "      <td> 1</td>\n",
        "    </tr>\n",
        "    <tr>\n",
        "      <th>262</th>\n",
        "      <td> About as moving as a month-old Kleenex.</td>\n",
        "      <td> 1</td>\n",
        "    </tr>\n",
        "    <tr>\n",
        "      <th>266</th>\n",
        "      <td> An insipid, mawkish romance drama which, absent the two remarkable principals in the cast, might find a comfortable slot on 4 o'clock TV.</td>\n",
        "      <td> 2</td>\n",
        "    </tr>\n",
        "    <tr>\n",
        "      <th>269</th>\n",
        "      <td> Aided by two very strong performances from Ben Affleck and Gwyneth Paltrow and filled with a number of really well written scenes by Roos.</td>\n",
        "      <td> 3</td>\n",
        "    </tr>\n",
        "    <tr>\n",
        "      <th>271</th>\n",
        "      <td> This touching, finely wrought bowl of suds is a seamless piece of work.</td>\n",
        "      <td> 3</td>\n",
        "    </tr>\n",
        "    <tr>\n",
        "      <th>273</th>\n",
        "      <td> As a director, [Roos] brings a keen eye for character and nuance to his writer-side's lapses.</td>\n",
        "      <td> 2</td>\n",
        "    </tr>\n",
        "    <tr>\n",
        "      <th>274</th>\n",
        "      <td> The script by Don Roos, who also directed, makes good use of the dramatic irony.</td>\n",
        "      <td> 3</td>\n",
        "    </tr>\n",
        "    <tr>\n",
        "      <th>276</th>\n",
        "      <td> Roos combines a sharp script with excellent performances and comfortably lived-in sets to produce a cornucopia of poignantly human interludes.</td>\n",
        "      <td> 2</td>\n",
        "    </tr>\n",
        "    <tr>\n",
        "      <th>278</th>\n",
        "      <td> Despite some failings along the way, the film builds toward his and the actors' strengths; by its closing scenes, Bounce bounces back.</td>\n",
        "      <td> 3</td>\n",
        "    </tr>\n",
        "    <tr>\n",
        "      <th>279</th>\n",
        "      <td> A romantic drama of lovely, modest, and all too rare understatement.</td>\n",
        "      <td> 3</td>\n",
        "    </tr>\n",
        "    <tr>\n",
        "      <th>281</th>\n",
        "      <td> The chemistry between the two charismatic young actors remains plausible and appealing.</td>\n",
        "      <td> 3</td>\n",
        "    </tr>\n",
        "    <tr>\n",
        "      <th>282</th>\n",
        "      <td> Don Roos' dialogue is a cut above the norm.</td>\n",
        "      <td> 3</td>\n",
        "    </tr>\n",
        "    <tr>\n",
        "      <th>283</th>\n",
        "      <td> I wanted [Buddy and Abby] to become lovers, which means they sold me on themselves.</td>\n",
        "      <td> 3</td>\n",
        "    </tr>\n",
        "    <tr>\n",
        "      <th>286</th>\n",
        "      <td> This modest production scored with me.</td>\n",
        "      <td> 2</td>\n",
        "    </tr>\n",
        "    <tr>\n",
        "      <th>287</th>\n",
        "      <td> A commendably restrained, mostly intelligent drama providing a good showcase for its two personable young stars.</td>\n",
        "      <td> 2</td>\n",
        "    </tr>\n",
        "    <tr>\n",
        "      <th>288</th>\n",
        "      <td> A genuinely moving and engrossing film brought to warm and authentic life by its gifted and intelligent stars.</td>\n",
        "      <td> 4</td>\n",
        "    </tr>\n",
        "    <tr>\n",
        "      <th>289</th>\n",
        "      <td> A tearjerker that's got both a brain and a heart.</td>\n",
        "      <td> 2</td>\n",
        "    </tr>\n",
        "    <tr>\n",
        "      <th>294</th>\n",
        "      <td> A heart-affecting film that depicts the transforming experience of loss and the chaotic, conflicting emotions of grief.</td>\n",
        "      <td> 2</td>\n",
        "    </tr>\n",
        "    <tr>\n",
        "      <th>295</th>\n",
        "      <td> The sort of romance that doesn't come around too often&amp;#151;intelligent without being saccharine, heartfelt without being condescending.</td>\n",
        "      <td> 3</td>\n",
        "    </tr>\n",
        "    <tr>\n",
        "      <th>299</th>\n",
        "      <td> A moody, plodding film.</td>\n",
        "      <td> 1</td>\n",
        "    </tr>\n",
        "    <tr>\n",
        "      <th>302</th>\n",
        "      <td> A wonderfully original and entertaining comedy&amp;#151;the rarest of breeds.</td>\n",
        "      <td> 3</td>\n",
        "    </tr>\n",
        "    <tr>\n",
        "      <th>304</th>\n",
        "      <td> Not only is this film persistently unfunny, but it is consistently uninvolving.</td>\n",
        "      <td> 2</td>\n",
        "    </tr>\n",
        "    <tr>\n",
        "      <th>305</th>\n",
        "      <td> It is lacking in wickedness. It doesn't smack its lips when it's naughty.</td>\n",
        "      <td> 2</td>\n",
        "    </tr>\n",
        "    <tr>\n",
        "      <th>313</th>\n",
        "      <td> Brendan Fraser is one funny, mixed-up guy. And as Ms. Lucifer, the new scourge of Fraser's life, Elizabeth Hurley crackles with sexy sarcasm.</td>\n",
        "      <td> 3</td>\n",
        "    </tr>\n",
        "    <tr>\n",
        "      <th>314</th>\n",
        "      <td> Sort of a comic coming-out party for Fraser, who's really improved since George of the Jungle and Dudley Do-Right.</td>\n",
        "      <td> 3</td>\n",
        "    </tr>\n",
        "    <tr>\n",
        "      <th>316</th>\n",
        "      <td> It's quite enjoyable on its own terms.</td>\n",
        "      <td> 2</td>\n",
        "    </tr>\n",
        "    <tr>\n",
        "      <th>319</th>\n",
        "      <td> A powerful statement on a violent society -- and a very uncomfortable one that is apt to alienate many viewers.</td>\n",
        "      <td> 3</td>\n",
        "    </tr>\n",
        "    <tr>\n",
        "      <th>320</th>\n",
        "      <td> A vital, stylish Yakuza pic, Kitano crafts a new world/old world, brother against brother epic battle straddling both sides of the Pacific.</td>\n",
        "      <td> 4</td>\n",
        "    </tr>\n",
        "    <tr>\n",
        "      <th>321</th>\n",
        "      <td> Takashi has been considered a master auteur. Perhaps, but there's no art here, just violence.</td>\n",
        "      <td> 0</td>\n",
        "    </tr>\n",
        "    <tr>\n",
        "      <th>322</th>\n",
        "      <td> If the yardstick for mob flicks is 'Goodfellas' (and it should be), then 'Brother' doesn't stand a chance. On its own, however, it is a stylish, colourful film.</td>\n",
        "      <td> 2</td>\n",
        "    </tr>\n",
        "    <tr>\n",
        "      <th>324</th>\n",
        "      <td> There's no flow to this movie -- it just plods along from one disconnected sequence to another.</td>\n",
        "      <td> 0</td>\n",
        "    </tr>\n",
        "    <tr>\n",
        "      <th>326</th>\n",
        "      <td> It's a little hard to take, a little too nihilistic.</td>\n",
        "      <td> 2</td>\n",
        "    </tr>\n",
        "    <tr>\n",
        "      <th>327</th>\n",
        "      <td> It fails to work because it falls into the conventional exploitive genre of Hollywood action films instead of retaining the quirky director's unusual artistic sensibilities.</td>\n",
        "      <td> 1</td>\n",
        "    </tr>\n",
        "    <tr>\n",
        "      <th>332</th>\n",
        "      <td> Though Kitano is no Kurosawa, they're using the same brushes on similar canvasses, and that comparison in itself makes Brother one of the year's best films.</td>\n",
        "      <td> 3</td>\n",
        "    </tr>\n",
        "    <tr>\n",
        "      <th>333</th>\n",
        "      <td> It's rougher stuff than most would expect, though not unrewarding in its own horrific way.</td>\n",
        "      <td> 2</td>\n",
        "    </tr>\n",
        "    <tr>\n",
        "      <th>338</th>\n",
        "      <td> Kitano has a gift for framing and staying with a scene, and his editing choices are impeccable.</td>\n",
        "      <td> 3</td>\n",
        "    </tr>\n",
        "    <tr>\n",
        "      <th></th>\n",
        "      <td>...</td>\n",
        "      <td>...</td>\n",
        "    </tr>\n",
        "  </tbody>\n",
        "</table>\n",
        "<p>100 rows \u00d7 2 columns</p>\n",
        "</div>"
       ],
       "metadata": {},
       "output_type": "pyout",
       "prompt_number": 15,
       "text": [
        "                                                                                                                                                                            Review  \\\n",
        "205  In a feature directorial debut that never feels like one, Field is as effortless behind a camera as she is in front of one.                                                     \n",
        "206  It's a better film when it keeps its heart in cold storage and shows what drives a woman to compete against her peers.                                                          \n",
        "210  Disappointingly short on substance.                                                                                                                                             \n",
        "215  A mess of a movie that suffers from awkward writing, a plot with major disconnects in plausibility, an annoyingly screechy kid character and cheesy production values.          \n",
        "218  Beautiful ain't. Sally Field may be proclaiming \"You like me! You really like me!\" behind the camera, but don't be egged on.                                                    \n",
        "222  This movie has no point of view, a wildly inconsistent tone, and no understanding of its characters.                                                                            \n",
        "223  Certainly the beauty biz deserves better than the antsy and dispiriting Beautiful.                                                                                              \n",
        "225  The very premise of Bounce sounds suspect, so it's a credit to Roos' writing that he largely overcomes his own dubious plotline and fashions a fairly involving love story.     \n",
        "226  Entertaining story of fate, alcoholism, and love.                                                                                                                               \n",
        "227  The fact that it remains watchable and enjoyable is a credit to its actors and its writer ...                                                                                   \n",
        "228  What should have been graceful understatement instead reads as lifeless detachment.                                                                                             \n",
        "229  Affleck and Paltrow seem to be enjoying their roles far more than we do.                                                                                                        \n",
        "230  Seems too slight and shallow to really work as a drama.                                                                                                                         \n",
        "231  Heavy-handed, unbelievable, predictable, and when without Gwenyth, a not very exciting film to find oneself bouncing ultimately boredly through.                                \n",
        "233  Mais Que o Acaso se salva gracas ao desempenho de seus protagonistas e a quimica existente entre estes.                                                                         \n",
        "234  Two movies in one -- lively when people are talking, lame when things are happening.                                                                                            \n",
        "235  What keeps it grounded is the commitment by Roos and his cast to making the emotions of the story real.                                                                         \n",
        "236  Ben and Gwynneth, \"just friends\" or no, have a lovely, believable chemistry that isn't all hot sex or amusing rapid fire witticisms.                                            \n",
        "238  You can almost see the strings as the actors are manipulated into position for one more weepy scene.                                                                            \n",
        "239  An agreeable but ultimately insubstantial piece of fluff.                                                                                                                       \n",
        "242  Guys are idiots, lower your standards? I can't tell you how sick I am of seeing this moronic message beaten into women's heads in cinematic 'romance' after romance.            \n",
        "243  The movie never really works because it's hard to root for a screen romance when one of the actors is stiff and unsympathetic.                                                  \n",
        "247  Roos' film is a misfire, but only just.                                                                                                                                         \n",
        "249  Buddy and Abby's awkward friendship and eventual love affair are pleasant enough but never particularly engaging.                                                               \n",
        "254  This, [Roos'] second venture, suffers from some of the usual 'sophomore curse' pitfalls.                                                                                        \n",
        "262  About as moving as a month-old Kleenex.                                                                                                                                         \n",
        "266  An insipid, mawkish romance drama which, absent the two remarkable principals in the cast, might find a comfortable slot on 4 o'clock TV.                                       \n",
        "269  Aided by two very strong performances from Ben Affleck and Gwyneth Paltrow and filled with a number of really well written scenes by Roos.                                      \n",
        "271  This touching, finely wrought bowl of suds is a seamless piece of work.                                                                                                         \n",
        "273  As a director, [Roos] brings a keen eye for character and nuance to his writer-side's lapses.                                                                                   \n",
        "274  The script by Don Roos, who also directed, makes good use of the dramatic irony.                                                                                                \n",
        "276  Roos combines a sharp script with excellent performances and comfortably lived-in sets to produce a cornucopia of poignantly human interludes.                                  \n",
        "278  Despite some failings along the way, the film builds toward his and the actors' strengths; by its closing scenes, Bounce bounces back.                                          \n",
        "279  A romantic drama of lovely, modest, and all too rare understatement.                                                                                                            \n",
        "281  The chemistry between the two charismatic young actors remains plausible and appealing.                                                                                         \n",
        "282  Don Roos' dialogue is a cut above the norm.                                                                                                                                     \n",
        "283  I wanted [Buddy and Abby] to become lovers, which means they sold me on themselves.                                                                                             \n",
        "286  This modest production scored with me.                                                                                                                                          \n",
        "287  A commendably restrained, mostly intelligent drama providing a good showcase for its two personable young stars.                                                                \n",
        "288  A genuinely moving and engrossing film brought to warm and authentic life by its gifted and intelligent stars.                                                                  \n",
        "289  A tearjerker that's got both a brain and a heart.                                                                                                                               \n",
        "294  A heart-affecting film that depicts the transforming experience of loss and the chaotic, conflicting emotions of grief.                                                         \n",
        "295  The sort of romance that doesn't come around too often&#151;intelligent without being saccharine, heartfelt without being condescending.                                        \n",
        "299  A moody, plodding film.                                                                                                                                                         \n",
        "302  A wonderfully original and entertaining comedy&#151;the rarest of breeds.                                                                                                       \n",
        "304  Not only is this film persistently unfunny, but it is consistently uninvolving.                                                                                                 \n",
        "305  It is lacking in wickedness. It doesn't smack its lips when it's naughty.                                                                                                       \n",
        "313  Brendan Fraser is one funny, mixed-up guy. And as Ms. Lucifer, the new scourge of Fraser's life, Elizabeth Hurley crackles with sexy sarcasm.                                   \n",
        "314  Sort of a comic coming-out party for Fraser, who's really improved since George of the Jungle and Dudley Do-Right.                                                              \n",
        "316  It's quite enjoyable on its own terms.                                                                                                                                          \n",
        "319  A powerful statement on a violent society -- and a very uncomfortable one that is apt to alienate many viewers.                                                                 \n",
        "320  A vital, stylish Yakuza pic, Kitano crafts a new world/old world, brother against brother epic battle straddling both sides of the Pacific.                                     \n",
        "321  Takashi has been considered a master auteur. Perhaps, but there's no art here, just violence.                                                                                   \n",
        "322  If the yardstick for mob flicks is 'Goodfellas' (and it should be), then 'Brother' doesn't stand a chance. On its own, however, it is a stylish, colourful film.                \n",
        "324  There's no flow to this movie -- it just plods along from one disconnected sequence to another.                                                                                 \n",
        "326  It's a little hard to take, a little too nihilistic.                                                                                                                            \n",
        "327  It fails to work because it falls into the conventional exploitive genre of Hollywood action films instead of retaining the quirky director's unusual artistic sensibilities.   \n",
        "332  Though Kitano is no Kurosawa, they're using the same brushes on similar canvasses, and that comparison in itself makes Brother one of the year's best films.                    \n",
        "333  It's rougher stuff than most would expect, though not unrewarding in its own horrific way.                                                                                      \n",
        "338  Kitano has a gift for framing and staying with a scene, and his editing choices are impeccable.                                                                                 \n",
        "                                                                                                                                                                                     \n",
        "\n",
        "     Rating  \n",
        "205  3       \n",
        "206  2       \n",
        "210  3       \n",
        "215  0       \n",
        "218  2       \n",
        "222  1       \n",
        "223  0       \n",
        "225  3       \n",
        "226  2       \n",
        "227  1       \n",
        "228  2       \n",
        "229  2       \n",
        "230  2       \n",
        "231  0       \n",
        "233  2       \n",
        "234  3       \n",
        "235  2       \n",
        "236  2       \n",
        "238  1       \n",
        "239  3       \n",
        "242  2       \n",
        "243  2       \n",
        "247  2       \n",
        "249  3       \n",
        "254  1       \n",
        "262  1       \n",
        "266  2       \n",
        "269  3       \n",
        "271  3       \n",
        "273  2       \n",
        "274  3       \n",
        "276  2       \n",
        "278  3       \n",
        "279  3       \n",
        "281  3       \n",
        "282  3       \n",
        "283  3       \n",
        "286  2       \n",
        "287  2       \n",
        "288  4       \n",
        "289  2       \n",
        "294  2       \n",
        "295  3       \n",
        "299  1       \n",
        "302  3       \n",
        "304  2       \n",
        "305  2       \n",
        "313  3       \n",
        "314  3       \n",
        "316  2       \n",
        "319  3       \n",
        "320  4       \n",
        "321  0       \n",
        "322  2       \n",
        "324  0       \n",
        "326  2       \n",
        "327  1       \n",
        "332  3       \n",
        "333  2       \n",
        "338  3       \n",
        "             \n",
        "\n",
        "[100 rows x 2 columns]"
       ]
      }
     ],
     "prompt_number": 15
    },
    {
     "cell_type": "code",
     "collapsed": false,
     "input": [],
     "language": "python",
     "metadata": {},
     "outputs": [
      {
       "metadata": {},
       "output_type": "pyout",
       "prompt_number": 10,
       "text": [
        "<matplotlib.axes.AxesSubplot at 0xaf48e80c>"
       ]
      },
      {
       "metadata": {},
       "output_type": "display_data",
       "png": "[encoded data removed]",
       "text": [
        "<matplotlib.figure.Figure at 0xaf48ecac>"
       ]
      }
     ],
     "prompt_number": 10
    },
    {
     "cell_type": "code",
     "collapsed": false,
     "input": [
      "for i in range(5):\n",
      "    print sum(Mov_data_num['Rating']==i)/134740.0"
     ],
     "language": "python",
     "metadata": {},
     "outputs": [
      {
       "output_type": "stream",
       "stream": "stdout",
       "text": [
        "0.0777274751373\n",
        "0.181994953243"
       ]
      },
      {
       "output_type": "stream",
       "stream": "stdout",
       "text": [
        "\n",
        "0.0"
       ]
      },
      {
       "output_type": "stream",
       "stream": "stdout",
       "text": [
        "\n",
        "0.366565236752"
       ]
      },
      {
       "output_type": "stream",
       "stream": "stdout",
       "text": [
        "\n",
        "0.062527831379"
       ]
      },
      {
       "output_type": "stream",
       "stream": "stdout",
       "text": [
        "\n"
       ]
      }
     ],
     "prompt_number": 6
    },
    {
     "cell_type": "code",
     "collapsed": false,
     "input": [
      "import nltk\n",
      "stemmer = nltk.stem.SnowballStemmer(\"english\", ignore_stopwords=True)\n",
      "print stemmer.stem(\"The quick brown fox jumped over the lazy dog.\")"
     ],
     "language": "python",
     "metadata": {},
     "outputs": [
      {
       "output_type": "stream",
       "stream": "stdout",
       "text": [
        "the quick brown fox jumped over the lazy dog isn't that wasn't would not\n"
       ]
      }
     ],
     "prompt_number": 37
    },
    {
     "cell_type": "code",
     "collapsed": false,
     "input": [],
     "language": "python",
     "metadata": {},
     "outputs": []
    },
    {
     "cell_type": "code",
     "collapsed": false,
     "input": [
      "from sklearn.feature_extraction.text import CountVectorizer\n",
      "\n",
      "vectorizer = CountVectorizer(min_df=10)\n",
      "\n",
      "X=vectorizer.fit_transform(Mov_data_num['Review'][:100000])\n",
      "\n",
      "y=Mov_data_num['Rating'][:100000]"
     ],
     "language": "python",
     "metadata": {},
     "outputs": [],
     "prompt_number": 24
    },
    {
     "cell_type": "code",
     "collapsed": false,
     "input": [
      "y.head()"
     ],
     "language": "python",
     "metadata": {},
     "outputs": [
      {
       "metadata": {},
       "output_type": "pyout",
       "prompt_number": 236,
       "text": [
        "0   -1\n",
        "2    0\n",
        "3   -1\n",
        "7    2\n",
        "8    1\n",
        "Name: Rating, dtype: int64"
       ]
      }
     ],
     "prompt_number": 236
    },
    {
     "cell_type": "code",
     "collapsed": false,
     "input": [
      "X_train=X[0:70000]\n",
      "y_train=y[0:70000]\n",
      "\n",
      "\n",
      "X_CV=X[70000:80000]\n",
      "y_CV=y[70000:80000]\n",
      "\n",
      "X_test=X[80000:]\n",
      "y_test=y[80000:]\n"
     ],
     "language": "python",
     "metadata": {},
     "outputs": [],
     "prompt_number": 25
    },
    {
     "cell_type": "code",
     "collapsed": false,
     "input": [
      "from sklearn import linear_model\n",
      "regr=linear_model.Ridge(alpha=25)"
     ],
     "language": "python",
     "metadata": {},
     "outputs": [],
     "prompt_number": 26
    },
    {
     "cell_type": "code",
     "collapsed": false,
     "input": [
      "regr.fit(X_train,y_train)"
     ],
     "language": "python",
     "metadata": {},
     "outputs": [
      {
       "metadata": {},
       "output_type": "pyout",
       "prompt_number": 27,
       "text": [
        "Ridge(alpha=25, copy_X=True, fit_intercept=True, max_iter=None,\n",
        "   normalize=False, solver='auto', tol=0.001)"
       ]
      }
     ],
     "prompt_number": 27
    },
    {
     "cell_type": "code",
     "collapsed": false,
     "input": [
      "regr.score(X_CV,y_CV)"
     ],
     "language": "python",
     "metadata": {},
     "outputs": [
      {
       "metadata": {},
       "output_type": "pyout",
       "prompt_number": 28,
       "text": [
        "0.31040691683802801"
       ]
      }
     ],
     "prompt_number": 28
    },
    {
     "cell_type": "code",
     "collapsed": false,
     "input": [
      "import math\n",
      "Err=(regr.predict(X_CV)-y_CV)\n",
      "math.sqrt(sum([math.fabs(t) for t in Err])/15000)"
     ],
     "language": "python",
     "metadata": {},
     "outputs": [
      {
       "metadata": {},
       "output_type": "pyout",
       "prompt_number": 29,
       "text": [
        "0.7483935329557736"
       ]
      }
     ],
     "prompt_number": 29
    },
    {
     "cell_type": "code",
     "collapsed": false,
     "input": [
      "\n",
      "from sklearn.naive_bayes import MultinomialNB\n",
      "clf=MultinomialNB()\n",
      "clf.fit(X_train,y_train)\n",
      "sum(np.fabs(clf.predict(X_CV)-y_CV))"
     ],
     "language": "python",
     "metadata": {},
     "outputs": [
      {
       "metadata": {},
       "output_type": "pyout",
       "prompt_number": 30,
       "text": [
        "7370.0"
       ]
      }
     ],
     "prompt_number": 30
    },
    {
     "cell_type": "code",
     "collapsed": false,
     "input": [
      "import numpy as np\n",
      "\n",
      "print sum(np.fabs(Err[:25000].apply(lambda x:np.rint(x)))>0)\n",
      "print sum(np.fabs(Err[:25000].apply(lambda x:np.rint(x)))>1)\n",
      "print sum(np.fabs(Err[:25000].apply(lambda x:np.rint(x)))>2)"
     ],
     "language": "python",
     "metadata": {},
     "outputs": [
      {
       "output_type": "stream",
       "stream": "stdout",
       "text": [
        "6674\n",
        "1406"
       ]
      },
      {
       "output_type": "stream",
       "stream": "stdout",
       "text": [
        "\n",
        "84"
       ]
      },
      {
       "output_type": "stream",
       "stream": "stdout",
       "text": [
        "\n"
       ]
      }
     ],
     "prompt_number": 31
    },
    {
     "cell_type": "code",
     "collapsed": false,
     "input": [
      "len(vectorizer.vocabulary_)"
     ],
     "language": "python",
     "metadata": {},
     "outputs": [
      {
       "metadata": {},
       "output_type": "pyout",
       "prompt_number": 32,
       "text": [
        "12137"
       ]
      }
     ],
     "prompt_number": 32
    },
    {
     "cell_type": "code",
     "collapsed": false,
     "input": [
      "def rev2rating(Review):\n",
      "    vectorizer_sent= CountVectorizer(min_df=1)\n",
      "    vectorizer_sent.fit_transform([Review])\n",
      "    words=vectorizer_sent.vocabulary_.keys()\n",
      "    print words\n",
      "    import numpy as np\n",
      "    Vec_sent=np.zeros(len(vectorizer.vocabulary_))\n",
      "    #print len(Vec_sent)\n",
      "    for word in words: \n",
      "        try: Vec_sent[vectorizer.vocabulary_[word]]=1\n",
      "        except KeyError: 1    \n",
      "    #print np.dot(regr.coef_,Vec_sent)+2\n",
      "    print Review,(np.dot(regr.coef_,Vec_sent)+2.6)\n",
      "    \n",
      "rev2rating('THis is super awesome great fantastic movie')\n",
      "rev2rating('THis must be the worst movie that is horrible and bad and skcus  ') \n",
      "rev2rating(\"I really don't know what to say about this movie\")\n",
      "rev2rating(\"don't isn't weren't would not\")"
     ],
     "language": "python",
     "metadata": {},
     "outputs": [
      {
       "output_type": "stream",
       "stream": "stdout",
       "text": [
        "[u'great', u'this', u'movie', u'is', u'super', u'fantastic', u'awesome']\n",
        "THis is super awesome great fantastic movie 3.26371840976\n",
        "[u'and', u'be', u'that', u'this', u'movie', u'is', u'skcus', u'bad', u'worst', u'horrible', u'the', u'must']\n",
        "THis must be the worst movie that is horrible and bad and skcus   0.918892463939\n",
        "[u'what', u'don', u'this', u'movie', u'about', u'to', u'say', u'know', u'really']\n",
        "I really don't know what to say about this movie 2.32637708987\n",
        "[u'not', u'weren', u'don', u'isn', u'would']\n",
        "don't isn't weren't would not 2.02237072107\n"
       ]
      }
     ],
     "prompt_number": 36
    },
    {
     "cell_type": "code",
     "collapsed": false,
     "input": [
      "rev2rating(\"Let's try something harder\")\n",
      "rev2rating('This is my favourite movie of all time')\n",
      "rev2rating(\"Like the month it's named after, November Man is cold and dreary. And by cold and dreary, we mean crass and deadly.\")\n",
      "rev2rating('this movie is bad and worse')\n",
      "rev2rating('this movie is awesome')"
     ],
     "language": "python",
     "metadata": {},
     "outputs": [
      {
       "output_type": "stream",
       "stream": "stdout",
       "text": [
        "Let's try something harder 2.18152185531\n",
        "This is my favourite movie of all time 2.6481564801\n",
        "Like the month it's named after, November Man is cold and dreary. And by cold and dreary, we mean crass and deadly. 1.6054885342\n",
        "this movie is bad and worse 1.63734609292\n",
        "this movie is awesome 2.82822802396\n"
       ]
      }
     ],
     "prompt_number": 34
    },
    {
     "cell_type": "code",
     "collapsed": false,
     "input": [
      "freq=np.array(X.sum(axis=0))\n",
      "freq[0]\n",
      "Vocab=sorted(vectorizer.vocabulary_.keys(),key = lambda x:freq[0][int(vectorizer.vocabulary_[x])])\n",
      "top100=Vocab[-100:][::-1]\n",
      "T100=[(x,freq[0][int(vectorizer.vocabulary_[x])]) for x in top100]\n",
      "print T100"
     ],
     "language": "python",
     "metadata": {},
     "outputs": [
      {
       "output_type": "stream",
       "stream": "stdout",
       "text": [
        "[(u'the', 99500), (u'and', 59552), (u'of', 56948), (u'to', 41427), (u'it', 35577), (u'is', 34379), (u'in', 25929), (u'that', 25536), (u'as', 16965), (u'with', 16575), (u'but', 15704), (u'this', 15684), (u'for', 15301), (u'film', 13433), (u'movie', 13319), (u'you', 12355), (u'an', 11133), (u'its', 10270), (u'be', 9962), (u'on', 9784), (u'not', 8213), (u'one', 8202), (u'at', 6927), (u'more', 6888), (u'like', 6846), (u'by', 6841), (u'about', 6537), (u'are', 6532), (u'all', 6523), (u'than', 6445), (u'from', 6363), (u'has', 6302), (u'have', 6166), (u'his', 5851), (u'so', 5750), (u'if', 5433), (u'or', 5005), (u'up', 4915), (u'there', 4870), (u'what', 4800), (u'just', 4702), (u'can', 4677), (u'out', 4572), (u'story', 4529), (u'good', 4339), (u'who', 4164), (u'will', 4086), (u'most', 4058), (u'into', 3962), (u'comedy', 3795), (u'even', 3737), (u'much', 3653), (u'he', 3648), (u'no', 3621), (u'time', 3476), (u'too', 3346), (u'some', 3276), (u'they', 3247), (u'we', 3199), (u'best', 3148), (u'make', 2941), (u'when', 2915), (u'well', 2914), (u'funny', 2842), (u'their', 2816), (u'only', 2803), (u'director', 2731), (u'action', 2710), (u'your', 2653), (u'was', 2627), (u'characters', 2554), (u'which', 2522), (u'little', 2506), (u'been', 2492), (u'way', 2489), (u'movies', 2467), (u'never', 2464), (u'doesn', 2459), (u'us', 2410), (u'enough', 2367), (u'life', 2359), (u'fun', 2354), (u'very', 2314), (u'may', 2308), (u'makes', 2271), (u'while', 2270), (u'how', 2263), (u'would', 2257), (u'first', 2243), (u'any', 2207), (u're', 2167), (u'made', 2152), (u'see', 2130), (u'great', 2119), (u'could', 2088), (u'love', 2080), (u'year', 2055), (u'better', 2053), (u'two', 1999), (u'films', 1996)]\n"
       ]
      }
     ],
     "prompt_number": 22
    },
    {
     "cell_type": "code",
     "collapsed": false,
     "input": [
      "bot100=Vocab[:100]\n",
      "bot100\n",
      "B100=[(x,freq[0][int(vectorizer.vocabulary_[x])]) for x in bot100]\n",
      "B100"
     ],
     "language": "python",
     "metadata": {},
     "outputs": [
      {
       "metadata": {},
       "output_type": "pyout",
       "prompt_number": 23,
       "text": [
        "[(u'underlyingly', 1),\n",
        " (u'meloso', 1),\n",
        " (u'sonja', 1),\n",
        " (u'clotted', 1),\n",
        " (u'metatextuality', 1),\n",
        " (u'wracked', 1),\n",
        " (u'pigment', 1),\n",
        " (u'seamier', 1),\n",
        " (u'tcby', 1),\n",
        " (u'wooded', 1),\n",
        " (u'bucatinsky', 1),\n",
        " (u'virtuosos', 1),\n",
        " (u'amplifications', 1),\n",
        " (u'zzzzzz', 1),\n",
        " (u'steadfastness', 1),\n",
        " (u'sumrak', 1),\n",
        " (u'sooty', 1),\n",
        " (u'punchable', 1),\n",
        " (u'precocity', 1),\n",
        " (u'miniatures', 1),\n",
        " (u'sooth', 1),\n",
        " (u'consenting', 1),\n",
        " (u'paize', 1),\n",
        " (u'hp', 1),\n",
        " (u'fonzie', 1),\n",
        " (u'recyclage', 1),\n",
        " (u'shocky', 1),\n",
        " (u'chins', 1),\n",
        " (u'expectusually', 1),\n",
        " (u'jubilantly', 1),\n",
        " (u'sunbeams', 1),\n",
        " (u'quagmires', 1),\n",
        " (u'ching', 1),\n",
        " (u'spooferific', 1),\n",
        " (u'linha', 1),\n",
        " (u'wiseguy', 1),\n",
        " (u'addario', 1),\n",
        " (u'asynartitis', 1),\n",
        " (u'deferring', 1),\n",
        " (u'climber', 1),\n",
        " (u'diplomat', 1),\n",
        " (u'topography', 1),\n",
        " (u'suicideland', 1),\n",
        " (u'seira', 1),\n",
        " (u'airball', 1),\n",
        " (u'grahame', 1),\n",
        " (u'squishiness', 1),\n",
        " (u'mesmerize', 1),\n",
        " (u'yahoo', 1),\n",
        " (u'lembrancas', 1),\n",
        " (u'voicework', 1),\n",
        " (u'jumbling', 1),\n",
        " (u'sandier', 1),\n",
        " (u'unreconstructed', 1),\n",
        " (u'rayos', 1),\n",
        " (u'kingdoms', 1),\n",
        " (u'mcmuffin', 1),\n",
        " (u'hough', 1),\n",
        " (u'traves', 1),\n",
        " (u'saskatchewan', 1),\n",
        " (u'miib', 1),\n",
        " (u'sentencing', 1),\n",
        " (u'assimilates', 1),\n",
        " (u'lunkish', 1),\n",
        " (u'tulio', 1),\n",
        " (u'boleto', 1),\n",
        " (u'farmlands', 1),\n",
        " (u'vegematic', 1),\n",
        " (u'mporesoyn', 1),\n",
        " (u'whatthehellweretheythinking', 1),\n",
        " (u'ungainliness', 1),\n",
        " (u'activating', 1),\n",
        " (u'lujosa', 1),\n",
        " (u'playhouse', 1),\n",
        " (u'fiz', 1),\n",
        " (u'utilizacao', 1),\n",
        " (u'secede', 1),\n",
        " (u'fib', 1),\n",
        " (u'foolin', 1),\n",
        " (u'vouchers', 1),\n",
        " (u'twits', 1),\n",
        " (u'effecty', 1),\n",
        " (u'whacking', 1),\n",
        " (u'klickitat', 1),\n",
        " (u'disconnection', 1),\n",
        " (u'nanip', 1),\n",
        " (u'veracruz', 1),\n",
        " (u'golem', 1),\n",
        " (u'antiheroes', 1),\n",
        " (u'toute', 1),\n",
        " (u'stamping', 1),\n",
        " (u'estimate', 1),\n",
        " (u'competes', 1),\n",
        " (u'portmanteau', 1),\n",
        " (u'ineffectively', 1),\n",
        " (u'yardsactually', 1),\n",
        " (u'disfigured', 1),\n",
        " (u'repousse', 1),\n",
        " (u'maladies', 1),\n",
        " (u'u2014that', 1)]"
       ]
      }
     ],
     "prompt_number": 23
    }
   ],
   "metadata": {}
  }
 ]
}