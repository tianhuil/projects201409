{
 "metadata": {
  "name": ""
 },
 "nbformat": 3,
 "nbformat_minor": 0,
 "worksheets": [
  {
   "cells": [
    {
     "cell_type": "code",
     "collapsed": false,
     "input": [
      "#Doing different runs with differnt preprocessing. Trying to reproduce the errors of the past. Defined a different \n",
      "#regressor at the bottom. Need to crossvalidate benchmarks with this.\n",
      "#"
     ],
     "language": "python",
     "metadata": {},
     "outputs": []
    },
    {
     "cell_type": "code",
     "collapsed": false,
     "input": [
      "from pandas import * \n",
      "import numpy as np"
     ],
     "language": "python",
     "metadata": {},
     "outputs": [],
     "prompt_number": 1
    },
    {
     "cell_type": "code",
     "collapsed": false,
     "input": [
      "import pickle\n",
      "dataRT=pickle.load( open( \"BigPickledDataRT.p\", \"rb\" ) )\n",
      "#dataYelp=pickle.load( open( \"YelpDataFrame.p\", \"rb\" ) )\n",
      "#dataK=read_table('train.csv')"
     ],
     "language": "python",
     "metadata": {},
     "outputs": [],
     "prompt_number": 3
    },
    {
     "cell_type": "code",
     "collapsed": false,
     "input": [
      "df=dataK[['Phrase','Sentiment']]"
     ],
     "language": "python",
     "metadata": {},
     "outputs": [],
     "prompt_number": 83
    },
    {
     "cell_type": "code",
     "collapsed": false,
     "input": [
      "'''\n",
      "dfK=dataK[['Phrase', 'Sentiment']]\n",
      "dfK.columns=['Review','Rating']\n",
      "dfK['Review']=dfK['Review'].apply(Stem)\n",
      "dfK['Review']=dfK['Review'].apply(negate2)\n",
      "dfK=dfK[dfK['Rating']!=2]'''"
     ],
     "language": "python",
     "metadata": {},
     "outputs": []
    },
    {
     "cell_type": "code",
     "collapsed": false,
     "input": [
      "data=concat([dfK,df[['Review','Rating']]])\n",
      "print data.shape\n",
      "data.head()"
     ],
     "language": "python",
     "metadata": {},
     "outputs": [
      {
       "output_type": "stream",
       "stream": "stdout",
       "text": [
        "(187425, 2)\n"
       ]
      },
      {
       "html": [
        "<div style=\"max-height:1000px;max-width:1500px;overflow:auto;\">\n",
        "<table border=\"1\" class=\"dataframe\">\n",
        "  <thead>\n",
        "    <tr style=\"text-align: right;\">\n",
        "      <th></th>\n",
        "      <th>Review</th>\n",
        "      <th>Rating</th>\n",
        "    </tr>\n",
        "  </thead>\n",
        "  <tbody>\n",
        "    <tr>\n",
        "      <th>0</th>\n",
        "      <td> a seri of escapad demonstr the adag that what is good for the goos is also good for the gander  some of which occasion amus but none of which amount to much of a stori  </td>\n",
        "      <td> 1</td>\n",
        "    </tr>\n",
        "    <tr>\n",
        "      <th>21</th>\n",
        "      <td> good for the goos</td>\n",
        "      <td> 3</td>\n",
        "    </tr>\n",
        "    <tr>\n",
        "      <th>22</th>\n",
        "      <td> good</td>\n",
        "      <td> 3</td>\n",
        "    </tr>\n",
        "    <tr>\n",
        "      <th>33</th>\n",
        "      <td> the gander  some of which occasion amus but none of which amount to much of a stori</td>\n",
        "      <td> 1</td>\n",
        "    </tr>\n",
        "    <tr>\n",
        "      <th>46</th>\n",
        "      <td> amus</td>\n",
        "      <td> 3</td>\n",
        "    </tr>\n",
        "  </tbody>\n",
        "</table>\n",
        "<p>5 rows \u00d7 2 columns</p>\n",
        "</div>"
       ],
       "metadata": {},
       "output_type": "pyout",
       "prompt_number": 317,
       "text": [
        "                                                                                                                                                                       Review  \\\n",
        "0   a seri of escapad demonstr the adag that what is good for the goos is also good for the gander  some of which occasion amus but none of which amount to much of a stori     \n",
        "21  good for the goos                                                                                                                                                           \n",
        "22  good                                                                                                                                                                        \n",
        "33  the gander  some of which occasion amus but none of which amount to much of a stori                                                                                         \n",
        "46  amus                                                                                                                                                                        \n",
        "\n",
        "    Rating  \n",
        "0   1       \n",
        "21  3       \n",
        "22  3       \n",
        "33  1       \n",
        "46  3       \n",
        "\n",
        "[5 rows x 2 columns]"
       ]
      }
     ],
     "prompt_number": 317
    },
    {
     "cell_type": "code",
     "collapsed": false,
     "input": [
      "from sklearn.cross_validation import train_test_split\n",
      "Xdtrain,Xdtest,ydtrain,ydtest=train_test_split(data['Review'],data['Rating']-2,test_size=0.22, random_state=42)"
     ],
     "language": "python",
     "metadata": {},
     "outputs": [
      {
       "output_type": "stream",
       "stream": "stderr",
       "text": [
        "/usr/lib/python2.7/dist-packages/numexpr/necompiler.py:742: DeprecationWarning: using `oa_ndim == 0` when `op_axes` is NULL is deprecated. Use `oa_ndim == -1` or the MultiNew iterator for NumPy <1.8 compatibility\n",
        "  return compiled_ex(*arguments, **kwargs)\n"
       ]
      }
     ],
     "prompt_number": 325
    },
    {
     "cell_type": "code",
     "collapsed": false,
     "input": [
      "df=dataRT[['Review','Rating']]\n",
      "\n",
      "letter2num={'A+':4,'A-':3,'A':4,'B+':3,'B':2,'B-':2,'C':1,'C+':1,'C-':1,'D+':0,'D':0,'D-':0,\n",
      "               '1/5':0,'2/5':1,'3/5':2,'4/5':3,'5/5':4,'1.5/5':1,'2.5/5':2,'3.5/5':3,'4.5/5':4,\n",
      "               '1/4':0,'2/4':2,'3/4':3,'4/4':4,'1.5/4':1,'2.5/4':3,'3.5/4':3,\n",
      "               '1/10':0,'2/10':0,'3/10':1,'4/10':1,'5/10':2,'6/10':2,'7/10':3,'8/10':3,'9/10':4,'10/10':4,\n",
      "               '1 star':0,'2 stars':1,'3 stars':2,'4 stars':3,'5 stars':4}\n",
      "fresh2num={'0':1,'1':3}\n",
      "\n",
      "def L2num(x):\n",
      "    try:\n",
      "        return letter2num[x]            \n",
      "    except KeyError: return 5\n",
      "    \n",
      "df=df[notnull(df['Review'])]\n",
      "df['Rating']=df['Rating'].apply(lambda x:int(L2num(x)))\n",
      "\n",
      "df.head()"
     ],
     "language": "python",
     "metadata": {},
     "outputs": [
      {
       "html": [
        "<div style=\"max-height:1000px;max-width:1500px;overflow:auto;\">\n",
        "<table border=\"1\" class=\"dataframe\">\n",
        "  <thead>\n",
        "    <tr style=\"text-align: right;\">\n",
        "      <th></th>\n",
        "      <th>Review</th>\n",
        "      <th>Rating</th>\n",
        "    </tr>\n",
        "  </thead>\n",
        "  <tbody>\n",
        "    <tr>\n",
        "      <th>0</th>\n",
        "      <td>      Some cool special effects...that's about it.</td>\n",
        "      <td> 1</td>\n",
        "    </tr>\n",
        "    <tr>\n",
        "      <th>1</th>\n",
        "      <td> This is a popcorn film with a fact based conce...</td>\n",
        "      <td> 5</td>\n",
        "    </tr>\n",
        "    <tr>\n",
        "      <th>2</th>\n",
        "      <td> The ecological theme is not advanced with any ...</td>\n",
        "      <td> 5</td>\n",
        "    </tr>\n",
        "    <tr>\n",
        "      <th>3</th>\n",
        "      <td> High-strung, melodramatic hogwash steeped in a...</td>\n",
        "      <td> 2</td>\n",
        "    </tr>\n",
        "    <tr>\n",
        "      <th>4</th>\n",
        "      <td> Don't even get me started on the hilarity of t...</td>\n",
        "      <td> 0</td>\n",
        "    </tr>\n",
        "  </tbody>\n",
        "</table>\n",
        "<p>5 rows \u00d7 2 columns</p>\n",
        "</div>"
       ],
       "metadata": {},
       "output_type": "pyout",
       "prompt_number": 7,
       "text": [
        "                                              Review  Rating\n",
        "0       Some cool special effects...that's about it.       1\n",
        "1  This is a popcorn film with a fact based conce...       5\n",
        "2  The ecological theme is not advanced with any ...       5\n",
        "3  High-strung, melodramatic hogwash steeped in a...       2\n",
        "4  Don't even get me started on the hilarity of t...       0\n",
        "\n",
        "[5 rows x 2 columns]"
       ]
      }
     ],
     "prompt_number": 7
    },
    {
     "cell_type": "code",
     "collapsed": false,
     "input": [
      "df=df[df['Rating']!=5]\n",
      "df.columns=['Review','Rating']\n",
      "print df.shape\n",
      "\n",
      "df.head()"
     ],
     "language": "python",
     "metadata": {},
     "outputs": [
      {
       "output_type": "stream",
       "stream": "stdout",
       "text": [
        "(110947, 2)\n"
       ]
      },
      {
       "html": [
        "<div style=\"max-height:1000px;max-width:1500px;overflow:auto;\">\n",
        "<table border=\"1\" class=\"dataframe\">\n",
        "  <thead>\n",
        "    <tr style=\"text-align: right;\">\n",
        "      <th></th>\n",
        "      <th>Review</th>\n",
        "      <th>Rating</th>\n",
        "    </tr>\n",
        "  </thead>\n",
        "  <tbody>\n",
        "    <tr>\n",
        "      <th>0</th>\n",
        "      <td>      Some cool special effects...that's about it.</td>\n",
        "      <td> 1</td>\n",
        "    </tr>\n",
        "    <tr>\n",
        "      <th>3</th>\n",
        "      <td> High-strung, melodramatic hogwash steeped in a...</td>\n",
        "      <td> 2</td>\n",
        "    </tr>\n",
        "    <tr>\n",
        "      <th>4</th>\n",
        "      <td> Don't even get me started on the hilarity of t...</td>\n",
        "      <td> 0</td>\n",
        "    </tr>\n",
        "    <tr>\n",
        "      <th>5</th>\n",
        "      <td> this is one film viewers might want to put off...</td>\n",
        "      <td> 2</td>\n",
        "    </tr>\n",
        "    <tr>\n",
        "      <th>6</th>\n",
        "      <td> Like any other Emmerich movie, this one is loa...</td>\n",
        "      <td> 1</td>\n",
        "    </tr>\n",
        "  </tbody>\n",
        "</table>\n",
        "<p>5 rows \u00d7 2 columns</p>\n",
        "</div>"
       ],
       "metadata": {},
       "output_type": "pyout",
       "prompt_number": 8,
       "text": [
        "                                              Review  Rating\n",
        "0       Some cool special effects...that's about it.       1\n",
        "3  High-strung, melodramatic hogwash steeped in a...       2\n",
        "4  Don't even get me started on the hilarity of t...       0\n",
        "5  this is one film viewers might want to put off...       2\n",
        "6  Like any other Emmerich movie, this one is loa...       1\n",
        "\n",
        "[5 rows x 2 columns]"
       ]
      }
     ],
     "prompt_number": 8
    },
    {
     "cell_type": "code",
     "collapsed": false,
     "input": [
      "import nltk\n",
      "def Stem(sentence):\n",
      "    stemmer = nltk.stem.SnowballStemmer(\"english\", ignore_stopwords=True)\n",
      "    return \" \".join(map(stemmer.stem, sentence.split(\" \")))\n",
      "Stem(\"carries a 'nt grudge, isn't it\")\n",
      "df['Review']=df['Review'].apply(Stem)\n"
     ],
     "language": "python",
     "metadata": {},
     "outputs": [],
     "prompt_number": 9
    },
    {
     "cell_type": "code",
     "collapsed": false,
     "input": [
      "#This is a different negator that negates all the words (to a point of punctuation) following a negative word.\n",
      "\n",
      "neg_words={'not':True,\"isn't\":True,\"wasn't\":True,\"wouldn't\":True,\"weren't\":True,\"never\":True,\"neither\":True,\"nor\":True,\n",
      "                \"couldn't\":True,'no':True,\"hadn't\":True,\"shouldn't\":True,'no':True,'no':True,'without':True,\"nt\":True,\n",
      "                'Not':True,\"Never\":True,\"Neither\":True,\"nor\":True,\"couldn't\":True,'No':True}\n",
      "\n",
      "\n",
      "import re\n",
      "def negate2(sentence):\n",
      "    phrases=re.split('; |, |: |\\.',sentence)\n",
      "    new_phrases=[]\n",
      "    for phrase in phrases:\n",
      "        words=phrase.split(' ')\n",
      "        for i in range(len(words)):\n",
      "            if words[i] in neg_words:\n",
      "                words[i+1:]=map(lambda x:'not_'+x,words[i+1:])\n",
      "        words=[word for word in words if not word in neg_words]\n",
      "        new_phrase=' '.join(words)\n",
      "        new_phrases.append(new_phrase)\n",
      "    return ' '.join(new_phrases)    \n",
      "print negate2(\"This film is not good\")\n",
      "print negate2(\"This film is not any good\")\n",
      "\n",
      "df['Review']=df['Review'].apply(negate2)"
     ],
     "language": "python",
     "metadata": {},
     "outputs": [
      {
       "output_type": "stream",
       "stream": "stdout",
       "text": [
        "This film is not_good\n",
        "This film is not_any not_good\n"
       ]
      }
     ],
     "prompt_number": 24
    },
    {
     "cell_type": "code",
     "collapsed": false,
     "input": [
      "dftrain=df[:110000]\n",
      "dftrain=dftrain[dftrain['Rating']!=2]\n",
      "Xtrain=df['Review']\n",
      "ytrain=df['Rating']-2\n",
      "\n",
      "print dftrain.shape\n",
      "\n",
      "dftest=df[90000:110000]\n",
      "Xtest=dftest['Review']\n",
      "ytest=dftest['Rating']-2\n",
      "\n",
      "'''\n",
      "datatrain=data[:160000]\n",
      "Xdtrain=datatrain['Review']\n",
      "ydtrain=datatrain['Rating']-2\n",
      "\n",
      "datatest=data[160000:]\n",
      "\n",
      "Xdtest=datatest['Review']\n",
      "ydtest=datatest['Rating']-2\n",
      "'''"
     ],
     "language": "python",
     "metadata": {},
     "outputs": [
      {
       "output_type": "stream",
       "stream": "stdout",
       "text": [
        "(66271, 2)\n"
       ]
      },
      {
       "metadata": {},
       "output_type": "pyout",
       "prompt_number": 11,
       "text": [
        "\"\\ndatatrain=data[:160000]\\nXdtrain=datatrain['Review']\\nydtrain=datatrain['Rating']-2\\n\\ndatatest=data[160000:]\\n\\nXdtest=datatest['Review']\\nydtest=datatest['Rating']-2\\n\""
       ]
      }
     ],
     "prompt_number": 11
    },
    {
     "cell_type": "code",
     "collapsed": false,
     "input": [
      "from sklearn.feature_extraction.text import CountVectorizer\n",
      "from sklearn import linear_model\n",
      "from sklearn.pipeline import Pipeline\n",
      "\n",
      "Vectorizer=CountVectorizer(min_df=1,max_df=10000,ngram_range=(1,2))\n",
      "regr=linear_model.Ridge(alpha=0)\n",
      "\n",
      "Vectorized_regr=Pipeline(steps=[('Vectorizer',Vectorizer),('regr',regr)])\n",
      "\n",
      "Vectorized_regr.set_params(Vectorizer__min_df=1,regr__alpha=5).fit(Xtrain,ytrain)\n",
      "\n",
      "print Vectorized_regr.score(Xtest,ytest)\n",
      "mse=(Vectorized_regr.predict(Xtest)-ytest).std()\n",
      "#Vectorized_regr.predict(Xtest)\n",
      "print mse"
     ],
     "language": "python",
     "metadata": {},
     "outputs": [
      {
       "output_type": "stream",
       "stream": "stdout",
       "text": [
        "0.921236758761\n",
        "0.298494721736"
       ]
      },
      {
       "output_type": "stream",
       "stream": "stdout",
       "text": [
        "\n"
       ]
      }
     ],
     "prompt_number": 32
    },
    {
     "cell_type": "code",
     "collapsed": false,
     "input": [
      "max(Vectorized_regr.predict(Xtest)-ytest)"
     ],
     "language": "python",
     "metadata": {},
     "outputs": [
      {
       "metadata": {},
       "output_type": "pyout",
       "prompt_number": 98,
       "text": [
        "2.2438520096255496"
       ]
      }
     ],
     "prompt_number": 98
    },
    {
     "cell_type": "code",
     "collapsed": false,
     "input": [
      "1. Bag of words\n",
      "0.528487313563\n",
      "0.730361121665\n",
      "\n",
      "2.\n",
      "\n",
      "-------------\n",
      "whole sentences\n",
      "0.311216650657\n",
      "0.752740704772\n",
      "Bag\n",
      "0.585966100715\n",
      "0.583607795582\n",
      "2grams\n",
      "0.751875780196\n",
      "0.45174754927\n",
      "stemm\n",
      "0.747230885461\n",
      "0.455943764794\n",
      "negate\n",
      "0.75312614643\n",
      "0.450576342824\n",
      "normalize\n",
      "\n",
      "benchmarks\n",
      "\n",
      "Kaggle\n",
      "rsquare\n",
      "mse\n",
      "\n",
      "1. Just bag of words\n",
      "0.587395853131\n",
      "0.583418773735\n",
      "\n",
      "\n",
      "2. Polarity correction\n",
      "0.585966100715\n",
      "0.583607795582\n",
      "\n",
      "3. Stemming\n",
      "0.553716761384\n",
      "0.605895413479\n",
      "\n",
      "4. ngrams\n",
      "0.747230885461\n",
      "0.455943764794\n",
      "\n",
      "\n",
      "5. Negation\n",
      "0.75312614643\n",
      "0.450576342824\n",
      "           \n",
      "6. Normalisation\n",
      "0.654869\n",
      "0.313031820085\n",
      "0.30793633108155705\n",
      "\n",
      "7.Benchmarking\n",
      "0.75495000000000001 Accuracy for classification\n",
      "0.99 accuracy for 1 off error.\n",
      "\n",
      "\n",
      "ROTTEN TOMATOES\n",
      "rsquare\n",
      "mse\n",
      "\n",
      "0.313222998319\n",
      "1.27471065317\n",
      "\n",
      "1. Just bag of words\n",
      "0.477278545902\n",
      "0.766391633664\n",
      "\n",
      "2. Polarity correction\n",
      "\n",
      "3. Stemming\n",
      "0.45181528455\n",
      "0.784922920134\n",
      "\n",
      "4. ngrams\n",
      "0.81015938858\n",
      "0.46202606083\n",
      "\n",
      "5. Negation\n",
      "0.816170169172\n",
      "0.454647246267\n",
      "\n",
      "6. Normalisation\n",
      "\n",
      "0.313031820085\n",
      "0.7something\n",
      "0.30793633108155705\n",
      "\n",
      "7.Benchmarking\n",
      "0.40400371403001673\n",
      "\n",
      "\n",
      "--------------\n",
      "2. ngrams no other processing\n"
     ],
     "language": "python",
     "metadata": {},
     "outputs": []
    },
    {
     "cell_type": "code",
     "collapsed": false,
     "input": [
      "ypred=Vectorized_regr.predict(Xtest)\n",
      "dftest['PredictedRating']=ypred+2"
     ],
     "language": "python",
     "metadata": {},
     "outputs": [],
     "prompt_number": 14
    },
    {
     "cell_type": "code",
     "collapsed": false,
     "input": [
      "options.display.max_colwidth=0\n",
      "dftest[:10]"
     ],
     "language": "python",
     "metadata": {},
     "outputs": [
      {
       "html": [
        "<div style=\"max-height:1000px;max-width:1500px;overflow:auto;\">\n",
        "<table border=\"1\" class=\"dataframe\">\n",
        "  <thead>\n",
        "    <tr style=\"text-align: right;\">\n",
        "      <th></th>\n",
        "      <th>Review</th>\n",
        "      <th>Rating</th>\n",
        "      <th>PredictedRating</th>\n",
        "    </tr>\n",
        "  </thead>\n",
        "  <tbody>\n",
        "    <tr>\n",
        "      <th>128491</th>\n",
        "      <td> like its progenitor the grudg 2 is fill with defect light bulbs scummi bath water and camera work that make even teenag flesh look mottled </td>\n",
        "      <td> 1</td>\n",
        "      <td> 0.927929</td>\n",
        "    </tr>\n",
        "    <tr>\n",
        "      <th>128492</th>\n",
        "      <td> it is a testament to the power of filmmak that even a wast of time like grudg 2 can rais a slew of interest question to keep you think for a long time after leav the theatre </td>\n",
        "      <td> 0</td>\n",
        "      <td> 0.651959</td>\n",
        "    </tr>\n",
        "    <tr>\n",
        "      <th>128493</th>\n",
        "      <td> takako fuji and ohga tanaka as the ghosts do mtv movi award-calib work by just crouch in a phone booth </td>\n",
        "      <td> 0</td>\n",
        "      <td> 0.383005</td>\n",
        "    </tr>\n",
        "    <tr>\n",
        "      <th>128494</th>\n",
        "      <td> it not_a not_bad not_movie just a redund one </td>\n",
        "      <td> 1</td>\n",
        "      <td> 1.672059</td>\n",
        "    </tr>\n",
        "    <tr>\n",
        "      <th>128495</th>\n",
        "      <td> the grudg 2 takashi shimizu wild uneven but ambiti new film -- his second american remak -- is one of the best entri in the japanes director ju-on/grudg series </td>\n",
        "      <td> 3</td>\n",
        "      <td> 2.620800</td>\n",
        "    </tr>\n",
        "    <tr>\n",
        "      <th>128496</th>\n",
        "      <td> very littl about the plot actual make sense but who need logic when you'v got a creepi ghost child and his banshe mom lurk around?</td>\n",
        "      <td> 2</td>\n",
        "      <td> 1.896869</td>\n",
        "    </tr>\n",
        "    <tr>\n",
        "      <th>128498</th>\n",
        "      <td> these days spinach is scarier than anyth that unfold in \"the grudg 2 \" the film is such a waste it could have benefit from the inspir and truth titl found in the recent \"jackass\" movie  \"the grudg number two\" come closer to the mark </td>\n",
        "      <td> 0</td>\n",
        "      <td> 0.109328</td>\n",
        "    </tr>\n",
        "    <tr>\n",
        "      <th>128500</th>\n",
        "      <td> grudg 2 is such a complet rehash of its predecessor that it like that those who haven't seen the origin (american or japanes versions) will enjoy the sequel more than those who have </td>\n",
        "      <td> 1</td>\n",
        "      <td> 1.225578</td>\n",
        "    </tr>\n",
        "    <tr>\n",
        "      <th>128503</th>\n",
        "      <td> we'r treat to almost everi ghost and gruesom dispatch from the first film just in a differ order </td>\n",
        "      <td> 1</td>\n",
        "      <td> 1.375228</td>\n",
        "    </tr>\n",
        "    <tr>\n",
        "      <th>128504</th>\n",
        "      <td> tiresome repetitive omin boring   </td>\n",
        "      <td> 0</td>\n",
        "      <td> 0.741104</td>\n",
        "    </tr>\n",
        "  </tbody>\n",
        "</table>\n",
        "<p>10 rows \u00d7 3 columns</p>\n",
        "</div>"
       ],
       "metadata": {},
       "output_type": "pyout",
       "prompt_number": 15,
       "text": [
        "                                                                                                                                                                                                                                           Review  \\\n",
        "128491  like its progenitor the grudg 2 is fill with defect light bulbs scummi bath water and camera work that make even teenag flesh look mottled                                                                                                  \n",
        "128492  it is a testament to the power of filmmak that even a wast of time like grudg 2 can rais a slew of interest question to keep you think for a long time after leav the theatre                                                               \n",
        "128493  takako fuji and ohga tanaka as the ghosts do mtv movi award-calib work by just crouch in a phone booth                                                                                                                                      \n",
        "128494  it not_a not_bad not_movie just a redund one                                                                                                                                                                                                \n",
        "128495  the grudg 2 takashi shimizu wild uneven but ambiti new film -- his second american remak -- is one of the best entri in the japanes director ju-on/grudg series                                                                             \n",
        "128496  very littl about the plot actual make sense but who need logic when you'v got a creepi ghost child and his banshe mom lurk around?                                                                                                          \n",
        "128498  these days spinach is scarier than anyth that unfold in \"the grudg 2 \" the film is such a waste it could have benefit from the inspir and truth titl found in the recent \"jackass\" movie  \"the grudg number two\" come closer to the mark    \n",
        "128500  grudg 2 is such a complet rehash of its predecessor that it like that those who haven't seen the origin (american or japanes versions) will enjoy the sequel more than those who have                                                       \n",
        "128503  we'r treat to almost everi ghost and gruesom dispatch from the first film just in a differ order                                                                                                                                            \n",
        "128504  tiresome repetitive omin boring                                                                                                                                                                                                             \n",
        "\n",
        "        Rating  PredictedRating  \n",
        "128491  1       0.927929         \n",
        "128492  0       0.651959         \n",
        "128493  0       0.383005         \n",
        "128494  1       1.672059         \n",
        "128495  3       2.620800         \n",
        "128496  2       1.896869         \n",
        "128498  0       0.109328         \n",
        "128500  1       1.225578         \n",
        "128503  1       1.375228         \n",
        "128504  0       0.741104         \n",
        "\n",
        "[10 rows x 3 columns]"
       ]
      }
     ],
     "prompt_number": 15
    },
    {
     "cell_type": "code",
     "collapsed": false,
     "input": [
      "import numpy as np\n",
      "\n",
      "def g(z):\n",
      "    return 4/(1+np.exp(-z+2))\n",
      "\n",
      "dftest['PredictedRating']=dftest['PredictedRating'].apply(g)"
     ],
     "language": "python",
     "metadata": {},
     "outputs": [],
     "prompt_number": 104
    },
    {
     "cell_type": "code",
     "collapsed": false,
     "input": [
      "msee= (np.abs(dftest['Rating']-dftest['PredictedRating'])).std()\n",
      "print 'msee',msee\n",
      "ystdee=dftest.std()\n",
      "print 'yyyy',ystdee\n",
      "\n",
      "print 'rsq',1-(msee/ystdee)"
     ],
     "language": "python",
     "metadata": {},
     "outputs": [
      {
       "output_type": "stream",
       "stream": "stdout",
       "text": [
        "msee 0.313031820085\n",
        "yyyy"
       ]
      },
      {
       "output_type": "stream",
       "stream": "stdout",
       "text": [
        " Rating             0.906995\n",
        "PredictedRating    0.633743\n",
        "dtype: float64\n",
        "rsq Rating             0.654869\n",
        "PredictedRating    0.506059\n",
        "dtype: float64\n"
       ]
      },
      {
       "output_type": "stream",
       "stream": "stderr",
       "text": [
        "/usr/lib/python2.7/dist-packages/numexpr/necompiler.py:742: DeprecationWarning: using `oa_ndim == 0` when `op_axes` is NULL is deprecated. Use `oa_ndim == -1` or the MultiNew iterator for NumPy <1.8 compatibility\n",
        "  return compiled_ex(*arguments, **kwargs)\n"
       ]
      }
     ],
     "prompt_number": 105
    },
    {
     "cell_type": "code",
     "collapsed": false,
     "input": [
      "dfg=dftest.groupby('MovieTitle').mean()\n",
      "dfg.mean()"
     ],
     "language": "python",
     "metadata": {},
     "outputs": [
      {
       "metadata": {},
       "output_type": "pyout",
       "prompt_number": 342,
       "text": [
        "Rating             2.048830\n",
        "PredictedRating    2.101213\n",
        "dtype: float64"
       ]
      }
     ],
     "prompt_number": 342
    },
    {
     "cell_type": "code",
     "collapsed": false,
     "input": [
      "print (np.abs(dfg['Rating']-dfg[\"PredictedRating\"])).mean()\n",
      "print (dfg['Rating']-dfg[\"PredictedRating\"]).std()"
     ],
     "language": "python",
     "metadata": {},
     "outputs": [
      {
       "output_type": "stream",
       "stream": "stdout",
       "text": [
        "0.182300856912\n",
        "0.246708356443\n"
       ]
      }
     ],
     "prompt_number": 343
    },
    {
     "cell_type": "code",
     "collapsed": false,
     "input": [
      "np.abs(dfg['Rating']-dfg[\"PredictedRating\"]).mean()"
     ],
     "language": "python",
     "metadata": {},
     "outputs": [
      {
       "metadata": {},
       "output_type": "pyout",
       "prompt_number": 175,
       "text": [
        "0.18225818803381338"
       ]
      }
     ],
     "prompt_number": 175
    },
    {
     "cell_type": "code",
     "collapsed": false,
     "input": [
      "#first run, 2grams, non neutral,\n",
      "rsquare 0.494371591209,0.828713195269,0.494371591209,0.517455004887\n",
      "meansquare .75601232243805006,0.44001646807756772,0.75601232243805006,0.73854062394005027"
     ],
     "language": "python",
     "metadata": {},
     "outputs": []
    },
    {
     "cell_type": "code",
     "collapsed": false,
     "input": [
      "#Coeff is a dictionary that stores the coefficients of our words. Coefficients_of_words is a list ordered so we can\n",
      "#see the most positive and negative words.\n",
      "Coeff={}\n",
      "for word in Vectorizer.vocabulary_.keys():\n",
      "    Coeff[word]=regr.coef_[Vectorizer.vocabulary_[word]]\n",
      "\n",
      "#regr.coef_.shape\n",
      "#vectorizer.vocabulary_\n",
      "\n",
      "Coefficients_of_words=sorted(Coeff.items(), key =lambda x:Coeff[x[0]])\n",
      "\n",
      "mos_neg=Coefficients_of_words[:20]\n",
      "mos_pos=Coefficients_of_words[-20:]\n",
      "mos_pos,mos_neg"
     ],
     "language": "python",
     "metadata": {},
     "outputs": [
      {
       "metadata": {},
       "output_type": "pyout",
       "prompt_number": 302,
       "text": [
        "([(u'won disappoint', 0.51327692972872596),\n",
        "  (u'gibney', 0.51442551234374512),\n",
        "  (u'kick ass', 0.52003735628141445),\n",
        "  (u'aw good', 0.52262736128891885),\n",
        "  (u'mess but', 0.52326713854566664),\n",
        "  (u'drag me', 0.52803258793730246),\n",
        "  (u'few movi', 0.53302138579328162),\n",
        "  (u'masterpiec', 0.53867484089683626),\n",
        "  (u'terrif movie', 0.53880685738893042),\n",
        "  (u'film despit', 0.54506379275171302),\n",
        "  (u'doesn disappoint', 0.5453599103769694),\n",
        "  (u'oh yeah', 0.54908597851643981),\n",
        "  (u'ballsi', 0.55092983950716601),\n",
        "  (u'hell of', 0.56184835328896221),\n",
        "  (u'noth less', 0.57318952785616994),\n",
        "  (u'brilliant', 0.58647310766306693),\n",
        "  (u'for volum', 0.58730175475523894),\n",
        "  (u'at worst', 0.65369421201102018),\n",
        "  (u'don miss', 0.78468335684644408),\n",
        "  (u'masterpiece', 0.82603063778768016)],\n",
        " [(u'awful', -0.9968336247334727),\n",
        "  (u'stinks', -0.86667241704110509),\n",
        "  (u'garbage', -0.86166254224967587),\n",
        "  (u'stinker', -0.82167102068333198),\n",
        "  (u'ineptitude', -0.81936676413533727),\n",
        "  (u'incompet', -0.79683950098343814),\n",
        "  (u'unfunny', -0.79013392490321221),\n",
        "  (u'unapp', -0.78640993830522343),\n",
        "  (u'joyless', -0.78021795252682558),\n",
        "  (u'insipid', -0.77749215770126501),\n",
        "  (u'loathsom', -0.7746751941958544),\n",
        "  (u'terrible', -0.77276692299569005),\n",
        "  (u'lame', -0.77094742646926029),\n",
        "  (u'unfunni', -0.76080682408251232),\n",
        "  (u'crap', -0.75088658132715025),\n",
        "  (u'worst', -0.73992264715479639),\n",
        "  (u'turkey', -0.73752287967371255),\n",
        "  (u'witless', -0.7274668164249749),\n",
        "  (u'misbegotten', -0.72674451212576763),\n",
        "  (u'dismal', -0.72331515122607004)])"
       ]
      }
     ],
     "prompt_number": 302
    },
    {
     "cell_type": "code",
     "collapsed": false,
     "input": [
      "import numpy as np\n",
      "def rev2rating(Review):\n",
      "    Review=negate2(Review)\n",
      "    print Review\n",
      "    Vec_sent=Vectorizer.transform([Review])\n",
      "    try: \n",
      "        return regr.predict(Vec_sent)[0]+2\n",
      "    \n",
      "    except ValueError: return '00'\n",
      "    \n",
      "def sig(x):\n",
      "    return 4/(1+np.exp(-x))\n",
      "\n",
      "x=rev2rating('Awesome idea but terrible execution')\n",
      "print x\n",
      "print benchmark(x,0.9,1.6,2.32,3.3)\n",
      "rev2rating('An enjoyable film that rises above the standard thriller'),rev2rating('problem')"
     ],
     "language": "python",
     "metadata": {},
     "outputs": [
      {
       "output_type": "stream",
       "stream": "stdout",
       "text": [
        "Awesome idea but terrible execution\n",
        "1.54537269047\n",
        "1\n",
        "An enjoyable film that rises above the standard thriller\n",
        "problem\n"
       ]
      },
      {
       "metadata": {},
       "output_type": "pyout",
       "prompt_number": 48,
       "text": [
        "(2.9709786782320893, 2.1568494199634869)"
       ]
      }
     ],
     "prompt_number": 48
    },
    {
     "cell_type": "code",
     "collapsed": false,
     "input": [
      "import re\n",
      "word='unoriginal'\n",
      "sentence=''\n",
      "\n",
      "def word_in_sentence(word,sentence):\n",
      "    return not re.findall(word,sentence)==[]\n",
      "\n",
      "rows_with_word=df['Review'].apply(lambda x: word_in_sentence(word,x))\n",
      "df[rows_with_word][['Review','Rating']]"
     ],
     "language": "python",
     "metadata": {},
     "outputs": [
      {
       "html": [
        "<div style=\"max-height:1000px;max-width:1500px;overflow:auto;\">\n",
        "<table border=\"1\" class=\"dataframe\">\n",
        "  <thead>\n",
        "    <tr style=\"text-align: right;\">\n",
        "      <th></th>\n",
        "      <th>Review</th>\n",
        "      <th>Rating</th>\n",
        "    </tr>\n",
        "  </thead>\n",
        "  <tbody>\n",
        "    <tr>\n",
        "      <th>20</th>\n",
        "      <td> even the name of the charact are weak and unoriginal </td>\n",
        "      <td> 2</td>\n",
        "    </tr>\n",
        "    <tr>\n",
        "      <th>4164</th>\n",
        "      <td> the sin of \"ted\" is not_that not_it not_is not_offens not_but not_that not_it not_is not_boring lazi and wild unoriginal  if triumph the insult comic dog ever got a hold of ted there would be noth left but a pile of fluff and a few scrap of fur </td>\n",
        "      <td> 1</td>\n",
        "    </tr>\n",
        "    <tr>\n",
        "      <th>8039</th>\n",
        "      <td> the concept is unoriginal the scenario aren't funny and its messag is banal  plus murphi altern ham it up and phone it in </td>\n",
        "      <td> 1</td>\n",
        "    </tr>\n",
        "    <tr>\n",
        "      <th>17908</th>\n",
        "      <td> while fair predict and unoriginal it is nevertheless entertaining </td>\n",
        "      <td> 2</td>\n",
        "    </tr>\n",
        "    <tr>\n",
        "      <th>22202</th>\n",
        "      <td> even the name of the charact are weak and unoriginal </td>\n",
        "      <td> 2</td>\n",
        "    </tr>\n",
        "    <tr>\n",
        "      <th>26205</th>\n",
        "      <td> a perfect exampl of this unoriginal-but-enjoy type of film making </td>\n",
        "      <td> 3</td>\n",
        "    </tr>\n",
        "    <tr>\n",
        "      <th>28872</th>\n",
        "      <td> predictable moralistic dumb and unoriginal yet it still entertaining!</td>\n",
        "      <td> 3</td>\n",
        "    </tr>\n",
        "    <tr>\n",
        "      <th>33679</th>\n",
        "      <td> predict and utter unoriginal </td>\n",
        "      <td> 1</td>\n",
        "    </tr>\n",
        "    <tr>\n",
        "      <th>34181</th>\n",
        "      <td> it a deriv setup and the entir film turn of event is just as unoriginal but taken at face valu as a thriller it works </td>\n",
        "      <td> 3</td>\n",
        "    </tr>\n",
        "    <tr>\n",
        "      <th>39557</th>\n",
        "      <td> boring unoriginal long-wind rehash of two of this writer earlier scripts base on the 1940 film entitl the shop around the corner   </td>\n",
        "      <td> 1</td>\n",
        "    </tr>\n",
        "    <tr>\n",
        "      <th>39914</th>\n",
        "      <td> a decid clever if larg unoriginal updat in which bandera inherit blade bravado duti from retir zorro anthoni hopkin and cross sword with a coalit of nefari spaniard and american tri to take over coloni california </td>\n",
        "      <td> 3</td>\n",
        "    </tr>\n",
        "    <tr>\n",
        "      <th>41916</th>\n",
        "      <td> not_quit not_a not_satire not_quit not_an not_homage jawbreak fall into a third category audaci unoriginal </td>\n",
        "      <td> 2</td>\n",
        "    </tr>\n",
        "    <tr>\n",
        "      <th>41918</th>\n",
        "      <td> unoriginal  not_particular not_funny </td>\n",
        "      <td> 3</td>\n",
        "    </tr>\n",
        "    <tr>\n",
        "      <th>61466</th>\n",
        "      <td> pathet contriv and sad unoriginal </td>\n",
        "      <td> 1</td>\n",
        "    </tr>\n",
        "    <tr>\n",
        "      <th>66354</th>\n",
        "      <td> as a slapstick adventure barbershop is unfunni and unoriginal  but as a character-driven drama barbershop work well with its quirky sweet charact and authent dialogue </td>\n",
        "      <td> 2</td>\n",
        "    </tr>\n",
        "    <tr>\n",
        "      <th>74302</th>\n",
        "      <td> the entir film is one big excus to play one lewd scene after another  about half of them are funny a few are sexi and none are use in tell the story which is paper-thin and decid unoriginal </td>\n",
        "      <td> 2</td>\n",
        "    </tr>\n",
        "    <tr>\n",
        "      <th>86713</th>\n",
        "      <td> it complet forgett and unoriginal but it might make a good rental on a slow famili movi night </td>\n",
        "      <td> 2</td>\n",
        "    </tr>\n",
        "    <tr>\n",
        "      <th>89209</th>\n",
        "      <td> has a hand of underst moment of truth but most of it is hokey unoriginal and amaz smug </td>\n",
        "      <td> 2</td>\n",
        "    </tr>\n",
        "    <tr>\n",
        "      <th>89634</th>\n",
        "      <td> pleasant but unoriginal </td>\n",
        "      <td> 2</td>\n",
        "    </tr>\n",
        "    <tr>\n",
        "      <th>92750</th>\n",
        "      <td> the film most harrow scene are predict and utter unoriginal </td>\n",
        "      <td> 1</td>\n",
        "    </tr>\n",
        "    <tr>\n",
        "      <th>101158</th>\n",
        "      <td> unoriginal unfunni slapstick holiday fare </td>\n",
        "      <td> 0</td>\n",
        "    </tr>\n",
        "    <tr>\n",
        "      <th>101668</th>\n",
        "      <td> even the name of the charact are weak and unoriginal </td>\n",
        "      <td> 2</td>\n",
        "    </tr>\n",
        "    <tr>\n",
        "      <th>112603</th>\n",
        "      <td> harmless witless unoriginal uninventive mild entertain and not_liabl not_to not_do not_any not_perman not_damag not_to not_anyon not_who not_watch not_it </td>\n",
        "      <td> 1</td>\n",
        "    </tr>\n",
        "    <tr>\n",
        "      <th>112677</th>\n",
        "      <td> the surpris end in hide and seek is not_only not_unreasonable but also downright unoriginal </td>\n",
        "      <td> 0</td>\n",
        "    </tr>\n",
        "    <tr>\n",
        "      <th>113825</th>\n",
        "      <td> if you'r look for a predictable unoriginal mediocr offer from the good folk over at happi madison rent this puppy   </td>\n",
        "      <td> 1</td>\n",
        "    </tr>\n",
        "    <tr>\n",
        "      <th>117858</th>\n",
        "      <td> an awful unoriginal infuriating and endless mess</td>\n",
        "      <td> 0</td>\n",
        "    </tr>\n",
        "    <tr>\n",
        "      <th>120908</th>\n",
        "      <td> even the name of the charact are weak and unoriginal </td>\n",
        "      <td> 2</td>\n",
        "    </tr>\n",
        "    <tr>\n",
        "      <th>124900</th>\n",
        "      <td> thing don't realli get ugli in scoop they just feel very familiar very quickly which doesn't mean it necessarili bad just aw lightweight and terribl unoriginal </td>\n",
        "      <td> 1</td>\n",
        "    </tr>\n",
        "    <tr>\n",
        "      <th>133404</th>\n",
        "      <td> it a genr rollercoast ride - templated repetit and unoriginal full of up and down but nonetheless effect at the one job it tri to do - make you jump and squeal </td>\n",
        "      <td> 2</td>\n",
        "    </tr>\n",
        "    <tr>\n",
        "      <th>140743</th>\n",
        "      <td> premonit is annoying mind-numbing unoriginal and it certain not_entertaining </td>\n",
        "      <td> 0</td>\n",
        "    </tr>\n",
        "    <tr>\n",
        "      <th>142785</th>\n",
        "      <td> differ in all the right ways-- a complex unpredict attempt at give its audienc a lot to chew on  pardon those of us who will take a flaw opus over bloat unoriginality </td>\n",
        "      <td> 3</td>\n",
        "    </tr>\n",
        "    <tr>\n",
        "      <th>145039</th>\n",
        "      <td> despit a strong cast the filmmak squander a clever premis for a seri of unoriginal cheap jokes </td>\n",
        "      <td> 1</td>\n",
        "    </tr>\n",
        "    <tr>\n",
        "      <th>147593</th>\n",
        "      <td> christma fabl is cute and tame but unoriginal </td>\n",
        "      <td> 1</td>\n",
        "    </tr>\n",
        "  </tbody>\n",
        "</table>\n",
        "<p>33 rows \u00d7 2 columns</p>\n",
        "</div>"
       ],
       "metadata": {},
       "output_type": "pyout",
       "prompt_number": 55,
       "text": [
        "                                                                                                                                                                                                                                                       Review  \\\n",
        "20      even the name of the charact are weak and unoriginal                                                                                                                                                                                                    \n",
        "4164    the sin of \"ted\" is not_that not_it not_is not_offens not_but not_that not_it not_is not_boring lazi and wild unoriginal  if triumph the insult comic dog ever got a hold of ted there would be noth left but a pile of fluff and a few scrap of fur    \n",
        "8039    the concept is unoriginal the scenario aren't funny and its messag is banal  plus murphi altern ham it up and phone it in                                                                                                                               \n",
        "17908   while fair predict and unoriginal it is nevertheless entertaining                                                                                                                                                                                       \n",
        "22202   even the name of the charact are weak and unoriginal                                                                                                                                                                                                    \n",
        "26205   a perfect exampl of this unoriginal-but-enjoy type of film making                                                                                                                                                                                       \n",
        "28872   predictable moralistic dumb and unoriginal yet it still entertaining!                                                                                                                                                                                   \n",
        "33679   predict and utter unoriginal                                                                                                                                                                                                                            \n",
        "34181   it a deriv setup and the entir film turn of event is just as unoriginal but taken at face valu as a thriller it works                                                                                                                                   \n",
        "39557   boring unoriginal long-wind rehash of two of this writer earlier scripts base on the 1940 film entitl the shop around the corner                                                                                                                        \n",
        "39914   a decid clever if larg unoriginal updat in which bandera inherit blade bravado duti from retir zorro anthoni hopkin and cross sword with a coalit of nefari spaniard and american tri to take over coloni california                                    \n",
        "41916   not_quit not_a not_satire not_quit not_an not_homage jawbreak fall into a third category audaci unoriginal                                                                                                                                              \n",
        "41918   unoriginal  not_particular not_funny                                                                                                                                                                                                                    \n",
        "61466   pathet contriv and sad unoriginal                                                                                                                                                                                                                       \n",
        "66354   as a slapstick adventure barbershop is unfunni and unoriginal  but as a character-driven drama barbershop work well with its quirky sweet charact and authent dialogue                                                                                  \n",
        "74302   the entir film is one big excus to play one lewd scene after another  about half of them are funny a few are sexi and none are use in tell the story which is paper-thin and decid unoriginal                                                           \n",
        "86713   it complet forgett and unoriginal but it might make a good rental on a slow famili movi night                                                                                                                                                           \n",
        "89209   has a hand of underst moment of truth but most of it is hokey unoriginal and amaz smug                                                                                                                                                                  \n",
        "89634   pleasant but unoriginal                                                                                                                                                                                                                                 \n",
        "92750   the film most harrow scene are predict and utter unoriginal                                                                                                                                                                                             \n",
        "101158  unoriginal unfunni slapstick holiday fare                                                                                                                                                                                                               \n",
        "101668  even the name of the charact are weak and unoriginal                                                                                                                                                                                                    \n",
        "112603  harmless witless unoriginal uninventive mild entertain and not_liabl not_to not_do not_any not_perman not_damag not_to not_anyon not_who not_watch not_it                                                                                               \n",
        "112677  the surpris end in hide and seek is not_only not_unreasonable but also downright unoriginal                                                                                                                                                             \n",
        "113825  if you'r look for a predictable unoriginal mediocr offer from the good folk over at happi madison rent this puppy                                                                                                                                       \n",
        "117858  an awful unoriginal infuriating and endless mess                                                                                                                                                                                                        \n",
        "120908  even the name of the charact are weak and unoriginal                                                                                                                                                                                                    \n",
        "124900  thing don't realli get ugli in scoop they just feel very familiar very quickly which doesn't mean it necessarili bad just aw lightweight and terribl unoriginal                                                                                         \n",
        "133404  it a genr rollercoast ride - templated repetit and unoriginal full of up and down but nonetheless effect at the one job it tri to do - make you jump and squeal                                                                                         \n",
        "140743  premonit is annoying mind-numbing unoriginal and it certain not_entertaining                                                                                                                                                                            \n",
        "142785  differ in all the right ways-- a complex unpredict attempt at give its audienc a lot to chew on  pardon those of us who will take a flaw opus over bloat unoriginality                                                                                  \n",
        "145039  despit a strong cast the filmmak squander a clever premis for a seri of unoriginal cheap jokes                                                                                                                                                          \n",
        "147593  christma fabl is cute and tame but unoriginal                                                                                                                                                                                                           \n",
        "\n",
        "        Rating  \n",
        "20      2       \n",
        "4164    1       \n",
        "8039    1       \n",
        "17908   2       \n",
        "22202   2       \n",
        "26205   3       \n",
        "28872   3       \n",
        "33679   1       \n",
        "34181   3       \n",
        "39557   1       \n",
        "39914   3       \n",
        "41916   2       \n",
        "41918   3       \n",
        "61466   1       \n",
        "66354   2       \n",
        "74302   2       \n",
        "86713   2       \n",
        "89209   2       \n",
        "89634   2       \n",
        "92750   1       \n",
        "101158  0       \n",
        "101668  2       \n",
        "112603  1       \n",
        "112677  0       \n",
        "113825  1       \n",
        "117858  0       \n",
        "120908  2       \n",
        "124900  1       \n",
        "133404  2       \n",
        "140743  0       \n",
        "142785  3       \n",
        "145039  1       \n",
        "147593  1       \n",
        "\n",
        "[33 rows x 2 columns]"
       ]
      }
     ],
     "prompt_number": 55
    },
    {
     "cell_type": "code",
     "collapsed": false,
     "input": [
      "len(Vectorizer.vocabulary_)"
     ],
     "language": "python",
     "metadata": {},
     "outputs": [
      {
       "metadata": {},
       "output_type": "pyout",
       "prompt_number": 330,
       "text": [
        "223268"
       ]
      }
     ],
     "prompt_number": 330
    },
    {
     "cell_type": "code",
     "collapsed": false,
     "input": [
      "def benchmark(x,b0,b1,b2,b3):\n",
      "    if x<b0: return 0\n",
      "    if x<b1 and x>b0: return 1\n",
      "    if x<b2 and x>b1: return 2\n",
      "    if x<b3 and x>b2: return 3\n",
      "    if x>b3: return 4\n",
      "\n",
      "#benchmark(x,0.9,1.7,2.6,3.4)\n",
      "\n",
      "dftest['Rounded']=dftest['PredictedRating'].apply(lambda x: benchmark(x,0.7,1.6,2.4,3.3))\n",
      "\n",
      "#benchmark(x,0.8,1.7,2.6,3.4) seems to work best. Need to crossvalidate this.\n",
      "(np.abs(dftest['Rounded']-dftest['Rating'])<2).mean()"
     ],
     "language": "python",
     "metadata": {},
     "outputs": [
      {
       "metadata": {},
       "output_type": "pyout",
       "prompt_number": 17,
       "text": [
        "0.99895"
       ]
      }
     ],
     "prompt_number": 17
    },
    {
     "cell_type": "code",
     "collapsed": false,
     "input": [
      "(dftest[dftest['Rating']==4]['Rating']-dftest[dftest['Rating']==4]['Rounded']).mean()"
     ],
     "language": "python",
     "metadata": {},
     "outputs": [
      {
       "metadata": {},
       "output_type": "pyout",
       "prompt_number": 350,
       "text": [
        "0.73582808447573178"
       ]
      }
     ],
     "prompt_number": 350
    },
    {
     "cell_type": "code",
     "collapsed": false,
     "input": [
      "#Thing that turns a regressor into a classifier according to some benchmark list. Just.\n",
      "\n",
      "from sklearn.base import BaseEstimator\n",
      "\n",
      "\n",
      "class BenchMarkRegressor(BaseEstimator):\n",
      "\n",
      "    def __init__(self,benchmarks):\n",
      "        self.benchmarks=[]\n",
      "        pass\n",
      "    \n",
      "    def fit(self, X, y):\n",
      "        self.linear_regression = linear_model.LinearRegression().fit(X, y)\n",
      "        return self\n",
      "    \n",
      "\n",
      "    \n",
      "    def predict(self,X):\n",
      "        \n",
      "        def classify(y,benchmarks):\n",
      "            \n",
      "            if y<benchmarks[0]: \n",
      "                return 0    \n",
      "            for i in range(len(benchmarks)-1):\n",
      "                print i\n",
      "                if y<benchmarks[i+1] and y>benchmarks[i]:\n",
      "                    print i+1\n",
      "                    return i+1            \n",
      "            if y>benchmarks[-1]: \n",
      "                print len(benchmarks)\n",
      "                return len(benchmarks)\n",
      "        \n",
      "        y=self.linear_regression.predict(X)\n",
      "        \n",
      "        if self.benchmarks== []: \n",
      "            return y\n",
      "        else: \n",
      "            return classify(y,self.benchmarks)\n",
      "\n",
      "\n",
      "X=[[0,0],[1,0],[0,1]]\n",
      "y=[0,1,2]\n",
      "Xt=[1,1]\n",
      "b=BenchMarkRegressor(benchmarks=[1,4])\n",
      "b.fit(X,y)\n",
      "b.predict(Xt)"
     ],
     "language": "python",
     "metadata": {},
     "outputs": [
      {
       "output_type": "stream",
       "stream": "stdout",
       "text": [
        "3.0000000298 [1, 4]\n",
        "0\n",
        "1\n"
       ]
      },
      {
       "metadata": {},
       "output_type": "pyout",
       "prompt_number": 482,
       "text": [
        "1"
       ]
      }
     ],
     "prompt_number": 482
    },
    {
     "cell_type": "code",
     "collapsed": false,
     "input": [
      "\n",
      "'as'[:7]"
     ],
     "language": "python",
     "metadata": {},
     "outputs": [
      {
       "metadata": {},
       "output_type": "pyout",
       "prompt_number": 33,
       "text": [
        "'as'"
       ]
      }
     ],
     "prompt_number": 33
    }
   ],
   "metadata": {}
  }
 ]
}