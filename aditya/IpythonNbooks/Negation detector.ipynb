{
 "metadata": {
  "name": ""
 },
 "nbformat": 3,
 "nbformat_minor": 0,
 "worksheets": [
  {
   "cells": [
    {
     "cell_type": "code",
     "collapsed": false,
     "input": [
      "from nltk.tokenize.punkt import PunktWordTokenizer\n",
      "s=\"This is not good. This is'nt good. This wouldn't work\"\n",
      "PunktWordTokenizer().tokenize(s)"
     ],
     "language": "python",
     "metadata": {},
     "outputs": [
      {
       "metadata": {},
       "output_type": "pyout",
       "prompt_number": 4,
       "text": [
        "['This',\n",
        " 'is',\n",
        " 'not',\n",
        " 'good.',\n",
        " 'This',\n",
        " 'is',\n",
        " \"'nt\",\n",
        " 'good.',\n",
        " 'This',\n",
        " 'wouldn',\n",
        " \"'t\",\n",
        " 'work']"
       ]
      }
     ],
     "prompt_number": 4
    }
   ],
   "metadata": {}
  }
 ]
}