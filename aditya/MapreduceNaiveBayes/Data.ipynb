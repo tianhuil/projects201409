{
 "metadata": {
  "name": ""
 },
 "nbformat": 3,
 "nbformat_minor": 0,
 "worksheets": [
  {
   "cells": [
    {
     "cell_type": "code",
     "collapsed": false,
     "input": [
      "from pandas import * \n",
      "options.display.max_colwidth=0\n",
      "import numpy as np\n",
      "import pickle\n",
      "dataRT=pickle.load( open( \"BigPickledDataRT.p\", \"rb\" ) )\n",
      "\n",
      "df=dataRT[['Review','Rating']][:150000]\n",
      "\n",
      "letter2num={'A+':4,'A-':3,'A':4,'B+':3,'B':2,'B-':2,'C':1,'C+':1,'C-':1,'D+':0,'D':0,'D-':0,\n",
      "               '1/5':0,'2/5':1,'3/5':2,'4/5':3,'5/5':4,'1.5/5':1,'2.5/5':2,'3.5/5':3,'4.5/5':4,\n",
      "               '1/4':0,'2/4':2,'3/4':3,'4/4':4,'1.5/4':1,'2.5/4':3,'3.5/4':3,\n",
      "               '1/10':0,'2/10':0,'3/10':1,'4/10':1,'5/10':2,'6/10':2,'7/10':3,'8/10':3,'9/10':4,'10/10':4,\n",
      "               '1 star':0,'2 stars':1,'3 stars':2,'4 stars':3,'5 stars':4}\n",
      "fresh2num={'0':1,'1':3}\n",
      "\n",
      "def L2num(x):\n",
      "    try:\n",
      "        return letter2num[x]            \n",
      "    except KeyError: return 5\n",
      "    \n",
      "df=df[notnull(df['Review'])]\n",
      "df['Rating']=df['Rating'].apply(lambda x:int(L2num(x)))\n",
      "df=df[df['Rating']!=5]\n",
      "\n",
      "def remove_commas(sentence):\n",
      "    return filter(lambda x:x!=',',sentence)\n",
      "remove_commas('Hello, how are you')\n",
      "\n",
      "df['Review']=df['Review'].apply(remove_commas)\n",
      "df.head(100)\n",
      "        \n",
      "df=df[df['Rating']!=2]\n",
      "df.shape\n",
      "def function(x):\n",
      "    if x>2: return 'POSITIVE'\n",
      "    if x<2: return 'NEGATIVE'\n",
      "df['Rating']=df['Rating'].apply(function)\n",
      "df['Review']=df['Review'].apply(lambda x: x.lower())"
     ],
     "language": "python",
     "metadata": {},
     "outputs": [],
     "prompt_number": 39
    },
    {
     "cell_type": "code",
     "collapsed": false,
     "input": [
      "dftrain=df[:50000]\n",
      "dftest=df[70000:]"
     ],
     "language": "python",
     "metadata": {},
     "outputs": [],
     "prompt_number": 41
    },
    {
     "cell_type": "code",
     "collapsed": false,
     "input": [
      "dftrain.to_csv('Movie_data.csv', header=False, Index=False)"
     ],
     "language": "python",
     "metadata": {},
     "outputs": [],
     "prompt_number": 42
    },
    {
     "cell_type": "code",
     "collapsed": false,
     "input": [
      "#When a movie prediction seems off. Look at how people use it in the data. Make the word equal to the suspicious phrase and space.\n",
      "\n",
      "import re\n",
      "word='hate '\n",
      "sentence=''\n",
      "\n",
      "def word_in_sentence(word,sentence):\n",
      "    return not re.findall(word,sentence)==[]\n",
      "\n",
      "rows_with_word=df['Review'].apply(lambda x: word_in_sentence(word,x))\n",
      "(df[rows_with_word][['Review','Rating']]=='POSITIVE').mean()"
     ],
     "language": "python",
     "metadata": {},
     "outputs": [
      {
       "metadata": {},
       "output_type": "pyout",
       "prompt_number": 37,
       "text": [
        "Review    0.000000\n",
        "Rating    0.547945\n",
        "dtype: float64"
       ]
      }
     ],
     "prompt_number": 37
    },
    {
     "cell_type": "code",
     "collapsed": false,
     "input": [
      "import nb\n",
      "\n",
      "dftest['Predicted']=dftest['Review'].apply(lambda x: nb.classify(x)[1])\n",
      "dftest.head()"
     ],
     "language": "python",
     "metadata": {},
     "outputs": [
      {
       "html": [
        "<div style=\"max-height:1000px;max-width:1500px;overflow:auto;\">\n",
        "<table border=\"1\" class=\"dataframe\">\n",
        "  <thead>\n",
        "    <tr style=\"text-align: right;\">\n",
        "      <th></th>\n",
        "      <th>Review</th>\n",
        "      <th>Rating</th>\n",
        "      <th>Predicted</th>\n",
        "    </tr>\n",
        "  </thead>\n",
        "  <tbody>\n",
        "    <tr>\n",
        "      <th>135056</th>\n",
        "      <td> in a pre-election season full of drama contention and surprise man of the year arrives on the scene with the blistering impact of a spoonful of cold mashed potatoes.</td>\n",
        "      <td> NEGATIVE</td>\n",
        "      <td> NEGATIVE</td>\n",
        "    </tr>\n",
        "    <tr>\n",
        "      <th>135060</th>\n",
        "      <td> [barry] levinson has written and directed in many genres. but rarely has he made a film as indecisive and diffident as man of the year.</td>\n",
        "      <td> NEGATIVE</td>\n",
        "      <td> NEGATIVE</td>\n",
        "    </tr>\n",
        "    <tr>\n",
        "      <th>135061</th>\n",
        "      <td> [director] levinson seems to be torn between making a political jest and a suspense thriller. neither works.</td>\n",
        "      <td> NEGATIVE</td>\n",
        "      <td> POSITIVE</td>\n",
        "    </tr>\n",
        "    <tr>\n",
        "      <th>135063</th>\n",
        "      <td> in man of the year a thriller without thrills collides with a mirthless comedy.</td>\n",
        "      <td> NEGATIVE</td>\n",
        "      <td> NEGATIVE</td>\n",
        "    </tr>\n",
        "    <tr>\n",
        "      <th>135067</th>\n",
        "      <td> despite levinson's split purpose making it into a 'dramedy' it's timely and thought-provoking.</td>\n",
        "      <td> POSITIVE</td>\n",
        "      <td> POSITIVE</td>\n",
        "    </tr>\n",
        "  </tbody>\n",
        "</table>\n",
        "<p>5 rows \u00d7 3 columns</p>\n",
        "</div>"
       ],
       "metadata": {},
       "output_type": "pyout",
       "prompt_number": 46,
       "text": [
        "                                                                                                                                                                       Review  \\\n",
        "135056  in a pre-election season full of drama contention and surprise man of the year arrives on the scene with the blistering impact of a spoonful of cold mashed potatoes.   \n",
        "135060  [barry] levinson has written and directed in many genres. but rarely has he made a film as indecisive and diffident as man of the year.                                 \n",
        "135061  [director] levinson seems to be torn between making a political jest and a suspense thriller. neither works.                                                            \n",
        "135063  in man of the year a thriller without thrills collides with a mirthless comedy.                                                                                         \n",
        "135067  despite levinson's split purpose making it into a 'dramedy' it's timely and thought-provoking.                                                                          \n",
        "\n",
        "          Rating Predicted  \n",
        "135056  NEGATIVE  NEGATIVE  \n",
        "135060  NEGATIVE  NEGATIVE  \n",
        "135061  NEGATIVE  POSITIVE  \n",
        "135063  NEGATIVE  NEGATIVE  \n",
        "135067  POSITIVE  POSITIVE  \n",
        "\n",
        "[5 rows x 3 columns]"
       ]
      }
     ],
     "prompt_number": 46
    },
    {
     "cell_type": "code",
     "collapsed": false,
     "input": [
      "#Accuracy\n",
      "(dftest['Rating']==dftest['Predicted']).mean()"
     ],
     "language": "python",
     "metadata": {},
     "outputs": [
      {
       "metadata": {},
       "output_type": "pyout",
       "prompt_number": 47,
       "text": [
        "0.78015797032072765"
       ]
      }
     ],
     "prompt_number": 47
    }
   ],
   "metadata": {}
  }
 ]
}