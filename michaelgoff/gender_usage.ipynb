{
 "metadata": {
  "name": "gender_usage.ipynb"
 },
 "nbformat": 3,
 "nbformat_minor": 0,
 "worksheets": [
  {
   "cells": [
    {
     "cell_type": "markdown",
     "metadata": {},
     "source": [
      "To-do:\n",
      "\n",
      "- Clean this file up\n",
      "- Compare female usage of subscribers vs. nonsubscribers\n",
      "- Get age and gender statistics\n",
      "- Attach female scores to each station\n",
      "- Mount crime, income, and traffic safety data to each station\n",
      "- Hypothesis: perception/reality of safety is a major factor that deters female usage"
     ]
    },
    {
     "cell_type": "markdown",
     "metadata": {},
     "source": [
      "Variables:\n",
      "\n",
      "- ages: Data on age by household from the census per block group\n",
      "- cb2: February 2014 bike usage data (more to come)\n",
      "- StationCount: Aggregation of bike trips by station\n",
      "- station_census: contains all NYC bike station data and data about the census blocks in which they are contained\n",
      "- station_census_lite: a stripped down and cleaned up version of station_census\n",
      "- trip_census: Attaches to the February 2014 trip data the census block items associated with the starting station\n",
      "- T: February 2014 trip data with all census information attached\n",
      "- StationCount: for each station, the number of trips originating there and the demographic information\n",
      "- count: only the number of rides departing from each station\n",
      "- StationCountRel: Revelant combined demographic information extracted from the census data, attached to stations"
     ]
    },
    {
     "cell_type": "markdown",
     "metadata": {},
     "source": [
      "(Vagrant IP: 162.243.96.50)"
     ]
    },
    {
     "cell_type": "markdown",
     "metadata": {},
     "source": [
      "Data sourses and other links:\n",
      "\n",
      "- Colorado Bike Share: http://data.opencolorado.org/dataset/city-and-county-of-denver-b-cycle-stations (station data)\n",
      "- Capitol Bike Share: http://www.capitalbikeshare.com/trip-history-data\n",
      "- Minneapolis/St. Paul Bike Share: https://www.niceridemn.org/\n",
      "- API to convert latitude/longitude points to census tracts/blocks: https://geoservices.tamu.edu/Services/CensusIntersection/\n",
      "- Census Data: American FactFinder.  AGE BY SEX table.\n",
      "- Population and population density by ZIP code: http://blog.splitwise.com/2014/01/06/free-us-population-density-and-unemployment-rate-by-zip-code/\n",
      "- Shapefiles for block groups (?): https://www.census.gov/geo/maps-data/data/cbf/cbf_blkgrp.html\n",
      "- Help on processing shapefiles: https://code.google.com/p/pyshp/wiki/ShapeRecords ( polygon area: shapefile.signed_area([[0,0],[1,0],[0,1]]) )"
     ]
    },
    {
     "cell_type": "code",
     "collapsed": false,
     "input": [
      "# Set up and read all relevant data into tables\n",
      "import pandas as pd\n",
      "import datetime\n",
      "import numpy as np\n",
      "ages = pd.read_csv(\"Data/AgeBySex/AgeBySex.csv\",dtype=object)\n",
      "# Used Texas A&M Geoservices to produce the following file.\n",
      "station_census = pd.read_csv(\"Data/citibike_stations_census.csv\",dtype=object)\n",
      "station_census = station_census.ix[:331,:]\n",
      "station_census = station_census.set_index('id')"
     ],
     "language": "python",
     "metadata": {},
     "outputs": [
      {
       "output_type": "stream",
       "stream": "stderr",
       "text": [
        "/Users/michaelgoff/Library/Enthought/Canopy_64bit/User/lib/python2.7/site-packages/pandas/io/excel.py:626: UserWarning: Installed openpyxl is not supported at this time. Use >=1.6.1 and <2.0.0.\n",
        "  .format(openpyxl_compat.start_ver, openpyxl_compat.stop_ver))\n"
       ]
      }
     ],
     "prompt_number": 1
    },
    {
     "cell_type": "code",
     "collapsed": false,
     "input": [
      "# Courtesy of http://www.johndcook.com/python_longitude_latitude.html\n",
      "import math\n",
      "def distance_on_unit_sphere(lat1, long1, lat2, long2):\n",
      "    \n",
      "    # Convert latitude and longitude to \n",
      "    # spherical coordinates in radians.\n",
      "    degrees_to_radians = math.pi/180.0\n",
      "        \n",
      "    # phi = 90 - latitude\n",
      "    phi1 = (90.0 - lat1)*degrees_to_radians\n",
      "    phi2 = (90.0 - lat2)*degrees_to_radians\n",
      "        \n",
      "    # theta = longitude\n",
      "    theta1 = long1*degrees_to_radians\n",
      "    theta2 = long2*degrees_to_radians\n",
      "        \n",
      "    # Compute spherical distance from spherical coordinates.\n",
      "        \n",
      "    # For two locations in spherical coordinates \n",
      "    # (1, theta, phi) and (1, theta, phi)\n",
      "    # cosine( arc length ) = \n",
      "    #    sin phi sin phi' cos(theta-theta') + cos phi cos phi'\n",
      "    # distance = rho * arc length\n",
      "    \n",
      "    cos = (math.sin(phi1)*math.sin(phi2)*math.cos(theta1 - theta2) + \n",
      "           math.cos(phi1)*math.cos(phi2))\n",
      "    if cos >= 1:\n",
      "        return 0\n",
      "    arc = math.acos( cos )\n",
      "\n",
      "    # Remember to multiply arc by the radius of the earth \n",
      "    # in your favorite set of units to get length.\n",
      "    return arc * 6378.1 # In kilometers\n",
      "\n",
      "def StationDistances(lat,lon): # return an array of distances from (x,y) to all stations\n",
      "    return map(lambda s_lat, s_lon: distance_on_unit_sphere(lat,lon,float(s_lat),float(s_lon)), \n",
      "               station_census['lat'], station_census['lon'])\n",
      "\n",
      "# The following determines the median, over all stations, of the average distance to the nearest five stations.\n",
      "# It is about 0.31 kilometers.\n",
      "#sc = station_census.ix[:,['lat','lon']]\n",
      "#for i in station_census.index.tolist():\n",
      "#    s_lat = station_census.ix[i,'lat']\n",
      "#    s_lon = station_census.ix[i,'lon']\n",
      "#    colname = 'x'+i\n",
      "#    sc[colname] = StationDistances(float(s_lat),float(s_lon))\n",
      "#mean_dists = []\n",
      "#for i in station_census.index.tolist():\n",
      "#    mean_dists.append(sc['x'+i].sort(inplace = False)[1:6].mean())\n",
      "#np.percentile(np.array(mean_dists),50)\n",
      "\n",
      "# Convert station coordinates into a regular array\n",
      "station_coords = []\n",
      "for i in station_census.index.tolist():\n",
      "    station_coords.append([float(station_census.ix[i,'lat']),float(station_census.ix[i,'lon'])])\n",
      "# The following numbers were extracted below\n",
      "station_usage = [ 42387.,   1718.,   4194.,  40653.,  39235.,  16199.,   7600.,\n",
      "         3624.,  18946.,  35256.,  16206.,  55077.,  19674.,  32485.,\n",
      "        12533.,  17459.,  34840.,  19444.,  30798.,  45859.,  32887.,\n",
      "        21885.,  27337.,  15053.,   1608.,  13917.,  26600.,  17655.,\n",
      "          788.,  32357.,  14923.,  10506.,  19934.,  15303.,  12128.,\n",
      "        28758.,  14158.,  10909.,  28730.,   5224.,  11822.,   3540.,\n",
      "        27083.,  17766.,  19846.,  20245.,  35932.,   7680.,  16467.,\n",
      "        33693.,  36042.,  21286.,   7930.,   6502.,   5419.,  13072.,\n",
      "         7317.,   3133.,  20811.,   7464.,  13654.,  18981.,  35114.,\n",
      "        22551.,      0.,  24140.,  20984.,   7160.,  14379.,   9723.,\n",
      "         8401.,   5937.,  26475.,  21513.,  22546.,   7727.,  19578.,\n",
      "        26980.,   9487.,  15027.,   8134.,   4257.,  15827.,   3960.,\n",
      "         3692.,  24442.,  39177.,      0.,  49621.,  62732.,   2479.,\n",
      "        24632.,  12068.,  74060.,  35829.,  13652.,  17897.,      0.,\n",
      "         3618.,  22545.,  30902.,  28175.,   9818.,  24301.,  23087.,\n",
      "        31206.,  24578.,  26338.,  14453.,  17926.,  14427.,  18913.,\n",
      "        31188.,   6373.,   8944.,  19536.,  18061.,  26198.,  48958.,\n",
      "        20875.,  17910.,      0.,   9351.,  32610.,  15138.,  28767.,\n",
      "        31776.,  44557.,  23661.,  29574.,  17995.,   9171.,  10264.,\n",
      "        33545.,  27502.,  29186.,  12651.,   4268.,  11090.,  10314.,\n",
      "        12163.,   3685.,   3870.,  36913.,  25273.,  42496.,  32476.,\n",
      "        13626.,  18722.,  16026.,  30368.,   4686.,   5109.,  22693.,\n",
      "        12121.,  22607.,  45278.,  26225.,  17357.,  25686.,  17665.,\n",
      "        33349.,   4963.,   5599.,  11804.,  19393.,  46502.,  22034.,\n",
      "         2259.,   4657.,  37573.,  17282.,  19163.,  38940.,  44420.,\n",
      "        53628.,  21117.,   8236.,  15368.,  19634.,  41304.,  31687.,\n",
      "         6644.,   5766.,  14007.,   7164.,  15149.,  24436.,   9374.,\n",
      "         5522.,   3914.,   9577.,   4836.,   6471.,  34122.,  53857.,\n",
      "        24999.,  36065.,  29567.,  11273.,   5431.,   8963.,   3343.,\n",
      "        29541.,  10247.,  18577.,   9560.,  18323.,   8212.,  41249.,\n",
      "         5476.,   4488.,   5369.,   3582.,  27403.,  15244.,  58398.,\n",
      "        18980.,  30235.,  15367.,   1892.,  30005.,  30711.,  23531.,\n",
      "        61772.,   3321.,   3607.,  25713.,  30299.,  19031.,  11698.,\n",
      "        36786.,   2487.,  53793.,  32386.,  39311.,  31582.,  28775.,\n",
      "        17360.,  33808.,  33969.,  15061.,  18183.,  18502.,  42528.,\n",
      "        25045.,  57570.,   6818.,  28456.,  42072.,  32248.,  16293.,\n",
      "        37298.,  38529.,  11991.,  28796.,  27663.,  25605.,      0.,\n",
      "        40237.,  19552.,  31186.,  27631.,  31655.,  54770.,  24295.,\n",
      "        33582.,  19348.,   7418.,  35699.,  31912.,  20970.,  23219.,\n",
      "        30732.,  22843.,  41131.,  23262.,  57185.,      0.,  42918.,\n",
      "        25469.,  32016.,  22028.,  28973.,  74897.,  34392.,  51545.,\n",
      "        25085.,  21329.,      0.,  21792.,  40406.,  34801.,  30086.,\n",
      "        19168.,  37848.,  25051.,  23803.,  22218.,  17799.,  28836.,\n",
      "        29897.,  11370.,  40765.,  41043.,  79644.,  19085.,  74918.,\n",
      "        21166.,  40240.,      0.,  14667.,  22339.,  27662.,  43418.,\n",
      "        27804.,      0.,  26428.,  17227.,  20292.,  11829.,  26613.,\n",
      "        38517.,  19521.,  16717.,  37785.,  30451.,  29408.,  25075.,\n",
      "        23682.,   9754.,  12303.]\n",
      "\n",
      "\n",
      "def distance_multiplier(dist):\n",
      "    if dist < 0.2:\n",
      "        return 1\n",
      "    if dist < 0.4:\n",
      "        return (0.4-dist) * 5\n",
      "    return 0\n",
      "\n",
      "def AreaUsage(x,y):\n",
      "    usage = 0\n",
      "    for i in range(len(station_coords)):\n",
      "        dist = distance_on_unit_sphere(x,y,station_coords[i][0],station_coords[i][1])\n",
      "        usage += station_usage[i]*distance_multiplier(dist)\n",
      "    return usage"
     ],
     "language": "python",
     "metadata": {},
     "outputs": [],
     "prompt_number": 2
    },
    {
     "cell_type": "code",
     "collapsed": false,
     "input": [
      "# Following are some helpful filtering functions\n",
      "\n",
      "# Restrict trip data to morning trips\n",
      "def restrictHours(t, first_hour, last_hour):\n",
      "    i = int(t[11:13]) # Extract the appropriate characters from the starttime field for the hour\n",
      "    return i >= first_hour and i <= last_hour\n",
      "\n",
      "############################################################\n",
      "# Following are some helpful aggregation functions\n",
      "\n",
      "# Apply an age bracket to the rider, given the birth year.  Assumes data from 2014\n",
      "def age_bracket(age_str,brackets):\n",
      "    try:\n",
      "        a = int(age_str)\n",
      "    except ValueError:\n",
      "        return 'uxxxx'\n",
      "    lower = '00'\n",
      "    for i in range(len(brackets)):\n",
      "        if a >= 2014 - brackets[i]:\n",
      "            return 'u' + lower + str(brackets[i])\n",
      "        lower = str(brackets[i]+1)\n",
      "    if a >= 1901:\n",
      "        return 'u' + lower + 'xx'\n",
      "    return 'uxxxx'\n",
      "\n",
      "def trip_length_bracket(tripduration,brackets):\n",
      "    try:\n",
      "        a = int(tripduration)\n",
      "    except ValueError:\n",
      "        return 'uxxxxxxxx'\n",
      "    lower = '0'\n",
      "    for i in range(len(brackets)):\n",
      "        if a <= brackets[i]:\n",
      "            return 'u' + str(i) + '_' + lower + '_' + str(brackets[i])\n",
      "        lower = str(brackets[i]+1)\n",
      "    return 'u' + str(len(brackets)) + '_' + lower + '___'\n",
      "\n",
      "def hour_bracket(t,brackets): # Classifies times according to hour\n",
      "    return t[11:13] # For now, we ignore the brackets and use 24 buckets\n",
      "\n",
      "def get_month(t):\n",
      "    return t[5:7]\n",
      "\n",
      "def get_weekday(t):\n",
      "    y = int(t[0:4])\n",
      "    m = int(t[5:7])\n",
      "    d = int(t[8:10])\n",
      "    return ['Mon','Tues','Wednes','Thurs','Fri','Satur','Sun'][datetime.date(y,m,d).weekday()] + 'day'\n",
      "\n",
      "############################################################\n",
      "\n",
      "# Apply a sequence of filters to the data\n",
      "def TripDataFilter(tripdata, filters):\n",
      "    for f in filters:\n",
      "        if f['type'] == 'RestrictHours':\n",
      "            tripdata = tripdata[tripdata['starttime'].apply(lambda t: restrictHours(t,f['first'],f['last']))]\n",
      "    return tripdata\n",
      "\n",
      "def AddClassifiers(tripdata, classifiers):\n",
      "    for c in classifiers:\n",
      "        if c['t'] == \"AgeBrackets\": # Create age bracket classifiers where c['brackets'] contains the division points\n",
      "            tripdata[c['colname']] = tripdata['birth year'].apply(lambda x: age_bracket(x,c['brackets']))\n",
      "        if c['t'] == \"Months\":\n",
      "            tripdata[c['colname']] = tripdata['starttime'].apply(lambda x: get_month(x))\n",
      "        if c['t'] == \"HourBrackets\":\n",
      "            tripdata[c['colname']] = tripdata['starttime'].apply(lambda x: hour_bracket(x,c['brackets']))\n",
      "        if c['t'] == \"TripLengthBrackets\":\n",
      "            tripdata[c['colname']] = tripdata['tripduration'].apply(lambda x: trip_length_bracket(x,c['brackets']))\n",
      "        if c['t'] == \"Weekday\":\n",
      "            tripdata[c['colname']] = tripdata['starttime'].apply(lambda x: get_weekday(x))\n",
      "        if c['t'] == \"Counter\":\n",
      "            tripdata[c['colname']] = 'COUNT'\n",
      "    return tripdata   "
     ],
     "language": "python",
     "metadata": {},
     "outputs": [],
     "prompt_number": 3
    },
    {
     "cell_type": "code",
     "collapsed": false,
     "input": [
      "# Group the station data by numbers of trips and add age and gender information\n",
      "\n",
      "# Create a dataframe that has counts of values of ref by index\n",
      "def GroupByCount(data,index,column_names = None,refs=[]):\n",
      "    gb = data.groupby([index]+refs)\n",
      "    agg = gb[index].count()\n",
      "    for i in range(len(refs)):\n",
      "        agg = agg.unstack()\n",
      "    agg = agg.fillna(0)\n",
      "    if (column_names):\n",
      "        agg.rename(columns=column_names,inplace=True)\n",
      "    return agg\n",
      "\n",
      "def GroupVariables(data,index,agg_pipeline):\n",
      "    gb = data.groupby(index)\n",
      "    ret = pd.DataFrame(gb[index].count())\n",
      "    del ret[index]\n",
      "    for a in agg_pipeline:\n",
      "        col_names = None\n",
      "        if 'column_names' in a:\n",
      "            col_names = a['column_names']\n",
      "        suffixes = ['','']\n",
      "        if 'suffixes' in a:\n",
      "            suffixes = a['suffixes']\n",
      "        ret = ret.join(GroupByCount(data,index,refs=a['refs'],column_names = col_names),rsuffix = suffixes[1])\n",
      "    return ret"
     ],
     "language": "python",
     "metadata": {},
     "outputs": [],
     "prompt_number": 4
    },
    {
     "cell_type": "code",
     "collapsed": false,
     "input": [
      "# Read in the trip data and combine it into a dataframe with statistics\n",
      "def read_data(y,m,filters=[],classifiers=[],groups=[],dfindex=''):\n",
      "    y = str(y)\n",
      "    m = str(m)\n",
      "    if (len(m)==1):\n",
      "        m = '0'+m\n",
      "    cb2 = pd.read_csv(\"Data/\"+y+\"-\"+m+\" - Citi Bike trip data.csv\",dtype=object)\n",
      "    cb2 = TripDataFilter(cb2, filters)\n",
      "    cb2 = AddClassifiers(cb2, classifiers)\n",
      "    grouped = GroupVariables(cb2,dfindex,groups)\n",
      "    return grouped\n",
      "\n",
      "def ReadMultiData(dates,filters=[],classifiers=[],groups=[],dfindex=''):\n",
      "    StationCount = read_data(dates[0][0],dates[0][1], filters=filters, classifiers=classifiers, groups=groups,dfindex=dfindex)\n",
      "    for i in range(1,len(dates)):\n",
      "        new_data = read_data(dates[i][0],dates[i][1], filters=filters, classifiers=classifiers,groups=groups,dfindex=dfindex)\n",
      "        for col in new_data.columns.values:\n",
      "            if col not in StationCount.columns.values:\n",
      "                StationCount[col] = 0\n",
      "        for col in StationCount.columns.values:\n",
      "            if col not in new_data.columns.values:\n",
      "                new_data[col] = 0\n",
      "        StationCount += new_data\n",
      "    return StationCount\n",
      "   \n",
      "all_months = [[2013,i] for i in range(7,13)] + [[2014,i] for i in range(1,9)]\n",
      "# The following is an example of a typical data processing functions, aggregating by station count\n",
      "#StationCount = ReadMultiData(all_months,filters = [{'type':'RestrictHours','first':5,'last':11}],\n",
      "#                             classifiers = [{\"t\":\"AgeBrackets\",\"colname\":\"age\",\"brackets\":[17,24,34,44,54,64,74]}],\n",
      "#                             dfindex='start station id',\n",
      "#                             groups = [{'refs':['age']},\n",
      "#                                              {'refs':['gender'],'column_names':{'0':'gender?','1':'male','2':'female'}},\n",
      "#                                              {'refs':['age','gender'],'suffixes':['','_x']}])\n",
      "\n",
      "# This counts ridership at all stations\n",
      "#StationCount = ReadMultiData(all_months,\n",
      "#                             dfindex='start station id',\n",
      "#                             classifiers=[{'t':'Counter','colname':'COUNT'}],\n",
      "#                             groups = [{'refs':['COUNT']}])\n",
      "#StationCount['COUNT'].fillna(0).values\n",
      "# Simplify the station census file and merge it into StationCount\n",
      "\n",
      "# This block joins census data to a data frame indexed by station id\n",
      "#sc = station_census.ix[:331,['id','CensusCountyFips','CensusBlockGroup','CensusTract']] # Only the first 331 rows are relevant\n",
      "#StationCount = StationCount.join(sc)"
     ],
     "language": "python",
     "metadata": {},
     "outputs": [],
     "prompt_number": 11
    },
    {
     "cell_type": "code",
     "collapsed": false,
     "input": [
      "# In this box, we plot gender usage by month.  It shows that the proportion of female ridership is higher in the summer.\n",
      "GenderCount = ReadMultiData(all_months,\n",
      "                            classifiers = [{\"t\":\"AgeBrackets\",\"colname\":\"age\",\"brackets\":[24,34,44,54,64]},\n",
      "                                           {'t':'Months','colname':'month'}],\n",
      "                            dfindex='gender',\n",
      "                            groups = [{'refs':['month']}])\n",
      "\n",
      "GenderCount.ix['f_prop',:] = GenderCount.ix['2',:] / (GenderCount.ix['1',:]+GenderCount.ix['2',:])\n",
      "GenderCount.ix['f_prop',:].plot(kind='bar')"
     ],
     "language": "python",
     "metadata": {},
     "outputs": [
      {
       "metadata": {},
       "output_type": "pyout",
       "prompt_number": 12,
       "text": [
        "<matplotlib.axes.AxesSubplot at 0x116756710>"
       ]
      },
      {
       "metadata": {},
       "output_type": "display_data",
       "png": "[encoded data removed]",
       "text": [
        "<matplotlib.figure.Figure at 0x116756890>"
       ]
      }
     ],
     "prompt_number": 12
    },
    {
     "cell_type": "code",
     "collapsed": false,
     "input": [
      "# This plot shows gender usage by weekday.  It shows that women ride more often on weekends\n",
      "\n",
      "GenderCount = ReadMultiData(all_months,\n",
      "                            classifiers = [{\"t\":\"AgeBrackets\",\"colname\":\"age\",\"brackets\":[24,34,44,54,64]},\n",
      "                                           {'t':'Weekday','colname':'weekday'}],\n",
      "                            dfindex='gender',\n",
      "                            groups = [{'refs':['weekday']}])\n",
      "GenderCount.ix['f_prop',:] = GenderCount.ix['2',:] / (GenderCount.ix['1',:]+GenderCount.ix['2',:])\n",
      "GenderCount.ix['f_prop',:].plot(kind='bar')"
     ],
     "language": "python",
     "metadata": {},
     "outputs": [
      {
       "metadata": {},
       "output_type": "pyout",
       "prompt_number": 13,
       "text": [
        "<matplotlib.axes.AxesSubplot at 0x116cae090>"
       ]
      },
      {
       "metadata": {},
       "output_type": "display_data",
       "png": "[encoded data removed]",
       "text": [
        "<matplotlib.figure.Figure at 0x116cae250>"
       ]
      }
     ],
     "prompt_number": 13
    },
    {
     "cell_type": "code",
     "collapsed": false,
     "input": [
      "# This plot shows gender usage by time of day.  There is a huge drop of female usage late and night and in the wee hours of \n",
      "# the morning, and otherwise the effect of time of day is ambiguous.\n",
      "GenderCount = ReadMultiData(all_months,\n",
      "                            classifiers = [{'t':'HourBrackets','colname':'hour','brackets':[]}],\n",
      "                            dfindex='gender',\n",
      "                            groups = [{'refs':['hour']}])\n",
      "GenderCount.ix['f_prop',:] = GenderCount.ix['2',:] / (GenderCount.ix['1',:]+GenderCount.ix['2',:])\n",
      "GenderCount.ix['f_prop',:].plot(kind='bar')"
     ],
     "language": "python",
     "metadata": {},
     "outputs": [
      {
       "metadata": {},
       "output_type": "pyout",
       "prompt_number": 14,
       "text": [
        "<matplotlib.axes.AxesSubplot at 0x1163441d0>"
       ]
      },
      {
       "metadata": {},
       "output_type": "display_data",
       "png": "[encoded data removed]",
       "text": [
        "<matplotlib.figure.Figure at 0x116344110>"
       ]
      }
     ],
     "prompt_number": 14
    },
    {
     "cell_type": "code",
     "collapsed": false,
     "input": [
      "# This plot shows usage by length of trip.  It shows that women make more longer trips, though long trips are rare overall.\n",
      "# It may be necessary to play with the brackets a bit.\n",
      "GenderCount = ReadMultiData(all_months,\n",
      "                            classifiers = [{'t':'TripLengthBrackets','colname':'triplength',\n",
      "                                            'brackets':[300,600,1000,2000,3000,4000,5000,7500]}],\n",
      "                            dfindex='gender',\n",
      "                            groups = [{'refs':['triplength']}])\n",
      "GenderCount.ix['f_prop',:] = GenderCount.ix['2',:] / (GenderCount.ix['1',:]+GenderCount.ix['2',:])\n",
      "GenderCount.ix['f_prop',:].plot(kind='bar')"
     ],
     "language": "python",
     "metadata": {},
     "outputs": [
      {
       "metadata": {},
       "output_type": "pyout",
       "prompt_number": 15,
       "text": [
        "<matplotlib.axes.AxesSubplot at 0x1068c3210>"
       ]
      },
      {
       "metadata": {},
       "output_type": "display_data",
       "png": "[encoded data removed]",
       "text": [
        "<matplotlib.figure.Figure at 0x116739fd0>"
       ]
      }
     ],
     "prompt_number": 15
    },
    {
     "cell_type": "code",
     "collapsed": false,
     "input": [
      "###########################################################################\n",
      "# This plot shows usage by station.\n",
      "#GenderCount = ReadMultiData(all_months,\n",
      "#                            dfindex='gender',\n",
      "#                            groups = [{'refs':['start station id']}])\n",
      "#GenderCount.ix['f_prop',:] = GenderCount.ix['2',:] / (GenderCount.ix['1',:]+GenderCount.ix['2',:])\n",
      "#GenderCount.ix['f_prop',:].plot(kind='bar')"
     ],
     "language": "python",
     "metadata": {},
     "outputs": [],
     "prompt_number": 17
    },
    {
     "cell_type": "code",
     "collapsed": false,
     "input": [
      "# This block attaches latitude and longitude data to each station.  It does not need to be run each time.\n",
      "\n",
      "#import json\n",
      "#import csv\n",
      "#station_data = json.load(open(\"station_data.json\"))\n",
      "# Write to a CSV file\n",
      "#station_data_ref = [{'id':s['id'],'lat':s['latitude'],'lon':s['longitude'],'state':'NY'} for s in station_data['stationBeanList']]\n",
      "#with open(\"citibike_stations.csv\", \"w\") as outfile:\n",
      "#    writer = csv.writer(outfile, delimiter=\",\", quotechar='\"')\n",
      "#    writer.writerow([\"id\",\"lat\",\"lon\",\"state\"])\n",
      "#    for s in station_data_ref:\n",
      "#        writer.writerow([s[key] for key in [\"id\",\"lat\",\"lon\",\"state\"]])"
     ],
     "language": "python",
     "metadata": {},
     "outputs": [],
     "prompt_number": 7
    },
    {
     "cell_type": "code",
     "collapsed": false,
     "input": [
      "# Extract and add the census block group and tract to each entry in the age table.  This will help with merging\n",
      "def toBlockTract(geoid):\n",
      "    geoid = str(geoid)\n",
      "    try:\n",
      "        tract = geoid[2:9]\n",
      "    except ValueError:\n",
      "        return \"0\"\n",
      "    try:\n",
      "        block = geoid[9:12]\n",
      "    except ValueError:\n",
      "        return \"0\"\n",
      "    return tract + '.' + block\n",
      "ages[\"asdf\"] = ages[\"GEO.id2\"].apply(toBlockTract)"
     ],
     "language": "python",
     "metadata": {},
     "outputs": [],
     "prompt_number": 8
    },
    {
     "cell_type": "code",
     "collapsed": false,
     "input": [
      "# Prepare the trip data for merging with census data\n",
      "StationCount['asdf'] = StationCount.apply(lambda row: row.CensusCountyFips + row.CensusTract + row.CensusBlockGroup,axis=1)\n",
      "StationCount = pd.merge(StationCount,ages,left_on=\"asdf\",right_on=\"asdf\",how=\"left\")"
     ],
     "language": "python",
     "metadata": {},
     "outputs": [
      {
       "ename": "NameError",
       "evalue": "name 'StationCount' is not defined",
       "output_type": "pyerr",
       "traceback": [
        "\u001b[0;31m---------------------------------------------------------------------------\u001b[0m\n\u001b[0;31mNameError\u001b[0m                                 Traceback (most recent call last)",
        "\u001b[0;32m<ipython-input-9-3a6768327ef6>\u001b[0m in \u001b[0;36m<module>\u001b[0;34m()\u001b[0m\n\u001b[1;32m      1\u001b[0m \u001b[0;31m# Prepare the trip data for merging with census data\u001b[0m\u001b[0;34m\u001b[0m\u001b[0;34m\u001b[0m\u001b[0m\n\u001b[0;32m----> 2\u001b[0;31m \u001b[0mStationCount\u001b[0m\u001b[0;34m[\u001b[0m\u001b[0;34m'asdf'\u001b[0m\u001b[0;34m]\u001b[0m \u001b[0;34m=\u001b[0m \u001b[0mStationCount\u001b[0m\u001b[0;34m.\u001b[0m\u001b[0mapply\u001b[0m\u001b[0;34m(\u001b[0m\u001b[0;32mlambda\u001b[0m \u001b[0mrow\u001b[0m\u001b[0;34m:\u001b[0m \u001b[0mrow\u001b[0m\u001b[0;34m.\u001b[0m\u001b[0mCensusCountyFips\u001b[0m \u001b[0;34m+\u001b[0m \u001b[0mrow\u001b[0m\u001b[0;34m.\u001b[0m\u001b[0mCensusTract\u001b[0m \u001b[0;34m+\u001b[0m \u001b[0mrow\u001b[0m\u001b[0;34m.\u001b[0m\u001b[0mCensusBlockGroup\u001b[0m\u001b[0;34m,\u001b[0m\u001b[0maxis\u001b[0m\u001b[0;34m=\u001b[0m\u001b[0;36m1\u001b[0m\u001b[0;34m)\u001b[0m\u001b[0;34m\u001b[0m\u001b[0m\n\u001b[0m\u001b[1;32m      3\u001b[0m \u001b[0mStationCount\u001b[0m \u001b[0;34m=\u001b[0m \u001b[0mpd\u001b[0m\u001b[0;34m.\u001b[0m\u001b[0mmerge\u001b[0m\u001b[0;34m(\u001b[0m\u001b[0mStationCount\u001b[0m\u001b[0;34m,\u001b[0m\u001b[0mages\u001b[0m\u001b[0;34m,\u001b[0m\u001b[0mleft_on\u001b[0m\u001b[0;34m=\u001b[0m\u001b[0;34m\"asdf\"\u001b[0m\u001b[0;34m,\u001b[0m\u001b[0mright_on\u001b[0m\u001b[0;34m=\u001b[0m\u001b[0;34m\"asdf\"\u001b[0m\u001b[0;34m,\u001b[0m\u001b[0mhow\u001b[0m\u001b[0;34m=\u001b[0m\u001b[0;34m\"left\"\u001b[0m\u001b[0;34m)\u001b[0m\u001b[0;34m\u001b[0m\u001b[0m\n",
        "\u001b[0;31mNameError\u001b[0m: name 'StationCount' is not defined"
       ]
      }
     ],
     "prompt_number": 9
    },
    {
     "cell_type": "code",
     "collapsed": false,
     "input": [
      "# Convert census labels to floats\n",
      "labels = ['D00'+str(i) for i in range(1,10)] + ['D0'+str(i) for i in range(10,50)]\n",
      "def FloatConvert(string):\n",
      "    try:\n",
      "        f = float(string)\n",
      "    except ValueError:\n",
      "        f = NaN\n",
      "    return f\n",
      "for label in labels:\n",
      "    StationCount[label] = StationCount[label].apply(FloatConvert)"
     ],
     "language": "python",
     "metadata": {},
     "outputs": []
    },
    {
     "cell_type": "code",
     "collapsed": false,
     "input": [
      "# SD is a the StationCount dataframe with aggregated age demographic data attached\n",
      "SD = StationCount\n",
      "SD['a0017'] = (SD['D003'] + SD['D004'] + SD['D005'] + SD['D006'] + SD['D027'] + SD['D028'] + SD['D029'] + SD['D030'])/SD['D001']\n",
      "SD['a1824'] = (SD['D007'] + SD['D008'] + SD['D009'] + SD['D010'] + SD['D031'] + SD['D032'] + SD['D033'] + SD['D034'])/SD['D001']\n",
      "SD['a2534'] = (SD['D011'] + SD['D012'] + SD['D035'] + SD['D036'])/SD['D001']\n",
      "SD['a3544'] = (SD['D013'] + SD['D014'] + SD['D037'] + SD['D038'])/SD['D001']\n",
      "SD['a4554'] = (SD['D015'] + SD['D016'] + SD['D039'] + SD['D040'])/SD['D001']\n",
      "SD['a5564'] = (SD['D017'] + SD['D018'] + SD['D019'] + SD['D041'] + SD['D042'] + SD['D043'])/SD['D001']\n",
      "SD['a6574'] = (SD['D020'] + SD['D021'] + SD['D022'] + SD['D044'] + SD['D045'] + SD['D046'])/SD['D001']\n",
      "SD['a75xx'] = (SD['D023'] + SD['D024'] + SD['D025'] + SD['D047'] + SD['D048'] + SD['D049'])/SD['D001']\n",
      "SD['cenMaleProp'] = SD['D002']/SD['D001']\n",
      "SD['cenFemaleProp'] = SD['D026']/SD['D001']\n",
      "# Here we calculate some basic usage statistics by age\n",
      "SD['ages_known'] = SD['u0017'] + SD['u1824'] + SD['u2534'] + SD['u3544'] + SD['u4554'] + SD['u5564'] + SD['u6574'] + SD['u75xx']\n",
      "for brack in ['0017','1824','2534','3544','4554','5564','6574','75xx']:\n",
      "    print [(SD['u'+brack] / SD['ages_known']).mean(), SD['a'+brack].mean()]\n",
      "    print brack + ' usage coefficient: ' + str((SD['u'+brack] / SD['ages_known']).mean() / SD['a'+brack].mean())\n",
      "print [(SD['male']/(SD['male']+SD['female'])).mean(),SD['cenMaleProp'].mean()]\n",
      "print 'Male usage coefficient: ' + str((SD['male']/(SD['male']+SD['female'])).mean() / SD['cenMaleProp'].mean())\n",
      "print [(SD['female']/(SD['male']+SD['female'])).mean(),SD['cenFemaleProp'].mean()]\n",
      "print 'Female usage coefficient: ' + str((SD['female']/(SD['male']+SD['female'])).mean() / SD['cenFemaleProp'].mean())"
     ],
     "language": "python",
     "metadata": {},
     "outputs": []
    },
    {
     "cell_type": "code",
     "collapsed": false,
     "input": [
      "# Here we attach area and population density to the demographics for each station.\n",
      "# NOTE: Not necessary for the current operation of comparing age of the area and of usage\n",
      "import shapefile\n",
      "def area_of_polygon(points): # Note: the area of a polygon built into pyshp seems to be bugged\n",
      "    \"\"\"Calculates the area of an arbitrary polygon given its verticies\"\"\"\n",
      "    area = 0.0\n",
      "    for i in xrange(-1, len(points)-1):\n",
      "        area += points[i][0] * (points[i+1][1] - points[i-1][1])\n",
      "    return abs(area) / 2.0\n",
      "\n",
      "def formatname(n):\n",
      "    return n[11:18]+\".\"+n[18:21]\n",
      "\n",
      "r = shapefile.Reader('Data/NY Block Group Shapes/gz_2010_36_150_00_500k')\n",
      "sr = r.shapeRecords()\n",
      "#area_of_polygon(sr[5].shape.points)\n",
      "#formatname(sr[5].record[0])\n",
      "df_shape = pd.DataFrame({'asdf':pd.Series([formatname(rec.record[0]) for rec in sr]),\n",
      "            'areas': pd.Series([area_of_polygon(rec.shape.points) for rec in sr])})\n",
      "SD = pd.merge(StationCount,df_shape,left_on='asdf',right_on='asdf',how=\"left\")\n",
      "SD['density'] = SD['D001'] / SD['areas'] / 1000000 # The units are arbitrary; we are focused on relative values"
     ],
     "language": "python",
     "metadata": {},
     "outputs": []
    },
    {
     "cell_type": "code",
     "collapsed": false,
     "input": [
      "# Now we attempt a linear model of usage count versus population density\n",
      "from sklearn import linear_model\n",
      "from sklearn import utils\n",
      "y = (SD['ages_known'] + SD['uxxxx']).fillna(0) # Total numbers of users, ages known and unknown.  We want to predict this\n",
      "X = SD['density'].fillna(0) # Predict usage in terms of density\n",
      "XX = X.reshape((X.shape[0],-1))\n",
      "yy = y.reshape((y.shape[0],-1))\n",
      "\n",
      "clf = linear_model.LinearRegression().fit(XX,yy)\n",
      "[clf.intercept_,clf.coef_]\n",
      "from scipy.stats.stats import pearsonr\n",
      "pearsonr(X,y)"
     ],
     "language": "python",
     "metadata": {},
     "outputs": []
    },
    {
     "cell_type": "code",
     "collapsed": false,
     "input": [
      "import matplotlib\n",
      "matplotlib.pyplot.plot(X,y,'.')"
     ],
     "language": "python",
     "metadata": {},
     "outputs": []
    },
    {
     "cell_type": "code",
     "collapsed": false,
     "input": [],
     "language": "python",
     "metadata": {},
     "outputs": []
    }
   ],
   "metadata": {}
  }
 ]
}