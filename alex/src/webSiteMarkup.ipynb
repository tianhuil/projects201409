{
 "metadata": {
  "name": "",
  "signature": "sha256:e95de71ad81ac0a9e5db6483381d22f438a68651fe280fe84111b06dba1d4cc4"
 },
 "nbformat": 3,
 "nbformat_minor": 0,
 "worksheets": [
  {
   "cells": [
    {
     "cell_type": "markdown",
     "metadata": {},
     "source": [
      "## Let me explain\n",
      "What the hell is going on in \n",
      "1. my project\n",
      "2. on your server\n",
      "\n",
      "Go away $E_i = poof^2$"
     ]
    }
   ],
   "metadata": {}
  }
 ]
}