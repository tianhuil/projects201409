{
 "metadata": {
  "name": "",
  "signature": "sha256:8cde386739465d0d6de49e425349b422dc5ecb73f87bfd6991caac271573d3e0"
 },
 "nbformat": 3,
 "nbformat_minor": 0,
 "worksheets": [
  {
   "cells": [
    {
     "cell_type": "code",
     "collapsed": false,
     "input": [
      "import pandas as pd\n",
      "import numpy as np\n",
      "import datetime as dt\n",
      "import matplotlib.pylab as plt\n",
      "import sys\n",
      "\n",
      "print (sys.version)"
     ],
     "language": "python",
     "metadata": {},
     "outputs": [
      {
       "output_type": "stream",
       "stream": "stdout",
       "text": [
        "2.7.7 |Anaconda 2.0.1 (64-bit)| (default, Jun  2 2014, 12:34:02) \n",
        "[GCC 4.1.2 20080704 (Red Hat 4.1.2-54)]\n"
       ]
      }
     ],
     "prompt_number": 1
    },
    {
     "cell_type": "code",
     "collapsed": false,
     "input": [
      "from sklearn import datasets\n",
      "from sklearn import linear_model\n",
      "from sklearn import utils\n",
      "from sklearn import cross_validation\n",
      "from scipy import stats # for Pearson correlations"
     ],
     "language": "python",
     "metadata": {},
     "outputs": [],
     "prompt_number": 2
    },
    {
     "cell_type": "markdown",
     "metadata": {},
     "source": [
      "## Transforming Data to Better Tell a Story ##"
     ]
    },
    {
     "cell_type": "code",
     "collapsed": false,
     "input": [
      "# Load df\n",
      "df = pd.read_csv('../data/gDataOut2.csv')\n",
      "\n",
      "# *** Convert Numbers to make them more interpretable:***\n",
      "\n",
      "# scale walkscore.com scores: All scored represent perentage score wrt rest of city\n",
      "def rescaleWalkScore(s):\n",
      "    return 100*(s-min(s))/(max(s)-min(s))\n",
      "\n",
      "df.walkScore = rescaleWalkScore(df.walkScore)\n",
      "df.tranScore = rescaleWalkScore(df.tranScore)\n",
      "df.bikeScore = rescaleWalkScore(df.bikeScore)\n",
      "\n",
      "# Remove data points without prices\n",
      "df = df[df.gPrice!=0]\n",
      "\n",
      "# ****** THIS IS A HACK that needs to be changed if the gridsize changes *******\n",
      "for idx in df.index:\n",
      "    if df.gSchScore[idx] == 0:\n",
      "        gNeibs = []\n",
      "        if idx-1 in df.index:\n",
      "            gNeibs.append(df.gSchScore[idx-1])\n",
      "        if idx+1 in df.index:\n",
      "            gNeibs.append(df.gSchScore[idx+1])\n",
      "        if idx-40 in df.index:\n",
      "            gNeibs.append(df.gSchScore[idx-40])\n",
      "        if idx+40 in df.index:\n",
      "            gNeibs.append(df.gSchScore[idx+40])\n",
      "        if len(gNeibs) > 2:\n",
      "            df.gSchScore[idx] = mean(gNeibs)\n",
      "\n",
      "# Remove remaining data points without school scores\n",
      "df = df[df.gSchScore != 0]"
     ],
     "language": "python",
     "metadata": {},
     "outputs": [],
     "prompt_number": 3
    },
    {
     "cell_type": "code",
     "collapsed": false,
     "input": [
      "df = df.set_index('gNum')"
     ],
     "language": "python",
     "metadata": {},
     "outputs": [],
     "prompt_number": 4
    },
    {
     "cell_type": "markdown",
     "metadata": {},
     "source": [
      "## First: Cross correlation between parameters\n",
      "1. Plotting absolute values of the cross correlation matrix below\n",
      "1. Choose parameters with low absolute cross correlation"
     ]
    },
    {
     "cell_type": "code",
     "collapsed": false,
     "input": [
      "colsForX_all = ['gAllCrimePer','gHOMIper','gBURGper','gNARCper','gPopDen',\n",
      "                'walkScore','tranScore','bikeScore','gSchScore','gSqDistFromCBD']\n",
      "X_all = df.ix[:,colsForX_all]\n",
      "y_all = df.gPrice # Note that there are some NAN\n",
      "\n",
      "\n",
      "# drop any rows with NANs (n=37 instead of 38) (drop at same time)\n",
      "X_all, y_all = X_all.drop(pd.isnull(X_all).any(1).nonzero()[0]), y_all.drop(pd.isnull(X_all).any(1).nonzero()[0])\n",
      "\n",
      "plt.pcolor(X_all.corr().abs())\n",
      "plt.colorbar()\n",
      "plt.yticks(arange(0.5,len(X_all.corr().columns)+0.5),X_all.corr().columns)\n",
      "plt.xticks(arange(0.5,len(X_all.corr().columns)+0.5),range(0,len(X_all.corr().columns)))"
     ],
     "language": "python",
     "metadata": {},
     "outputs": [
      {
       "metadata": {},
       "output_type": "pyout",
       "prompt_number": 5,
       "text": [
        "([<matplotlib.axis.XTick at 0x7ff827d31dd0>,\n",
        "  <matplotlib.axis.XTick at 0x7ff827d50b50>,\n",
        "  <matplotlib.axis.XTick at 0x7ff827baeb10>,\n",
        "  <matplotlib.axis.XTick at 0x7ff827bb5090>,\n",
        "  <matplotlib.axis.XTick at 0x7ff827bb5590>,\n",
        "  <matplotlib.axis.XTick at 0x7ff827bb5cd0>,\n",
        "  <matplotlib.axis.XTick at 0x7ff827bbe450>,\n",
        "  <matplotlib.axis.XTick at 0x7ff827bbeb90>,\n",
        "  <matplotlib.axis.XTick at 0x7ff827bc7310>,\n",
        "  <matplotlib.axis.XTick at 0x7ff827bc7a50>],\n",
        " <a list of 10 Text xticklabel objects>)"
       ]
      },
      {
       "metadata": {},
       "output_type": "display_data",
       "png": "[encoded data removed]",
       "text": [
        "<matplotlib.figure.Figure at 0x7ff827d31110>"
       ]
      }
     ],
     "prompt_number": 5
    },
    {
     "cell_type": "code",
     "collapsed": false,
     "input": [
      "\n",
      "savefig('corr.png')"
     ],
     "language": "python",
     "metadata": {},
     "outputs": [
      {
       "metadata": {},
       "output_type": "display_data",
       "text": [
        "<matplotlib.figure.Figure at 0x7ff827d7f7d0>"
       ]
      }
     ],
     "prompt_number": 6
    },
    {
     "cell_type": "code",
     "collapsed": false,
     "input": [
      "eigvals, eigvecs = np.linalg.eig(X_all.corr()) # gives sorted list of eigenvalues\n",
      "\n",
      "maxInds = []\n",
      "for vec in eigvecs:\n",
      "    maxInds.append([i for i, val in enumerate(vec) if abs(val) == max(abs(vec))])\n",
      "    \n",
      "maxInds = (np.array(maxInds).ravel()[:8])\n",
      "maxInds"
     ],
     "language": "python",
     "metadata": {},
     "outputs": [
      {
       "metadata": {},
       "output_type": "pyout",
       "prompt_number": 7,
       "text": [
        "array([6, 8, 4, 4, 3, 5, 9, 7])"
       ]
      }
     ],
     "prompt_number": 7
    },
    {
     "cell_type": "markdown",
     "metadata": {},
     "source": [
      "## Quick PCA (but not projection)"
     ]
    },
    {
     "cell_type": "markdown",
     "metadata": {},
     "source": [
      "**The array above tells me parameters I should regress on, in order from best to worst**\n",
      "\n",
      "* This list of parameters contains, transit scores, pop density, homicide-, battery-, and narcotic-crime-rates\n",
      "* Below is a python implementation that accepts all the X data, target prices (y), and a list of X parameter indices to regress on"
     ]
    },
    {
     "cell_type": "code",
     "collapsed": false,
     "input": [
      "# For model 1, let's look at everything\n",
      "X_model1 = X_all[['gHOMIper','gPopDen','gSchScore']]\n",
      "X_model1 = X_model1[X_model1.gSchScore != 0] # Only looking at places with school scores\n",
      "y_model1 = y_all[X_model1.index]\n",
      "\n",
      "# For model 2, let's look at grids with at least 2 homicides (regress on data we're sure we have)\n",
      "X_model2 = X_all[['gHOMIper','gPopDen','gSchScore']]\n",
      "X_model2 = X_model2[(X_model2.gSchScore != 0) & (X_model2.gHOMIper > 2)] # Only looking at places with school scores\n",
      "y_model2 = y_all[X_model2.index]\n",
      "\n",
      "# For model 3, let's regress all narcotics data instead of homicides\n",
      "X_model3 = X_all[['gNARCper','gPopDen','gSchScore']]\n",
      "X_model3 = X_model3[X_model3.gSchScore != 0] # Only looking at places with school scores\n",
      "y_model3 = y_all[X_model3.index]\n",
      "\n",
      "# As we'll see below, model3 is only slightly better than model2 in terms of predicting house prices...\n",
      "# I want to add a new variable, DISTANCE FROM CBD, to remove that factor\n",
      "X_model4 = X_all[['gNARCper','gSqDistFromCBD','gSchScore']] # Note that sqDistance is actually just distance\n",
      "X_model4 = X_model4[X_model4.gSchScore != 0] # Only looking at places with school scores\n",
      "y_model4 = y_all[X_model4.index]\n",
      "\n",
      "# For linear regression, ignore data points in the nonlinear range\n",
      "X_model5 = X_all[['gHOMIper','gSqDistFromCBD','gSchScore']]\n",
      "X_model5 = X_model5[X_model5.gSchScore != 0]\n",
      "X_model5 = X_model5[X_model5.gSqDistFromCBD < 8]\n",
      "X_model5 = X_model5[X_model5.gHOMIper > 0]\n",
      "y_model5 = y_all[X_model5.index]\n",
      "\n",
      "# Keeping datapoints for custum nonlinear model\n",
      "X_model_nonLin = X_all[['gHOMIper','gSqDistFromCBD','gSchScore']]\n",
      "X_model_nonLin = X_model_nonLin[X_model_nonLin.gSchScore != 0]\n",
      "X_model_nonLin = X_model_nonLin[X_model_nonLin.gHOMIper <170]\n",
      "y_model_nonLin = y_all[X_model_nonLin.index]"
     ],
     "language": "python",
     "metadata": {},
     "outputs": [],
     "prompt_number": 8
    },
    {
     "cell_type": "code",
     "collapsed": false,
     "input": [
      "# Linear Regression Model (use this)\n",
      "\n",
      "X_model_toUse = X_all[['gHOMIper','gSqDistFromCBD','gSchScore']]\n",
      "X_model_toUse = X_model_toUse[X_model_toUse.gSchScore != 0]\n",
      "X_model_toUse = X_model_toUse[X_model_toUse.gHOMIper <170]\n",
      "X_model_toUse.gSqDistFromCBD = 1/X_model_toUse.gSqDistFromCBD \n",
      "X_model_toUse.gHOMIper = 1/X_model_toUse.gHOMIper\n",
      "X_model_toUse.gSchScore = X_model_toUse.gSchScore\n",
      "y_model_toUse = y_all[X_model_toUse.index]"
     ],
     "language": "python",
     "metadata": {},
     "outputs": [],
     "prompt_number": 9
    },
    {
     "cell_type": "code",
     "collapsed": false,
     "input": [
      "for col in X_model_toUse.columns:\n",
      "    plt.figure()\n",
      "    plt.title(col)\n",
      "    plt.plot(X_model_toUse[col], y_model_nonLin, '.')\n",
      "    plt.xlabel(col)\n",
      "    plt.ylabel('Home Price')\n",
      "    plt.ylim([0,600000])"
     ],
     "language": "python",
     "metadata": {},
     "outputs": [
      {
       "metadata": {},
       "output_type": "display_data",
       "png": "[encoded data removed]",
       "text": [
        "<matplotlib.figure.Figure at 0x7ff827d957d0>"
       ]
      },
      {
       "metadata": {},
       "output_type": "display_data",
       "png": "[encoded data removed]",
       "text": [
        "<matplotlib.figure.Figure at 0x7ff827b22e10>"
       ]
      },
      {
       "metadata": {},
       "output_type": "display_data",
       "png": "[encoded data removed]",
       "text": [
        "<matplotlib.figure.Figure at 0x7ff827a3d650>"
       ]
      }
     ],
     "prompt_number": 10
    },
    {
     "cell_type": "code",
     "collapsed": false,
     "input": [
      "from sklearn import datasets\n",
      "from sklearn import linear_model\n",
      "from sklearn import utils\n",
      "from sklearn import cross_validation\n",
      "from sklearn.svm import SVR\n",
      "import pandas as pd\n",
      "import matplotlib.pylab as plt\n",
      "from sklearn.datasets import fetch_mldata\n",
      "import numpy as np\n",
      "from scipy import stats\n",
      "\n",
      "def trainLRM(X,y):\n",
      "    X_train, X_test, y_train, y_test = cross_validation.train_test_split(X, y, test_size=0.4)\n",
      "    \n",
      "    cv = cross_validation.ShuffleSplit(len(y), n_iter=1000, test_size=0.2, random_state=42)\n",
      "    def compute_error(clf, X, y):\n",
      "        return cross_validation.cross_val_score(clf, X, y, cv=cv, scoring='r2').mean()\n",
      "\n",
      "    def abs_corr(x, y):\n",
      "        return np.abs(stats.pearsonr(x, y)[0])\n",
      "    \n",
      "    clf = linear_model.LinearRegression()\n",
      "    clf.fit(X_train,y_train)\n",
      "    model_performance = pd.DataFrame([\n",
      "        #(\"Mean Model\", (y.var()/len(y))**(0.5)),\n",
      "        #(\"Original Features, Pearson > .6\", compute_error(clf, X[[col for col in X.columns if abs_corr(X[col], y) > .6]], y)),\n",
      "        (\"Original Features, Pearson > .4\", compute_error(clf, X[[col for col in X.columns if abs_corr(X[col], y) > .4]], y)),\n",
      "        (\"Original Features\", compute_error(clf, X, y)),\n",
      "    ], columns=[\"Model\", \"MSE\"])\n",
      "    model_performance.set_index(\"Model\")\n",
      "    model_performance = model_performance # normalize by price\n",
      "    model_performance.plot(x=\"Model\", y=\"MSE\", kind=\"Bar\")\n",
      "    return clf, cv, compute_error(clf,X,y)\n",
      "\n",
      "def trainRRM(X,y):\n",
      "    X_train, X_test, y_train, y_test = cross_validation.train_test_split(X, y, test_size=0.4)\n",
      "    \n",
      "    cv = cross_validation.ShuffleSplit(len(y), n_iter=1000, test_size=0.2, random_state=42)\n",
      "    def compute_error(clf, X, y):\n",
      "        return cross_validation.cross_val_score(clf, X, y, cv=cv, scoring='r2').mean()\n",
      "\n",
      "    def abs_corr(x, y):\n",
      "        return np.abs(stats.pearsonr(x, y)[0])\n",
      "    \n",
      "    clf = linear_model.Lasso(alpha=0.5)\n",
      "    clf.fit(X_train,y_train)\n",
      "    model_performance = pd.DataFrame([\n",
      "        #(\"Mean Model\", y.std()/len(y)),\n",
      "        #(\"Original Features, Pearson > .6\", compute_error(clf, X[[col for col in X.columns if abs_corr(X[col], y) > .6]], y)),\n",
      "        (\"Original Features, Pearson > .4\", compute_error(clf, X[[col for col in X.columns if abs_corr(X[col], y) > .4]], y)),\n",
      "        (\"Original Features\", compute_error(clf, X, y)),\n",
      "    ], columns=[\"Model\", \"MAE\"])\n",
      "    model_performance.set_index(\"Model\")\n",
      "    model_performance = model_performance # normalize by price\n",
      "    model_performance.plot(x=\"Model\", y=\"MAE\", kind=\"Bar\")\n",
      "    return clf, cv, compute_error(clf, X, y)"
     ],
     "language": "python",
     "metadata": {},
     "outputs": [],
     "prompt_number": 11
    },
    {
     "cell_type": "code",
     "collapsed": false,
     "input": [
      "clf4, cv4, score4 = trainLRM(X_model4,y_model4)\n",
      "clf5, cv5, score5 = trainLRM(X_model5,y_model5)\n",
      "clf_nonLin, cv_nonLin, score_nonLin = trainLRM(X_model_nonLin,y_model_nonLin)\n",
      "\n"
     ],
     "language": "python",
     "metadata": {},
     "outputs": [
      {
       "metadata": {},
       "output_type": "display_data",
       "png": "[encoded data removed]",
       "text": [
        "<matplotlib.figure.Figure at 0x7ff827a96e90>"
       ]
      }
     ],
     "prompt_number": 12
    },
    {
     "cell_type": "code",
     "collapsed": false,
     "input": [
      "print score4,score5,score_nonLin"
     ],
     "language": "python",
     "metadata": {},
     "outputs": [
      {
       "output_type": "stream",
       "stream": "stdout",
       "text": [
        "0.574507312193 0.451827827988 0.549999977136\n"
       ]
      }
     ],
     "prompt_number": 13
    },
    {
     "cell_type": "code",
     "collapsed": false,
     "input": [
      "## BOOTSTRAP OUTPUT, model 5\n",
      "\n",
      "def jackknife(X,y,clf,N,test_size):\n",
      "    \n",
      "    coefs = np.zeros([N,X.shape[1]])\n",
      "    intercepts = np.zeros(N)\n",
      "    for idx in range(N):\n",
      "        X_train, X_test, y_train, y_test = cross_validation.train_test_split(X, y, test_size=test_size)\n",
      "        clf.fit(X_train,y_train)\n",
      "        coefs[idx,:] = clf.coef_\n",
      "        intercepts[idx] = clf.intercept_\n",
      "            \n",
      "    return [coefs.mean(0), coefs.std(0), intercepts.mean(), intercepts.std() ]\n",
      "    \n",
      "resultsLinR = jackknife(X_model5,y_model5,linear_model.LinearRegression(),100,0.2)\n",
      "resultsLasR = jackknife(X_model5,y_model5,linear_model.Lasso(alpha=1),100,0.2)\n",
      "resultsLinR, resultsLasR"
     ],
     "language": "python",
     "metadata": {},
     "outputs": [
      {
       "metadata": {},
       "output_type": "pyout",
       "prompt_number": 15,
       "text": [
        "([array([  -973.61186041, -32979.11382994,   1723.8006822 ]),\n",
        "  array([   76.43614365,  2185.42526995,   367.71753909]),\n",
        "  310781.56510176149,\n",
        "  22818.845643651228],\n",
        " [array([  -980.24330155, -33369.98997546,   1739.67533445]),\n",
        "  array([   83.36122505,  1969.20041331,   400.54022635]),\n",
        "  312274.36366479663,\n",
        "  21975.176169185565])"
       ]
      }
     ],
     "prompt_number": 15
    },
    {
     "cell_type": "code",
     "collapsed": false,
     "input": [
      "X_model_nonLin.columns"
     ],
     "language": "python",
     "metadata": {},
     "outputs": [
      {
       "metadata": {},
       "output_type": "pyout",
       "prompt_number": 16,
       "text": [
        "Index([u'gHOMIper', u'gSqDistFromCBD', u'gSchScore'], dtype='object')"
       ]
      }
     ],
     "prompt_number": 16
    },
    {
     "cell_type": "code",
     "collapsed": false,
     "input": [
      "from scipy.optimize import curve_fit\n",
      "\n",
      "def fitfunc(X,h,d,s,b):\n",
      "   if X.gSqDistFromCBD < 8:\n",
      "      return b + h*X.gHOMIper + s*X.gSchScore + d*X.gSqDistFromCBD\n",
      "   else:\n",
      "      return b + h*X.gHOMIper + s*X.gSchScore + d*8 # housing value doesn't decrease after 8 miles\n",
      "\n",
      "fitfunc_vec = np.vectorize(fitfunc) #vectorize so you can use func with array\n",
      "\n",
      "def fitfunc_vec_self(X,h,d,s,b):\n",
      "  y = np.zeros(len(X))\n",
      "  for idx in range(len(y)):\n",
      "    y[idx]=fitfunc(X.iloc[idx],h,d,s,b)\n",
      "  return y\n",
      "\n",
      "\n",
      "popt, pcov = curve_fit(fitfunc_vec_self, X_model_nonLin, y_model_nonLin) #fitting routine that gives error\n",
      "print popt"
     ],
     "language": "python",
     "metadata": {},
     "outputs": [
      {
       "output_type": "stream",
       "stream": "stdout",
       "text": [
        "[  -1184.69916982  -42617.29635827    1039.36493733  411294.293399  ]\n"
       ]
      }
     ],
     "prompt_number": 17
    },
    {
     "cell_type": "code",
     "collapsed": false,
     "input": [
      "# Bootstrapping\n",
      "N = 5\n",
      "trainSize = 0.2\n",
      "\n",
      "coefs = np.zeros([N,X_model_nonLin.shape[1]+1])\n",
      "for idx in range(N):\n",
      "    X_train, X_test, y_train, y_test = cross_validation.train_test_split(X_model_nonLin, y_model_nonLin, test_size=trainSize)\n",
      "    X_train = pd.DataFrame(X_train,columns = X_model_nonLin.columns)\n",
      "    coefs[idx,:] = curve_fit(fitfunc_vec_self, X_train, y_train)[0]"
     ],
     "language": "python",
     "metadata": {},
     "outputs": [],
     "prompt_number": 20
    },
    {
     "cell_type": "code",
     "collapsed": false,
     "input": [
      "# Bootstrapping\n",
      "\n",
      "def resampleForBS(length):\n",
      "    return np.random.random_integers(0,length-1, length) # subsamples indices with replacement\n",
      "\n",
      "N = 5\n",
      "Xlen = len(y_model_nonLin)\n",
      "coefs = np.zeros([N,X_model_nonLin.shape[1]+1])\n",
      "for  idx in range(N):\n",
      "    indicesToFit = resampleForBS(Xlen)\n",
      "    X_train, y_train = X_model_nonLin[indicesToFit], y_model_nonLin[indicesToFit]\n",
      "    coefs[idx,:] = curve_fit(fitfunc_vec_self, X_train, y_train)[0]"
     ],
     "language": "python",
     "metadata": {},
     "outputs": [
      {
       "ename": "IndexError",
       "evalue": "indices are out-of-bounds",
       "output_type": "pyerr",
       "traceback": [
        "\u001b[1;31m---------------------------------------------------------------------------\u001b[0m\n\u001b[1;31mIndexError\u001b[0m                                Traceback (most recent call last)",
        "\u001b[1;32m<ipython-input-44-ea71cc5beb9b>\u001b[0m in \u001b[0;36m<module>\u001b[1;34m()\u001b[0m\n\u001b[0;32m      9\u001b[0m \u001b[1;32mfor\u001b[0m  \u001b[0midx\u001b[0m \u001b[1;32min\u001b[0m \u001b[0mrange\u001b[0m\u001b[1;33m(\u001b[0m\u001b[0mN\u001b[0m\u001b[1;33m)\u001b[0m\u001b[1;33m:\u001b[0m\u001b[1;33m\u001b[0m\u001b[0m\n\u001b[0;32m     10\u001b[0m     \u001b[0mindicesToFit\u001b[0m \u001b[1;33m=\u001b[0m \u001b[0mresampleForBS\u001b[0m\u001b[1;33m(\u001b[0m\u001b[0mXlen\u001b[0m\u001b[1;33m)\u001b[0m\u001b[1;33m\u001b[0m\u001b[0m\n\u001b[1;32m---> 11\u001b[1;33m     \u001b[0mX_train\u001b[0m\u001b[1;33m,\u001b[0m \u001b[0my_train\u001b[0m \u001b[1;33m=\u001b[0m \u001b[0mX_model_nonLin\u001b[0m\u001b[1;33m[\u001b[0m\u001b[0mindicesToFit\u001b[0m\u001b[1;33m]\u001b[0m\u001b[1;33m,\u001b[0m \u001b[0my_model_nonLin\u001b[0m\u001b[1;33m[\u001b[0m\u001b[0mindicesToFit\u001b[0m\u001b[1;33m]\u001b[0m\u001b[1;33m\u001b[0m\u001b[0m\n\u001b[0m\u001b[0;32m     12\u001b[0m     \u001b[0mcoefs\u001b[0m\u001b[1;33m[\u001b[0m\u001b[0midx\u001b[0m\u001b[1;33m,\u001b[0m\u001b[1;33m:\u001b[0m\u001b[1;33m]\u001b[0m \u001b[1;33m=\u001b[0m \u001b[0mcurve_fit\u001b[0m\u001b[1;33m(\u001b[0m\u001b[0mfitfunc_vec_self\u001b[0m\u001b[1;33m,\u001b[0m \u001b[0mX_train\u001b[0m\u001b[1;33m,\u001b[0m \u001b[0my_train\u001b[0m\u001b[1;33m)\u001b[0m\u001b[1;33m[\u001b[0m\u001b[1;36m0\u001b[0m\u001b[1;33m]\u001b[0m\u001b[1;33m\u001b[0m\u001b[0m\n",
        "\u001b[1;32m/home/aloosley/anaconda/lib/python2.7/site-packages/pandas/core/frame.pyc\u001b[0m in \u001b[0;36m__getitem__\u001b[1;34m(self, key)\u001b[0m\n\u001b[0;32m   1676\u001b[0m         \u001b[1;32mif\u001b[0m \u001b[0misinstance\u001b[0m\u001b[1;33m(\u001b[0m\u001b[0mkey\u001b[0m\u001b[1;33m,\u001b[0m \u001b[1;33m(\u001b[0m\u001b[0mSeries\u001b[0m\u001b[1;33m,\u001b[0m \u001b[0mnp\u001b[0m\u001b[1;33m.\u001b[0m\u001b[0mndarray\u001b[0m\u001b[1;33m,\u001b[0m \u001b[0mlist\u001b[0m\u001b[1;33m)\u001b[0m\u001b[1;33m)\u001b[0m\u001b[1;33m:\u001b[0m\u001b[1;33m\u001b[0m\u001b[0m\n\u001b[0;32m   1677\u001b[0m             \u001b[1;31m# either boolean or fancy integer index\u001b[0m\u001b[1;33m\u001b[0m\u001b[1;33m\u001b[0m\u001b[0m\n\u001b[1;32m-> 1678\u001b[1;33m             \u001b[1;32mreturn\u001b[0m \u001b[0mself\u001b[0m\u001b[1;33m.\u001b[0m\u001b[0m_getitem_array\u001b[0m\u001b[1;33m(\u001b[0m\u001b[0mkey\u001b[0m\u001b[1;33m)\u001b[0m\u001b[1;33m\u001b[0m\u001b[0m\n\u001b[0m\u001b[0;32m   1679\u001b[0m         \u001b[1;32melif\u001b[0m \u001b[0misinstance\u001b[0m\u001b[1;33m(\u001b[0m\u001b[0mkey\u001b[0m\u001b[1;33m,\u001b[0m \u001b[0mDataFrame\u001b[0m\u001b[1;33m)\u001b[0m\u001b[1;33m:\u001b[0m\u001b[1;33m\u001b[0m\u001b[0m\n\u001b[0;32m   1680\u001b[0m             \u001b[1;32mreturn\u001b[0m \u001b[0mself\u001b[0m\u001b[1;33m.\u001b[0m\u001b[0m_getitem_frame\u001b[0m\u001b[1;33m(\u001b[0m\u001b[0mkey\u001b[0m\u001b[1;33m)\u001b[0m\u001b[1;33m\u001b[0m\u001b[0m\n",
        "\u001b[1;32m/home/aloosley/anaconda/lib/python2.7/site-packages/pandas/core/frame.pyc\u001b[0m in \u001b[0;36m_getitem_array\u001b[1;34m(self, key)\u001b[0m\n\u001b[0;32m   1721\u001b[0m         \u001b[1;32melse\u001b[0m\u001b[1;33m:\u001b[0m\u001b[1;33m\u001b[0m\u001b[0m\n\u001b[0;32m   1722\u001b[0m             \u001b[0mindexer\u001b[0m \u001b[1;33m=\u001b[0m \u001b[0mself\u001b[0m\u001b[1;33m.\u001b[0m\u001b[0mix\u001b[0m\u001b[1;33m.\u001b[0m\u001b[0m_convert_to_indexer\u001b[0m\u001b[1;33m(\u001b[0m\u001b[0mkey\u001b[0m\u001b[1;33m,\u001b[0m \u001b[0maxis\u001b[0m\u001b[1;33m=\u001b[0m\u001b[1;36m1\u001b[0m\u001b[1;33m)\u001b[0m\u001b[1;33m\u001b[0m\u001b[0m\n\u001b[1;32m-> 1723\u001b[1;33m             \u001b[1;32mreturn\u001b[0m \u001b[0mself\u001b[0m\u001b[1;33m.\u001b[0m\u001b[0mtake\u001b[0m\u001b[1;33m(\u001b[0m\u001b[0mindexer\u001b[0m\u001b[1;33m,\u001b[0m \u001b[0maxis\u001b[0m\u001b[1;33m=\u001b[0m\u001b[1;36m1\u001b[0m\u001b[1;33m,\u001b[0m \u001b[0mconvert\u001b[0m\u001b[1;33m=\u001b[0m\u001b[0mTrue\u001b[0m\u001b[1;33m)\u001b[0m\u001b[1;33m\u001b[0m\u001b[0m\n\u001b[0m\u001b[0;32m   1724\u001b[0m \u001b[1;33m\u001b[0m\u001b[0m\n\u001b[0;32m   1725\u001b[0m     \u001b[1;32mdef\u001b[0m \u001b[0m_getitem_multilevel\u001b[0m\u001b[1;33m(\u001b[0m\u001b[0mself\u001b[0m\u001b[1;33m,\u001b[0m \u001b[0mkey\u001b[0m\u001b[1;33m)\u001b[0m\u001b[1;33m:\u001b[0m\u001b[1;33m\u001b[0m\u001b[0m\n",
        "\u001b[1;32m/home/aloosley/anaconda/lib/python2.7/site-packages/pandas/core/generic.pyc\u001b[0m in \u001b[0;36mtake\u001b[1;34m(self, indices, axis, convert, is_copy)\u001b[0m\n\u001b[0;32m   1233\u001b[0m         new_data = self._data.take(indices,\n\u001b[0;32m   1234\u001b[0m                                    \u001b[0maxis\u001b[0m\u001b[1;33m=\u001b[0m\u001b[0mself\u001b[0m\u001b[1;33m.\u001b[0m\u001b[0m_get_block_manager_axis\u001b[0m\u001b[1;33m(\u001b[0m\u001b[0maxis\u001b[0m\u001b[1;33m)\u001b[0m\u001b[1;33m,\u001b[0m\u001b[1;33m\u001b[0m\u001b[0m\n\u001b[1;32m-> 1235\u001b[1;33m                                    convert=True, verify=True)\n\u001b[0m\u001b[0;32m   1236\u001b[0m         \u001b[0mresult\u001b[0m \u001b[1;33m=\u001b[0m \u001b[0mself\u001b[0m\u001b[1;33m.\u001b[0m\u001b[0m_constructor\u001b[0m\u001b[1;33m(\u001b[0m\u001b[0mnew_data\u001b[0m\u001b[1;33m)\u001b[0m\u001b[1;33m.\u001b[0m\u001b[0m__finalize__\u001b[0m\u001b[1;33m(\u001b[0m\u001b[0mself\u001b[0m\u001b[1;33m)\u001b[0m\u001b[1;33m\u001b[0m\u001b[0m\n\u001b[0;32m   1237\u001b[0m \u001b[1;33m\u001b[0m\u001b[0m\n",
        "\u001b[1;32m/home/aloosley/anaconda/lib/python2.7/site-packages/pandas/core/internals.pyc\u001b[0m in \u001b[0;36mtake\u001b[1;34m(self, indexer, axis, verify, convert)\u001b[0m\n\u001b[0;32m   2923\u001b[0m         \u001b[0mn\u001b[0m \u001b[1;33m=\u001b[0m \u001b[0mself\u001b[0m\u001b[1;33m.\u001b[0m\u001b[0mshape\u001b[0m\u001b[1;33m[\u001b[0m\u001b[0maxis\u001b[0m\u001b[1;33m]\u001b[0m\u001b[1;33m\u001b[0m\u001b[0m\n\u001b[0;32m   2924\u001b[0m         \u001b[1;32mif\u001b[0m \u001b[0mconvert\u001b[0m\u001b[1;33m:\u001b[0m\u001b[1;33m\u001b[0m\u001b[0m\n\u001b[1;32m-> 2925\u001b[1;33m             \u001b[0mindexer\u001b[0m \u001b[1;33m=\u001b[0m \u001b[0m_maybe_convert_indices\u001b[0m\u001b[1;33m(\u001b[0m\u001b[0mindexer\u001b[0m\u001b[1;33m,\u001b[0m \u001b[0mn\u001b[0m\u001b[1;33m)\u001b[0m\u001b[1;33m\u001b[0m\u001b[0m\n\u001b[0m\u001b[0;32m   2926\u001b[0m \u001b[1;33m\u001b[0m\u001b[0m\n\u001b[0;32m   2927\u001b[0m         \u001b[1;32mif\u001b[0m \u001b[0mverify\u001b[0m\u001b[1;33m:\u001b[0m\u001b[1;33m\u001b[0m\u001b[0m\n",
        "\u001b[1;32m/home/aloosley/anaconda/lib/python2.7/site-packages/pandas/core/indexing.pyc\u001b[0m in \u001b[0;36m_maybe_convert_indices\u001b[1;34m(indices, n)\u001b[0m\n\u001b[0;32m   1601\u001b[0m     \u001b[0mmask\u001b[0m \u001b[1;33m=\u001b[0m \u001b[1;33m(\u001b[0m\u001b[0mindices\u001b[0m \u001b[1;33m>=\u001b[0m \u001b[0mn\u001b[0m\u001b[1;33m)\u001b[0m \u001b[1;33m|\u001b[0m \u001b[1;33m(\u001b[0m\u001b[0mindices\u001b[0m \u001b[1;33m<\u001b[0m \u001b[1;36m0\u001b[0m\u001b[1;33m)\u001b[0m\u001b[1;33m\u001b[0m\u001b[0m\n\u001b[0;32m   1602\u001b[0m     \u001b[1;32mif\u001b[0m \u001b[0mmask\u001b[0m\u001b[1;33m.\u001b[0m\u001b[0many\u001b[0m\u001b[1;33m(\u001b[0m\u001b[1;33m)\u001b[0m\u001b[1;33m:\u001b[0m\u001b[1;33m\u001b[0m\u001b[0m\n\u001b[1;32m-> 1603\u001b[1;33m         \u001b[1;32mraise\u001b[0m \u001b[0mIndexError\u001b[0m\u001b[1;33m(\u001b[0m\u001b[1;34m\"indices are out-of-bounds\"\u001b[0m\u001b[1;33m)\u001b[0m\u001b[1;33m\u001b[0m\u001b[0m\n\u001b[0m\u001b[0;32m   1604\u001b[0m     \u001b[1;32mreturn\u001b[0m \u001b[0mindices\u001b[0m\u001b[1;33m\u001b[0m\u001b[0m\n\u001b[0;32m   1605\u001b[0m \u001b[1;33m\u001b[0m\u001b[0m\n",
        "\u001b[1;31mIndexError\u001b[0m: indices are out-of-bounds"
       ]
      }
     ],
     "prompt_number": 44
    },
    {
     "cell_type": "code",
     "collapsed": false,
     "input": [
      "coefs.mean(0)"
     ],
     "language": "python",
     "metadata": {},
     "outputs": [
      {
       "metadata": {},
       "output_type": "pyout",
       "prompt_number": 19,
       "text": [
        "array([  -1182.97371031,  -42659.54498688,    1053.52299148,\n",
        "        410692.22001833])"
       ]
      }
     ],
     "prompt_number": 19
    },
    {
     "cell_type": "code",
     "collapsed": false,
     "input": [
      "coefs.std(0)"
     ],
     "language": "python",
     "metadata": {},
     "outputs": [
      {
       "metadata": {},
       "output_type": "pyout",
       "prompt_number": 34,
       "text": [
        "array([    88.19192535,   1199.90882848,    190.71206328,  13152.14846554])"
       ]
      }
     ],
     "prompt_number": 34
    },
    {
     "cell_type": "code",
     "collapsed": false,
     "input": [
      "gPricePredictionTemp = fitfunc_vec_self(X_all,coefs.mean(0)[0],coefs.mean(0)[1],coefs.mean(0)[2],coefs.mean(0)[3])\n",
      "gResidualsTemp = np.array( y_all - gPricePredictionTemp )\n",
      "indices = [int(idx) for idx in X_all.index]"
     ],
     "language": "python",
     "metadata": {},
     "outputs": [],
     "prompt_number": 36
    },
    {
     "cell_type": "code",
     "collapsed": false,
     "input": [
      "plt.plot(gResidualsTemp)"
     ],
     "language": "python",
     "metadata": {},
     "outputs": [
      {
       "metadata": {},
       "output_type": "pyout",
       "prompt_number": 37,
       "text": [
        "[<matplotlib.lines.Line2D at 0x7f0353cc17d0>]"
       ]
      },
      {
       "metadata": {},
       "output_type": "display_data",
       "png": "[encoded data removed]",
       "text": [
        "<matplotlib.figure.Figure at 0x7f03601c5990>"
       ]
      }
     ],
     "prompt_number": 37
    },
    {
     "cell_type": "code",
     "collapsed": false,
     "input": [
      "score_nonLin_fitPiecewise = 1-np.mean(gResidualsTemp**2)/y_all.var()\n",
      "score_nonLin_fitPiecewise\n",
      "models = ['Lin. Reg.','Filtered Lin. Reg.','Piecewise Lin. Reg.']\n",
      "Rscores = [score5,score_nonLin,score_nonLin_fitPiecewise]\n",
      "width = .6\n",
      "\n",
      "axis_font = {'fontname':'Arial', 'size':'14'}\n",
      "plt.bar(arange(len(Rscores)),Rscores, width=width)\n",
      "plt.xticks(arange(len(Rscores))+width/2, models, **axis_font)\n",
      "plt.ylabel('R squared', **axis_font)\n",
      "plt.xlim([0,2.5])\n",
      "plt.yticks(**axis_font)"
     ],
     "language": "python",
     "metadata": {},
     "outputs": [
      {
       "metadata": {},
       "output_type": "pyout",
       "prompt_number": 85,
       "text": [
        "(array([ 0. ,  0.1,  0.2,  0.3,  0.4,  0.5,  0.6,  0.7]),\n",
        " <a list of 8 Text yticklabel objects>)"
       ]
      },
      {
       "metadata": {},
       "output_type": "display_data",
       "png": "[encoded data removed]",
       "text": [
        "<matplotlib.figure.Figure at 0x7f03532a3d10>"
       ]
      }
     ],
     "prompt_number": 85
    },
    {
     "cell_type": "code",
     "collapsed": false,
     "input": [
      "# Investigating relateive errors\n",
      "y_all.std(), ((1-score_nonLin_fitPiecewise)*y_all.var())**(0.5)"
     ],
     "language": "python",
     "metadata": {},
     "outputs": [
      {
       "metadata": {},
       "output_type": "pyout",
       "prompt_number": 92,
       "text": [
        "(137851.57177340577, 89108.042126060958)"
       ]
      }
     ],
     "prompt_number": 92
    },
    {
     "cell_type": "code",
     "collapsed": false,
     "input": [
      "gPricePredictionTemp[gPricePredictionTemp<1] = 1\n",
      "\n",
      "gPricePrediction = zeros([1200,1])\n",
      "gResiduals = gPricePrediction.copy()\n",
      "idxCount = 0\n",
      "for idx in indices:\n",
      "    gResiduals[idx-1] = gResidualsTemp[idxCount]\n",
      "    gPricePrediction[idx-1] = gPricePredictionTemp[idxCount]\n",
      "    idxCount += 1\n"
     ],
     "language": "python",
     "metadata": {},
     "outputs": [],
     "prompt_number": 271
    },
    {
     "cell_type": "code",
     "collapsed": false,
     "input": [
      "import sys\n",
      "import colour\n",
      "from matplotlib import colors\n",
      "\n",
      "def GetGridColors(gData,cLimLow,cLimHigh):\n",
      "    highCrimeColorIdx = 255\n",
      "    colormap = matplotlib.cm.jet(arange(highCrimeColorIdx))*255.\n",
      "\n",
      "    def rgb_to_hex(rgb):\n",
      "        return '#%02x%02x%02x' % (rgb[0],rgb[1],rgb[2])\n",
      "\n",
      "    colormap_hex = []\n",
      "    for idx, color in enumerate(colormap):\n",
      "        colormap_hex.append(rgb_to_hex(color))\n",
      "\n",
      "    crColors = []\n",
      " \n",
      "    for dataVal in gData:\n",
      "        colorIdx = int(floor((highCrimeColorIdx-1)*(dataVal-cLimLow)/(cLimHigh-cLimLow)))\n",
      "        #print colorIdx\n",
      "        #print crimePer\n",
      "        if colorIdx < 0:\n",
      "            crColors.append(colormap_hex[0])\n",
      "        elif colorIdx > highCrimeColorIdx-1:\n",
      "            crColors.append(colormap_hex[-1])\n",
      "        else:\n",
      "            crColors.append(colormap_hex[colorIdx])\n",
      "        if dataVal == 0:\n",
      "            crColors[-1] = '#000000'\n",
      "\n",
      "    def horzPrintList(l):\n",
      "        sys.stdout.write('[')\n",
      "        for st in l:\n",
      "            sys.stdout.write(\"'\")\n",
      "            sys.stdout.write(st)\n",
      "            sys.stdout.write(\"'\")\n",
      "            sys.stdout.write(',')\n",
      "        sys.stdout.write(']')\n",
      "\n",
      "    #colormap_hex[250:265]\n",
      "    print len(crColors)\n",
      "    horzPrintList(crColors)\n",
      "    \n",
      "def horzPrintArray(a):\n",
      "    print len(a)\n",
      "    sys.stdout.write('[')\n",
      "    for num in a:\n",
      "        sys.stdout.write(str(num))\n",
      "        sys.stdout.write(',')\n",
      "    sys.stdout.write(']')"
     ],
     "language": "python",
     "metadata": {},
     "outputs": [],
     "prompt_number": 272
    },
    {
     "cell_type": "code",
     "collapsed": false,
     "input": [
      "horzPrintArray(gResiduals.squeeze(1))"
     ],
     "language": "python",
     "metadata": {},
     "outputs": [
      {
       "output_type": "stream",
       "stream": "stdout",
       "text": [
        "1200\n",
        "[0.0,0.0,0.0,0.0,0.0,0.0,0.0,0.0,0.0,0.0,0.0,0.0,0.0,0.0,0.0,0.0,0.0,0.0,0.0,0.0,0.0,0.0,0.0,0.0,0.0,0.0,0.0,0.0,0.0,0.0,0.0,0.0,0.0,0.0,0.0,0.0,0.0,0.0,0.0,0.0,0.0,0.0,0.0,0.0,0.0,0.0,0.0,0.0,0.0,0.0,0.0,0.0,0.0,0.0,0.0,0.0,0.0,0.0,0.0,0.0,0.0,0.0,0.0,0.0,0.0,0.0,0.0,0.0,0.0,0.0,0.0,0.0,0.0,0.0,0.0,0.0,0.0,0.0,0.0,0.0,0.0,0.0,0.0,0.0,0.0,0.0,0.0,0.0,0.0,0.0,0.0,0.0,0.0,0.0,0.0,0.0,0.0,0.0,0.0,0.0,0.0,0.0,0.0,0.0,0.0,0.0,0.0,0.0,0.0,0.0,0.0,0.0,0.0,0.0,0.0,0.0,0.0,0.0,0.0,0.0,0.0,0.0,0.0,0.0,0.0,0.0,0.0,0.0,0.0,0.0,0.0,0.0,0.0,0.0,0.0,0.0,0.0,0.0,0.0,0.0,0.0,0.0,0.0,0.0,0.0,0.0,0.0,0.0,0.0,0.0,0.0,0.0,0.0,0.0,28275.98006,0.0,0.0,0.0,0.0,0.0,0.0,0.0,0.0,0.0,0.0,0.0,0.0,0.0,0.0,0.0,0.0,0.0,0.0,0.0,0.0,0.0,0.0,0.0,0.0,0.0,0.0,0.0,0.0,0.0,0.0,0.0,0.0,0.0,0.0,0.0,0.0,-7562.97581716,0.0,0.0,0.0,0.0,0.0,0.0,0.0,0.0,0.0,0.0,0.0,0.0,0.0,0.0,0.0,0.0,0.0,0.0,0.0,0.0,0.0,0.0,0.0,0.0,0.0,0.0,0.0,0.0,0.0,0.0,0.0,0.0,0.0,0.0,0.0,0.0,0.0,0.0,3306.47451264,104025.628466,40726.1866307,0.0,93114.6958338,55736.8210546,0.0,0.0,0.0,0.0,0.0,0.0,0.0,0.0,0.0,0.0,0.0,0.0,0.0,0.0,0.0,0.0,0.0,0.0,0.0,0.0,0.0,0.0,0.0,0.0,0.0,0.0,0.0,0.0,0.0,0.0,0.0,0.0,0.0,37212.862055,11861.0239003,-6346.77142016,86341.5937886,0.0,-8338.34102597,-57239.549215,28532.4220613,8669.60462722,0.0,0.0,0.0,0.0,0.0,0.0,0.0,0.0,0.0,0.0,0.0,0.0,0.0,0.0,0.0,0.0,-20043.0237502,0.0,0.0,0.0,0.0,0.0,0.0,0.0,0.0,0.0,0.0,0.0,0.0,52179.8974271,-39943.2127299,-45600.2772237,51004.3247186,0.0,-5307.55765127,0.0,-15760.6859407,64363.2713195,8735.62568978,0.0,0.0,0.0,0.0,0.0,0.0,0.0,0.0,0.0,0.0,0.0,0.0,0.0,0.0,0.0,0.0,0.0,-55681.5671001,0.0,0.0,0.0,0.0,0.0,0.0,0.0,0.0,0.0,0.0,0.0,0.0,13199.5503574,32954.3459604,33416.2736834,51111.325925,17831.1860765,47804.7010222,0.0,0.0,21586.8403306,0.0,0.0,0.0,0.0,0.0,0.0,0.0,0.0,0.0,0.0,0.0,0.0,0.0,0.0,0.0,0.0,0.0,-18553.9554462,-37100.2772237,0.0,7879.3204142,0.0,0.0,0.0,0.0,0.0,0.0,-94737.4700985,-74456.8359963,-54181.8266366,0.0,-53106.2954863,-63836.8987185,0.0,22984.9634066,-35063.825767,347.337917268,11808.7227763,0.0,0.0,0.0,0.0,0.0,0.0,0.0,0.0,0.0,0.0,0.0,0.0,0.0,0.0,0.0,0.0,0.0,0.0,0.0,0.0,0.0,0.0,0.0,0.0,0.0,0.0,0.0,0.0,0.0,0.0,0.0,-50394.692978,0.0,0.0,29122.9928112,-62650.5237082,-41672.878517,0.0,-17811.9120149,39354.4824299,-19115.3634716,0.0,0.0,0.0,0.0,0.0,0.0,0.0,0.0,0.0,0.0,0.0,0.0,0.0,0.0,0.0,0.0,0.0,0.0,38944.0543589,0.0,0.0,0.0,0.0,0.0,0.0,0.0,0.0,0.0,0.0,-87140.7112146,0.0,0.0,0.0,0.0,0.0,-38068.2182135,28824.4970419,46302.2183493,64528.2635045,0.0,0.0,0.0,0.0,0.0,0.0,0.0,0.0,0.0,0.0,0.0,0.0,0.0,0.0,0.0,0.0,0.0,0.0,0.0,0.0,61249.0218935,-45847.1590746,0.0,0.0,0.0,0.0,0.0,0.0,0.0,0.0,-18879.8998936,0.0,-123406.0738,0.0,-149523.722596,0.0,21501.3771888,110422.056172,-10052.6817174,9744.75573095,74242.8198628,0.0,0.0,0.0,0.0,0.0,0.0,0.0,0.0,0.0,0.0,-66303.7286805,0.0,0.0,0.0,0.0,0.0,-6777.36468098,-50777.5069107,-77231.6214469,0.0,8013.21331133,0.0,0.0,0.0,0.0,0.0,0.0,-131879.614751,-126482.077689,-62397.1895523,0.0,0.0,-146015.294527,-92325.1460762,15045.6206487,-32238.8357485,56668.9301428,30347.373083,-6648.98465794,-30480.8148483,63054.0350984,-12369.244631,0.0,0.0,0.0,0.0,0.0,0.0,0.0,0.0,66725.3358134,0.0,0.0,0.0,0.0,45263.5829501,0.0,0.0,0.0,0.0,-74264.8966366,12482.318798,0.0,0.0,0.0,0.0,0.0,-101255.036015,-115421.767963,-129980.275361,-110500.918225,0.0,-75077.3058936,62549.1961258,56822.0365509,57380.3894915,-13795.8617346,-15183.7908662,179.80485661,-6209.28599068,-4872.75512382,15390.3371778,-1627.28806228,-13419.924186,0.0,0.0,0.0,0.0,0.0,0.0,0.0,0.0,0.0,0.0,0.0,-39273.0531274,0.0,0.0,0.0,-3132.88403157,0.0,0.0,0.0,67497.9009215,0.0,0.0,0.0,0.0,-93322.1241279,-196918.037685,-131196.540548,41569.4288993,1664.53283545,69496.7098634,78144.2094567,63741.6911667,50083.1142895,40024.833548,76933.0273249,25265.5715846,3689.45167587,2580.63652836,-21814.5671001,-19831.6267975,0.0,0.0,0.0,0.0,0.0,0.0,67109.5184563,0.0,0.0,0.0,0.0,0.0,0.0,0.0,0.0,0.0,0.0,0.0,0.0,-86758.7991626,5364.91480003,-81549.8984784,-52531.1632861,0.0,-97221.0508157,-130808.270268,8089.50041494,57397.3646858,137519.524361,122869.896815,142628.032598,124447.857893,155107.137083,185444.219074,102621.805629,87735.8300056,-9388.96985119,-34614.0084099,-11964.1373975,-5104.8559629,0.0,0.0,0.0,0.0,0.0,0.0,-13175.5604759,-68917.6644428,0.0,0.0,0.0,0.0,-33860.8165163,0.0,0.0,0.0,0.0,0.0,0.0,0.0,0.0,0.0,-94137.3782469,-23614.5839051,7199.91083952,-115203.212965,7886.85292837,104015.937973,140715.123549,156456.318593,213746.447634,197620.320936,171924.72154,153134.753985,105069.698477,138108.761521,161970.273952,15020.1711338,18577.6086958,29076.38671,9387.36555066,0.0,0.0,0.0,0.0,0.0,0.0,2913.70102218,0.0,0.0,0.0,0.0,0.0,0.0,-28697.0591572,0.0,0.0,0.0,0.0,0.0,0.0,110380.703441,0.0,-107788.887279,100266.807915,194198.54348,8675.13194764,70501.8892174,80766.8214907,259408.726692,256208.093153,240550.820201,178593.788495,190501.273242,73915.7459899,155213.339212,85404.0982909,48117.075638,0.0,69173.4781255,0.0,0.0,0.0,0.0,0.0,0.0,14676.7531725,0.0,0.0,0.0,0.0,0.0,0.0,0.0,0.0,0.0,0.0,0.0,0.0,0.0,-78111.6037553,15996.1780195,0.0,-4518.63329567,37314.59561,39639.6059734,0.0,76614.995138,163836.636726,230544.440097,150523.726296,184870.181565,75865.8073633,-3165.1464284,34849.8943418,0.0,0.0,0.0,0.0,0.0,0.0,0.0,0.0,0.0,0.0,0.0,0.0,0.0,0.0,0.0,0.0,0.0,-31652.4194124,0.0,0.0,0.0,0.0,0.0,-24004.214,-158657.115509,105383.376054,17702.7823455,-68688.0262288,68047.6101894,0.0,0.0,0.0,115911.413447,42106.076897,199960.021447,36934.17636,50871.4795504,67528.8798892,0.0,0.0,0.0,0.0,0.0,0.0,0.0,0.0,0.0,0.0,0.0,0.0,0.0,0.0,0.0,0.0,0.0,-59624.6822568,0.0,0.0,0.0,0.0,-79882.5160869,-47486.4414325,-72170.1737807,-103048.599762,12190.5958583,-49145.2332875,-185013.220151,-40525.1057778,85982.555918,-11061.4881082,44739.0292763,49299.2223763,208703.681432,210471.367952,0.0,0.0,0.0,0.0,0.0,0.0,0.0,0.0,0.0,0.0,0.0,0.0,0.0,0.0,0.0,0.0,0.0,3200.78333242,0.0,0.0,-70240.8744594,-80815.823284,8822.30983877,0.0,0.0,107378.800287,-9586.3475157,-101017.697578,-35198.1833505,-4452.73144006,-41519.5196466,-48156.8652006,0.0,0.0,0.0,0.0,0.0,100603.648696,405155.372342,0.0,0.0,0.0,0.0,0.0,0.0,0.0,0.0,0.0,0.0,0.0,0.0,0.0,0.0,0.0,0.0,0.0,0.0,0.0,0.0,0.0,6890.98288114,-46427.1344051,12182.1232415,142982.871178,0.0,-11815.620763,2981.52648873,243750.861968,35592.1057895,9676.48959327,-24534.5632769,0.0,0.0,0.0,0.0,0.0,0.0,0.0,0.0,0.0,0.0,0.0,0.0,0.0,0.0,0.0,0.0,0.0,0.0,0.0,0.0,0.0,0.0,0.0,0.0,0.0,0.0,0.0,0.0,0.0,0.0,0.0,0.0,-38977.190507,-7845.92437477,-10000.7893813,-23740.6146559,108780.860324,115912.738136,0.0,0.0,0.0,0.0,0.0,0.0,0.0,0.0,0.0,0.0,0.0,0.0,0.0,0.0,0.0,0.0,0.0,0.0,0.0,0.0,0.0,0.0,0.0,0.0,0.0,0.0,0.0,0.0,0.0,0.0,0.0,-56027.5399779,0.0,0.0,-15426.2468075,-38383.0956207,8059.18285875,0.0,0.0,0.0,0.0,0.0,0.0,0.0,0.0,0.0,0.0,0.0,0.0,0.0,0.0,0.0,0.0,0.0,0.0,0.0,0.0,0.0,0.0,0.0,0.0,0.0,0.0,0.0,0.0,0.0,0.0,0.0,0.0,28105.3848569,202709.663702,16086.8952721,0.0,0.0,8373.29338011,-24635.6321515,0.0,0.0,0.0,0.0,0.0,0.0,0.0,0.0,0.0,0.0,0.0,0.0,0.0,0.0,0.0,0.0,0.0,0.0,0.0,0.0,0.0,0.0,0.0,0.0,0.0,0.0,0.0,0.0,0.0,0.0,0.0,0.0,0.0,0.0,0.0,0.0,0.0,0.0,-55993.5537815,0.0,0.0,0.0,0.0,0.0,0.0,0.0,0.0,0.0,0.0,0.0,0.0,0.0,0.0,0.0,0.0,0.0,0.0,0.0,0.0,0.0,0.0,0.0,0.0,0.0,0.0,0.0,0.0,0.0,0.0,0.0,0.0,0.0,0.0,0.0,0.0,0.0,0.0,0.0,0.0,0.0,0.0,0.0,0.0,0.0,0.0,0.0,0.0,0.0,0.0,0.0,0.0,0.0,0.0,0.0,0.0,0.0,0.0,0.0,0.0,0.0,0.0,0.0,0.0,0.0,0.0,0.0,0.0,0.0,0.0,0.0,0.0,0.0,0.0,0.0,0.0,0.0,0.0,0.0,0.0,0.0,0.0,0.0,0.0,0.0,0.0,0.0,0.0,0.0,0.0,0.0,0.0,0.0,0.0,0.0,0.0,0.0,0.0,0.0,0.0,0.0,0.0,0.0,0.0,0.0,0.0,0.0,0.0,]"
       ]
      }
     ],
     "prompt_number": 251
    },
    {
     "cell_type": "code",
     "collapsed": false,
     "input": [
      "GetGridColors(gPricePrediction,50000,450000)"
     ],
     "language": "python",
     "metadata": {},
     "outputs": [
      {
       "output_type": "stream",
       "stream": "stdout",
       "text": [
        "1200\n",
        "['#000000','#000000','#000000','#000000','#000000','#000000','#000000','#000000','#000000','#000000','#000000','#000000','#000000','#000000','#000000','#000000','#000000','#000000','#000000','#000000','#000000','#000000','#000000','#000000','#000000','#000000','#000000','#000000','#000000','#000000','#000000','#000000','#000000','#000000','#000000','#000000','#000000','#000000','#000000','#000000','#000000','#000000','#000000','#000000','#000000','#000000','#000000','#000000','#000000','#000000','#000000','#000000','#000000','#000000','#000000','#000000','#000000','#000000','#000000','#000000','#000000','#000000','#000000','#000000','#000000','#000000','#000000','#000000','#000000','#000000','#000000','#000000','#000000','#000000','#000000','#000000','#000000','#000000','#000000','#000000','#000000','#000000','#000000','#000000','#000000','#000000','#000000','#000000','#000000','#000000','#000000','#000000','#000000','#000000','#000000','#000000','#000000','#000000','#000000','#000000','#000000','#000000','#000000','#000000','#000000','#000000','#000000','#000000','#000000','#000000','#000000','#000000','#000000','#000000','#000000','#000000','#000000','#000000','#000000','#000000','#000000','#000000','#000000','#000000','#000000','#000000','#000000','#000000','#000000','#000000','#000000','#000000','#000000','#000000','#000000','#000000','#000000','#000000','#000000','#000000','#000000','#000000','#000000','#000000','#000000','#000000','#000000','#000000','#000000','#000000','#000000','#000000','#000000','#000000','#0000f1','#000000','#000000','#000000','#000000','#000000','#000000','#000000','#000000','#000000','#000000','#000000','#000000','#000000','#000000','#000000','#000000','#000000','#000000','#000000','#000000','#000000','#000000','#000000','#000000','#000000','#000000','#000000','#000000','#000000','#000000','#000000','#000000','#000000','#000000','#000000','#000000','#0078ff','#000000','#000000','#000000','#000000','#000000','#000000','#000000','#000000','#000000','#000000','#000000','#000000','#000000','#000000','#000000','#000000','#000000','#000000','#000000','#000000','#000000','#000000','#000000','#000000','#000000','#000000','#000000','#000000','#000000','#000000','#000000','#000000','#000000','#000000','#000000','#000000','#000000','#000000','#0000da','#0000c3','#0000f5','#000000','#0000d5','#0000ff','#000000','#000000','#000000','#000000','#000000','#000000','#000000','#000000','#000000','#000000','#000000','#000000','#000000','#000000','#000000','#000000','#000000','#000000','#000000','#000000','#000000','#000000','#000000','#000000','#000000','#000000','#000000','#000000','#000000','#000000','#000000','#000000','#000000','#0020ff','#0004ff','#0068ff','#0048ff','#000000','#0098ff','#0070ff','#0060ff','#0060ff','#000000','#000000','#000000','#000000','#000000','#000000','#000000','#000000','#000000','#000000','#000000','#000000','#000000','#000000','#000000','#000000','#0054ff','#000000','#000000','#000000','#000000','#000000','#000000','#000000','#000000','#000000','#000000','#000000','#000000','#0000d1','#0040ff','#0044ff','#0028ff','#000000','#0024ff','#000000','#0040ff','#0054ff','#001cff','#000000','#000000','#000000','#000000','#000000','#000000','#000000','#000000','#000000','#000000','#000000','#000000','#000000','#000000','#000000','#000000','#000000','#0078ff','#000000','#000000','#000000','#000000','#000000','#000000','#000000','#000000','#000000','#000000','#000000','#000000','#0008ff','#0018ff','#0030ff','#0000de','#0000fa','#0030ff','#000000','#000000','#0004ff','#000000','#000000','#000000','#000000','#000000','#000000','#000000','#000000','#000000','#000000','#000000','#000000','#000000','#000000','#000000','#000000','#000000','#0000ec','#0044ff','#000000','#0000da','#000000','#000000','#000000','#000000','#000000','#000000','#0060ff','#000cff','#0004ff','#000000','#0000ff','#005cff','#000000','#0000ff','#0030ff','#0008ff','#0044ff','#000000','#000000','#000000','#000000','#000000','#000000','#000000','#000000','#000000','#000000','#000000','#000000','#000000','#000000','#000000','#000000','#000000','#000000','#000000','#000000','#000000','#000000','#000000','#000000','#000000','#000000','#000000','#000000','#000000','#000000','#000000','#00007f','#000000','#000000','#0088ff','#0060ff','#0050ff','#000000','#0020ff','#0034ff','#0034ff','#000000','#000000','#000000','#000000','#000000','#000000','#000000','#000000','#000000','#000000','#000000','#000000','#000000','#000000','#000000','#000000','#000000','#000000','#0004ff','#000000','#000000','#000000','#000000','#000000','#000000','#000000','#000000','#000000','#000000','#0000a8','#000000','#000000','#000000','#000000','#000000','#0004ff','#0060ff','#0024ff','#0040ff','#000000','#000000','#000000','#000000','#000000','#000000','#000000','#000000','#000000','#000000','#000000','#000000','#000000','#000000','#000000','#000000','#000000','#000000','#000000','#000000','#0000a3','#0024ff','#000000','#000000','#000000','#000000','#000000','#000000','#000000','#000000','#00007f','#000000','#29ffcd','#000000','#4cffaa','#000000','#00d4ff','#0094ff','#0088ff','#0044ff','#0068ff','#000000','#000000','#000000','#000000','#000000','#000000','#000000','#000000','#000000','#000000','#0054ff','#000000','#000000','#000000','#000000','#000000','#0000a3','#001cff','#0040ff','#000000','#0030ff','#000000','#000000','#000000','#000000','#000000','#000000','#0040ff','#0004ff','#00007f','#000000','#000000','#00b8ff','#15ffe1','#0084ff','#1fffd7','#00d4ff','#005cff','#0044ff','#0020ff','#0070ff','#006cff','#000000','#000000','#000000','#000000','#000000','#000000','#000000','#000000','#0054ff','#000000','#000000','#000000','#000000','#0030ff','#000000','#000000','#000000','#000000','#002cff','#0094ff','#000000','#000000','#000000','#000000','#000000','#0000ac','#1cffda','#00d8ff','#93ff63','#000000','#42ffb3','#15ffe1','#36ffc0','#00c4ff','#32ffc3','#00c0ff','#0088ff','#0074ff','#007cff','#0050ff','#002cff','#0038ff','#000000','#000000','#000000','#000000','#000000','#000000','#000000','#000000','#000000','#000000','#000000','#00009f','#000000','#000000','#000000','#00007f','#000000','#000000','#000000','#0ff8e7','#000000','#000000','#000000','#000000','#00007f','#edff08','#ffcb00','#caff2c','#86ff70','#b7ff3f','#b0ff46','#89ff6c','#70ff86','#1fffd7','#00d8ff','#007cff','#0060ff','#0034ff','#0078ff','#004cff','#000000','#000000','#000000','#000000','#000000','#000000','#0034ff','#000000','#000000','#000000','#000000','#000000','#000000','#000000','#000000','#000000','#000000','#000000','#000000','#66ff90','#56ffa0','#daff1c','#56ffa0','#000000','#e4ff12','#feed00','#ff6700','#edff08','#e4ff12','#edff08','#ddff18','#b7ff3f','#9aff5c','#59ff9d','#02e8f4','#0094ff','#007cff','#0050ff','#0054ff','#0028ff','#000000','#000000','#000000','#000000','#000000','#000000','#0000bf','#0040ff','#000000','#000000','#000000','#000000','#00007f','#000000','#000000','#000000','#000000','#000000','#000000','#000000','#000000','#000000','#d7ff1f','#ffe900','#ffcf00','#ff5100','#ff4600','#ff7600','#ffc800','#ffb500','#f7f400','#eaff0c','#a6ff4f','#4cffaa','#22ffd4','#00b4ff','#0050ff','#0048ff','#0000ff','#0000d1','#0000e8','#000000','#000000','#000000','#000000','#000000','#000000','#0030ff','#000000','#000000','#000000','#000000','#000000','#000000','#00007f','#000000','#000000','#000000','#000000','#000000','#000000','#faf000','#000000','#f1fc05','#ffc000','#e80000','#ff2c00','#ff9b00','#ff7e00','#ff9f00','#f1fc05','#adff49','#d7ff1f','#7cff79','#02e8f4','#0054ff','#0078ff','#0000ff','#000000','#0000e3','#000000','#000000','#000000','#000000','#000000','#000000','#00007f','#000000','#000000','#000000','#000000','#000000','#000000','#000000','#000000','#000000','#000000','#000000','#000000','#000000','#adff49','#c0ff36','#000000','#ff3700','#ff9b00','#ff3700','#000000','#ff7a00','#ff4600','#ff7600','#ff7e00','#d0ff25','#baff3c','#76ff80','#15ffe1','#000000','#000000','#000000','#000000','#000000','#000000','#000000','#000000','#000000','#000000','#000000','#000000','#000000','#000000','#000000','#000000','#000000','#00007f','#000000','#000000','#000000','#000000','#000000','#56ffa0','#22ffd4','#bdff39','#ffbd00','#ffa600','#ff3000','#000000','#000000','#000000','#fe1200','#ff3b00','#ff4600','#ffa300','#d7ff1f','#a0ff56','#000000','#000000','#000000','#000000','#000000','#000000','#000000','#000000','#000000','#000000','#000000','#000000','#000000','#000000','#000000','#000000','#000000','#0000b6','#000000','#000000','#000000','#000000','#0000ff','#0000e8','#32ffc3','#0cf4ea','#00007f','#69ff8d','#ddff18','#ff6700','#ff8900','#e80000','#840000','#ec0300','#f10700','#ff4d00','#000000','#000000','#000000','#000000','#000000','#000000','#000000','#000000','#000000','#000000','#000000','#000000','#000000','#000000','#000000','#000000','#000000','#00007f','#000000','#000000','#0000f5','#0010ff','#0000ba','#000000','#000000','#00007f','#00007f','#00a4ff','#0008ff','#0064ff','#000cff','#46ffb0','#000000','#000000','#000000','#000000','#000000','#fe1200','#ff3b00','#000000','#000000','#000000','#000000','#000000','#000000','#000000','#000000','#000000','#000000','#000000','#000000','#000000','#000000','#000000','#000000','#000000','#000000','#000000','#000000','#000000','#00007f','#00007f','#00007f','#00007f','#000000','#0000ff','#0058ff','#00a0ff','#05ecf1','#18ffdd','#89ff6c','#000000','#000000','#000000','#000000','#000000','#000000','#000000','#000000','#000000','#000000','#000000','#000000','#000000','#000000','#000000','#000000','#000000','#000000','#000000','#000000','#000000','#000000','#000000','#000000','#000000','#000000','#000000','#000000','#000000','#000000','#000000','#000000','#000088','#00007f','#00007f','#005cff','#00c0ff','#0000d1','#000000','#000000','#000000','#000000','#000000','#000000','#000000','#000000','#000000','#000000','#000000','#000000','#000000','#000000','#000000','#000000','#000000','#000000','#000000','#000000','#000000','#000000','#000000','#000000','#000000','#000000','#000000','#000000','#000000','#000000','#000000','#00007f','#000000','#000000','#00007f','#000084','#00007f','#000000','#000000','#000000','#000000','#000000','#000000','#000000','#000000','#000000','#000000','#000000','#000000','#000000','#000000','#000000','#000000','#000000','#000000','#000000','#000000','#000000','#000000','#000000','#000000','#000000','#000000','#000000','#000000','#000000','#000000','#000000','#000000','#00007f','#00007f','#00007f','#000000','#000000','#00007f','#00007f','#000000','#000000','#000000','#000000','#000000','#000000','#000000','#000000','#000000','#000000','#000000','#000000','#000000','#000000','#000000','#000000','#000000','#000000','#000000','#000000','#000000','#000000','#000000','#000000','#000000','#000000','#000000',"
       ]
      },
      {
       "output_type": "stream",
       "stream": "stdout",
       "text": [
        "'#000000','#000000','#000000','#000000','#000000','#000000','#000000','#000000','#000000','#000000','#000000','#000088','#000000','#000000','#000000','#000000','#000000','#000000','#000000','#000000','#000000','#000000','#000000','#000000','#000000','#000000','#000000','#000000','#000000','#000000','#000000','#000000','#000000','#000000','#000000','#000000','#000000','#000000','#000000','#000000','#000000','#000000','#000000','#000000','#000000','#000000','#000000','#000000','#000000','#000000','#000000','#000000','#000000','#000000','#000000','#000000','#000000','#000000','#000000','#000000','#000000','#000000','#000000','#000000','#000000','#000000','#000000','#000000','#000000','#000000','#000000','#000000','#000000','#000000','#000000','#000000','#000000','#000000','#000000','#000000','#000000','#000000','#000000','#000000','#000000','#000000','#000000','#000000','#000000','#000000','#000000','#000000','#000000','#000000','#000000','#000000','#000000','#000000','#000000','#000000','#000000','#000000','#000000','#000000','#000000','#000000','#000000','#000000','#000000','#000000','#000000','#000000','#000000','#000000','#000000','#000000','#000000','#000000','#000000','#000000',]"
       ]
      }
     ],
     "prompt_number": 275
    },
    {
     "cell_type": "code",
     "collapsed": false,
     "input": [
      "from sklearn import linear_model\n",
      "import statsmodels.formula.api as sm\n",
      "from sklearn.metrics import mean_squared_error\n",
      "from math import sqrt\n",
      "\n",
      "class linRegOutput(object):\n",
      "    def __init__(self, X_all, y_all, regInds):\n",
      "        self.X = X_all.ix[:,unique(regInds)]\n",
      "        self.y = y_all\n",
      "        \n",
      "        self.parmLabels = {'medInc2010':'$Inc', \n",
      "                          'walkScore':'% walkability',\n",
      "                          'tranScore':'% transit access',\n",
      "                          'bikeScore':'% bikability',\n",
      "                          'popDen2010':'person per sqmi',\n",
      "                          'HOM_TA2010_per':'homicides per 100,000 ppl',\n",
      "                          'BAT_TA2010_per':'batteries per 100,000 ppl',\n",
      "                          'BUR_TA2010_per':'burgleries per 100,000 ppl',\n",
      "                          'ROB_TA2010_per':'robberies per 100,000 ppl',\n",
      "                          'NAR_TA2010_per':'narcotics crimes per 100,000 ppl',\n",
      "                          'HOM_TA2010':'homicide',\n",
      "                          'BAT_TA2010':'battery',\n",
      "                          'BUR_TA2010':'burglery',\n",
      "                          'ROB_TA2010':'robbery',\n",
      "                          'NAR_TA2010':'narcotics crime',\n",
      "                          'intercept':''}\n",
      "\n",
      "    def fitSKlearn(self):\n",
      "        self.clf = linear_model.LinearRegression(fit_intercept = True)\n",
      "        self.clf.fit(self.X,self.y)\n",
      "        \n",
      "        self.paramsLi = [coef for coef in self.clf.coef_]\n",
      "        \n",
      "    def fitStatsModels(self):\n",
      "        X = self.X.copy()\n",
      "        X['intercept'] = np.ones(( len(self.X), )) # creates const data for intercept\n",
      "        self.X_const = X\n",
      "        self.clf2 = sm.OLS(self.y, self.X_const)\n",
      "        self.result = self.clf2.fit()\n",
      "        \n",
      "        \n",
      "        self.paramsLi = [self.result.params[k] for k in range(len(self.result.params))]\n",
      "        self.CIs = self.result.conf_int()\n",
      "        \n",
      "        \n",
      "    def printCoefs(self):\n",
      "        for idx, coef in enumerate(self.paramsLi):\n",
      "            try:\n",
      "                print self.X_const.columns[idx] + ': $' + str(round(coef,2)) + ' per ' + self.parmLabels[self.X.columns[idx]]\n",
      "            except:\n",
      "                print self.X_const.columns[idx] + ': $' + str(round(coef,2)) + ' '\n",
      "        if 'intercept' not in self.X_const.columns:\n",
      "            print 'intercept: $' + str(round(self.clf.intercept_))\n",
      "\n",
      "    \n",
      "    def get_df_summary(self):\n",
      "        coefsRet = pd.DataFrame(self.paramsLi, columns = ['Coefs'])\n",
      "        coefsRet['CI low'] = np.array(self.CIs[0])\n",
      "        coefsRet['CI high'] = np.array(self.CIs[1])\n",
      "        units = []\n",
      "        for k in range(len(coefsRet)):\n",
      "            if k < len(coefsRet)-1:\n",
      "                units.append('$ / ['+self.parmLabels[self.X.columns[k]]+']')\n",
      "            else:\n",
      "                units.append('$')\n",
      "        coefsRet['units'] = units\n",
      "        return coefsRet\n",
      "        \n",
      "    def plotScats(self):\n",
      "        for col in self.X:\n",
      "            plt.figure()\n",
      "            plt.plot(self.X[col], self.y, '.')\n",
      "            plt.xlabel(col)\n",
      "            plt.ylabel('Home Price ($)')\n",
      "            \n",
      "    def get_score(self):\n",
      "        try:\n",
      "            return self.result.rsquared_adj\n",
      "        except:\n",
      "            return nan   "
     ],
     "language": "python",
     "metadata": {},
     "outputs": [],
     "prompt_number": 44
    },
    {
     "cell_type": "code",
     "collapsed": false,
     "input": [
      "regInds = [2,10,4]\n",
      "X_all.columns[regInds]"
     ],
     "language": "python",
     "metadata": {},
     "outputs": [
      {
       "metadata": {},
       "output_type": "pyout",
       "prompt_number": 45,
       "text": [
        "Index([u'tranScore', u'HOM_TA2010_per', u'popDen2010'], dtype='object')"
       ]
      }
     ],
     "prompt_number": 45
    },
    {
     "cell_type": "code",
     "collapsed": false,
     "input": [
      "scores = []\n",
      "model1 = linRegOutput(X_all,y_all,regInds) # can run X.columns[regInds] to see parameters regressing over\n",
      "model1.fitStatsModels()\n",
      "model1Sum = model1.get_df_summary()\n",
      "scores.append(model1.get_score())\n",
      "print 'adjusted Rsq = '+ str(scores)\n",
      "model1Sum\n",
      "#model1.plotScats()\n",
      "#scores.append(model1.get_score())\n",
      "#scores"
     ],
     "language": "python",
     "metadata": {},
     "outputs": [
      {
       "output_type": "stream",
       "stream": "stdout",
       "text": [
        "adjusted Rsq = [0.56015956545241474]\n"
       ]
      },
      {
       "html": [
        "<div style=\"max-height:1000px;max-width:1500px;overflow:auto;\">\n",
        "<table border=\"1\" class=\"dataframe\">\n",
        "  <thead>\n",
        "    <tr style=\"text-align: right;\">\n",
        "      <th></th>\n",
        "      <th>Coefs</th>\n",
        "      <th>CI low</th>\n",
        "      <th>CI high</th>\n",
        "      <th>units</th>\n",
        "    </tr>\n",
        "  </thead>\n",
        "  <tbody>\n",
        "    <tr>\n",
        "      <th>0</th>\n",
        "      <td>   2633.464133</td>\n",
        "      <td>  1637.465658</td>\n",
        "      <td>   3629.462608</td>\n",
        "      <td>          $ / [% transit access]</td>\n",
        "    </tr>\n",
        "    <tr>\n",
        "      <th>1</th>\n",
        "      <td>     -0.385321</td>\n",
        "      <td>    -3.336910</td>\n",
        "      <td>      2.566268</td>\n",
        "      <td>           $ / [person per sqmi]</td>\n",
        "    </tr>\n",
        "    <tr>\n",
        "      <th>2</th>\n",
        "      <td>  -2163.355434</td>\n",
        "      <td> -3752.854485</td>\n",
        "      <td>   -573.856383</td>\n",
        "      <td> $ / [homicides per 100,000 ppl]</td>\n",
        "    </tr>\n",
        "    <tr>\n",
        "      <th>3</th>\n",
        "      <td> 109324.519552</td>\n",
        "      <td> 55720.902875</td>\n",
        "      <td> 162928.136230</td>\n",
        "      <td>                               $</td>\n",
        "    </tr>\n",
        "  </tbody>\n",
        "</table>\n",
        "</div>"
       ],
       "metadata": {},
       "output_type": "pyout",
       "prompt_number": 46,
       "text": [
        "           Coefs        CI low        CI high                            units\n",
        "0    2633.464133   1637.465658    3629.462608           $ / [% transit access]\n",
        "1      -0.385321     -3.336910       2.566268            $ / [person per sqmi]\n",
        "2   -2163.355434  -3752.854485    -573.856383  $ / [homicides per 100,000 ppl]\n",
        "3  109324.519552  55720.902875  162928.136230                                $"
       ]
      }
     ],
     "prompt_number": 46
    },
    {
     "cell_type": "code",
     "collapsed": false,
     "input": [
      "model1.plotScats()"
     ],
     "language": "python",
     "metadata": {},
     "outputs": [
      {
       "metadata": {},
       "output_type": "display_data",
       "png": "[encoded data removed]",
       "text": [
        "<matplotlib.figure.Figure at 0x7fc62aeac090>"
       ]
      },
      {
       "metadata": {},
       "output_type": "display_data",
       "png": "[encoded data removed]",
       "text": [
        "<matplotlib.figure.Figure at 0x7fc62ac06ed0>"
       ]
      },
      {
       "metadata": {},
       "output_type": "display_data",
       "png": "[encoded data removed]",
       "text": [
        "<matplotlib.figure.Figure at 0x7fc62ab946d0>"
       ]
      }
     ],
     "prompt_number": 47
    },
    {
     "cell_type": "markdown",
     "metadata": {},
     "source": [
      "Based on these plots, I'm disagree that housing price should decrease with increasing population density.\n",
      "\n",
      "## Maybe people only care about the absolute number of homocides, regardless of the community population\n",
      "\n",
      "I'll try this below now (but more likely, I will regress over even few parameters)"
     ]
    },
    {
     "cell_type": "code",
     "collapsed": false,
     "input": [
      "regInds = [2,5,4]\n",
      "X_all.columns[regInds]\n",
      "absHomiMdl = linRegOutput(X_all,y_all,regInds) # can run X.columns[regInds] to see parameters regressing over\n",
      "absHomiMdl.fitStatsModels()\n",
      "absHomiMdlSum = absHomiMdl.get_df_summary()\n",
      "scores.append(absHomiMdl.get_score())\n",
      "absHomiMdlSum"
     ],
     "language": "python",
     "metadata": {},
     "outputs": [
      {
       "html": [
        "<div style=\"max-height:1000px;max-width:1500px;overflow:auto;\">\n",
        "<table border=\"1\" class=\"dataframe\">\n",
        "  <thead>\n",
        "    <tr style=\"text-align: right;\">\n",
        "      <th></th>\n",
        "      <th>Coefs</th>\n",
        "      <th>CI low</th>\n",
        "      <th>CI high</th>\n",
        "      <th>units</th>\n",
        "    </tr>\n",
        "  </thead>\n",
        "  <tbody>\n",
        "    <tr>\n",
        "      <th>0</th>\n",
        "      <td>  2480.193868</td>\n",
        "      <td>  1409.497056</td>\n",
        "      <td>   3550.890681</td>\n",
        "      <td> $ / [% transit access]</td>\n",
        "    </tr>\n",
        "    <tr>\n",
        "      <th>1</th>\n",
        "      <td>     0.809325</td>\n",
        "      <td>    -2.230127</td>\n",
        "      <td>      3.848778</td>\n",
        "      <td>  $ / [person per sqmi]</td>\n",
        "    </tr>\n",
        "    <tr>\n",
        "      <th>2</th>\n",
        "      <td> -2456.057364</td>\n",
        "      <td> -6404.005244</td>\n",
        "      <td>   1491.890515</td>\n",
        "      <td>         $ / [homicide]</td>\n",
        "    </tr>\n",
        "    <tr>\n",
        "      <th>3</th>\n",
        "      <td> 83622.819182</td>\n",
        "      <td> 30503.257448</td>\n",
        "      <td> 136742.380916</td>\n",
        "      <td>                      $</td>\n",
        "    </tr>\n",
        "  </tbody>\n",
        "</table>\n",
        "</div>"
       ],
       "metadata": {},
       "output_type": "pyout",
       "prompt_number": 48,
       "text": [
        "          Coefs        CI low        CI high                   units\n",
        "0   2480.193868   1409.497056    3550.890681  $ / [% transit access]\n",
        "1      0.809325     -2.230127       3.848778   $ / [person per sqmi]\n",
        "2  -2456.057364  -6404.005244    1491.890515          $ / [homicide]\n",
        "3  83622.819182  30503.257448  136742.380916                       $"
       ]
      }
     ],
     "prompt_number": 48
    },
    {
     "cell_type": "code",
     "collapsed": false,
     "input": [
      "model1Sum"
     ],
     "language": "python",
     "metadata": {},
     "outputs": [
      {
       "html": [
        "<div style=\"max-height:1000px;max-width:1500px;overflow:auto;\">\n",
        "<table border=\"1\" class=\"dataframe\">\n",
        "  <thead>\n",
        "    <tr style=\"text-align: right;\">\n",
        "      <th></th>\n",
        "      <th>Coefs</th>\n",
        "      <th>CI low</th>\n",
        "      <th>CI high</th>\n",
        "      <th>units</th>\n",
        "    </tr>\n",
        "  </thead>\n",
        "  <tbody>\n",
        "    <tr>\n",
        "      <th>0</th>\n",
        "      <td>   2633.464133</td>\n",
        "      <td>  1637.465658</td>\n",
        "      <td>   3629.462608</td>\n",
        "      <td>          $ / [% transit access]</td>\n",
        "    </tr>\n",
        "    <tr>\n",
        "      <th>1</th>\n",
        "      <td>     -0.385321</td>\n",
        "      <td>    -3.336910</td>\n",
        "      <td>      2.566268</td>\n",
        "      <td>           $ / [person per sqmi]</td>\n",
        "    </tr>\n",
        "    <tr>\n",
        "      <th>2</th>\n",
        "      <td>  -2163.355434</td>\n",
        "      <td> -3752.854485</td>\n",
        "      <td>   -573.856383</td>\n",
        "      <td> $ / [homicides per 100,000 ppl]</td>\n",
        "    </tr>\n",
        "    <tr>\n",
        "      <th>3</th>\n",
        "      <td> 109324.519552</td>\n",
        "      <td> 55720.902875</td>\n",
        "      <td> 162928.136230</td>\n",
        "      <td>                               $</td>\n",
        "    </tr>\n",
        "  </tbody>\n",
        "</table>\n",
        "</div>"
       ],
       "metadata": {},
       "output_type": "pyout",
       "prompt_number": 49,
       "text": [
        "           Coefs        CI low        CI high                            units\n",
        "0    2633.464133   1637.465658    3629.462608           $ / [% transit access]\n",
        "1      -0.385321     -3.336910       2.566268            $ / [person per sqmi]\n",
        "2   -2163.355434  -3752.854485    -573.856383  $ / [homicides per 100,000 ppl]\n",
        "3  109324.519552  55720.902875  162928.136230                                $"
       ]
      }
     ],
     "prompt_number": 49
    },
    {
     "cell_type": "code",
     "collapsed": false,
     "input": [
      "plt.bar(np.arange(0.5,len(scores)-0.4),scores, width=0.5)\n",
      "plt.ylim([0,1])\n",
      "plt.xticks(np.arange(0.5,len(scores)-0.4),range(0,len(scores)))\n",
      "plt.xlabel('model #')\n",
      "plt.ylabel('adj R squared')"
     ],
     "language": "python",
     "metadata": {},
     "outputs": [
      {
       "metadata": {},
       "output_type": "pyout",
       "prompt_number": 50,
       "text": [
        "<matplotlib.text.Text at 0x7fc62aa46fd0>"
       ]
      },
      {
       "metadata": {},
       "output_type": "display_data",
       "png": "[encoded data removed]",
       "text": [
        "<matplotlib.figure.Figure at 0x7fc62aaff5d0>"
       ]
      }
     ],
     "prompt_number": 50
    },
    {
     "cell_type": "code",
     "collapsed": false,
     "input": [
      "absHomiMdl.plotScats()"
     ],
     "language": "python",
     "metadata": {},
     "outputs": [
      {
       "metadata": {},
       "output_type": "display_data",
       "png": "[encoded data removed]",
       "text": [
        "<matplotlib.figure.Figure at 0x7fc62aef6050>"
       ]
      },
      {
       "metadata": {},
       "output_type": "display_data",
       "png": "[encoded data removed]",
       "text": [
        "<matplotlib.figure.Figure at 0x7fc62aad2b50>"
       ]
      },
      {
       "metadata": {},
       "output_type": "display_data",
       "png": "[encoded data removed]",
       "text": [
        "<matplotlib.figure.Figure at 0x7fc62aba7f50>"
       ]
      }
     ],
     "prompt_number": 51
    },
    {
     "cell_type": "markdown",
     "metadata": {},
     "source": [
      "## Let's look at Burglery Rate and call it a day"
     ]
    },
    {
     "cell_type": "code",
     "collapsed": false,
     "input": [
      "regInds = [2,12,4]\n",
      "X_all.columns[regInds]\n",
      "burgRateMdl = linRegOutput(X_all,y_all,regInds) # can run X.columns[regInds] to see parameters regressing over\n",
      "burgRateMdl.fitStatsModels()\n",
      "burgRateMdlSum = burgRateMdl.get_df_summary()\n",
      "scores.append(burgRateMdl.get_score())\n",
      "burgRateMdlSum"
     ],
     "language": "python",
     "metadata": {},
     "outputs": [
      {
       "html": [
        "<div style=\"max-height:1000px;max-width:1500px;overflow:auto;\">\n",
        "<table border=\"1\" class=\"dataframe\">\n",
        "  <thead>\n",
        "    <tr style=\"text-align: right;\">\n",
        "      <th></th>\n",
        "      <th>Coefs</th>\n",
        "      <th>CI low</th>\n",
        "      <th>CI high</th>\n",
        "      <th>units</th>\n",
        "    </tr>\n",
        "  </thead>\n",
        "  <tbody>\n",
        "    <tr>\n",
        "      <th>0</th>\n",
        "      <td>   2526.043805</td>\n",
        "      <td>  1517.743074</td>\n",
        "      <td>   3534.344536</td>\n",
        "      <td>           $ / [% transit access]</td>\n",
        "    </tr>\n",
        "    <tr>\n",
        "      <th>1</th>\n",
        "      <td>      0.427348</td>\n",
        "      <td>    -2.458413</td>\n",
        "      <td>      3.313109</td>\n",
        "      <td>            $ / [person per sqmi]</td>\n",
        "    </tr>\n",
        "    <tr>\n",
        "      <th>2</th>\n",
        "      <td>    -44.871265</td>\n",
        "      <td>   -82.164277</td>\n",
        "      <td>     -7.578254</td>\n",
        "      <td> $ / [burgleries per 100,000 ppl]</td>\n",
        "    </tr>\n",
        "    <tr>\n",
        "      <th>3</th>\n",
        "      <td> 111461.311942</td>\n",
        "      <td> 54432.225069</td>\n",
        "      <td> 168490.398815</td>\n",
        "      <td>                                $</td>\n",
        "    </tr>\n",
        "  </tbody>\n",
        "</table>\n",
        "</div>"
       ],
       "metadata": {},
       "output_type": "pyout",
       "prompt_number": 52,
       "text": [
        "           Coefs        CI low        CI high  \\\n",
        "0    2526.043805   1517.743074    3534.344536   \n",
        "1       0.427348     -2.458413       3.313109   \n",
        "2     -44.871265    -82.164277      -7.578254   \n",
        "3  111461.311942  54432.225069  168490.398815   \n",
        "\n",
        "                              units  \n",
        "0            $ / [% transit access]  \n",
        "1             $ / [person per sqmi]  \n",
        "2  $ / [burgleries per 100,000 ppl]  \n",
        "3                                 $  "
       ]
      }
     ],
     "prompt_number": 52
    },
    {
     "cell_type": "code",
     "collapsed": false,
     "input": [
      "burgRateMdl.plotScats()"
     ],
     "language": "python",
     "metadata": {},
     "outputs": [
      {
       "metadata": {},
       "output_type": "display_data",
       "png": "[encoded data removed]",
       "text": [
        "<matplotlib.figure.Figure at 0x7fc62aee9950>"
       ]
      },
      {
       "metadata": {},
       "output_type": "display_data",
       "png": "[encoded data removed]",
       "text": [
        "<matplotlib.figure.Figure at 0x7fc62aba04d0>"
       ]
      },
      {
       "metadata": {},
       "output_type": "display_data",
       "png": "[encoded data removed]",
       "text": [
        "<matplotlib.figure.Figure at 0x7fc62aad2a10>"
       ]
      }
     ],
     "prompt_number": 53
    },
    {
     "cell_type": "markdown",
     "metadata": {},
     "source": [
      "* If neib population = 100,000, let burglery rate be, $b_{rate} = N_{burg}$/pop\n",
      "* If one loses \\$1000 per incident, then one's expectated yearly loss is $ \\$ 1000 \\cdot b_{rate} \\sim \\$ 0.50$/year $ \\ll \\$ 45$/year"
     ]
    },
    {
     "cell_type": "markdown",
     "metadata": {},
     "source": [
      "## Ignore Everything Below"
     ]
    },
    {
     "cell_type": "code",
     "collapsed": false,
     "input": [
      "\n",
      "\n",
      "# simple fitting min viable products (no grid search yet)\n",
      "\n",
      "def get_crimeRate_BASICdec(df, targetCol, **kwargs):\n",
      "    #minDP = kwargs['minDP'] if 'minDP' in kwargs else 20\n",
      "    \n",
      "    X = df.drop([targetCol],axis=1) # removes target col from df\n",
      "    y = df[targetCol] # pandas Series of targetCol data\n",
      "    \n",
      "    # Cross Neibourhood linear regression (basic)\n",
      "    cfl = linear_model.LinearRegression()\n",
      "    \n",
      "\n",
      "    cv =cross_validation.ShuffleSplit(len(y), n_iter=20, test_size=0.5) # splits datasets 20 ways, randomly? (bootstrap?)\n",
      "    def compute_error(clf, X, y):\n",
      "        return -cross_validation.cross_val_score(clf, X, y, cv=cv, scoring='mean_squared_error').mean()\n",
      "    def abs_corr(x, y):\n",
      "        return np.abs(stats.pearsonr(x, y)[0])\n",
      "    \n",
      "    model_performance = pd.DataFrame([\n",
      "        (\"Mean Model\", y.var()),\n",
      "        (\"Original Features, Pearson > .6\", compute_error(clf, X[[col for col in X.columns if abs_corr(X[col], y) > .6]], y)),\n",
      "        (\"Original Features, Pearson > .4\", compute_error(clf, X[[col for col in X.columns if abs_corr(X[col], y) > .4]], y)),], columns=[\"Model\", \"MSE\"])\n",
      "    model_performance.set_index(\"Model\")\n",
      "    model_performance.plot(x=\"Model\", y=\"MSE\", kind=\"Bar\")\n",
      "    \n",
      "    cfl.fit(X.drop)\n",
      "\n",
      "get_crime_rate_dec(df_noString, 'Pr2010')"
     ],
     "language": "python",
     "metadata": {},
     "outputs": [
      {
       "metadata": {},
       "output_type": "display_data",
       "png": "[encoded data removed]",
       "text": [
        "<matplotlib.figure.Figure at 0x7fd5182c6190>"
       ]
      }
     ],
     "prompt_number": 77
    },
    {
     "cell_type": "code",
     "collapsed": false,
     "input": [],
     "language": "python",
     "metadata": {},
     "outputs": []
    }
   ],
   "metadata": {}
  }
 ]
}