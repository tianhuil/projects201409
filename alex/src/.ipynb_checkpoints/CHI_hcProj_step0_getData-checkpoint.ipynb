{
 "metadata": {
  "name": "",
  "signature": "sha256:fd77c69acb7d69aa60cf154655e148ed3a8b87972e88ab5482ca564798514a15"
 },
 "nbformat": 3,
 "nbformat_minor": 0,
 "worksheets": [
  {
   "cells": [
    {
     "cell_type": "code",
     "collapsed": false,
     "input": [
      "import requests\n",
      "import StringIO\n",
      "import os\n",
      "import csv\n",
      "import urllib2"
     ],
     "language": "python",
     "metadata": {},
     "outputs": []
    },
    {
     "cell_type": "code",
     "collapsed": false,
     "input": [
      "# This class downloads the Chicago Crime Data\n",
      "\n",
      "# Crime Data\n",
      "class CrimeDataDownload(object):\n",
      "    def __init__(self):\n",
      "        self.temp = 0\n",
      "    \n",
      "    def downloadData(self):\n",
      "        if 'Crimes_-_2001_to_present.csv' not in os.listdir('../data'):\n",
      "            msg = 'Download crime data now? This may take an hour...:'\n",
      "            shall = True if raw_input(\"%s (y/N) \" % msg).lower() == 'y' else False\n",
      "            if shall:\n",
      "            \n",
      "                CrimeURL = 'https://data.cityofchicago.org/api/views/ijzp-q8t2/rows.csv?accessType=DOWNLOAD'\n",
      "                response = urllib2.urlopen(CrimeURL)\n",
      "                csvR = csv.reader(response)\n",
      "            \n",
      "                writer = csv.writer(open(\"Crimes_-_2001_to_present.csv\", 'w'))\n",
      "                count = 0\n",
      "                csvRL = 'many'\n",
      "                for row in csvR:\n",
      "                    if count % 100000==0:\n",
      "                        print str(count) + ' of ' + csvRL\n",
      "                    writer.writerow(row)\n",
      "                    count += 1\n",
      "                return True\n",
      "            else:\n",
      "                return False\n",
      "        else:\n",
      "            print 'Crime Data in Data Folder... all set'\n",
      "            return True\n",
      "    \n",
      "# Do write this to download a few other csvs (see instructions documented in evernote), \n",
      "# though not all data is packaged online as a csv"
     ],
     "language": "python",
     "metadata": {},
     "outputs": [
      {
       "output_type": "stream",
       "stream": "stdout",
       "text": [
        "Crime data already downloaded\n"
       ]
      }
     ],
     "prompt_number": 38
    },
    {
     "cell_type": "code",
     "collapsed": false,
     "input": [
      "run = CrimeDataDownload()\n",
      "run.downloadData()"
     ],
     "language": "python",
     "metadata": {},
     "outputs": []
    },
    {
     "cell_type": "markdown",
     "metadata": {},
     "source": [
      "# Data Notes\n",
      "1. Walk Score data, google walkscore Chicago\n",
      "1. Other data, see evernote\n",
      "1. Custom written neibourhood name to community mapper (http://en.wikipedia.org/wiki/Community_areas_in_Chicago)"
     ]
    }
   ],
   "metadata": {}
  }
 ]
}