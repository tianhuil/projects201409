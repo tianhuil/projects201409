{
 "metadata": {
  "name": "",
  "signature": "sha256:42d4a7e2a10a0f0ecf79ca83c844e62ec554c6b3ed625d5d2239ff05199f0043"
 },
 "nbformat": 3,
 "nbformat_minor": 0,
 "worksheets": [
  {
   "cells": [
    {
     "cell_type": "code",
     "collapsed": false,
     "input": [
      "%reset\n",
      "\n",
      "import urllib2\n",
      "from bs4 import BeautifulSoup\n",
      "import time\n",
      "import pandas as pd\n",
      "import numpy as np"
     ],
     "language": "python",
     "metadata": {},
     "outputs": [
      {
       "name": "stdout",
       "output_type": "stream",
       "stream": "stdout",
       "text": [
        "Once deleted, variables cannot be recovered. Proceed (y/[n])? y\n"
       ]
      }
     ],
     "prompt_number": 1
    },
    {
     "cell_type": "markdown",
     "metadata": {},
     "source": [
      "* The following try except statement will initialize variables only when necessary\n",
      "* Thus, if there is an error, just rerun the following cell of code to keep going"
     ]
    },
    {
     "cell_type": "markdown",
     "metadata": {},
     "source": [
      "# Testing Ground\n",
      "\n",
      "endPage = 130\n",
      "try:\n",
      "    lats\n",
      "    lons\n",
      "    prices\n",
      "    htype\n",
      "    comm\n",
      "    pg\n",
      "except NameError:\n",
      "    lats = []\n",
      "    lons = []\n",
      "    prices = []\n",
      "    htype = []\n",
      "    comm = []\n",
      "    pg = 1 # start scraping at page 1\n",
      "    \n",
      "pg = 1 if pg==endPage else pg\n",
      "sleepTime = 0.1*1.03**(pg-1)\n",
      "time.sleep(sleepTime) # exponential backoff (starting at 100ms)\n",
      "print(\"waiting \"+ str(sleepTime) +\"s to scrape page \"+str(pg))\n",
      "#url = \"http://www.trulia.com/sold/2884,2919,2923,2924,2927,2933,2937,2968_nh/9_srl/APARTMENT%7CCONDO%7CTOWNHOUSE,CONDO,TOWNHOUSE,APARTMENT_type/\"+str(pg)+\"_p\" \n",
      "#url = \"http://www.trulia.com/sold/2877,2884,2916,2917,2919,2923,2924,2925,2933,2937,2959,2968_nh/9_srl/APARTMENT%7CCONDO%7CTOWNHOUSE,CONDO,TOWNHOUSE,APARTMENT_type/\"+str(pg)+\"_p\" \n",
      "url = \"http://www.trulia.com/sold/Chicago,IL/9_srl/APARTMENT%7CCONDO%7CTOWNHOUSE,CONDO,TOWNHOUSE,APARTMENT_type/\"+str(pg)+\"_p\"\n",
      "try:\n",
      "    raw_page = urllib2.urlopen(url).read()\n",
      "except:\n",
      "    print \"waiting 10 s\"\n",
      "    time.sleep(10)\n",
      "    raw_page = urllib2.urlopen(url).read()\n",
      "soup = BeautifulSoup(raw_page)\n",
      "print(\"scraping page complete\")\n",
      "house_CSS = soup.select('li.hover')\n",
      "for house in house_CSS:\n",
      "    lats.append(house.select('div meta[itemprop=\"latitude\"]')[0]['content'])\n",
      "    lons.append(house.select('div meta[itemprop=\"longitude\"]')[0]['content'])\n",
      "    prices.append(house.select('span.h4 b')[0].text)\n",
      "    htype.append(house.select('div.cols5 strong')[0].text)\n",
      "    comm.append(house.select('div.typeTruncate')[0].text)\n",
      "        \n",
      "# converting prices to floats, to put in a pandas dataframe\n",
      "def prices_to_float(p):\n",
      "    for idx, price in enumerate(p):\n",
      "        p[idx] = price.replace(',','')[1:]\n",
      "    return p\n",
      "pricesF = prices_to_float(prices)\n",
      "\n",
      "data = np.zeros([len(lats),3])\n",
      "data[:] = np.NAN\n",
      "data[:,0] = lats\n",
      "data[:,1] = lons\n",
      "data[:,2] = pricesF\n",
      "df = pd.DataFrame(data, columns=['lat','lon','price'])\n",
      "df['htype'] = htype\n",
      "df['comm'] = comm"
     ]
    },
    {
     "cell_type": "code",
     "collapsed": false,
     "input": [
      "endPage = 504\n",
      "try:\n",
      "    lats\n",
      "    lngs\n",
      "    prices\n",
      "    htype\n",
      "    comm\n",
      "    pg\n",
      "except NameError:\n",
      "    lats = []\n",
      "    lngs = []\n",
      "    prices = []\n",
      "    htype = []\n",
      "    comm = []\n",
      "    pg = 1 # start scraping at page 1\n",
      "\n",
      "pg = 1 if pg==endPage else pg\n",
      "    \n",
      "for pg in range(pg,endPage+1):\n",
      "    sleepResetPeriod = 20\n",
      "    sleepTime = 0.1*1.2**(pg%sleepResetPeriod-1)\n",
      "    if pg%sleepResetPeriod == 0:\n",
      "        print \"sleeping 30s and reseting exponential backoff timer\"\n",
      "        time.sleep(30)\n",
      "        \n",
      "    time.sleep(sleepTime) # exponential backoff (starting at 100ms)\n",
      "    print(\"waiting \"+ str(sleepTime) +\"s to scrape page \"+str(pg))\n",
      "    #url = \"http://www.trulia.com/sold/2884,2919,2923,2924,2927,2933,2937,2968_nh/9_srl/APARTMENT%7CCONDO%7CTOWNHOUSE,CONDO,TOWNHOUSE,APARTMENT_type/\"+str(pg)+\"_p\" \n",
      "    #url = \"http://www.trulia.com/sold/2877,2884,2916,2917,2919,2923,2924,2925,2933,2937,2959,2968_nh/9_srl/APARTMENT%7CCONDO%7CTOWNHOUSE,CONDO,TOWNHOUSE,APARTMENT_type/\"+str(pg)+\"_p\" \n",
      "    # above is houses sold in comNum = [3,4,5,6,7,8,14,16,20,21,22,23,24]\n",
      "    \n",
      "    url = \"http://www.trulia.com/sold/Chicago,IL/9_srl/APARTMENT%7CCONDO%7CTOWNHOUSE,CONDO,TOWNHOUSE,APARTMENT_type/\"+str(pg)+\"_p\"\n",
      "    try:\n",
      "        try:\n",
      "            raw_page = urllib2.urlopen(url).read()\n",
      "        except:\n",
      "            print \"waiting 10 s\"\n",
      "            time.sleep(10)\n",
      "            raw_page = urllib2.urlopen(url).read()\n",
      "        soup = BeautifulSoup(raw_page)\n",
      "        print(\"scraping page complete\")\n",
      "        house_CSS = soup.select('li.hover')\n",
      "\n",
      "        # In case of an error, this makes sure all the data is aligned on re-run\n",
      "        lats = lats[:15*(pg-1)]\n",
      "        lngs = lngs[:15*(pg-1)]\n",
      "        prices = prices[:15*(pg-1)]\n",
      "        htype = htype[:15*(pg-1)]\n",
      "        comm = comm[:15*(pg-1)]\n",
      "        for house in house_CSS:\n",
      "            lats.append(house.select('div meta[itemprop=\"latitude\"]')[0]['content'])\n",
      "            lngs.append(house.select('div meta[itemprop=\"longitude\"]')[0]['content'])\n",
      "            prices.append(house.select('span.h4 b')[0].text)\n",
      "            htype.append(house.select('div.cols5 strong')[0].text)\n",
      "            comm.append(house.select('div.typeTruncate')[0].text)\n",
      "    except:\n",
      "        print \"Crawl Error, trying again in 10s\"\n",
      "        time.sleep(10)\n",
      "        try:\n",
      "            raw_page = urllib2.urlopen(url).read()\n",
      "        except:\n",
      "            print \"waiting 10 s\"\n",
      "            time.sleep(10)\n",
      "            raw_page = urllib2.urlopen(url).read()\n",
      "        soup = BeautifulSoup(raw_page)\n",
      "        print(\"scraping page complete\")\n",
      "        house_CSS = soup.select('li.hover')\n",
      "\n",
      "        # In case of an error, this makes sure all the data is aligned on re-run\n",
      "        lats = lats[:15*(pg-1)]\n",
      "        lngs = lngs[:15*(pg-1)]\n",
      "        prices = prices[:15*(pg-1)]\n",
      "        htype = htype[:15*(pg-1)]\n",
      "        comm = comm[:15*(pg-1)]\n",
      "        for house in house_CSS:\n",
      "            lats.append(house.select('div meta[itemprop=\"latitude\"]')[0]['content'])\n",
      "            lngs.append(house.select('div meta[itemprop=\"longitude\"]')[0]['content'])\n",
      "            prices.append(house.select('span.h4 b')[0].text)\n",
      "            htype.append(house.select('div.cols5 strong')[0].text)\n",
      "            comm.append(house.select('div.typeTruncate')[0].text)\n",
      "        \n",
      "\n",
      "# converting prices to floats, to put in a pandas dataframe\n",
      "def prices_to_float(p):\n",
      "    for idx, price in enumerate(p):\n",
      "        p[idx] = price.replace(',','')[1:]\n",
      "    return p\n",
      "pricesF = prices_to_float(prices)\n",
      "\n",
      "data = np.zeros([len(lats),3])\n",
      "data[:] = np.NAN\n",
      "data[:,0] = lats\n",
      "data[:,1] = lngs\n",
      "data[:,2] = pricesF\n",
      "df = pd.DataFrame(data, columns=['lat','lng','price'])\n",
      "df['htype'] = htype\n",
      "df['comm'] = comm"
     ],
     "language": "python",
     "metadata": {},
     "outputs": [
      {
       "output_type": "stream",
       "stream": "stdout",
       "text": [
        "waiting 0.891610044826s to scrape page 273\n",
        "scraping page complete"
       ]
      },
      {
       "output_type": "stream",
       "stream": "stdout",
       "text": [
        "\n",
        "waiting 1.06993205379s to scrape page 274"
       ]
      },
      {
       "output_type": "stream",
       "stream": "stdout",
       "text": [
        "\n",
        "scraping page complete"
       ]
      },
      {
       "output_type": "stream",
       "stream": "stdout",
       "text": [
        "\n",
        "waiting 1.28391846455s to scrape page 275"
       ]
      },
      {
       "output_type": "stream",
       "stream": "stdout",
       "text": [
        "\n",
        "scraping page complete"
       ]
      },
      {
       "output_type": "stream",
       "stream": "stdout",
       "text": [
        "\n",
        "waiting 1.54070215746s to scrape page 276"
       ]
      },
      {
       "output_type": "stream",
       "stream": "stdout",
       "text": [
        "\n",
        "scraping page complete"
       ]
      },
      {
       "output_type": "stream",
       "stream": "stdout",
       "text": [
        "\n",
        "waiting 1.84884258895s to scrape page 277"
       ]
      },
      {
       "output_type": "stream",
       "stream": "stdout",
       "text": [
        "\n",
        "scraping page complete"
       ]
      },
      {
       "output_type": "stream",
       "stream": "stdout",
       "text": [
        "\n",
        "waiting 2.21861110674s to scrape page 278"
       ]
      },
      {
       "output_type": "stream",
       "stream": "stdout",
       "text": [
        "\n",
        "scraping page complete"
       ]
      },
      {
       "output_type": "stream",
       "stream": "stdout",
       "text": [
        "\n",
        "waiting 2.66233332809s to scrape page 279"
       ]
      },
      {
       "output_type": "stream",
       "stream": "stdout",
       "text": [
        "\n",
        "scraping page complete"
       ]
      },
      {
       "output_type": "stream",
       "stream": "stdout",
       "text": [
        "\n",
        "sleeping 1min and reseting exponential backoff timer\n",
        "waiting 0.0833333333333s to scrape page 280"
       ]
      },
      {
       "output_type": "stream",
       "stream": "stdout",
       "text": [
        "\n",
        "scraping page complete"
       ]
      },
      {
       "output_type": "stream",
       "stream": "stdout",
       "text": [
        "\n",
        "waiting 0.1s to scrape page 281"
       ]
      },
      {
       "output_type": "stream",
       "stream": "stdout",
       "text": [
        "\n",
        "scraping page complete"
       ]
      },
      {
       "output_type": "stream",
       "stream": "stdout",
       "text": [
        "\n",
        "waiting 0.12s to scrape page 282"
       ]
      },
      {
       "output_type": "stream",
       "stream": "stdout",
       "text": [
        "\n",
        "scraping page complete"
       ]
      },
      {
       "output_type": "stream",
       "stream": "stdout",
       "text": [
        "\n",
        "waiting 0.144s to scrape page 283"
       ]
      },
      {
       "output_type": "stream",
       "stream": "stdout",
       "text": [
        "\n",
        "scraping page complete"
       ]
      },
      {
       "output_type": "stream",
       "stream": "stdout",
       "text": [
        "\n",
        "waiting 0.1728s to scrape page 284"
       ]
      },
      {
       "output_type": "stream",
       "stream": "stdout",
       "text": [
        "\n",
        "scraping page complete"
       ]
      },
      {
       "output_type": "stream",
       "stream": "stdout",
       "text": [
        "\n",
        "waiting 0.20736s to scrape page 285"
       ]
      },
      {
       "output_type": "stream",
       "stream": "stdout",
       "text": [
        "\n",
        "scraping page complete"
       ]
      },
      {
       "output_type": "stream",
       "stream": "stdout",
       "text": [
        "\n",
        "waiting 0.248832s to scrape page 286"
       ]
      },
      {
       "output_type": "stream",
       "stream": "stdout",
       "text": [
        "\n",
        "scraping page complete"
       ]
      },
      {
       "output_type": "stream",
       "stream": "stdout",
       "text": [
        "\n",
        "waiting 0.2985984s to scrape page 287"
       ]
      },
      {
       "output_type": "stream",
       "stream": "stdout",
       "text": [
        "\n",
        "scraping page complete"
       ]
      },
      {
       "output_type": "stream",
       "stream": "stdout",
       "text": [
        "\n",
        "Crawl Error, trying again in 10s\n",
        "scraping page complete"
       ]
      },
      {
       "output_type": "stream",
       "stream": "stdout",
       "text": [
        "\n",
        "waiting 0.35831808s to scrape page 288"
       ]
      },
      {
       "output_type": "stream",
       "stream": "stdout",
       "text": [
        "\n",
        "scraping page complete"
       ]
      },
      {
       "output_type": "stream",
       "stream": "stdout",
       "text": [
        "\n",
        "waiting 0.429981696s to scrape page 289"
       ]
      },
      {
       "output_type": "stream",
       "stream": "stdout",
       "text": [
        "\n",
        "scraping page complete"
       ]
      },
      {
       "output_type": "stream",
       "stream": "stdout",
       "text": [
        "\n",
        "waiting 0.5159780352s to scrape page 290"
       ]
      },
      {
       "output_type": "stream",
       "stream": "stdout",
       "text": [
        "\n",
        "scraping page complete"
       ]
      },
      {
       "output_type": "stream",
       "stream": "stdout",
       "text": [
        "\n",
        "waiting 0.61917364224s to scrape page 291"
       ]
      },
      {
       "output_type": "stream",
       "stream": "stdout",
       "text": [
        "\n",
        "scraping page complete"
       ]
      },
      {
       "output_type": "stream",
       "stream": "stdout",
       "text": [
        "\n",
        "waiting 0.743008370688s to scrape page 292"
       ]
      },
      {
       "output_type": "stream",
       "stream": "stdout",
       "text": [
        "\n",
        "scraping page complete"
       ]
      },
      {
       "output_type": "stream",
       "stream": "stdout",
       "text": [
        "\n",
        "waiting 0.891610044826s to scrape page 293"
       ]
      },
      {
       "output_type": "stream",
       "stream": "stdout",
       "text": [
        "\n",
        "scraping page complete"
       ]
      },
      {
       "output_type": "stream",
       "stream": "stdout",
       "text": [
        "\n",
        "waiting 1.06993205379s to scrape page 294"
       ]
      },
      {
       "output_type": "stream",
       "stream": "stdout",
       "text": [
        "\n",
        "scraping page complete"
       ]
      },
      {
       "output_type": "stream",
       "stream": "stdout",
       "text": [
        "\n",
        "waiting 1.28391846455s to scrape page 295"
       ]
      },
      {
       "output_type": "stream",
       "stream": "stdout",
       "text": [
        "\n",
        "scraping page complete"
       ]
      },
      {
       "output_type": "stream",
       "stream": "stdout",
       "text": [
        "\n",
        "waiting 1.54070215746s to scrape page 296"
       ]
      },
      {
       "output_type": "stream",
       "stream": "stdout",
       "text": [
        "\n",
        "scraping page complete"
       ]
      },
      {
       "output_type": "stream",
       "stream": "stdout",
       "text": [
        "\n",
        "waiting 1.84884258895s to scrape page 297"
       ]
      },
      {
       "output_type": "stream",
       "stream": "stdout",
       "text": [
        "\n",
        "scraping page complete"
       ]
      },
      {
       "output_type": "stream",
       "stream": "stdout",
       "text": [
        "\n",
        "waiting 2.21861110674s to scrape page 298"
       ]
      },
      {
       "output_type": "stream",
       "stream": "stdout",
       "text": [
        "\n",
        "scraping page complete"
       ]
      },
      {
       "output_type": "stream",
       "stream": "stdout",
       "text": [
        "\n",
        "waiting 2.66233332809s to scrape page 299"
       ]
      },
      {
       "output_type": "stream",
       "stream": "stdout",
       "text": [
        "\n",
        "scraping page complete"
       ]
      },
      {
       "output_type": "stream",
       "stream": "stdout",
       "text": [
        "\n",
        "sleeping 1min and reseting exponential backoff timer\n",
        "waiting 0.0833333333333s to scrape page 300"
       ]
      },
      {
       "output_type": "stream",
       "stream": "stdout",
       "text": [
        "\n",
        "scraping page complete"
       ]
      },
      {
       "output_type": "stream",
       "stream": "stdout",
       "text": [
        "\n",
        "waiting 0.1s to scrape page 301"
       ]
      },
      {
       "output_type": "stream",
       "stream": "stdout",
       "text": [
        "\n",
        "scraping page complete"
       ]
      },
      {
       "output_type": "stream",
       "stream": "stdout",
       "text": [
        "\n",
        "waiting 0.12s to scrape page 302"
       ]
      },
      {
       "output_type": "stream",
       "stream": "stdout",
       "text": [
        "\n",
        "scraping page complete"
       ]
      },
      {
       "output_type": "stream",
       "stream": "stdout",
       "text": [
        "\n",
        "waiting 0.144s to scrape page 303"
       ]
      },
      {
       "output_type": "stream",
       "stream": "stdout",
       "text": [
        "\n",
        "scraping page complete"
       ]
      },
      {
       "output_type": "stream",
       "stream": "stdout",
       "text": [
        "\n",
        "waiting 0.1728s to scrape page 304"
       ]
      },
      {
       "output_type": "stream",
       "stream": "stdout",
       "text": [
        "\n",
        "scraping page complete"
       ]
      },
      {
       "output_type": "stream",
       "stream": "stdout",
       "text": [
        "\n",
        "waiting 0.20736s to scrape page 305"
       ]
      },
      {
       "output_type": "stream",
       "stream": "stdout",
       "text": [
        "\n",
        "scraping page complete"
       ]
      },
      {
       "output_type": "stream",
       "stream": "stdout",
       "text": [
        "\n",
        "waiting 0.248832s to scrape page 306"
       ]
      },
      {
       "output_type": "stream",
       "stream": "stdout",
       "text": [
        "\n",
        "scraping page complete"
       ]
      },
      {
       "output_type": "stream",
       "stream": "stdout",
       "text": [
        "\n",
        "waiting 0.2985984s to scrape page 307"
       ]
      },
      {
       "output_type": "stream",
       "stream": "stdout",
       "text": [
        "\n",
        "scraping page complete"
       ]
      },
      {
       "output_type": "stream",
       "stream": "stdout",
       "text": [
        "\n",
        "waiting 0.35831808s to scrape page 308"
       ]
      },
      {
       "output_type": "stream",
       "stream": "stdout",
       "text": [
        "\n",
        "scraping page complete"
       ]
      },
      {
       "output_type": "stream",
       "stream": "stdout",
       "text": [
        "\n",
        "waiting 0.429981696s to scrape page 309"
       ]
      },
      {
       "output_type": "stream",
       "stream": "stdout",
       "text": [
        "\n",
        "scraping page complete"
       ]
      },
      {
       "output_type": "stream",
       "stream": "stdout",
       "text": [
        "\n",
        "waiting 0.5159780352s to scrape page 310"
       ]
      },
      {
       "output_type": "stream",
       "stream": "stdout",
       "text": [
        "\n",
        "scraping page complete"
       ]
      },
      {
       "output_type": "stream",
       "stream": "stdout",
       "text": [
        "\n",
        "waiting 0.61917364224s to scrape page 311"
       ]
      },
      {
       "output_type": "stream",
       "stream": "stdout",
       "text": [
        "\n",
        "scraping page complete"
       ]
      },
      {
       "output_type": "stream",
       "stream": "stdout",
       "text": [
        "\n",
        "waiting 0.743008370688s to scrape page 312"
       ]
      },
      {
       "output_type": "stream",
       "stream": "stdout",
       "text": [
        "\n",
        "scraping page complete"
       ]
      },
      {
       "output_type": "stream",
       "stream": "stdout",
       "text": [
        "\n",
        "waiting 0.891610044826s to scrape page 313"
       ]
      },
      {
       "output_type": "stream",
       "stream": "stdout",
       "text": [
        "\n",
        "scraping page complete"
       ]
      },
      {
       "output_type": "stream",
       "stream": "stdout",
       "text": [
        "\n",
        "waiting 1.06993205379s to scrape page 314"
       ]
      },
      {
       "output_type": "stream",
       "stream": "stdout",
       "text": [
        "\n",
        "scraping page complete"
       ]
      },
      {
       "output_type": "stream",
       "stream": "stdout",
       "text": [
        "\n",
        "waiting 1.28391846455s to scrape page 315"
       ]
      },
      {
       "output_type": "stream",
       "stream": "stdout",
       "text": [
        "\n",
        "scraping page complete"
       ]
      },
      {
       "output_type": "stream",
       "stream": "stdout",
       "text": [
        "\n",
        "waiting 1.54070215746s to scrape page 316"
       ]
      },
      {
       "output_type": "stream",
       "stream": "stdout",
       "text": [
        "\n",
        "scraping page complete"
       ]
      },
      {
       "output_type": "stream",
       "stream": "stdout",
       "text": [
        "\n",
        "waiting 1.84884258895s to scrape page 317"
       ]
      },
      {
       "output_type": "stream",
       "stream": "stdout",
       "text": [
        "\n",
        "scraping page complete"
       ]
      },
      {
       "output_type": "stream",
       "stream": "stdout",
       "text": [
        "\n",
        "Crawl Error, trying again in 10s\n",
        "scraping page complete"
       ]
      },
      {
       "output_type": "stream",
       "stream": "stdout",
       "text": [
        "\n",
        "waiting 2.21861110674s to scrape page 318"
       ]
      },
      {
       "output_type": "stream",
       "stream": "stdout",
       "text": [
        "\n",
        "scraping page complete"
       ]
      },
      {
       "output_type": "stream",
       "stream": "stdout",
       "text": [
        "\n",
        "waiting 2.66233332809s to scrape page 319"
       ]
      },
      {
       "output_type": "stream",
       "stream": "stdout",
       "text": [
        "\n",
        "scraping page complete"
       ]
      },
      {
       "output_type": "stream",
       "stream": "stdout",
       "text": [
        "\n",
        "sleeping 1min and reseting exponential backoff timer\n",
        "waiting 0.0833333333333s to scrape page 320"
       ]
      },
      {
       "output_type": "stream",
       "stream": "stdout",
       "text": [
        "\n",
        "scraping page complete"
       ]
      },
      {
       "output_type": "stream",
       "stream": "stdout",
       "text": [
        "\n",
        "waiting 0.1s to scrape page 321"
       ]
      },
      {
       "output_type": "stream",
       "stream": "stdout",
       "text": [
        "\n",
        "scraping page complete"
       ]
      },
      {
       "output_type": "stream",
       "stream": "stdout",
       "text": [
        "\n",
        "waiting 0.12s to scrape page 322"
       ]
      },
      {
       "output_type": "stream",
       "stream": "stdout",
       "text": [
        "\n",
        "scraping page complete"
       ]
      },
      {
       "output_type": "stream",
       "stream": "stdout",
       "text": [
        "\n",
        "waiting 0.144s to scrape page 323"
       ]
      },
      {
       "output_type": "stream",
       "stream": "stdout",
       "text": [
        "\n",
        "scraping page complete"
       ]
      },
      {
       "output_type": "stream",
       "stream": "stdout",
       "text": [
        "\n",
        "waiting 0.1728s to scrape page 324"
       ]
      },
      {
       "output_type": "stream",
       "stream": "stdout",
       "text": [
        "\n",
        "scraping page complete"
       ]
      },
      {
       "output_type": "stream",
       "stream": "stdout",
       "text": [
        "\n",
        "waiting 0.20736s to scrape page 325"
       ]
      },
      {
       "output_type": "stream",
       "stream": "stdout",
       "text": [
        "\n",
        "scraping page complete"
       ]
      },
      {
       "output_type": "stream",
       "stream": "stdout",
       "text": [
        "\n",
        "waiting 0.248832s to scrape page 326"
       ]
      },
      {
       "output_type": "stream",
       "stream": "stdout",
       "text": [
        "\n",
        "scraping page complete"
       ]
      },
      {
       "output_type": "stream",
       "stream": "stdout",
       "text": [
        "\n",
        "Crawl Error, trying again in 10s\n",
        "scraping page complete"
       ]
      },
      {
       "output_type": "stream",
       "stream": "stdout",
       "text": [
        "\n"
       ]
      },
      {
       "ename": "IndexError",
       "evalue": "list index out of range",
       "output_type": "pyerr",
       "traceback": [
        "\u001b[1;31m---------------------------------------------------------------------------\u001b[0m\n\u001b[1;31mIndexError\u001b[0m                                Traceback (most recent call last)",
        "\u001b[1;32m<ipython-input-30-0ae91e5d6c05>\u001b[0m in \u001b[0;36m<module>\u001b[1;34m()\u001b[0m\n\u001b[0;32m     77\u001b[0m             \u001b[0mlngs\u001b[0m\u001b[1;33m.\u001b[0m\u001b[0mappend\u001b[0m\u001b[1;33m(\u001b[0m\u001b[0mhouse\u001b[0m\u001b[1;33m.\u001b[0m\u001b[0mselect\u001b[0m\u001b[1;33m(\u001b[0m\u001b[1;34m'div meta[itemprop=\"longitude\"]'\u001b[0m\u001b[1;33m)\u001b[0m\u001b[1;33m[\u001b[0m\u001b[1;36m0\u001b[0m\u001b[1;33m]\u001b[0m\u001b[1;33m[\u001b[0m\u001b[1;34m'content'\u001b[0m\u001b[1;33m]\u001b[0m\u001b[1;33m)\u001b[0m\u001b[1;33m\u001b[0m\u001b[0m\n\u001b[0;32m     78\u001b[0m             \u001b[0mprices\u001b[0m\u001b[1;33m.\u001b[0m\u001b[0mappend\u001b[0m\u001b[1;33m(\u001b[0m\u001b[0mhouse\u001b[0m\u001b[1;33m.\u001b[0m\u001b[0mselect\u001b[0m\u001b[1;33m(\u001b[0m\u001b[1;34m'span.h4 b'\u001b[0m\u001b[1;33m)\u001b[0m\u001b[1;33m[\u001b[0m\u001b[1;36m0\u001b[0m\u001b[1;33m]\u001b[0m\u001b[1;33m.\u001b[0m\u001b[0mtext\u001b[0m\u001b[1;33m)\u001b[0m\u001b[1;33m\u001b[0m\u001b[0m\n\u001b[1;32m---> 79\u001b[1;33m             \u001b[0mhtype\u001b[0m\u001b[1;33m.\u001b[0m\u001b[0mappend\u001b[0m\u001b[1;33m(\u001b[0m\u001b[0mhouse\u001b[0m\u001b[1;33m.\u001b[0m\u001b[0mselect\u001b[0m\u001b[1;33m(\u001b[0m\u001b[1;34m'div.cols5 strong'\u001b[0m\u001b[1;33m)\u001b[0m\u001b[1;33m[\u001b[0m\u001b[1;36m0\u001b[0m\u001b[1;33m]\u001b[0m\u001b[1;33m.\u001b[0m\u001b[0mtext\u001b[0m\u001b[1;33m)\u001b[0m\u001b[1;33m\u001b[0m\u001b[0m\n\u001b[0m\u001b[0;32m     80\u001b[0m             \u001b[0mcomm\u001b[0m\u001b[1;33m.\u001b[0m\u001b[0mappend\u001b[0m\u001b[1;33m(\u001b[0m\u001b[0mhouse\u001b[0m\u001b[1;33m.\u001b[0m\u001b[0mselect\u001b[0m\u001b[1;33m(\u001b[0m\u001b[1;34m'div.typeTruncate'\u001b[0m\u001b[1;33m)\u001b[0m\u001b[1;33m[\u001b[0m\u001b[1;36m0\u001b[0m\u001b[1;33m]\u001b[0m\u001b[1;33m.\u001b[0m\u001b[0mtext\u001b[0m\u001b[1;33m)\u001b[0m\u001b[1;33m\u001b[0m\u001b[0m\n\u001b[0;32m     81\u001b[0m \u001b[1;33m\u001b[0m\u001b[0m\n",
        "\u001b[1;31mIndexError\u001b[0m: list index out of range"
       ]
      }
     ],
     "prompt_number": 30
    },
    {
     "cell_type": "code",
     "collapsed": false,
     "input": [
      "prices"
     ],
     "language": "python",
     "metadata": {},
     "outputs": [
      {
       "metadata": {},
       "output_type": "pyout",
       "prompt_number": 29,
       "text": [
        "[u'$231,500',\n",
        " u'$166,500',\n",
        " u'$442,500',\n",
        " u'$291,000',\n",
        " u'$409,000',\n",
        " u'$205,000',\n",
        " u'$82,000',\n",
        " u'$130,000',\n",
        " u'$463,000',\n",
        " u'$372,500',\n",
        " u'$82,000',\n",
        " u'$875,000',\n",
        " u'$410,000',\n",
        " u'$112,000',\n",
        " u'$210,000',\n",
        " u'$265,000',\n",
        " u'$463,500',\n",
        " u'$330,000',\n",
        " u'$100,000',\n",
        " u'$518,000',\n",
        " u'$127,500',\n",
        " u'$215,000',\n",
        " u'$124,000',\n",
        " u'$129,000',\n",
        " u'$320,000',\n",
        " u'$703,500',\n",
        " u'$345,000',\n",
        " u'$460,000',\n",
        " u'$367,500',\n",
        " u'$900,000',\n",
        " u'$170,000',\n",
        " u'$320,000',\n",
        " u'$369,000',\n",
        " u'$237,000',\n",
        " u'$233,000',\n",
        " u'$320,000',\n",
        " u'$250,000',\n",
        " u'$160,000',\n",
        " u'$505,000',\n",
        " u'$331,500',\n",
        " u'$210,000',\n",
        " u'$1,090,000',\n",
        " u'$905,000',\n",
        " u'$506,000',\n",
        " u'$530,000',\n",
        " u'$267,000',\n",
        " u'$119,925',\n",
        " u'$360,000',\n",
        " u'$965,000',\n",
        " u'$363,000',\n",
        " u'$247,000',\n",
        " u'$425,000',\n",
        " u'$45,000',\n",
        " u'$869,000',\n",
        " u'$880,000',\n",
        " u'$690,000',\n",
        " u'$355,000',\n",
        " u'$72,000',\n",
        " u'$295,000',\n",
        " u'$276,000',\n",
        " u'$300,000',\n",
        " u'$375,000',\n",
        " u'$153,500',\n",
        " u'$340,000',\n",
        " u'$165,000',\n",
        " u'$140,000',\n",
        " u'$49,500',\n",
        " u'$775,000',\n",
        " u'$166,500',\n",
        " u'$375,000',\n",
        " u'$45,000',\n",
        " u'$810,000',\n",
        " u'$587,000',\n",
        " u'$227,000',\n",
        " u'$330,000',\n",
        " u'$409,000',\n",
        " u'$331,000',\n",
        " u'$695,000',\n",
        " u'$407,000',\n",
        " u'$4,370,000',\n",
        " u'$47,000',\n",
        " u'$205,500',\n",
        " u'$367,000',\n",
        " u'$822,500',\n",
        " u'$246,000',\n",
        " u'$57,000',\n",
        " u'$65,000',\n",
        " u'$230,000',\n",
        " u'$110,000',\n",
        " u'$303,000',\n",
        " u'$182,500',\n",
        " u'$334,500',\n",
        " u'$549,000',\n",
        " u'$151,000',\n",
        " u'$90,000',\n",
        " u'$227,000',\n",
        " u'$70,000',\n",
        " u'$125,000',\n",
        " u'$360,000',\n",
        " u'$222,000',\n",
        " u'$639,000',\n",
        " u'$206,000',\n",
        " u'$184,500',\n",
        " u'$45,000',\n",
        " u'$290,000',\n",
        " u'$758,000',\n",
        " u'$368,000',\n",
        " u'$205,000',\n",
        " u'$465,500',\n",
        " u'$313,000',\n",
        " u'$360,000',\n",
        " u'$350,000',\n",
        " u'$970,000',\n",
        " u'$149,000',\n",
        " u'$70,000',\n",
        " u'$585,000',\n",
        " u'$415,000',\n",
        " u'$91,000',\n",
        " u'$168,000',\n",
        " u'$381,500',\n",
        " u'$750,000',\n",
        " u'$412,500',\n",
        " u'$775,000',\n",
        " u'$442,000',\n",
        " u'$320,000',\n",
        " u'$400,000',\n",
        " u'$640,000',\n",
        " u'$410,000',\n",
        " u'$262,000',\n",
        " u'$23,000',\n",
        " u'$575,000',\n",
        " u'$375,000',\n",
        " u'$305,000',\n",
        " u'$734,000',\n",
        " u'$1,099,000',\n",
        " u'$356,000',\n",
        " u'$242,500',\n",
        " u'$300,000',\n",
        " u'$475,000',\n",
        " u'$475,000',\n",
        " u'$293,500',\n",
        " u'$415,000',\n",
        " u'$452,500',\n",
        " u'$343,000',\n",
        " u'$426,000',\n",
        " u'$505,000',\n",
        " u'$385,000',\n",
        " u'$152,000',\n",
        " u'$1,800,000',\n",
        " u'$255,000',\n",
        " u'$427,500',\n",
        " u'$490,000',\n",
        " u'$53,000',\n",
        " u'$136,000',\n",
        " u'$342,500',\n",
        " u'$46,000',\n",
        " u'$1,190,000',\n",
        " u'$261,000',\n",
        " u'$421,000',\n",
        " u'$425,000',\n",
        " u'$528,000',\n",
        " u'$108,000',\n",
        " u'$399,000',\n",
        " u'$120,000',\n",
        " u'$260,000',\n",
        " u'$535,000',\n",
        " u'$176,000',\n",
        " u'$333,000',\n",
        " u'$425,000',\n",
        " u'$400,000',\n",
        " u'$30,000',\n",
        " u'$210,000',\n",
        " u'$134,000',\n",
        " u'$80,000',\n",
        " u'$675,000',\n",
        " u'$80,000',\n",
        " u'$366,000',\n",
        " u'$860,000',\n",
        " u'$206,000',\n",
        " u'$400,000',\n",
        " u'$528,000',\n",
        " u'$505,000',\n",
        " u'$51,500',\n",
        " u'$197,000',\n",
        " u'$460,000',\n",
        " u'$190,000',\n",
        " u'$197,000',\n",
        " u'$567,500',\n",
        " u'$301,500',\n",
        " u'$480,000',\n",
        " u'$412,000',\n",
        " u'$329,000',\n",
        " u'$170,000',\n",
        " u'$55,000',\n",
        " u'$275,000',\n",
        " u'$131,000',\n",
        " u'$146,000',\n",
        " u'$280,000',\n",
        " u'$150,000',\n",
        " u'$144,000',\n",
        " u'$240,000',\n",
        " u'$525,000',\n",
        " u'$267,500',\n",
        " u'$662,500',\n",
        " u'$550,000',\n",
        " u'$325,000',\n",
        " u'$370,000',\n",
        " u'$450,000',\n",
        " u'$390,000',\n",
        " u'$336,000',\n",
        " u'$421,000',\n",
        " u'$130,000',\n",
        " u'$400,000',\n",
        " u'$355,000',\n",
        " u'$430,000',\n",
        " u'$430,000',\n",
        " u'$110,000',\n",
        " u'$149,500',\n",
        " u'$352,500',\n",
        " u'$235,000',\n",
        " u'$340,000',\n",
        " u'$481,000',\n",
        " u'$564,000',\n",
        " u'$522,500',\n",
        " u'$270,000',\n",
        " u'$339,000',\n",
        " u'$272,000',\n",
        " u'$320,000',\n",
        " u'$326,000',\n",
        " u'$572,500',\n",
        " u'$40,000',\n",
        " u'$640,000',\n",
        " u'$563,000',\n",
        " u'$410,000',\n",
        " u'$165,000',\n",
        " u'$305,000',\n",
        " u'$387,000',\n",
        " u'$220,000',\n",
        " u'$180,000',\n",
        " u'$237,500',\n",
        " u'$345,000',\n",
        " u'$330,000',\n",
        " u'$575,000',\n",
        " u'$86,000',\n",
        " u'$225,000',\n",
        " u'$273,500',\n",
        " u'$227,500',\n",
        " u'$240,000',\n",
        " u'$310,000',\n",
        " u'$559,000',\n",
        " u'$562,500',\n",
        " u'$520,000',\n",
        " u'$255,000',\n",
        " u'$195,000',\n",
        " u'$23,000',\n",
        " u'$426,000',\n",
        " u'$278,000',\n",
        " u'$208,000',\n",
        " u'$120,000',\n",
        " u'$572,500',\n",
        " u'$140,000',\n",
        " u'$30,000',\n",
        " u'$30,000',\n",
        " u'$435,000',\n",
        " u'$460,000',\n",
        " u'$168,000',\n",
        " u'$437,000',\n",
        " u'$40,000',\n",
        " u'$232,500',\n",
        " u'$159,000',\n",
        " u'$607,000',\n",
        " u'$342,000',\n",
        " u'$70,000',\n",
        " u'$418,000',\n",
        " u'$510,000',\n",
        " u'$58,000',\n",
        " u'$676,000',\n",
        " u'$526,000',\n",
        " u'$334,000',\n",
        " u'$209,000',\n",
        " u'$472,500',\n",
        " u'$340,000',\n",
        " u'$415,500',\n",
        " u'$156,000',\n",
        " u'$225,000',\n",
        " u'$80,000',\n",
        " u'$1,250,000',\n",
        " u'$257,000',\n",
        " u'$330,000',\n",
        " u'$765,000',\n",
        " u'$345,000',\n",
        " u'$281,000',\n",
        " u'$219,000',\n",
        " u'$280,000',\n",
        " u'$269,500',\n",
        " u'$117,000',\n",
        " u'$265,000',\n",
        " u'$430,000',\n",
        " u'$370,000',\n",
        " u'$135,500',\n",
        " u'$469,000',\n",
        " u'$193,500',\n",
        " u'$199,000',\n",
        " u'$140,000',\n",
        " u'$475,000',\n",
        " u'$75,000',\n",
        " u'$355,000',\n",
        " u'$316,000',\n",
        " u'$65,000',\n",
        " u'$75,500',\n",
        " u'$225,000',\n",
        " u'$541,000',\n",
        " u'$238,000',\n",
        " u'$269,500',\n",
        " u'$570,500',\n",
        " u'$285,000',\n",
        " u'$495,000',\n",
        " u'$312,000',\n",
        " u'$417,500',\n",
        " u'$160,000',\n",
        " u'$248,000',\n",
        " u'$240,000',\n",
        " u'$230,000',\n",
        " u'$570,000',\n",
        " u'$1,500,000',\n",
        " u'$350,000',\n",
        " u'$97,500',\n",
        " u'$417,000',\n",
        " u'$288,000',\n",
        " u'$780,000',\n",
        " u'$315,000',\n",
        " u'$345,000',\n",
        " u'$310,000',\n",
        " u'$265,000',\n",
        " u'$580,000',\n",
        " u'$170,000',\n",
        " u'$161,450',\n",
        " u'$350,000',\n",
        " u'$552,500',\n",
        " u'$118,000',\n",
        " u'$84,500',\n",
        " u'$685,000',\n",
        " u'$395,000',\n",
        " u'$328,000',\n",
        " u'$210,000',\n",
        " u'$380,000',\n",
        " u'$168,000',\n",
        " u'$560,000',\n",
        " u'$243,000',\n",
        " u'$217,500',\n",
        " u'$88,000',\n",
        " u'$425,000',\n",
        " u'$695,000',\n",
        " u'$190,000',\n",
        " u'$219,000',\n",
        " u'$437,500',\n",
        " u'$497,000',\n",
        " u'$197,500',\n",
        " u'$45,000',\n",
        " u'$285,000',\n",
        " u'$438,000',\n",
        " u'$290,000',\n",
        " u'$95,000',\n",
        " u'$540,000',\n",
        " u'$180,000',\n",
        " u'$160,000',\n",
        " u'$355,000',\n",
        " u'$151,000',\n",
        " u'$280,000',\n",
        " u'$160,000',\n",
        " u'$115,000',\n",
        " u'$270,500',\n",
        " u'$417,000',\n",
        " u'$495,000',\n",
        " u'$335,000',\n",
        " u'$65,000',\n",
        " u'$161,000',\n",
        " u'$355,000',\n",
        " u'$699,500',\n",
        " u'$395,000',\n",
        " u'$360,000',\n",
        " u'$140,000',\n",
        " u'$192,500',\n",
        " u'$80,000',\n",
        " u'$200,000',\n",
        " u'$405,000',\n",
        " u'$185,000',\n",
        " u'$60,000',\n",
        " u'$130,000',\n",
        " u'$132,000',\n",
        " u'$466,500',\n",
        " u'$639,500',\n",
        " u'$440,000',\n",
        " u'$299,000',\n",
        " u'$66,500',\n",
        " u'$160,000',\n",
        " u'$380,000',\n",
        " u'$160,000',\n",
        " u'$236,000',\n",
        " u'$377,500',\n",
        " u'$67,500',\n",
        " u'$295,000',\n",
        " u'$440,000',\n",
        " u'$3,625,000',\n",
        " u'$551,000',\n",
        " u'$281,200',\n",
        " u'$96,000',\n",
        " u'$615,000',\n",
        " u'$135,000',\n",
        " u'$242,000',\n",
        " u'$315,000',\n",
        " u'$603,500',\n",
        " u'$315,000',\n",
        " u'$125,000',\n",
        " u'$242,500',\n",
        " u'$683,000',\n",
        " u'$296,500',\n",
        " u'$100,000',\n",
        " u'$163,000',\n",
        " u'$215,000',\n",
        " u'$255,000',\n",
        " u'$73,000',\n",
        " u'$263,000',\n",
        " u'$619,000',\n",
        " u'$261,000',\n",
        " u'$353,000',\n",
        " u'$182,500',\n",
        " u'$235,000',\n",
        " u'$340,000',\n",
        " u'$745,000',\n",
        " u'$240,000',\n",
        " u'$960,000',\n",
        " u'$355,000',\n",
        " u'$299,000',\n",
        " u'$465,000',\n",
        " u'$587,000',\n",
        " u'$355,000',\n",
        " u'$170,000',\n",
        " u'$195,000',\n",
        " u'$295,000',\n",
        " u'$305,000',\n",
        " u'$563,000',\n",
        " u'$227,000',\n",
        " u'$1,178,000',\n",
        " u'$250,000',\n",
        " u'$338,000',\n",
        " u'$450,000',\n",
        " u'$240,000',\n",
        " u'$47,000',\n",
        " u'$185,000',\n",
        " u'$257,000',\n",
        " u'$107,000',\n",
        " u'$438,000',\n",
        " u'$140,000',\n",
        " u'$245,000',\n",
        " u'$305,000',\n",
        " u'$603,500',\n",
        " u'$85,000',\n",
        " u'$137,000',\n",
        " u'$230,000',\n",
        " u'$235,000',\n",
        " u'$585,000',\n",
        " u'$387,500',\n",
        " u'$206,000',\n",
        " u'$420,000',\n",
        " u'$169,000',\n",
        " u'$262,000',\n",
        " u'$102,500',\n",
        " u'$193,500',\n",
        " u'$49,000',\n",
        " u'$105,000',\n",
        " u'$119,000',\n",
        " u'$47,500',\n",
        " u'$47,000',\n",
        " u'$460,000',\n",
        " u'$55,000',\n",
        " u'$394,500',\n",
        " u'$48,500',\n",
        " u'$175,000',\n",
        " u'$241,000',\n",
        " u'$240,000',\n",
        " u'$327,000',\n",
        " u'$212,000',\n",
        " u'$452,000',\n",
        " u'$385,000',\n",
        " u'$699,000',\n",
        " u'$630,000',\n",
        " u'$192,000',\n",
        " u'$432,000',\n",
        " u'$249,000',\n",
        " u'$115,000',\n",
        " u'$465,000',\n",
        " u'$364,000',\n",
        " u'$149,000',\n",
        " u'$796,500',\n",
        " u'$195,000',\n",
        " u'$266,500',\n",
        " u'$317,000',\n",
        " u'$530,000',\n",
        " u'$235,000',\n",
        " u'$217,000',\n",
        " u'$102,500',\n",
        " u'$550,000',\n",
        " u'$349,000',\n",
        " u'$308,000',\n",
        " u'$395,000',\n",
        " u'$810,000',\n",
        " u'$615,000',\n",
        " u'$235,000',\n",
        " u'$125,000',\n",
        " u'$142,000',\n",
        " u'$298,000',\n",
        " u'$727,000',\n",
        " u'$384,000',\n",
        " u'$1,280,000',\n",
        " u'$695,000',\n",
        " u'$86,000',\n",
        " u'$255,000',\n",
        " u'$772,000',\n",
        " u'$435,000',\n",
        " u'$973,000',\n",
        " u'$193,000',\n",
        " u'$255,000',\n",
        " u'$310,000',\n",
        " u'$425,000',\n",
        " u'$440,000',\n",
        " u'$133,500',\n",
        " u'$169,500',\n",
        " u'$550,000',\n",
        " u'$372,000',\n",
        " u'$235,000',\n",
        " u'$160,000',\n",
        " u'$345,000',\n",
        " u'$442,000',\n",
        " u'$182,500',\n",
        " u'$437,500',\n",
        " u'$268,000',\n",
        " u'$438,000',\n",
        " u'$1,880,000',\n",
        " u'$349,000',\n",
        " u'$317,000',\n",
        " u'$95,000',\n",
        " u'$238,000',\n",
        " u'$255,000',\n",
        " u'$249,000',\n",
        " u'$623,000',\n",
        " u'$305,000',\n",
        " u'$240,000',\n",
        " u'$199,000',\n",
        " u'$308,000',\n",
        " u'$360,000',\n",
        " u'$256,500',\n",
        " u'$180,000',\n",
        " u'$376,500',\n",
        " u'$283,000',\n",
        " u'$434,000',\n",
        " u'$105,000',\n",
        " u'$169,000',\n",
        " u'$357,500',\n",
        " u'$57,000',\n",
        " u'$191,500',\n",
        " u'$245,000',\n",
        " u'$1,007,500',\n",
        " u'$350,000',\n",
        " u'$810,000',\n",
        " u'$317,500',\n",
        " u'$425,000',\n",
        " u'$135,000',\n",
        " u'$305,000',\n",
        " u'$113,500',\n",
        " u'$375,000',\n",
        " u'$412,000',\n",
        " u'$1,215,000',\n",
        " u'$166,000',\n",
        " u'$201,000',\n",
        " u'$118,500',\n",
        " u'$412,000',\n",
        " u'$630,000',\n",
        " u'$160,500',\n",
        " u'$90,500',\n",
        " u'$770,000',\n",
        " u'$517,500',\n",
        " u'$477,500',\n",
        " u'$520,000',\n",
        " u'$79,000',\n",
        " u'$420,000',\n",
        " u'$325,000',\n",
        " u'$115,000',\n",
        " u'$277,500',\n",
        " u'$242,000',\n",
        " u'$430,000',\n",
        " u'$98,000',\n",
        " u'$695,000',\n",
        " u'$169,000',\n",
        " u'$46,500',\n",
        " u'$385,000',\n",
        " u'$81,000',\n",
        " u'$178,500',\n",
        " u'$455,000',\n",
        " u'$405,000',\n",
        " u'$280,000',\n",
        " u'$210,000',\n",
        " u'$165,000',\n",
        " u'$113,000',\n",
        " u'$750,000',\n",
        " u'$1,350,000',\n",
        " u'$140,000',\n",
        " u'$115,000',\n",
        " u'$276,000',\n",
        " u'$747,500',\n",
        " u'$455,000',\n",
        " u'$65,000',\n",
        " u'$690,000',\n",
        " u'$269,000',\n",
        " u'$462,500',\n",
        " u'$230,000',\n",
        " u'$35,000',\n",
        " u'$328,000',\n",
        " u'$420,000',\n",
        " u'$360,000',\n",
        " u'$120,500',\n",
        " u'$325,000',\n",
        " u'$356,500',\n",
        " u'$60,000',\n",
        " u'$60,000',\n",
        " u'$65,000',\n",
        " u'$365,000',\n",
        " u'$195,000',\n",
        " u'$385,000',\n",
        " u'$269,000',\n",
        " u'$73,500',\n",
        " u'$780,000',\n",
        " u'$68,000',\n",
        " u'$288,000',\n",
        " u'$447,000',\n",
        " u'$175,000',\n",
        " u'$106,000',\n",
        " u'$188,500',\n",
        " u'$314,000',\n",
        " u'$260,000',\n",
        " u'$76,000',\n",
        " u'$218,000',\n",
        " u'$222,500',\n",
        " u'$318,500',\n",
        " u'$255,000',\n",
        " u'$50,000',\n",
        " u'$157,000',\n",
        " u'$155,500',\n",
        " u'$637,500',\n",
        " u'$279,000',\n",
        " u'$148,000',\n",
        " u'$76,000',\n",
        " u'$522,000',\n",
        " u'$232,500',\n",
        " u'$390,000',\n",
        " u'$735,000',\n",
        " u'$90,000',\n",
        " u'$660,000',\n",
        " u'$218,500',\n",
        " u'$115,000',\n",
        " u'$130,000',\n",
        " u'$126,000',\n",
        " u'$145,000',\n",
        " u'$115,000',\n",
        " u'$232,500',\n",
        " u'$335,000',\n",
        " u'$815,000',\n",
        " u'$225,500',\n",
        " u'$539,000',\n",
        " u'$180,000',\n",
        " u'$445,000',\n",
        " u'$258,000',\n",
        " u'$280,000',\n",
        " u'$1,260,000',\n",
        " u'$403,500',\n",
        " u'$92,000',\n",
        " u'$525,000',\n",
        " u'$872,500',\n",
        " u'$113,500',\n",
        " u'$425,000',\n",
        " u'$630,000',\n",
        " u'$43,000',\n",
        " u'$59,000',\n",
        " u'$125,000',\n",
        " u'$100,000',\n",
        " u'$370,000',\n",
        " u'$135,000',\n",
        " u'$365,000',\n",
        " u'$535,000',\n",
        " u'$1,274,000',\n",
        " u'$76,000',\n",
        " u'$200,000',\n",
        " u'$687,500',\n",
        " u'$270,000',\n",
        " u'$500,000',\n",
        " u'$179,000',\n",
        " u'$324,500',\n",
        " u'$254,000',\n",
        " u'$730,000',\n",
        " u'$156,500',\n",
        " u'$95,000',\n",
        " u'$280,000',\n",
        " u'$145,000',\n",
        " u'$424,500',\n",
        " u'$395,000',\n",
        " u'$460,000',\n",
        " u'$247,000',\n",
        " u'$435,000',\n",
        " u'$540,000',\n",
        " u'$192,000',\n",
        " u'$220,000',\n",
        " u'$912,500',\n",
        " u'$123,000',\n",
        " u'$235,000',\n",
        " u'$270,000',\n",
        " u'$394,000',\n",
        " u'$147,000',\n",
        " u'$24,000',\n",
        " u'$192,000',\n",
        " u'$322,000',\n",
        " u'$840,000',\n",
        " u'$295,000',\n",
        " u'$195,000',\n",
        " u'$358,000',\n",
        " u'$354,000',\n",
        " u'$850,000',\n",
        " u'$485,000',\n",
        " u'$439,000',\n",
        " u'$400,000',\n",
        " u'$185,000',\n",
        " u'$860,000',\n",
        " u'$194,000',\n",
        " u'$805,000',\n",
        " u'$130,000',\n",
        " u'$135,000',\n",
        " u'$650,000',\n",
        " u'$325,000',\n",
        " u'$659,000',\n",
        " u'$112,000',\n",
        " u'$275,000',\n",
        " u'$487,500',\n",
        " u'$342,000',\n",
        " u'$361,000',\n",
        " u'$336,000',\n",
        " u'$341,000',\n",
        " u'$508,000',\n",
        " u'$472,500',\n",
        " u'$445,500',\n",
        " u'$320,000',\n",
        " u'$198,000',\n",
        " u'$158,000',\n",
        " u'$147,000',\n",
        " u'$168,000',\n",
        " u'$450,000',\n",
        " u'$570,000',\n",
        " u'$240,000',\n",
        " u'$255,500',\n",
        " u'$72,500',\n",
        " u'$292,500',\n",
        " u'$133,000',\n",
        " u'$96,000',\n",
        " u'$370,000',\n",
        " u'$295,000',\n",
        " u'$709,000',\n",
        " u'$950,000',\n",
        " u'$773,000',\n",
        " u'$239,000',\n",
        " u'$67,500',\n",
        " u'$100,000',\n",
        " u'$66,500',\n",
        " u'$320,000',\n",
        " u'$326,000',\n",
        " u'$255,000',\n",
        " u'$515,000',\n",
        " u'$130,000',\n",
        " u'$378,500',\n",
        " u'$211,000',\n",
        " u'$335,000',\n",
        " u'$545,000',\n",
        " u'$413,000',\n",
        " u'$258,000',\n",
        " u'$475,000',\n",
        " u'$377,000',\n",
        " u'$170,000',\n",
        " u'$51,000',\n",
        " u'$436,000',\n",
        " u'$385,000',\n",
        " u'$230,000',\n",
        " u'$419,500',\n",
        " u'$390,000',\n",
        " u'$128,000',\n",
        " u'$98,000',\n",
        " u'$82,000',\n",
        " u'$255,000',\n",
        " u'$522,500',\n",
        " u'$485,000',\n",
        " u'$95,000',\n",
        " u'$273,000',\n",
        " u'$468,000',\n",
        " u'$60,000',\n",
        " u'$153,000',\n",
        " u'$35,000',\n",
        " u'$255,100',\n",
        " u'$575,000',\n",
        " u'$295,000',\n",
        " u'$440,000',\n",
        " u'$375,000',\n",
        " u'$335,000',\n",
        " u'$235,000',\n",
        " u'$185,000',\n",
        " u'$450,000',\n",
        " u'$245,000',\n",
        " u'$301,000',\n",
        " u'$370,000',\n",
        " u'$300,000',\n",
        " u'$687,000',\n",
        " u'$380,000',\n",
        " u'$340,000',\n",
        " u'$480,000',\n",
        " u'$534,000',\n",
        " u'$425,000',\n",
        " u'$67,500',\n",
        " u'$101,500',\n",
        " u'$217,500',\n",
        " u'$292,000',\n",
        " u'$485,000',\n",
        " u'$635,000',\n",
        " u'$20,000',\n",
        " u'$215,000',\n",
        " u'$552,500',\n",
        " u'$60,000',\n",
        " u'$362,000',\n",
        " u'$313,000',\n",
        " u'$1,037,000',\n",
        " u'$575,000',\n",
        " u'$415,000',\n",
        " u'$157,500',\n",
        " u'$602,500',\n",
        " u'$293,500',\n",
        " u'$315,000',\n",
        " u'$350,000',\n",
        " u'$437,500',\n",
        " u'$379,000',\n",
        " u'$635,000',\n",
        " u'$567,500',\n",
        " u'$172,000',\n",
        " u'$82,000',\n",
        " u'$500,000',\n",
        " u'$270,000',\n",
        " u'$350,000',\n",
        " u'$426,000',\n",
        " u'$472,500',\n",
        " u'$143,000',\n",
        " u'$150,000',\n",
        " u'$515,000',\n",
        " u'$211,500',\n",
        " u'$372,500',\n",
        " u'$172,500',\n",
        " u'$410,000',\n",
        " u'$177,000',\n",
        " u'$245,000',\n",
        " u'$155,000',\n",
        " u'$420,000',\n",
        " u'$710,000',\n",
        " u'$458,500',\n",
        " u'$192,000',\n",
        " u'$235,000',\n",
        " u'$201,000',\n",
        " u'$192,500',\n",
        " u'$258,000',\n",
        " u'$515,000',\n",
        " u'$102,500',\n",
        " u'$367,000',\n",
        " u'$100,000',\n",
        " u'$450,000',\n",
        " u'$1,500,000',\n",
        " u'$72,500',\n",
        " u'$41,000',\n",
        " u'$485,000',\n",
        " u'$120,000',\n",
        " u'$404,000',\n",
        " u'$610,000',\n",
        " u'$305,000',\n",
        " u'$240,000',\n",
        " u'$48,000',\n",
        " u'$305,000',\n",
        " u'$302,500',\n",
        " u'$473,000',\n",
        " u'$330,000',\n",
        " u'$139,000',\n",
        " u'$550,000',\n",
        " u'$216,500',\n",
        " u'$32,000',\n",
        " u'$446,500',\n",
        " u'$283,000',\n",
        " u'$180,000',\n",
        " u'$1,309,000',\n",
        " u'$730,000',\n",
        " u'$617,500',\n",
        " u'$181,500',\n",
        " u'$300,000',\n",
        " u'$406,000',\n",
        " u'$432,000',\n",
        " u'$115,000',\n",
        " u'$85,000',\n",
        " u'$83,000',\n",
        " u'$775,000',\n",
        " u'$265,000',\n",
        " u'$152,500',\n",
        " u'$440,000',\n",
        " u'$530,000',\n",
        " u'$93,500',\n",
        " u'$460,000',\n",
        " u'$415,000',\n",
        " u'$248,000',\n",
        " u'$335,000',\n",
        " u'$175,000',\n",
        " u'$331,000',\n",
        " u'$570,000',\n",
        " u'$203,500',\n",
        " u'$535,000',\n",
        " u'$150,000',\n",
        " u'$92,000',\n",
        " u'$580,000',\n",
        " u'$190,000',\n",
        " u'$340,500',\n",
        " u'$350,000',\n",
        " u'$135,000',\n",
        " u'$355,000',\n",
        " u'$120,000',\n",
        " u'$431,000',\n",
        " u'$555,000',\n",
        " u'$165,000',\n",
        " u'$216,000',\n",
        " u'$450,000',\n",
        " u'$360,000',\n",
        " u'$370,000',\n",
        " u'$211,000',\n",
        " u'$370,000',\n",
        " u'$25,000',\n",
        " u'$215,000',\n",
        " u'$100,000',\n",
        " u'$380,000',\n",
        " u'$357,500',\n",
        " u'$266,000',\n",
        " u'$155,000',\n",
        " u'$257,500',\n",
        " u'$110,000',\n",
        " u'$325,000',\n",
        " u'$265,000',\n",
        " u'$740,000',\n",
        " u'$249,000',\n",
        " u'$200,000',\n",
        " u'$680,000',\n",
        " u'$285,000',\n",
        " u'$233,500',\n",
        " u'$149,000',\n",
        " u'$649,000',\n",
        " u'$149,000',\n",
        " u'$387,000',\n",
        " u'$780,000',\n",
        " u'$521,500',\n",
        " u'$590,000',\n",
        " u'$390,000',\n",
        " u'$350,000',\n",
        " u'$67,000',\n",
        " u'$1,250,000',\n",
        " u'$40,000',\n",
        " u'$90,900',\n",
        " u'$49,000',\n",
        " u'$400,000',\n",
        " u'$79,000',\n",
        " u'$208,500',\n",
        " u'$190,000',\n",
        " u'$792,500',\n",
        " u'$281,500',\n",
        " u'$332,000',\n",
        " u'$212,500',\n",
        " u'$289,000',\n",
        " u'$630,000',\n",
        " u'$630,000',\n",
        " u'$75,500',\n",
        " u'$213,000',\n",
        " u'$569,000',\n",
        " u'$27,500',\n",
        " u'$62,500',\n",
        " u'$454,000',\n",
        " u'$220,000',\n",
        " u'$234,000',\n",
        " u'$80,000',\n",
        " u'$80,000',\n",
        " u'$275,000',\n",
        " u'$99,500',\n",
        " u'$145,000',\n",
        " u'$155,000',\n",
        " u'$480,000',\n",
        " u'$442,500',\n",
        " u'$68,000',\n",
        " u'$136,000',\n",
        " u'$87,000',\n",
        " ...]"
       ]
      }
     ],
     "prompt_number": 29
    },
    {
     "cell_type": "code",
     "collapsed": false,
     "input": [
      "lats[-1]"
     ],
     "language": "python",
     "metadata": {},
     "outputs": [
      {
       "metadata": {},
       "output_type": "pyout",
       "prompt_number": 28,
       "text": [
        "'41.886562'"
       ]
      }
     ],
     "prompt_number": 28
    },
    {
     "cell_type": "code",
     "collapsed": false,
     "input": [
      "df.to_csv('../data/priceLatLngAll.csv')"
     ],
     "language": "python",
     "metadata": {},
     "outputs": [],
     "prompt_number": 310
    },
    {
     "cell_type": "code",
     "collapsed": false,
     "input": [
      "df[50:80]"
     ],
     "language": "python",
     "metadata": {},
     "outputs": [
      {
       "html": [
        "<div style=\"max-height:1000px;max-width:1500px;overflow:auto;\">\n",
        "<table border=\"1\" class=\"dataframe\">\n",
        "  <thead>\n",
        "    <tr style=\"text-align: right;\">\n",
        "      <th></th>\n",
        "      <th>lat</th>\n",
        "      <th>lon</th>\n",
        "      <th>price</th>\n",
        "      <th>htype</th>\n",
        "      <th>comm</th>\n",
        "    </tr>\n",
        "  </thead>\n",
        "  <tbody>\n",
        "    <tr>\n",
        "      <th>50</th>\n",
        "      <td> 41.975784</td>\n",
        "      <td>-87.678430</td>\n",
        "      <td>  38000</td>\n",
        "      <td>     Condo</td>\n",
        "      <td>  Lincoln Square</td>\n",
        "    </tr>\n",
        "    <tr>\n",
        "      <th>51</th>\n",
        "      <td> 41.908245</td>\n",
        "      <td>-87.629740</td>\n",
        "      <td>  78000</td>\n",
        "      <td>     Condo</td>\n",
        "      <td> Near North Side</td>\n",
        "    </tr>\n",
        "    <tr>\n",
        "      <th>52</th>\n",
        "      <td> 41.909126</td>\n",
        "      <td>-87.649895</td>\n",
        "      <td>  41000</td>\n",
        "      <td>     Condo</td>\n",
        "      <td> Near North Side</td>\n",
        "    </tr>\n",
        "    <tr>\n",
        "      <th>53</th>\n",
        "      <td> 41.909126</td>\n",
        "      <td>-87.649895</td>\n",
        "      <td>  42000</td>\n",
        "      <td>     Condo</td>\n",
        "      <td> Near North Side</td>\n",
        "    </tr>\n",
        "    <tr>\n",
        "      <th>54</th>\n",
        "      <td> 41.965004</td>\n",
        "      <td>-87.664220</td>\n",
        "      <td>  99000</td>\n",
        "      <td>     Condo</td>\n",
        "      <td>          Uptown</td>\n",
        "    </tr>\n",
        "    <tr>\n",
        "      <th>55</th>\n",
        "      <td> 41.931946</td>\n",
        "      <td>-87.645720</td>\n",
        "      <td>  15000</td>\n",
        "      <td>     Condo</td>\n",
        "      <td>    Lincoln Park</td>\n",
        "    </tr>\n",
        "    <tr>\n",
        "      <th>56</th>\n",
        "      <td> 41.897810</td>\n",
        "      <td>-87.634926</td>\n",
        "      <td>  80000</td>\n",
        "      <td>     Condo</td>\n",
        "      <td> Near North Side</td>\n",
        "    </tr>\n",
        "    <tr>\n",
        "      <th>57</th>\n",
        "      <td> 41.968240</td>\n",
        "      <td>-87.703060</td>\n",
        "      <td>  81000</td>\n",
        "      <td>     Condo</td>\n",
        "      <td>     Albany Park</td>\n",
        "    </tr>\n",
        "    <tr>\n",
        "      <th>58</th>\n",
        "      <td> 41.918804</td>\n",
        "      <td>-87.636990</td>\n",
        "      <td>  45000</td>\n",
        "      <td>     Condo</td>\n",
        "      <td>    Lincoln Park</td>\n",
        "    </tr>\n",
        "    <tr>\n",
        "      <th>59</th>\n",
        "      <td> 41.902214</td>\n",
        "      <td>-87.625930</td>\n",
        "      <td>  19000</td>\n",
        "      <td>     Condo</td>\n",
        "      <td> Near North Side</td>\n",
        "    </tr>\n",
        "    <tr>\n",
        "      <th>60</th>\n",
        "      <td> 41.901370</td>\n",
        "      <td>-87.624680</td>\n",
        "      <td>  40000</td>\n",
        "      <td>     Condo</td>\n",
        "      <td> Near North Side</td>\n",
        "    </tr>\n",
        "    <tr>\n",
        "      <th>61</th>\n",
        "      <td> 41.889584</td>\n",
        "      <td>-87.633060</td>\n",
        "      <td>  69500</td>\n",
        "      <td>     Condo</td>\n",
        "      <td> Near North Side</td>\n",
        "    </tr>\n",
        "    <tr>\n",
        "      <th>62</th>\n",
        "      <td> 41.893677</td>\n",
        "      <td>-87.641045</td>\n",
        "      <td>  95000</td>\n",
        "      <td>     Condo</td>\n",
        "      <td> Near North Side</td>\n",
        "    </tr>\n",
        "    <tr>\n",
        "      <th>63</th>\n",
        "      <td> 41.979313</td>\n",
        "      <td>-87.689964</td>\n",
        "      <td>   5000</td>\n",
        "      <td>     Condo</td>\n",
        "      <td>  Lincoln Square</td>\n",
        "    </tr>\n",
        "    <tr>\n",
        "      <th>64</th>\n",
        "      <td> 41.898716</td>\n",
        "      <td>-87.620940</td>\n",
        "      <td>  83000</td>\n",
        "      <td>     Condo</td>\n",
        "      <td> Near North Side</td>\n",
        "    </tr>\n",
        "    <tr>\n",
        "      <th>65</th>\n",
        "      <td> 41.896347</td>\n",
        "      <td>-87.697070</td>\n",
        "      <td>  35000</td>\n",
        "      <td>     Condo</td>\n",
        "      <td>       West Town</td>\n",
        "    </tr>\n",
        "    <tr>\n",
        "      <th>66</th>\n",
        "      <td> 41.964466</td>\n",
        "      <td>-87.706116</td>\n",
        "      <td>      0</td>\n",
        "      <td>     Condo</td>\n",
        "      <td>     Albany Park</td>\n",
        "    </tr>\n",
        "    <tr>\n",
        "      <th>67</th>\n",
        "      <td> 41.899834</td>\n",
        "      <td>-87.620810</td>\n",
        "      <td>   5000</td>\n",
        "      <td>     Condo</td>\n",
        "      <td> Near North Side</td>\n",
        "    </tr>\n",
        "    <tr>\n",
        "      <th>68</th>\n",
        "      <td> 41.909607</td>\n",
        "      <td>-87.632470</td>\n",
        "      <td>  77500</td>\n",
        "      <td>     Condo</td>\n",
        "      <td> Near North Side</td>\n",
        "    </tr>\n",
        "    <tr>\n",
        "      <th>69</th>\n",
        "      <td> 41.893677</td>\n",
        "      <td>-87.641045</td>\n",
        "      <td>  95000</td>\n",
        "      <td>     Condo</td>\n",
        "      <td> Near North Side</td>\n",
        "    </tr>\n",
        "    <tr>\n",
        "      <th>70</th>\n",
        "      <td> 41.899970</td>\n",
        "      <td>-87.698400</td>\n",
        "      <td>  55000</td>\n",
        "      <td>     Condo</td>\n",
        "      <td>       West Town</td>\n",
        "    </tr>\n",
        "    <tr>\n",
        "      <th>71</th>\n",
        "      <td> 41.901210</td>\n",
        "      <td>-87.628040</td>\n",
        "      <td>  43000</td>\n",
        "      <td>     Condo</td>\n",
        "      <td> Near North Side</td>\n",
        "    </tr>\n",
        "    <tr>\n",
        "      <th>72</th>\n",
        "      <td> 41.971375</td>\n",
        "      <td>-87.655876</td>\n",
        "      <td>  92500</td>\n",
        "      <td>     Condo</td>\n",
        "      <td>          Uptown</td>\n",
        "    </tr>\n",
        "    <tr>\n",
        "      <th>73</th>\n",
        "      <td> 41.900880</td>\n",
        "      <td>-87.629486</td>\n",
        "      <td> 625000</td>\n",
        "      <td>     Condo</td>\n",
        "      <td> Near North Side</td>\n",
        "    </tr>\n",
        "    <tr>\n",
        "      <th>74</th>\n",
        "      <td> 41.920414</td>\n",
        "      <td>-87.638440</td>\n",
        "      <td>  40000</td>\n",
        "      <td>     Condo</td>\n",
        "      <td>    Lincoln Park</td>\n",
        "    </tr>\n",
        "    <tr>\n",
        "      <th>75</th>\n",
        "      <td> 41.893143</td>\n",
        "      <td>-87.620640</td>\n",
        "      <td>  40000</td>\n",
        "      <td>     Condo</td>\n",
        "      <td> Near North Side</td>\n",
        "    </tr>\n",
        "    <tr>\n",
        "      <th>76</th>\n",
        "      <td> 41.908870</td>\n",
        "      <td>-87.640656</td>\n",
        "      <td>  60000</td>\n",
        "      <td> Townhouse</td>\n",
        "      <td> Near North Side</td>\n",
        "    </tr>\n",
        "    <tr>\n",
        "      <th>77</th>\n",
        "      <td> 41.930810</td>\n",
        "      <td>-87.640010</td>\n",
        "      <td>  15000</td>\n",
        "      <td>     Condo</td>\n",
        "      <td>    Lincoln Park</td>\n",
        "    </tr>\n",
        "    <tr>\n",
        "      <th>78</th>\n",
        "      <td> 41.964380</td>\n",
        "      <td>-87.710980</td>\n",
        "      <td>  57000</td>\n",
        "      <td>     Condo</td>\n",
        "      <td>     Albany Park</td>\n",
        "    </tr>\n",
        "    <tr>\n",
        "      <th>79</th>\n",
        "      <td> 41.894550</td>\n",
        "      <td>-87.635210</td>\n",
        "      <td>  63000</td>\n",
        "      <td>     Condo</td>\n",
        "      <td> Near North Side</td>\n",
        "    </tr>\n",
        "  </tbody>\n",
        "</table>\n",
        "</div>"
       ],
       "metadata": {},
       "output_type": "pyout",
       "prompt_number": 313,
       "text": [
        "          lat        lon   price      htype             comm\n",
        "50  41.975784 -87.678430   38000      Condo   Lincoln Square\n",
        "51  41.908245 -87.629740   78000      Condo  Near North Side\n",
        "52  41.909126 -87.649895   41000      Condo  Near North Side\n",
        "53  41.909126 -87.649895   42000      Condo  Near North Side\n",
        "54  41.965004 -87.664220   99000      Condo           Uptown\n",
        "55  41.931946 -87.645720   15000      Condo     Lincoln Park\n",
        "56  41.897810 -87.634926   80000      Condo  Near North Side\n",
        "57  41.968240 -87.703060   81000      Condo      Albany Park\n",
        "58  41.918804 -87.636990   45000      Condo     Lincoln Park\n",
        "59  41.902214 -87.625930   19000      Condo  Near North Side\n",
        "60  41.901370 -87.624680   40000      Condo  Near North Side\n",
        "61  41.889584 -87.633060   69500      Condo  Near North Side\n",
        "62  41.893677 -87.641045   95000      Condo  Near North Side\n",
        "63  41.979313 -87.689964    5000      Condo   Lincoln Square\n",
        "64  41.898716 -87.620940   83000      Condo  Near North Side\n",
        "65  41.896347 -87.697070   35000      Condo        West Town\n",
        "66  41.964466 -87.706116       0      Condo      Albany Park\n",
        "67  41.899834 -87.620810    5000      Condo  Near North Side\n",
        "68  41.909607 -87.632470   77500      Condo  Near North Side\n",
        "69  41.893677 -87.641045   95000      Condo  Near North Side\n",
        "70  41.899970 -87.698400   55000      Condo        West Town\n",
        "71  41.901210 -87.628040   43000      Condo  Near North Side\n",
        "72  41.971375 -87.655876   92500      Condo           Uptown\n",
        "73  41.900880 -87.629486  625000      Condo  Near North Side\n",
        "74  41.920414 -87.638440   40000      Condo     Lincoln Park\n",
        "75  41.893143 -87.620640   40000      Condo  Near North Side\n",
        "76  41.908870 -87.640656   60000  Townhouse  Near North Side\n",
        "77  41.930810 -87.640010   15000      Condo     Lincoln Park\n",
        "78  41.964380 -87.710980   57000      Condo      Albany Park\n",
        "79  41.894550 -87.635210   63000      Condo  Near North Side"
       ]
      }
     ],
     "prompt_number": 313
    }
   ],
   "metadata": {}
  }
 ]
}