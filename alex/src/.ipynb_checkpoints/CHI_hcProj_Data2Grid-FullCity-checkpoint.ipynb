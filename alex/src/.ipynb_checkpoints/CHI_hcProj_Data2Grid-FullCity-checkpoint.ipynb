{
 "metadata": {
  "name": "",
  "signature": "sha256:723efe340df84b67247436fa77370e4dd129ed0631d12dad6c34f4fdd849026b"
 },
 "nbformat": 3,
 "nbformat_minor": 0,
 "worksheets": [
  {
   "cells": [
    {
     "cell_type": "code",
     "collapsed": false,
     "input": [
      "import numpy as np\n",
      "import pandas as pd\n",
      "import matplotlib.pylab as plt"
     ],
     "language": "python",
     "metadata": {},
     "outputs": [],
     "prompt_number": 1
    },
    {
     "cell_type": "code",
     "collapsed": false,
     "input": [
      "# Read City of Chicago Crime Data\n",
      "\n",
      "df_crimeDataR = pd.read_csv('../data/Crimes_-_2001_to_present.csv', \n",
      "                            iterator=True, chunksize=1000, nrows=10000000, usecols = [2,3]+range(5,15)+[17,19,20])\n",
      "df_crimeDataR.rename(columns = {'Community Area':'comNum', 'Latitude':'lat', 'Longitude':'lng'}, inplace=True)\n",
      "\n",
      "# The following converts all the comNums into the same format:\n",
      "def convert_to_float(x):\n",
      "    if type(x)==type('hello'): # type string\n",
      "        if x.isdigit()==True:\n",
      "            return float(x)\n",
      "        else:\n",
      "            return 0.\n",
      "    elif type(x)==type(1): # type integer\n",
      "        return float(x)\n",
      "    elif type(x)==type(1.): # type float\n",
      "        if np.isnan(x):\n",
      "            return 0.\n",
      "        else:\n",
      "            return x\n",
      "    else:\n",
      "        return 0.\n",
      "\n",
      "df_crimeDataR.comNum = df_crimeDataR.comNum.apply(convert_to_float) # converts comNums to floats\n",
      "df_crimeDataR['Month'] = df_crimeDataR.Date.apply(lambda x: float(x.split('/')[0])) # gets month\n",
      "#df_crimeDataR['Date'] = pd.to_datetime(df_crimeDataR.Date) # This code is currently killing my Kernel\n",
      "df_crimeDataR['DateYr'] = df_crimeDataR.Year + (df_crimeDataR.Month-1)/12 # data in fraction of the year (by month)\n",
      "\n",
      "df_recCr = df_crimeDataR[df_crimeDataR.Year >= 2013]\n",
      "df_recCr['gridNum'] = 0 #Initializes grid numbers, which will be counted from (bottom-left rightward, and end at the top-right)\n",
      "df_recCr_HOMI = df_recCr[df_recCr['Primary Type'] == 'HOMICIDE']\n",
      "df_recCr_BURG = df_recCr[df_recCr['Primary Type'] == 'BURGLARY']\n",
      "df_recCr_NARC = df_recCr[df_recCr['Primary Type'] == 'NARCOTICS']"
     ],
     "language": "python",
     "metadata": {},
     "outputs": [
      {
       "output_type": "stream",
       "stream": "stderr",
       "text": [
        "/home/aloosley/anaconda/lib/python2.7/site-packages/pandas/io/parsers.py:1130: DtypeWarning: Columns (13) have mixed types. Specify dtype option on import or set low_memory=False.\n",
        "  data = self._reader.read(nrows)\n"
       ]
      }
     ],
     "prompt_number": 2
    },
    {
     "cell_type": "markdown",
     "metadata": {},
     "source": [
      "comNums = [3,4,5,6,7,8,14,16,20,21,22,23,24]\n",
      "df_recCr = df_crimeDataR[df_crimeDataR.Year >= 2013]\n",
      "df_recCr['gridNum'] = 0 #Initializes grid numbers, which will be counted from (bottom-left rightward, and end at the top-right)"
     ]
    },
    {
     "cell_type": "code",
     "collapsed": false,
     "input": [
      "class DataGrids(object):\n",
      "    # Constructor\n",
      "    def __init__(self, data, tarCol, gData):\n",
      "        # Input a pandas DataFrame called data with a lat and lng column,\n",
      "        # a target column to aggregate (tarCol), and grid data (gData)\n",
      "        self.data = data\n",
      "        self.tarCol = tarCol\n",
      "        self.gData = gData\n",
      "        \n",
      "    def AssignGridValues(self):\n",
      "        \n",
      "        try:\n",
      "            self.data.gridNum = 0 # If this doesn't exist, the except initializes it\n",
      "        except:\n",
      "            self.data['gridNum'] = 0\n",
      "            \n",
      "        # The for loops start at the bottom-left, and col upward to the top before\n",
      "        # moving one column to the right and repeating\n",
      "        #\n",
      "        # This can be done better with a map reduce (see assignGridValues_MR method)\n",
      "        gCount = 1\n",
      "        for gXidx in range(self.gData['gNumX']):\n",
      "            for gYidx in range(self.gData['gNumY']):\n",
      "                self.data.loc[(self.data.lat >=self.gData['bottom']+self.gData['gSpaceY']*gYidx) & \n",
      "                              (self.data.lat < self.gData['bottom']+self.gData['gSpaceY']*(gYidx+1)) &\n",
      "                              (self.data.lng >=self.gData['left']  +self.gData['gSpaceX']*gXidx) &\n",
      "                              (self.data.lng < self.gData['left']  +self.gData['gSpaceX']*(gXidx+1)),'gridNum'] = gCount\n",
      "                gCount += 1\n",
      "                if gCount % 100 == 0:\n",
      "                    print gCount\n",
      "                if gCount==self.gData['gNumX']*self.gData['gNumY']//2:\n",
      "                    print '50% complete' \n",
      "        print '100% complete'\n",
      "        \n",
      "        self.gb = self.data.groupby('gridNum')\n",
      "        return self.data\n",
      "    \n",
      "    def AggDataByGrid(self,f):\n",
      "        try:\n",
      "            return self.gb.apply(f)\n",
      "        except:\n",
      "            print(\"Call AssignGridValues() before calling AggDataByGrid(f), or make sure f is a defined function to apply to df\")\n",
      "            return None\n",
      "        \n",
      "    def get_gLatLngs(self):\n",
      "        self.gLat = []\n",
      "        self.gLng = []\n",
      "        for gXidx in range(self.gData['gNumX']):\n",
      "            for gYidx in range(self.gData['gNumY']):\n",
      "                self.gLat.append(self.gData['bottom']+self.gData['gSpaceY']*(gYidx+0.5))\n",
      "                self.gLng.append(self.gData['left']+self.gData['gSpaceX']*(gXidx+0.5))\n",
      "    \n",
      "        return np.array(self.gLat), np.array(self.gLng)\n",
      "        "
     ],
     "language": "python",
     "metadata": {},
     "outputs": [],
     "prompt_number": 227
    },
    {
     "cell_type": "code",
     "collapsed": false,
     "input": [
      "gData = {\n",
      "    'top': 42.03,\n",
      "    'bottom': 41.64,\n",
      "    'left': -87.89,\n",
      "    'right': -87.52,\n",
      "    'gNumX': 30,\n",
      "    'gNumY': 40,\n",
      "    'milesPerLat': 111.2 * 0.621371, # miles/lat (near Chi) - these numbers are km/unit * mi/km\n",
      "    'milesPerLng': 82.63 * 0.621371 # miles/lng (near Chi)\n",
      "}\n",
      "gData['gSpaceX'] = (gData['right'] - gData['left'])/gData['gNumX']\n",
      "gData['gSpaceY'] = (gData['top'] - gData['bottom'])/gData['gNumY']\n",
      "gData['gridArea'] = gData['gSpaceX']*gData['milesPerLng'] * gData['gSpaceY']*gData['milesPerLat']\n",
      "\n",
      "# Aggregate Data into Grids\n",
      "crDataGrid = DataGrids(df_recCr,1,gData)\n",
      "df_recCr = crDataGrid.AssignGridValues()\n",
      "df_recCr_gAllCrime = crDataGrid.AggDataByGrid(lambda x: len(x)) # total number of crimes per grid (gridNum = 0, all crimes outside of grid)\n",
      "df_recCr_gComNum = np.round(crDataGrid.gb.mean(),0).comNum # Calculates Community Numbers Corresponding to Each Gridcbv\n",
      "gLat, gLng = crDataGrid.get_gLatLngs()"
     ],
     "language": "python",
     "metadata": {},
     "outputs": [
      {
       "output_type": "stream",
       "stream": "stdout",
       "text": [
        "100\n",
        "200"
       ]
      },
      {
       "output_type": "stream",
       "stream": "stdout",
       "text": [
        "\n",
        "300"
       ]
      },
      {
       "output_type": "stream",
       "stream": "stdout",
       "text": [
        "\n",
        "400"
       ]
      },
      {
       "output_type": "stream",
       "stream": "stdout",
       "text": [
        "\n",
        "500"
       ]
      },
      {
       "output_type": "stream",
       "stream": "stdout",
       "text": [
        "\n",
        "600"
       ]
      },
      {
       "output_type": "stream",
       "stream": "stdout",
       "text": [
        "\n",
        "50% complete\n",
        "700"
       ]
      },
      {
       "output_type": "stream",
       "stream": "stdout",
       "text": [
        "\n",
        "800"
       ]
      },
      {
       "output_type": "stream",
       "stream": "stdout",
       "text": [
        "\n",
        "900"
       ]
      },
      {
       "output_type": "stream",
       "stream": "stdout",
       "text": [
        "\n",
        "1000"
       ]
      },
      {
       "output_type": "stream",
       "stream": "stdout",
       "text": [
        "\n",
        "1100"
       ]
      },
      {
       "output_type": "stream",
       "stream": "stdout",
       "text": [
        "\n",
        "1200"
       ]
      },
      {
       "output_type": "stream",
       "stream": "stdout",
       "text": [
        "\n",
        "100% complete"
       ]
      },
      {
       "output_type": "stream",
       "stream": "stdout",
       "text": [
        "\n"
       ]
      }
     ],
     "prompt_number": 228
    },
    {
     "cell_type": "code",
     "collapsed": false,
     "input": [
      "# Homicides, Burglaries, Narcotics\n",
      "# Aggregate Data into Grids\n",
      "def get_grid_data(df,f,gData):\n",
      "    DataGrid = DataGrids(df,1,gData)\n",
      "    data = DataGrid.AssignGridValues()\n",
      "    return DataGrid.AggDataByGrid(f)\n",
      "\n",
      "df_recCr_gHOMI = get_grid_data(df_recCr_HOMI,(lambda x: len(x)),gData)\n",
      "df_recCr_gBURG = get_grid_data(df_recCr_BURG,(lambda x: len(x)),gData)\n",
      "df_recCr_gNARC = get_grid_data(df_recCr_NARC,(lambda x: len(x)),gData)"
     ],
     "language": "python",
     "metadata": {},
     "outputs": [
      {
       "output_type": "stream",
       "stream": "stdout",
       "text": [
        "100\n",
        "200"
       ]
      },
      {
       "output_type": "stream",
       "stream": "stdout",
       "text": [
        "\n",
        "300"
       ]
      },
      {
       "output_type": "stream",
       "stream": "stdout",
       "text": [
        "\n",
        "400"
       ]
      },
      {
       "output_type": "stream",
       "stream": "stdout",
       "text": [
        "\n",
        "500"
       ]
      },
      {
       "output_type": "stream",
       "stream": "stdout",
       "text": [
        "\n",
        "600"
       ]
      },
      {
       "output_type": "stream",
       "stream": "stdout",
       "text": [
        "\n",
        "50% complete\n",
        "700"
       ]
      },
      {
       "output_type": "stream",
       "stream": "stdout",
       "text": [
        "\n",
        "800"
       ]
      },
      {
       "output_type": "stream",
       "stream": "stdout",
       "text": [
        "\n",
        "900"
       ]
      },
      {
       "output_type": "stream",
       "stream": "stdout",
       "text": [
        "\n",
        "1000"
       ]
      },
      {
       "output_type": "stream",
       "stream": "stdout",
       "text": [
        "\n",
        "1100"
       ]
      },
      {
       "output_type": "stream",
       "stream": "stdout",
       "text": [
        "\n",
        "1200"
       ]
      },
      {
       "output_type": "stream",
       "stream": "stdout",
       "text": [
        "\n",
        "100% complete\n",
        "100"
       ]
      },
      {
       "output_type": "stream",
       "stream": "stdout",
       "text": [
        "\n",
        "200"
       ]
      },
      {
       "output_type": "stream",
       "stream": "stdout",
       "text": [
        "\n",
        "300"
       ]
      },
      {
       "output_type": "stream",
       "stream": "stdout",
       "text": [
        "\n",
        "400"
       ]
      },
      {
       "output_type": "stream",
       "stream": "stdout",
       "text": [
        "\n",
        "500"
       ]
      },
      {
       "output_type": "stream",
       "stream": "stdout",
       "text": [
        "\n",
        "600"
       ]
      },
      {
       "output_type": "stream",
       "stream": "stdout",
       "text": [
        "\n",
        "50% complete\n",
        "700"
       ]
      },
      {
       "output_type": "stream",
       "stream": "stdout",
       "text": [
        "\n",
        "800"
       ]
      },
      {
       "output_type": "stream",
       "stream": "stdout",
       "text": [
        "\n",
        "900"
       ]
      },
      {
       "output_type": "stream",
       "stream": "stdout",
       "text": [
        "\n",
        "1000"
       ]
      },
      {
       "output_type": "stream",
       "stream": "stdout",
       "text": [
        "\n",
        "1100"
       ]
      },
      {
       "output_type": "stream",
       "stream": "stdout",
       "text": [
        "\n",
        "1200"
       ]
      },
      {
       "output_type": "stream",
       "stream": "stdout",
       "text": [
        "\n",
        "100% complete\n",
        "100"
       ]
      },
      {
       "output_type": "stream",
       "stream": "stdout",
       "text": [
        "\n",
        "200"
       ]
      },
      {
       "output_type": "stream",
       "stream": "stdout",
       "text": [
        "\n",
        "300"
       ]
      },
      {
       "output_type": "stream",
       "stream": "stdout",
       "text": [
        "\n",
        "400"
       ]
      },
      {
       "output_type": "stream",
       "stream": "stdout",
       "text": [
        "\n",
        "500"
       ]
      },
      {
       "output_type": "stream",
       "stream": "stdout",
       "text": [
        "\n",
        "600"
       ]
      },
      {
       "output_type": "stream",
       "stream": "stdout",
       "text": [
        "\n",
        "50% complete\n",
        "700"
       ]
      },
      {
       "output_type": "stream",
       "stream": "stdout",
       "text": [
        "\n",
        "800"
       ]
      },
      {
       "output_type": "stream",
       "stream": "stdout",
       "text": [
        "\n",
        "900"
       ]
      },
      {
       "output_type": "stream",
       "stream": "stdout",
       "text": [
        "\n",
        "1000"
       ]
      },
      {
       "output_type": "stream",
       "stream": "stdout",
       "text": [
        "\n",
        "1100"
       ]
      },
      {
       "output_type": "stream",
       "stream": "stdout",
       "text": [
        "\n",
        "1200"
       ]
      },
      {
       "output_type": "stream",
       "stream": "stdout",
       "text": [
        "\n",
        "100% complete"
       ]
      },
      {
       "output_type": "stream",
       "stream": "stdout",
       "text": [
        "\n"
       ]
      }
     ],
     "prompt_number": 5
    },
    {
     "cell_type": "code",
     "collapsed": false,
     "input": [
      "df_recCr_gNARC.plot()"
     ],
     "language": "python",
     "metadata": {},
     "outputs": [
      {
       "metadata": {},
       "output_type": "pyout",
       "prompt_number": 10,
       "text": [
        "<matplotlib.axes.AxesSubplot at 0x7f6dbd2f8f90>"
       ]
      },
      {
       "metadata": {},
       "output_type": "display_data",
       "png": "[encoded data removed]",
       "text": [
        "<matplotlib.figure.Figure at 0x7f6dbd38c8d0>"
       ]
      }
     ],
     "prompt_number": 10
    },
    {
     "cell_type": "code",
     "collapsed": false,
     "input": [
      "# Read Scraped Price Data:\n",
      "df_hPrices = pd.read_csv('../data/priceLatLngAll.csv')\n",
      "\n",
      "# Function for Aggregating Means (only aggregate means if number of data points greater than minVal):\n",
      "def meanPrice(gb,minVal):\n",
      "    if (len(gb) >= minVal):\n",
      "        return np.round(mean(gb.price),0)\n",
      "    else:\n",
      "        return 0\n",
      "    \n",
      "prDataGrid = DataGrids(df_hPrices,1,gData)\n",
      "df_recPr = prDataGrid.AssignGridValues()\n",
      "df_recPr_gMeanPrice = np.round(prDataGrid.gb.apply(meanPrice,1),0)\n",
      "df_recPr_gNumPrices = prDataGrid.gb.apply(lambda x: len(x))"
     ],
     "language": "python",
     "metadata": {},
     "outputs": [
      {
       "output_type": "stream",
       "stream": "stdout",
       "text": [
        "100\n",
        "200"
       ]
      },
      {
       "output_type": "stream",
       "stream": "stdout",
       "text": [
        "\n",
        "300"
       ]
      },
      {
       "output_type": "stream",
       "stream": "stdout",
       "text": [
        "\n",
        "400"
       ]
      },
      {
       "output_type": "stream",
       "stream": "stdout",
       "text": [
        "\n",
        "500"
       ]
      },
      {
       "output_type": "stream",
       "stream": "stdout",
       "text": [
        "\n",
        "600"
       ]
      },
      {
       "output_type": "stream",
       "stream": "stdout",
       "text": [
        "\n",
        "50% complete\n",
        "700"
       ]
      },
      {
       "output_type": "stream",
       "stream": "stdout",
       "text": [
        "\n",
        "800"
       ]
      },
      {
       "output_type": "stream",
       "stream": "stdout",
       "text": [
        "\n",
        "900"
       ]
      },
      {
       "output_type": "stream",
       "stream": "stdout",
       "text": [
        "\n",
        "1000"
       ]
      },
      {
       "output_type": "stream",
       "stream": "stdout",
       "text": [
        "\n",
        "1100"
       ]
      },
      {
       "output_type": "stream",
       "stream": "stdout",
       "text": [
        "\n",
        "1200"
       ]
      },
      {
       "output_type": "stream",
       "stream": "stdout",
       "text": [
        "\n",
        "100% complete\n"
       ]
      }
     ],
     "prompt_number": 38
    },
    {
     "cell_type": "code",
     "collapsed": false,
     "input": [
      "# Loading and Gridding School Data\n",
      "df_schools = pd.read_csv('../data/Chicago_Public_Schools_-_Progress_Report_Cards__2011-2012_.csv',\n",
      "                         usecols = [2]+range(17,34,2)+[72,73,74])\n",
      "\n",
      "# Switching to Standardized Column Names (for merges)\n",
      "df_schools.rename(columns = {'Latitude':'lat', 'Longitude':'lng', 'Community Area Number':'comNum'}, inplace=True)\n",
      "df_schools = df_schools.replace({'NDA':np.nan},regex=True)\n",
      "\n",
      "# The question is, how to aggregate school performace numbers into grid spaces\n",
      "#df_schools.iloc[:,:10].apply(lambda x: nan if type(x)==type('hello') else x)\n",
      "\n",
      "df_schools['avgScore'] = df_schools.iloc[:,1:9].mean(axis =1)\n",
      "df_schoolsForGriding = df_schools.iloc[:,-5:]\n",
      "scDataGrid = DataGrids(df_schoolsForGriding,1,gData)\n",
      "df_recSc = scDataGrid.AssignGridValues()\n",
      "df_recSc_gSchScore = np.round(scDataGrid.gb.avgScore.mean(),2)\n",
      "df_recSc_gNumSch = scDataGrid.gb.apply(lambda x: len(x))"
     ],
     "language": "python",
     "metadata": {},
     "outputs": [
      {
       "output_type": "stream",
       "stream": "stdout",
       "text": [
        "100\n",
        "200"
       ]
      },
      {
       "output_type": "stream",
       "stream": "stdout",
       "text": [
        "\n",
        "300"
       ]
      },
      {
       "output_type": "stream",
       "stream": "stdout",
       "text": [
        "\n",
        "400"
       ]
      },
      {
       "output_type": "stream",
       "stream": "stdout",
       "text": [
        "\n",
        "500"
       ]
      },
      {
       "output_type": "stream",
       "stream": "stdout",
       "text": [
        "\n",
        "600"
       ]
      },
      {
       "output_type": "stream",
       "stream": "stdout",
       "text": [
        "\n",
        "50% complete\n",
        "700"
       ]
      },
      {
       "output_type": "stream",
       "stream": "stdout",
       "text": [
        "\n",
        "800"
       ]
      },
      {
       "output_type": "stream",
       "stream": "stdout",
       "text": [
        "\n",
        "900"
       ]
      },
      {
       "output_type": "stream",
       "stream": "stdout",
       "text": [
        "\n",
        "1000"
       ]
      },
      {
       "output_type": "stream",
       "stream": "stdout",
       "text": [
        "\n",
        "1100"
       ]
      },
      {
       "output_type": "stream",
       "stream": "stdout",
       "text": [
        "\n",
        "1200"
       ]
      },
      {
       "output_type": "stream",
       "stream": "stdout",
       "text": [
        "\n",
        "100% complete\n"
       ]
      }
     ],
     "prompt_number": 207
    },
    {
     "cell_type": "markdown",
     "metadata": {},
     "source": [
      "# This is old but I'm keeping it until the above code is bug free\n",
      "\n",
      "# Parameters that define the grid\n",
      "gTop = 41.968003\n",
      "gBot = 41.913278\n",
      "gLeft = -87.748468\n",
      "gRight = -87.626452\n",
      "gNumX = 20\n",
      "gNumY = 14\n",
      "gSpaceX = (gRight - gLeft)/gNumX\n",
      "gSpaceY = (gTop - gBot)/gNumY\n",
      "# grid size in miles (calculated by hand)\n",
      "milesPerLat = 111.2 * 0.621371 # miles/lat (near Chi)\n",
      "milesPerLng = 82.63 * 0.621371 # miles/lng (near Chi)\n",
      "gridArea = gSpaceX*milesPerLng * gSpaceY*milesPerLat\n",
      "\n",
      "\n",
      "# WE could index df_recCr for speed in the for loops below:\n",
      "gCount = 1\n",
      "for gXidx in range(gNumX):\n",
      "    for gYidx in range(gNumY):\n",
      "        df_recCr.loc[(df_recCr.lat>=gBot+gSpaceY*gYidx)   &\n",
      "                     (df_recCr.lat<gBot+gSpaceY*(gYidx+1)) &\n",
      "                     (df_recCr.lng>=gLeft+gSpaceX*gXidx) &\n",
      "                     (df_recCr.lng<gLeft+gSpaceX*(gXidx+1)),'gridNum'] = gCount\n",
      "        gCount += 1\n",
      "        if gCount==gNumX*gNumY//2:\n",
      "            print '50% complete' \n",
      "print '100% complete'"
     ]
    },
    {
     "cell_type": "code",
     "collapsed": false,
     "input": [
      "# Community Area Populations over time\n",
      "# By the end of this cell, mergedComData contains the 2014 estimated pop\n",
      "# by community number, and population density\n",
      "comPops = pd.read_csv('../data/comPops.csv')\n",
      "colsToKeep = [col for col in comPops.columns if (col.find('Total')==0 | col.find('Comm'))==0]\n",
      "comPops = comPops[colsToKeep]\n",
      "comPops.rename(columns = {colsToKeep[0]:\"comNum\"}, inplace=True)\n",
      "comPops['pop2010'] = pd.read_csv('../data/mergedData.csv', usecols=[2])\n",
      "\n",
      "# get linear model coeficents to extrapolate poputaltion over time:\n",
      "popChgPerYear = zeros(77)\n",
      "popAt0 = popChgPerYear.copy()\n",
      "for k in range(len(popChgPerYear)):\n",
      "    popChgPerYear[k], popAt0[k] = np.polyfit([2000,2009,2010],comPops.ix[k,-3:],1)\n",
      "pop2014linEst = popChgPerYear*2014 + popAt0\n",
      "mergedComData = pd.read_csv('../data/mergedData.csv')\n",
      "pop2014wsEst = np.array(mergedComData.comPop)\n",
      "\n",
      "# Not all the walk score (ws) estimated populations are correct because of data set incompleteness\n",
      "# If the pop2014wsEst is too far off from the linEst, take the linEst\n",
      "if len(pop2014linEst) == len(pop2014wsEst):\n",
      "    popEst2014 = pop2014linEst\n",
      "    for idx in range(len(popEst2014)):\n",
      "        if abs(pop2014wsEst[idx] - pop2014linEst[idx]) < 1000:\n",
      "            popEst2014[idx] = pop2014wsEst[idx]\n",
      "mergedComData['comPop2014est'] = floor(popEst2014)\n",
      "mergedComData['popDen2014est'] = mergedComData.comPop2014est / mergedComData.area * (5280**2) # Note the units, ppl/sqMile"
     ],
     "language": "python",
     "metadata": {},
     "outputs": [],
     "prompt_number": 12
    },
    {
     "cell_type": "code",
     "collapsed": false,
     "input": [
      "a = nan\n",
      "b = 1\n",
      "nanmean([a,b])"
     ],
     "language": "python",
     "metadata": {},
     "outputs": [
      {
       "metadata": {},
       "output_type": "pyout",
       "prompt_number": 97,
       "text": [
        "1.0"
       ]
      }
     ],
     "prompt_number": 97
    },
    {
     "cell_type": "code",
     "collapsed": false,
     "input": [
      "# Here we group by grid numbers and calculate\n",
      "# the amount of crime in each grid, as well as the population\n",
      "# and the associated comNum\n",
      "\n",
      "gCrime_all = np.zeros(crDataGrid.gData['gNumX']*crDataGrid.gData['gNumY']+1)\n",
      "gCrime_HOMI = gCrime_all.copy()\n",
      "gCrime_BURG = gCrime_all.copy()\n",
      "gCrime_NARC = gCrime_all.copy()\n",
      "gComNum = gCrime_all.copy()\n",
      "gPrice = gCrime_all.copy()\n",
      "gPriceNum = gCrime_all.copy()\n",
      "gSchScr = gCrime_all.copy()\n",
      "gSchNum = gCrime_all.copy()\n",
      "for idx in df_recCr_gAllCrime.index:\n",
      "    gCrime_all[idx] = df_recCr_gAllCrime[idx]\n",
      "    gComNum[idx] = df_recCr_gComNum[idx]\n",
      "for idx in df_recCr_gHOMI.index:\n",
      "    gCrime_HOMI[idx] = df_recCr_gHOMI[idx]\n",
      "for idx in df_recCr_gBURG.index:\n",
      "    gCrime_BURG[idx] = df_recCr_gBURG[idx]\n",
      "for idx in df_recCr_gNARC.index:\n",
      "    gCrime_NARC[idx] = df_recCr_gNARC[idx]\n",
      "for idx in df_recPr_gMeanPrice.index:\n",
      "    gPrice[idx] = df_recPr_gMeanPrice[idx]\n",
      "    gPriceNum[idx] = df_recPr_gNumPrices[idx]\n",
      "for idx in df_recSc_gNumSch.index:\n",
      "    gSchScr[idx] = df_recSc_gSchScore[idx] if np.isnan(df_recSc_gSchScore[idx]) == 0 else 0\n",
      "    gSchNum[idx] = df_recSc_gNumSch[idx]\n",
      "# The reason for this for loop is that not all grid number occur in the \"df_recCr_gAllCrime\" DataFrame\n",
      "\n",
      "gCrime_all = gCrime_all[1:]\n",
      "gCrime_HOMI = gCrime_HOMI[1:]\n",
      "gCrime_BURG = gCrime_BURG[1:]\n",
      "gCrime_NARC = gCrime_NARC[1:]\n",
      "gComNum = gComNum[1:]\n",
      "gPrice = gPrice[1:]\n",
      "gPriceNum = gPriceNum[1:]\n",
      "gSchScr = gSchScr[1:]\n",
      "gSchNum = gSchNum[1:]\n",
      "\n",
      "\n",
      "# note above that grid square 1 corresponds to index 0 \n",
      "# grid# n corresponds to index n-1\n",
      "\n",
      "gPop = []\n",
      "for idx in range(len(gComNum)):\n",
      "    try:\n",
      "        gPop.append(float(mergedComData.popDen2014est[mergedComData.comNum==gComNum[idx]])*crDataGrid.gData['gridArea'])\n",
      "    except: # when comNum = 0 because grid is outside a community or no crime occured there\n",
      "        gPop.append(0)\n",
      "    \n",
      "def normalizeCrime(crime,gPop):\n",
      "    data = floor(crime/gPop*100000)\n",
      "    data[np.isnan(data)] = 0\n",
      "    return data\n",
      "    \n",
      "    \n",
      "gCrime_allPer100000 = normalizeCrime(gCrime_all,gPop)\n",
      "gCrime_HOMIper100000 = normalizeCrime(gCrime_HOMI,gPop)\n",
      "gCrime_BURGper100000 = normalizeCrime(gCrime_BURG,gPop)\n",
      "gCrime_NARCper100000 = normalizeCrime(gCrime_NARC,gPop)\n",
      "# At this point, we have the normalized crime arrays for each grid point"
     ],
     "language": "python",
     "metadata": {},
     "outputs": [],
     "prompt_number": 208
    },
    {
     "cell_type": "code",
     "collapsed": false,
     "input": [
      "# The following class converts data into hex colors for heatmap plotting (using map.google JS API)\n",
      "\n",
      "import sys\n",
      "import colour\n",
      "from matplotlib import colors\n",
      "\n",
      "def GetGridColors(gData,cLimLow,cLimHigh):\n",
      "    highCrimeColorIdx = 255\n",
      "    colormap = matplotlib.cm.jet(arange(highCrimeColorIdx))*255.\n",
      "\n",
      "    def rgb_to_hex(rgb):\n",
      "        return '#%02x%02x%02x' % (rgb[0],rgb[1],rgb[2])\n",
      "\n",
      "    colormap_hex = []\n",
      "    for idx, color in enumerate(colormap):\n",
      "        colormap_hex.append(rgb_to_hex(color))\n",
      "\n",
      "    crColors = []\n",
      " \n",
      "    for dataVal in gData:\n",
      "        colorIdx = int(floor((highCrimeColorIdx-1)*(dataVal-cLimLow)/(cLimHigh-cLimLow)))\n",
      "        #print colorIdx\n",
      "        #print crimePer\n",
      "        if colorIdx < 0:\n",
      "            crColors.append(colormap_hex[0])\n",
      "        elif colorIdx > highCrimeColorIdx-1:\n",
      "            crColors.append(colormap_hex[-1])\n",
      "        else:\n",
      "            crColors.append(colormap_hex[colorIdx])\n",
      "        if dataVal == 0:\n",
      "            crColors[-1] = '#000000'\n",
      "\n",
      "    def horzPrintList(l):\n",
      "        sys.stdout.write('[')\n",
      "        for st in l:\n",
      "            sys.stdout.write(\"'\")\n",
      "            sys.stdout.write(st)\n",
      "            sys.stdout.write(\"'\")\n",
      "            sys.stdout.write(',')\n",
      "        sys.stdout.write(']')\n",
      "\n",
      "    #colormap_hex[250:265]\n",
      "    print len(crColors)\n",
      "    horzPrintList(crColors)"
     ],
     "language": "python",
     "metadata": {},
     "outputs": [],
     "prompt_number": 40
    },
    {
     "cell_type": "code",
     "collapsed": false,
     "input": [
      "plt.plot(gSchScr)"
     ],
     "language": "python",
     "metadata": {},
     "outputs": [
      {
       "metadata": {},
       "output_type": "pyout",
       "prompt_number": 204,
       "text": [
        "[<matplotlib.lines.Line2D at 0x7f6dbb51d750>]"
       ]
      },
      {
       "metadata": {},
       "output_type": "display_data",
       "png": "[encoded data removed]",
       "text": [
        "<matplotlib.figure.Figure at 0x7f6dbb7aee50>"
       ]
      }
     ],
     "prompt_number": 204
    },
    {
     "cell_type": "code",
     "collapsed": false,
     "input": [
      "gSchScr"
     ],
     "language": "python",
     "metadata": {},
     "outputs": [
      {
       "metadata": {},
       "output_type": "pyout",
       "prompt_number": 212,
       "text": [
        "array([ 0.,  0.,  0., ...,  0.,  0.,  0.])"
       ]
      }
     ],
     "prompt_number": 212
    },
    {
     "cell_type": "code",
     "collapsed": false,
     "input": [
      "## THIS IS A nearest neighbours smoothing **** Kind of a hack\n",
      "\n",
      "for idx in range(gData['gNumY'],gData['gNumY']*(gData['gNumX'] - 1)):\n",
      "    if gSchScr[idx] == 0:\n",
      "        gNeibs = []\n",
      "        if gSchScr[idx-1] != 0:\n",
      "            gNeibs.append(gSchScr[idx-1])\n",
      "        if gSchScr[idx+1] != 0:\n",
      "            gNeibs.append(gSchScr[idx+1])\n",
      "        if gSchScr[idx-gData['gNumY']] != 0:\n",
      "            gNeibs.append(gSchScr[idx-gData['gNumY']])\n",
      "        if gSchScr[idx+gData['gNumY']] != 0:\n",
      "            gNeibs.append(gSchScr[idx+gData['gNumY']])\n",
      "        if len(gNeibs) > 2:\n",
      "            gSchScr[idx] = mean(gNeibs)\n",
      "\n",
      "GetGridColors(gSchScr,20,80)"
     ],
     "language": "python",
     "metadata": {},
     "outputs": [
      {
       "output_type": "stream",
       "stream": "stdout",
       "text": [
        "1200\n",
        "['#000000','#000000','#000000','#000000','#000000','#000000','#000000','#000000','#000000','#000000','#000000','#000000','#000000','#000000','#000000','#000000','#000000','#000000','#000000','#000000','#000000','#000000','#000000','#000000','#000000','#000000','#000000','#000000','#000000','#000000','#000000','#000000','#000000','#000000','#000000','#000000','#000000','#000000','#000000','#000000','#000000','#000000','#000000','#000000','#000000','#000000','#000000','#000000','#000000','#000000','#000000','#000000','#000000','#000000','#000000','#000000','#000000','#000000','#000000','#000000','#000000','#000000','#000000','#000000','#000000','#000000','#000000','#000000','#000000','#000000','#000000','#000000','#000000','#000000','#000000','#000000','#000000','#000000','#000000','#000000','#000000','#000000','#000000','#000000','#000000','#000000','#000000','#000000','#000000','#000000','#000000','#000000','#000000','#000000','#000000','#000000','#000000','#000000','#000000','#000000','#000000','#000000','#000000','#000000','#000000','#000000','#000000','#000000','#000000','#000000','#000000','#000000','#000000','#000000','#000000','#000000','#000000','#000000','#000000','#000000','#000000','#000000','#000000','#000000','#000000','#000000','#000000','#000000','#000000','#000000','#000000','#000000','#000000','#000000','#000000','#000000','#000000','#000000','#000000','#000000','#000000','#000000','#000000','#000000','#000000','#000000','#000000','#000000','#000000','#000000','#000000','#000000','#000000','#000000','#00007f','#000000','#000000','#000000','#000000','#000000','#000000','#000000','#000000','#000000','#000000','#000000','#000000','#000000','#000000','#000000','#000000','#000000','#000000','#000000','#000000','#000000','#000000','#000000','#000000','#000000','#000000','#000000','#000000','#000000','#000000','#000000','#000000','#000000','#000000','#000000','#000000','#fe1200','#000000','#000000','#000000','#000000','#000000','#000000','#000000','#000000','#000000','#000000','#000000','#000000','#000000','#000000','#000000','#000000','#000000','#000000','#000000','#000000','#000000','#000000','#000000','#000000','#000000','#000000','#000000','#000000','#000000','#000000','#000000','#000000','#000000','#000000','#000000','#000000','#000000','#000000','#000000','#000000','#000000','#000000','#000000','#000000','#000000','#000000','#000000','#000000','#000000','#000000','#000000','#000000','#000000','#000000','#000000','#000000','#000000','#000000','#000000','#000000','#000000','#000000','#000000','#000000','#000000','#000000','#000000','#000000','#000000','#000000','#000000','#000000','#000000','#000000','#000000','#000000','#000000','#000000','#000000','#ff6700','#000000','#000000','#840000','#ff4200','#ff9800','#ff9f00','#000000','#000000','#000000','#000000','#000000','#000000','#000000','#000000','#000000','#000000','#000000','#000000','#000000','#000000','#000000','#000000','#000000','#39ffbd','#000000','#000000','#000000','#000000','#000000','#000000','#000000','#000000','#000000','#000000','#000000','#000000','#a0ff56','#adff49','#2fffc7','#7cff79','#000000','#000000','#aaff4c','#ffda00','#00d0ff','#000000','#000000','#000000','#000000','#000000','#000000','#000000','#000000','#000000','#000000','#000000','#000000','#000000','#000000','#000000','#000000','#000000','#fa0f00','#49ffad','#000000','#000000','#000000','#000000','#000000','#000000','#000000','#000000','#000000','#000000','#000000','#0050ff','#00a8ff','#59ff9d','#0020ff','#22ffd4','#59ff9d','#000000','#000000','#f4f802','#000000','#000000','#000000','#000000','#000000','#000000','#000000','#000000','#000000','#000000','#000000','#000000','#000000','#000000','#000000','#000000','#000000','#000000','#adff49','#000000','#000000','#000000','#000000','#000000','#000000','#000000','#000000','#0088ff','#0ff8e7','#00d0ff','#36ffc0','#05ecf1','#49ffad','#ff5900','#4cffaa','#4fffa6','#56ffa0','#adff49','#000000','#000000','#000000','#840000','#000000','#000000','#000000','#000000','#000000','#000000','#000000','#000000','#000000','#000000','#000000','#000000','#000000','#000000','#000000','#ff9f00','#000000','#000000','#96ff5f','#000000','#000000','#000000','#000000','#000000','#000000','#86ff70','#86ff70','#2cffca','#adff49','#00d8ff','#00acff','#006cff','#00d4ff','#39ffbd','#05ecf1','#5fff96','#66ff90','#000000','#ff7300','#000000','#000000','#000000','#000000','#000000','#000000','#000000','#000000','#000000','#000000','#000000','#000000','#000000','#000000','#000000','#000000','#000000','#000000','#000000','#000000','#002cff','#000000','#000000','#000000','#000000','#000000','#5fff96','#b7ff3f','#e4ff12','#66ff90','#05ecf1','#4cffaa','#0094ff','#0070ff','#00c0ff','#6cff89','#a0ff56','#d0ff25','#000000','#9f0000','#000000','#000000','#000000','#000000','#000000','#000000','#000000','#000000','#000000','#000000','#000000','#000000','#000000','#adff49','#000000','#000000','#ff9800','#5cff9a','#1cffda','#000000','#000000','#000000','#000000','#79ff7d','#005cff','#c7ff2f','#29ffcd','#ffda00','#00dcfe','#0018ff','#0084ff','#ffd700','#0034ff','#36ffc0','#00a8ff','#ff8100','#ffd300','#ff6b00','#000000','#000000','#000000','#000000','#000000','#000000','#000000','#000000','#000000','#000000','#ffda00','#000000','#000000','#000000','#000000','#0064ff','#0000a8','#00c0ff','#9dff59','#007cff','#42ffb3','#0cf4ea','#000000','#000000','#000000','#29ffcd','#36ffc0','#edff08','#faf000','#93ff63','#22ffd4','#00d0ff','#4fffa6','#00b0ff','#0038ff','#49ffad','#18ffdd','#00007f','#73ff83','#008cff','#ff3700','#ff5c00','#000000','#000000','#000000','#000000','#000000','#000000','#000000','#000000','#ffe900','#000000','#000000','#000000','#000000','#53ffa3','#0078ff','#0ff8e7','#0094ff','#00bcff','#36ffc0','#3cffba','#a0ff56','#ffb900','#000000','#5cff9a','#2fffc7','#c0ff36','#96ff5f','#6cff89','#ffa600','#32ffc3','#0068ff','#00007f','#39ffbd','#00bcff','#ff3700','#9dff59','#f7f400','#b3ff42','#d50000','#feed00','#39ffbd','#000000','#000000','#000000','#000000','#000000','#000000','#cdff29','#840000','#000000','#000000','#000000','#000000','#00007f','#000000','#000000','#00007f','#0038ff','#2cffca','#39ffbd','#7cff79','#00c8ff','#000000','#000000','#c7ff2f','#ffc000','#2cffca','#ffaa00','#ffde00','#05ecf1','#0084ff','#c7ff2f','#d4ff22','#ff5100','#ff9000','#80ff76','#b7ff3f','#1cffda','#ddff18','#66ff90','#fa0f00','#ff4600','#000000','#000000','#000000','#000000','#000000','#000000','#5fff96','#000000','#000000','#000000','#000000','#000000','#000000','#000000','#00b0ff','#00b0ff','#ddff18','#00e0fa','#2cffca','#79ff7d','#0ff8e7','#000000','#80ff76','#007cff','#1cffda','#70ff86','#de0000','#ffa600','#05ecf1','#faf000','#edff08','#ffc000','#ff3b00','#ffb100','#ff9b00','#e4ff12','#e7ff0f','#edff08','#ffde00','#ffc800','#000000','#000000','#000000','#000000','#000000','#000000','#12fce4','#a6ff4f','#ff5100','#ff9800','#000000','#00007f','#0094ff','#0078ff','#002cff','#ffb900','#0010ff','#53ffa3','#0090ff','#000000','#000000','#000000','#2fffc7','#29ffcd','#22ffd4','#faf000','#ffa600','#89ff6c','#ffd700','#f4f802','#bdff39','#ff2c00','#ffaa00','#ffc400','#96ff5f','#25ffd0','#93ff63','#caff2c','#00a4ff','#c7ff2f','#0064ff','#000000','#000000','#000000','#faf000','#39ffbd','#00b0ff','#59ff9d','#5fff96','#18ffdd','#000000','#004cff','#4cffaa','#d4ff22','#49ffad','#3cffba','#49ffad','#00c8ff','#3cffba','#3fffb7','#7cff79','#4fffa6','#32ffc3','#49ffad','#0004ff','#ff7300','#ff5900','#12fce4','#22ffd4','#9aff5c','#70ff86','#0050ff','#cc0000','#ffde00','#89ff6c','#ff6700','#79ff7d','#000000','#000000','#000000','#000000','#000000','#000000','#000000','#00ccff','#00b0ff','#00e4f7','#00ccff','#0054ff','#25ffd0','#adff49','#004cff','#53ffa3','#05ecf1','#00d4ff','#80ff76','#000cff','#29ffcd','#00a8ff','#05ecf1','#0004ff','#42ffb3','#4cffaa','#ffda00','#7cff79','#000000','#000000','#a3ff53','#9aff5c','#e4ff12','#8d0000','#00dcfe','#caff2c','#9aff5c','#cdff29','#000000','#000000','#000000','#000000','#000000','#000000','#000000','#000000','#00bcff','#05ecf1','#66ff90','#63ff93','#0088ff','#0060ff','#39ffbd','#0cf4ea','#2fffc7','#25ffd0','#02e8f4','#49ffad','#93ff63','#02e8f4','#00dcfe','#00bcff','#f7f400','#59ff9d','#b0ff46','#0080ff','#000000','#000000','#000000','"
       ]
      },
      {
       "output_type": "stream",
       "stream": "stdout",
       "text": [
        "#000000','#ffa600','#c7ff2f','#ff3f00','#000000','#000000','#000000','#000000','#000000','#000000','#000000','#000000','#000000','#000000','#000000','#000000','#000000','#000000','#2fffc7','#00d8ff','#006cff','#000096','#00b4ff','#15ffe1','#ff5900','#69ff8d','#46ffb0','#90ff66','#ffe500','#49ffad','#0000ff','#70ff86','#96ff5f','#ff6000','#32ffc3','#46ffb0','#ffc800','#000000','#89ff6c','#f50b00','#000000','#000000','#000000','#000000','#000000','#000000','#000000','#000000','#000000','#000000','#000000','#000000','#000000','#000000','#000000','#000000','#00c4ff','#000000','#000000','#000000','#faf000','#baff3c','#c7ff2f','#9dff59','#faf000','#70ff86','#00d8ff','#02e8f4','#00c4ff','#00bcff','#0038ff','#0000cc','#0000f5','#0018ff','#0064ff','#22ffd4','#000000','#000000','#000000','#000000','#000000','#000000','#000000','#000000','#000000','#000000','#000000','#000000','#000000','#000000','#000000','#000000','#000000','#000000','#000000','#000000','#001cff','#000000','#000000','#000000','#000000','#0000cc','#1cffda','#a3ff53','#39ffbd','#00c4ff','#0000b6','#2fffc7','#8dff69','#007cff','#0070ff','#009cff','#0070ff','#000000','#000000','#000000','#000000','#000000','#000000','#000000','#000000','#000000','#000000','#000000','#000000','#000000','#000000','#000000','#000000','#000000','#000000','#000000','#000000','#000000','#000000','#000000','#02e8f4','#000000','#000000','#000000','#000000','#000000','#000000','#ff3700','#aaff4c','#00e0fa','#006cff','#005cff','#9dff59','#0ff8e7','#ff2c00','#42ffb3','#000000','#000000','#000000','#000000','#000000','#000000','#000000','#000000','#000000','#000000','#000000','#000000','#000000','#000000','#000000','#000000','#000000','#000000','#000000','#000000','#000000','#000000','#000000','#000000','#000000','#000000','#000000','#000000','#000000','#000000','#000000','#ffd700','#2cffca','#0094ff','#0020ff','#42ffb3','#0000d5','#000000','#000000','#000000','#000000','#000000','#000000','#000000','#000000','#000000','#000000','#000000','#000000','#000000','#000000','#000000','#000000','#000000','#000000','#000000','#000000','#000000','#000000','#000000','#000000','#000000','#000000','#000000','#000000','#000000','#000000','#000000','#000000','#0000d1','#0098ff','#46ffb0','#00e4f7','#00bcff','#00dcfe','#9aff5c','#000000','#000000','#000000','#000000','#000000','#000000','#000000','#000000','#000000','#000000','#000000','#000000','#000000','#000000','#000000','#000000','#000000','#000000','#000000','#000000','#000000','#000000','#000000','#000000','#000000','#000000','#000000','#000000','#000000','#f4f802','#000000','#000000','#000000','#00e0fa','#b7ff3f','#56ffa0','#02e8f4','#80ff76','#adff49','#ff4200','#000000','#000000','#000000','#000000','#000000','#000000','#000000','#000000','#000000','#000000','#000000','#000000','#000000','#000000','#000000','#000000','#000000','#000000','#000000','#000000','#000000','#000000','#000000','#000000','#000000','#000000','#000000','#000000','#0054ff','#000000','#000000','#0cf4ea','#000000','#25ffd0','#00007f','#006cff','#0098ff','#006cff','#000000','#000000','#000000','#000000','#000000','#000000','#000000','#000000','#000000','#000000','#000000','#000000','#000000','#000000','#000000','#000000','#000000','#000000','#000000','#000000','#000000','#000000','#000000','#000000','#000000','#000000','#000000','#000000','#000000','#000000','#000000','#000000','#000000','#000000','#000000','#000000','#000000','#000000','#000000','#000000','#000000','#000000','#000000','#000000','#000000','#000000','#000000','#000000','#000000','#000000','#000000','#000000','#000000','#000000','#000000','#000000','#000000','#000000','#000000','#000000','#000000','#000000','#000000','#000000','#000000','#000000','#000000','#000000','#000000',]"
       ]
      }
     ],
     "prompt_number": 215
    },
    {
     "cell_type": "code",
     "collapsed": false,
     "input": [
      "plt.plot(gCrime_BURGper100000)"
     ],
     "language": "python",
     "metadata": {},
     "outputs": [
      {
       "metadata": {},
       "output_type": "pyout",
       "prompt_number": 35,
       "text": [
        "[<matplotlib.lines.Line2D at 0x7f6dbcdfa5d0>]"
       ]
      },
      {
       "metadata": {},
       "output_type": "display_data",
       "png": "[encoded data removed]",
       "text": [
        "<matplotlib.figure.Figure at 0x7f6dbd1da8d0>"
       ]
      }
     ],
     "prompt_number": 35
    },
    {
     "cell_type": "code",
     "collapsed": false,
     "input": [
      "GetGridColors(gCrime_BURGper100000,0,2500)"
     ],
     "language": "python",
     "metadata": {},
     "outputs": [
      {
       "output_type": "stream",
       "stream": "stdout",
       "text": [
        "1200\n",
        "['#000000','#000000','#000000','#000000','#000000','#000000','#000000','#000000','#000000','#000000','#000000','#000000','#000000','#000000','#000000','#000000','#000000','#000000','#000000','#000000','#000000','#000000','#000000','#000000','#000000','#000000','#000000','#000000','#000000','#000000','#000000','#000000','#000000','#000000','#000000','#000000','#000000','#000000','#000000','#000000','#000000','#000000','#000000','#000000','#000000','#000000','#000000','#000000','#000000','#000000','#000000','#000000','#000000','#000000','#000000','#000000','#000000','#000000','#000000','#000000','#000000','#000000','#000000','#000000','#000000','#000000','#000000','#000000','#000000','#000000','#000000','#000000','#000000','#000000','#000000','#000000','#000000','#000000','#000000','#000000','#000000','#000000','#000000','#000000','#000000','#000000','#000000','#000000','#000000','#000000','#000000','#000000','#000000','#000000','#000000','#000000','#000000','#000000','#000000','#000000','#000000','#000000','#000000','#000000','#000000','#000000','#000000','#000000','#000000','#000000','#000000','#000000','#000000','#000000','#000000','#000000','#000000','#000000','#000000','#000000','#000000','#000000','#000000','#000000','#000000','#000000','#000000','#000000','#000000','#000000','#000000','#000000','#000000','#000000','#000000','#000000','#000000','#000000','#000000','#000000','#000000','#000000','#000000','#000000','#000000','#000000','#000000','#000000','#000000','#000000','#000000','#000000','#000000','#0044ff','#840000','#000000','#000000','#000000','#000000','#000000','#000000','#000000','#000000','#000000','#000000','#000000','#000000','#000000','#000000','#000000','#000000','#000000','#000000','#000000','#000000','#000000','#000000','#000000','#000000','#000000','#000000','#000000','#000000','#000000','#000000','#000000','#000000','#000000','#000000','#000000','#00009a','#0000e8','#0000c8','#0000ec','#0000e3','#0000ec','#000000','#000000','#000000','#000000','#000000','#000000','#000000','#000000','#000000','#000000','#000000','#000000','#000000','#000000','#000000','#000000','#000000','#000000','#000000','#000000','#000000','#000000','#000000','#000000','#000000','#000000','#000000','#000000','#000000','#000000','#000000','#000000','#000000','#000000','#0008ff','#0080ff','#000000','#000000','#0000de','#0000c3','#0000ba','#0000e3','#000088','#000000','#000000','#000000','#000000','#000000','#000000','#000000','#000000','#000000','#000000','#000000','#000000','#000000','#000000','#000000','#000000','#000000','#000000','#000000','#000000','#000000','#000000','#000000','#000000','#000000','#000000','#000000','#000000','#0000a8','#0000f1','#0000ec','#0070ff','#39ffbd','#0000c8','#0000ba','#0000e8','#0000ba','#0000de','#0000b6','#0000b6','#000000','#000000','#000000','#000000','#000000','#000000','#000000','#000000','#000000','#000000','#000000','#000000','#000000','#000000','#0000a8','#0000de','#0008ff','#0000b1','#000000','#000000','#000000','#000000','#000000','#000000','#000000','#000000','#000000','#000000','#0000de','#0020ff','#0094ff','#0068ff','#00a8ff','#0000ac','#0000ba','#0064ff','#0000fe','#0000f5','#000088','#000000','#000000','#000000','#000000','#000000','#000000','#000000','#000000','#000000','#000000','#000000','#000000','#000000','#000000','#000000','#00009f','#0070ff','#0014ff','#0000da','#000000','#000000','#000000','#000000','#000000','#000000','#000000','#000000','#000000','#000000','#0034ff','#0024ff','#001cff','#5cff9a','#00ccff','#0000ff','#0000e8','#0058ff','#005cff','#0010ff','#000000','#0000b1','#000000','#000000','#000000','#000000','#000000','#000000','#000000','#000000','#000000','#000000','#000000','#000000','#000000','#000000','#0000d5','#0080ff','#00a8ff','#0000cc','#000000','#000000','#000000','#000000','#000000','#000000','#0010ff','#00b0ff','#00b8ff','#7cff79','#cdff29','#0038ff','#25ffd0','#1cffda','#0048ff','#0088ff','#0038ff','#0068ff','#08f0ed','#000096','#0000fa','#000000','#000000','#000000','#000000','#000000','#000000','#000000','#000000','#000000','#000000','#000000','#000000','#000000','#000000','#000000','#0000a8','#003cff','#0014ff','#0028ff','#000000','#000000','#000000','#000000','#000000','#000000','#0060ff','#93ff63','#ffb500','#ffcb00','#d4ff22','#0048ff','#80ff76','#caff2c','#008cff','#002cff','#00c0ff','#00a8ff','#0000b1','#0064ff','#0000e8','#000000','#000000','#000000','#000000','#000000','#000000','#000000','#000000','#000000','#000000','#000000','#000000','#000000','#000000','#000000','#0000b6','#00009f','#000088','#daff1c','#e4ff12','#000000','#000000','#000000','#000000','#000000','#004cff','#ff4a00','#daff1c','#bdff39','#2fffc7','#0098ff','#2cffca','#59ff9d','#007cff','#0094ff','#0000ff','#15ffe1','#0018ff','#0058ff','#000000','#000000','#000000','#000000','#000000','#000000','#000000','#000000','#000000','#000000','#000000','#000000','#0000e8','#0090ff','#0034ff','#000000','#006cff','#d0ff25','#0094ff','#de0000','#4cffaa','#00008d','#000000','#0010ff','#5cff9a','#3fffb7','#70ff86','#eaff0c','#0050ff','#c3ff32','#2cffca','#006cff','#00c0ff','#08f0ed','#00c0ff','#0064ff','#15ffe1','#0028ff','#0000ff','#2fffc7','#000000','#000000','#000000','#000000','#000000','#000000','#000000','#0000ac','#0000da','#000000','#00008d','#000000','#0008ff','#b7ff3f','#0090ff','#0014ff','#ffe200','#39ffbd','#9aff5c','#73ff83','#ffa600','#0000e3','#0000ec','#39ffbd','#ff7300','#840000','#880000','#83ff73','#00b4ff','#feed00','#73ff83','#08f0ed','#39ffbd','#25ffd0','#4cffaa','#00b4ff','#0064ff','#0000cc','#0000c8','#008cff','#000000','#000000','#000000','#000000','#000000','#000000','#000000','#0000fa','#0074ff','#0000ba','#000000','#000000','#0000ba','#15ffe1','#8dff69','#00d8ff','#00d8ff','#5cff9a','#0098ff','#003cff','#00b8ff','#0000d1','#00008d','#63ff93','#eaff0c','#840000','#ff9800','#3fffb7','#a0ff56','#73ff83','#ff9000','#9aff5c','#aaff4c','#36ffc0','#0038ff','#0cf4ea','#0090ff','#f4f802','#96ff5f','#0008ff','#000084','#0000a8','#000000','#000000','#000000','#000000','#000000','#00008d','#0048ff','#0000fa','#000000','#000000','#0008ff','#49ffad','#1fffd7','#0cf4ea','#e0ff15','#840000','#80ff76','#0078ff','#32ffc3','#5fff96','#0044ff','#0000c3','#90ff66','#00acff','#a0ff56','#ff5c00','#001cff','#80ff76','#69ff8d','#3cffba','#22ffd4','#00c0ff','#0000ff','#0058ff','#0058ff','#29ffcd','#0058ff','#a3ff53','#0054ff','#0030ff','#000000','#000000','#000000','#000000','#0000ac','#001cff','#0090ff','#000cff','#0000fe','#0000fe','#000096','#0098ff','#00acff','#feed00','#840000','#840000','#00dcfe','#009cff','#02e8f4','#3cffba','#005cff','#0000b1','#53ffa3','#0010ff','#73ff83','#edff08','#007cff','#9dff59','#ff3b00','#79ff7d','#00acff','#0018ff','#00c0ff','#0098ff','#79ff7d','#0038ff','#0000c3','#02e8f4','#0044ff','#0038ff','#000000','#000000','#000000','#000000','#0000ac','#00bcff','#001cff','#00e0fa','#0000bf','#0028ff','#0000cc','#0014ff','#3cffba','#bdff39','#910000','#ff5c00','#adff49','#840000','#4cffaa','#0000da','#96ff5f','#0000c3','#00c0ff','#00b4ff','#000091','#0074ff','#a6ff4f','#840000','#840000','#32ffc3','#007cff','#0060ff','#00a4ff','#2fffc7','#08f0ed','#46ffb0','#0080ff','#00bcff','#0050ff','#006cff','#0000b1','#000000','#000000','#000000','#0000ba','#00d8ff','#53ffa3','#1fffd7','#12fce4','#c7ff2f','#840000','#ff8900','#840000','#ff3f00','#840000','#840000','#e30000','#840000','#42ffb3','#0000ff','#0040ff','#05ecf1','#0000c8','#00c4ff','#18ffdd','#0ff8e7','#12fce4','#ffd700','#00bcff','#0ff8e7','#00d8ff','#00a8ff','#00d4ff','#0098ff','#0084ff','#840000','#0060ff','#00bcff','#006cff','#0000ff','#0000bf','#000000','#0000cc','#0000e8','#007cff','#0070ff','#ffcf00','#49ffad','#05ecf1','#00e4f7','#840000','#ddff18','#ac0000','#840000','#840000','#840000','#ff8500','#c3ff32','#0000ff','#0000f5','#00dcfe','#b3ff42','#0000f1','#007cff','#0058ff','#3cffba','#46ffb0','#0050ff','#0000de','#49ffad','#83ff73','#22ffd4','#1fffd7','#00a4ff','#0000c8','#0000ff','#000091','#000088','#000000','#000000','#000000','#000000','#0000ff','#ff4d00','#ff6400','#840000','#840000','#edff08','#0084ff','#49ffad','#32ffc3','#840000','#9dff59','#ff6400','#ff9b00','#ffe500','#42ffb3','#0088ff','#4cffaa','#0050ff','#0000fe','#840000','#53ffa3','#0000fa','#0000ff','#0068ff','#15ffe1','#005cff','#004cff','#000cff','#0000fe','#0000c3','#000088','#000084','#00007f','#000000','#000000','#000000','#000000','#000000','#000000','#000000','#000000','#96ff5f','#840000','#840000','#840000','#840000','#5cff9a','#ddff18','#36ffc0','#2cffca','#ffda00',"
       ]
      },
      {
       "output_type": "stream",
       "stream": "stdout",
       "text": [
        "'#ff7300','#840000','#b0ff46','#840000','#00e0fa','#b7ff3f','#840000','#0058ff','#1fffd7','#0000c8','#00acff','#0084ff','#0040ff','#3cffba','#0018ff','#0000e3','#000000','#000000','#000000','#000000','#000000','#000000','#000000','#000000','#000000','#000000','#000000','#000000','#00c4ff','#840000','#000096','#12fce4','#840000','#840000','#840000','#76ff80','#9aff5c','#a6ff4f','#ff9b00','#840000','#840000','#840000','#840000','#32ffc3','#0074ff','#ff4d00','#840000','#00c8ff','#0000de','#0000b6','#00009f','#00008d','#000000','#0000cc','#000088','#000000','#000000','#000000','#000000','#000000','#000000','#000000','#000000','#000000','#000000','#000000','#000000','#000000','#000000','#840000','#000000','#000088','#0000c8','#0000fe','#9aff5c','#00d8ff','#840000','#9a0000','#840000','#840000','#49ffad','#ffcf00','#f50b00','#0000fa','#ff4d00','#3cffba','#ff8100','#00008d','#000000','#000000','#000000','#000000','#000000','#000000','#000000','#000000','#000000','#000000','#000000','#000000','#000000','#000000','#000000','#000000','#000000','#000000','#000000','#000000','#000000','#000000','#000000','#000000','#000000','#000000','#000000','#0000bf','#0028ff','#adff49','#ff6b00','#ff7e00','#e30000','#840000','#00ccff','#0054ff','#840000','#00009f','#000000','#000000','#000000','#000000','#000000','#000000','#000000','#000000','#000000','#000000','#000000','#000000','#000000','#000000','#000000','#000000','#000000','#000000','#000000','#000000','#000000','#000000','#000000','#000000','#000000','#0000c8','#000000','#0000c8','#000000','#840000','#840000','#ff9800','#b60000','#840000','#8d0000','#840000','#0000ac','#000000','#000000','#000000','#000000','#000000','#000000','#000000','#000000','#000000','#000000','#000000','#000000','#000000','#000000','#000000','#000000','#000000','#000000','#000000','#000000','#000000','#000000','#000000','#000000','#000000','#000000','#0000ec','#000000','#000000','#000000','#0040ff','#840000','#840000','#840000','#840000','#840000','#840000','#840000','#00c8ff','#000000','#000000','#000000','#000000','#000000','#000000','#000000','#000000','#000000','#000000','#000000','#000000','#000000','#000000','#000000','#000000','#000000','#000000','#000000','#000000','#000000','#000000','#000000','#000000','#000000','#000000','#0010ff','#840000','#0010ff','#000000','#000000','#000000','#0040ff','#840000','#00e4f7','#840000','#840000','#840000','#0080ff','#000000','#000000','#000000','#000000','#000000','#000000','#000000','#000000','#000000','#000000','#000000','#000000','#000000','#000000','#000000','#000000','#000000','#000000','#000000','#000000','#000000','#000000','#000000','#000000','#000000','#000000','#000000','#00d4ff','#00d4ff','#000000','#000000','#0000f5','#0034ff','#0078ff','#0084ff','#006cff','#004cff','#0000ff','#000000','#000000','#000000','#000000','#000000','#000000','#000000','#000000','#000000','#000000','#000000','#000000','#000000','#000000','#000000','#000000','#000000','#000000','#000000','#000000','#000000','#000000','#000000','#000000','#000000','#000000','#000000','#000000','#000000','#000000','#0000b6','#000000','#000000','#000096','#0004ff','#0084ff','#0000a3','#000000','#000000','#000000','#000000','#000000','#000000','#000000','#000000','#000000','#000000','#000000','#000000','#000000','#000000','#000000','#000000','#000000','#000000','#000000','#000000','#000000','#000000','#000000','#000000','#000000','#000000','#000000','#000000','#000000','#000000','#000000','#000000',]"
       ]
      }
     ],
     "prompt_number": 37
    },
    {
     "cell_type": "code",
     "collapsed": false,
     "input": [
      "GetGridColors(gPrice,50000,450000)"
     ],
     "language": "python",
     "metadata": {},
     "outputs": [
      {
       "output_type": "stream",
       "stream": "stdout",
       "text": [
        "1200\n",
        "['#000000','#000000','#000000','#000000','#000000','#000000','#000000','#000000','#000000','#000000','#000000','#000000','#000000','#000000','#000000','#000000','#000000','#000000','#000000','#000000','#000000','#000000','#000000','#000000','#000000','#000000','#000000','#000000','#000000','#000000','#000000','#000000','#000000','#000000','#000000','#000000','#000000','#000000','#000000','#000000','#000000','#000000','#000000','#000000','#000000','#000000','#000000','#000000','#000000','#000000','#000000','#000000','#000000','#000000','#000000','#000000','#000000','#000000','#000000','#000000','#000000','#000000','#000000','#000000','#000000','#000000','#000000','#000000','#000000','#000000','#000000','#000000','#000000','#000000','#000000','#000000','#000000','#000000','#000000','#000000','#000000','#000000','#000000','#000000','#000000','#000000','#000000','#000000','#000000','#000000','#000000','#000000','#000000','#000000','#000000','#000000','#000000','#000000','#000000','#000000','#000000','#000000','#000000','#000000','#000000','#000000','#000000','#000000','#000000','#000000','#000000','#000000','#000000','#000000','#000000','#000000','#000000','#000000','#000000','#000000','#000000','#000000','#000000','#000000','#000000','#000000','#000000','#000000','#000000','#000000','#000000','#000000','#000000','#000000','#000000','#000000','#000000','#000000','#000000','#000000','#000000','#000000','#000000','#000000','#000000','#000000','#000000','#000000','#000000','#000000','#000000','#000000','#000000','#000000','#0008ff','#000000','#000000','#000000','#000000','#000000','#000000','#000000','#000000','#000000','#000000','#000000','#000000','#000000','#000000','#000000','#000000','#000000','#000000','#000000','#000000','#000000','#000000','#000000','#000000','#000000','#000000','#000000','#000000','#000000','#000000','#000000','#000000','#000000','#000000','#000000','#0000f5','#003cff','#000000','#0000bf','#0000fa','#000000','#000000','#000000','#000000','#000000','#000000','#000000','#000000','#000000','#000000','#000000','#000000','#000000','#000000','#000000','#000000','#000000','#000000','#000000','#000000','#000000','#000000','#000000','#000000','#000000','#000000','#000000','#000000','#000000','#000000','#000000','#000000','#000000','#000000','#000000','#0000ba','#00a0ff','#0028ff','#000000','#0094ff','#0064ff','#000000','#0014ff','#000000','#000000','#000000','#000000','#000000','#000000','#000000','#000000','#000000','#000000','#000000','#000000','#000000','#000000','#000000','#000000','#000000','#000000"
       ]
      },
      {
       "output_type": "stream",
       "stream": "stdout",
       "text": [
        "','#000000','#000000','#000000','#000000','#000000','#000000','#000000','#000000','#000000','#000000','#000000','#000000','#0000b1','#0058ff','#0000ff','#0030ff','#12fce4','#0008ff','#0058ff','#0000ba','#0080ff','#004cff','#000000','#000000','#000000','#000000','#000000','#000000','#000000','#000000','#000000','#000000','#000000','#000000','#000000','#000000','#000000','#000000','#0000ff','#000000','#000000','#000000','#000000','#000000','#000000','#000000','#000000','#000000','#000000','#000000','#000000','#0028ff','#0000ba','#0000ac','#0084ff','#000000','#0000fe','#000000','#0000fe','#00d0ff','#000cff','#000000','#000000','#000000','#000000','#000000','#000000','#000000','#000000','#000000','#000000','#000000','#000000','#000000','#000000','#000000','#000000','#001cff','#0000c8','#000000','#000000','#000000','#000000','#000000','#000000','#000000','#000000','#000000','#000000','#000000','#000000','#0004ff','#0044ff','#0060ff','#0048ff','#0014ff','#0084ff','#0088ff','#0060ff','#003cff','#0000ff','#000000','#70ff86','#000000','#000000','#000000','#000000','#000000','#000000','#000000','#000000','#000000','#000000','#000000','#000000','#000000','#000000','#00008d','#0000c3','#0010ff','#0000c3','#000000','#000000','#000000','#000000','#000000','#000000','#00007f','#00007f','#00007f','#000000','#00007f','#00008d','#000000','#002cff','#0000b6','#0000ff','#0038ff','#0030ff','#0064ff','#000000','#000000','#000000','#000000','#000000','#000000','#000000','#000000','#000000','#000000','#000000','#000000','#000000','#000000','#000000','#000000','#000000','#000000','#000cff','#0000d5','#000000','#000000','#000000','#000000','#000000','#000000','#000000','#000000','#000000','#00007f','#000000','#000000','#0094ff','#00008d','#0000ba','#000000','#0000d5','#0070ff','#0000e8','#000000','#000000','#000000','#000000','#000000','#000000','#000000','#000000','#000000','#000000','#000000','#000000','#000000','#000000','#000000','#000000','#000000','#000000','#0040ff','#000000','#000000','#00007f','#000000','#000000','#000000','#000000','#000000','#000000','#000000','#00007f','#000000','#000000','#000000','#000000','#000000','#0000ac','#0074ff','#0084ff','#00bcff','#000000','#00c4ff','#000000','#000000','#000000','#000000','#000000','#000000','#000000','#000000','#000000','#000000','#000000','#000000','#000000','#00007f','#000000','#00007f','#000000','#000000','#0064ff','#00008d','#000000','#000000','#000000','#000000','#000000','#000000','#000000','#000000','#00007f','#000000','#00007f','#000000','#00007f','#000000','#00c0ff','#6cff89','#004cff','#0048ff','#12fce4','#baff3c','#000000','#000000','#000000','#000000','#000000','#000000','#000000','#000000','#000000','#000084','#000000','#000000','#000000','#00007f','#000000','#000096','#00007f','#00007f','#000000','#0020ff','#000000','#00008d','#000000','#000000','#000000','#000000','#00007f','#00007f','#00007f','#000000','#000000','#00007f','#0000e3','#0098ff','#0068ff','#2cffca','#006cff','#001cff','#0000ac','#02e8f4','#0024ff','#000000','#000000','#000000','#000000','#000000','#000000','#000000','#000000','#00d4ff','#000000','#000000','#000000','#000000','#007cff','#000000','#000000','#000000','#000000','#00007f','#0078ff','#000000','#000000','#000000','#000000','#000000','#00007f','#0000e3','#00009f','#0040ff','#000000','#0034ff','#59ff9d','#73ff83','#3cffba','#00c4ff','#0064ff','#0068ff','#0034ff','#0048ff','#0050ff','#0000ff','#0000fe','#000000','#000000','#000000','#000000','#000000','#000000','#000000','#000000','#00007f','#000000','#000000','#00007f','#000000','#000000','#000000','#00007f','#000000','#000000','#000000','#63ff93','#000000','#000000','#000000','#000000','#00007f','#0000b1','#0068ff','#c0ff36','#42ffb3','#f1fc05','#f4f802','#c3ff32','#89ff6c','#2fffc7','#5cff9a','#0084ff','#003cff','#0014ff','#0018ff','#0004ff','#000000','#000000','#000000','#000000','#000000','#000000','#00b8ff','#000000','#000000','#000000','#000000','#000000','#000000','#000000','#000000','#000000','#000000','#000000','#000000','#0024ff','#1fffd7','#00a8ff','#00acff','#000000','#0098ff','#0060ff','#ffe500','#ffc800','#ff3b00','#ff4d00','#ff3700','#ff8100','#ff5100','#ff4a00','#aaff4c','#53ffa3','#0034ff','#0000da','#000cff','#000cff','#000000','#000000','#000000','#000000','#000000','#000000','#0000b1','#00007f','#000000','#000000','#000000','#000000','#00007f','#000000','#000000','#000000','#000000','#000000','#000000','#000000','#00b4ff','#39ffbd','#0094ff','#6cff89','#c0ff36','#12fce4','#ffcf00','#ff1a00','#cc0000','#a80000','#840000','#840000','#ff2100','#ff9800','#b7ff3f','#bdff39','#bdff39','#0048ff','#0014ff','#0030ff','#0000f5','#000000','#000000','#000000','#000000','#000000','#000000','#0010ff','#000000','#000000','#000000','#000000','#000000','#000000','#00007f','#000000','#000000','#000000','#000000','#000000','#000000','#ff6b00','#000000','#00a4ff','#ff5100','#840000','#ffa600','#ff7300','#ff5c00','#840000','#840000','#840000','#c30000','#ff1d00','#6cff89','#daff1c','#32ffc3','#0078ff','#00b0ff','#0064ff','#0064ff','#000000','#000000','#000000','#000000','#000000','#00007f','#000000','#000000','#000000','#000000','#000000','#000000','#000000','#000000','#000000','#000000','#000000','#000000','#000000','#0074ff','#96ff5f','#000000','#ffe200','#ffa600','#ff8c00','#ff2100','#ff3700','#840000','#840000','#840000','#c80000','#f4f802','#1cffda','#2fffc7"
       ]
      },
      {
       "output_type": "stream",
       "stream": "stdout",
       "text": [
        "','#008cff','#00c4ff','#0068ff','#000000','#000000','#000000','#000000','#000000','#000000','#000000','#000000','#000000','#000000','#000000','#000000','#000000','#000000','#00007f','#000000','#000000','#000000','#000000','#000000','#00b0ff','#00007f','#ffa300','#d7ff1f','#2cffca','#ff3400','#00dcfe','#bdff39','#ff2100','#840000','#ff7300','#840000','#ffd700','#d4ff22','#caff2c','#000000','#000000','#000000','#000000','#000000','#000000','#000000','#000000','#000000','#000000','#000000','#000000','#000000','#000000','#000000','#000000','#000000','#00007f','#000000','#000000','#000000','#000000','#00007f','#000088','#0014ff','#0000d5','#0000ff','#00b0ff','#0000ba','#9dff59','#ff4a00','#ffc800','#bf0000','#ff3700','#840000','#840000','#000000','#000000','#000000','#000000','#000000','#000000','#000000','#000000','#000000','#000000','#000000','#000000','#000000','#000000','#000000','#000000','#0000fa','#0000cc','#000000','#000000','#00007f','#00007f','#0000f5','#000000','#000000','#0020ff','#00007f','#00007f','#0000d5','#005cff','#0000ff','#008cff','#000000','#ff3f00','#840000','#000000','#000000','#b60000','#840000','#000000','#000000','#000000','#000000','#000000','#000000','#000000','#000000','#000000','#000000','#000000','#000000','#000000','#000000','#000000','#000000','#000000','#000000','#000000','#000000','#000000','#00007f','#00007f','#00007f','#00007f','#000000','#0000e8','#002cff','#ff5500','#0cf4ea','#00d0ff','#00e0fa','#000000','#000000','#000000','#000000','#000000','#000000','#000000','#000000','#000000','#000000','#000000','#000000','#000000','#000000','#000000','#000000','#000000','#000000','#000000','#000000','#000000','#000000','#000000','#000000','#000000','#000000','#000000','#000000','#000000','#000000','#000000','#000000','#00007f','#00007f','#00009f','#0000fa','#a0ff56','#46ffb0','#0018ff','#000000','#000000','#000000','#000000','#000000','#000000','#000000','#000000','#000000','#000000','#000000','#000000','#000000','#000000','#000000','#000000','#000000','#000000','#000000','#000000','#000000','#000000','#000000','#000000','#000000','#000000','#000000','#000000','#000000','#00007f','#00007f','#000000','#000000','#00007f','#00007f','#00007f','#000000','#000000','#000000','#000000','#000000','#000000','#000000','#000000','#000000','#000000','#000000','#000000','#000000','#000000','#000000','#000000','#000000','#000000','#000000','#000000','#000000','#000000','#000000','#000000','#000000','#000000','#000000','#000000','#000000','#000000','#000000','#000000','#00007f','#00007f','#00007f','#000000','#000000','#00007f','#00007f','#00007f','#000000','#000000','#000000','#000000','#000000','#000000','#000000','#000000','#000000','#000000','#000000','#000000','#000000','#000000','#000000','#000000','#000000','#000000','#000000','#000000','#000000','#000000','#000000','#000000','#000000','#000000','#000000','#000000','#000000','#000000','#000000','#000000','#000000','#000000','#000000','#000000','#000000','#00007f','#000000','#000000','#000000','#000000','#000000','#000000','#000000','#000000','#000000','#000000','#000000','#000000','#000000','#000000','#000000','#000000','#000000','#000000','#000000','#000000','#000000','#000000','#000000','#000000','#000000','#000000','#000000','#000000','#000000','#000000','#000000','#000000','#000000','#00007f','#000000','#000000','#000000','#000000','#000000','#000000','#000000','#000000','#000000','#000000','#000000','#000000','#000000','#000000','#000000','#000000','#000000','#000000','#000000','#000000','#000000','#000000','#000000','#000000','#000000','#000000','#000000','#000000','#000000','#000000','#000000','#000000','#000000','#000000','#000000','#000000','#000000','#000000','#000000','#000000','#000000','#000000','#000000','#000000','#000000','#000000','#000000','#000000','#000000','#000000','#000000','#000000','#000000','#000000','#000000','#000000','#000000','#000000','#000000','#000000','#000000','#000000','#000000','#000000','#000000','#000000','#000000','#000000','#000000','#000000','#000000','#000000','#000000','#000000',]"
       ]
      }
     ],
     "prompt_number": 41
    },
    {
     "cell_type": "code",
     "collapsed": false,
     "input": [
      "len((gLat-41.8844)**2+(gLng+87.6326)**2)"
     ],
     "language": "python",
     "metadata": {},
     "outputs": [
      {
       "metadata": {},
       "output_type": "pyout",
       "prompt_number": 232,
       "text": [
        "1200"
       ]
      }
     ],
     "prompt_number": 232
    },
    {
     "cell_type": "code",
     "collapsed": false,
     "input": [
      "dataOut = np.zeros([len(gComNum), 13])\n",
      "\n",
      "dataOut[:,0] = arange(len(gComNum))+1\n",
      "dataOut[:,1] = gComNum\n",
      "dataOut[:,2] = gCrime_allPer100000\n",
      "dataOut[:,3] = gCrime_HOMIper100000\n",
      "dataOut[:,4] = gCrime_BURGper100000\n",
      "dataOut[:,5] = gCrime_NARCper100000\n",
      "dataOut[:,6] = gPop\n",
      "dataOut[:,7] = np.array(gPop)/gData['gridArea']\n",
      "dataOut[:,8] = gPrice\n",
      "dataOut[:,9] = gPriceNum\n",
      "dataOut[:,10] = gSchScr\n",
      "dataOut[:,11] = gSchNum\n",
      "dataOut[:,12] = np.sqrt(((gLat-41.8844)*gData['milesPerLat'])**2+((gLng+87.6326)*gData['milesPerLng'])**2) # Distance to CBD\n",
      "\n",
      "\n",
      "dfOut1 = pd.DataFrame(dataOut, columns = \n",
      "                      ['gNum','comNum','gAllCrimePer','gHOMIper','gBURGper','gNARCper','gPop','gPopDen',\n",
      "                       'gPrice','gPriceNum','gSchScore','gSchScoreNum','gSqDistFromCBD'])\n",
      "dfOut1.to_csv('../data/gDataOut1.csv')"
     ],
     "language": "python",
     "metadata": {},
     "outputs": [],
     "prompt_number": 244
    },
    {
     "cell_type": "code",
     "collapsed": false,
     "input": [
      "dfOut2 = dfOut1[dfOut1.comNum!=0].merge(mergedComData,on='comNum')\n",
      "\n",
      "# This line creates of a weighted average that uses Zillow community median housing prices...\n",
      "# This is on the scrap heap for now unless I can prove that the Zillow data is representative of the condo/apt data I scraped from Trulia\n",
      "#gPriceNumLimit = 3\n",
      "#dfOut2['gPriceMod'] = [(min(gPriceNumLimit,dfOut2.gPriceNum[k])/gPriceNumLimit)*dfOut2.Pr2014[k] + \n",
      "#                       (1-min(gPriceNumLimit,dfOut2.gPriceNum[k])/gPriceNumLimit)*dfOut2.gPrice[k] for k in range(len(dfOut2))]\n",
      "dfOut2.to_csv('../data/gDataOut2.csv')"
     ],
     "language": "python",
     "metadata": {},
     "outputs": [],
     "prompt_number": 245
    },
    {
     "cell_type": "code",
     "collapsed": false,
     "input": [
      "# Data Printer for JS page:\n",
      "\n",
      "def horzPrintArray(a):\n",
      "    print len(a)\n",
      "    sys.stdout.write('[')\n",
      "    for num in a:\n",
      "        sys.stdout.write(str(num))\n",
      "        sys.stdout.write(',')\n",
      "    sys.stdout.write(']')\n",
      "\n",
      "horzPrintArray(gComNum)"
     ],
     "language": "python",
     "metadata": {},
     "outputs": [
      {
       "output_type": "stream",
       "stream": "stdout",
       "text": [
        "1200\n",
        "[0.0,0.0,0.0,0.0,0.0,0.0,0.0,0.0,0.0,0.0,0.0,0.0,0.0,0.0,0.0,0.0,0.0,0.0,0.0,0.0,0.0,0.0,0.0,0.0,0.0,0.0,0.0,0.0,0.0,0.0,0.0,0.0,76.0,76.0,76.0,76.0,70.0,0.0,0.0,0.0,0.0,0.0,0.0,0.0,0.0,0.0,0.0,0.0,0.0,0.0,0.0,0.0,0.0,0.0,0.0,0.0,0.0,0.0,0.0,0.0,0.0,0.0,0.0,0.0,0.0,0.0,0.0,0.0,0.0,0.0,0.0,0.0,0.0,0.0,76.0,0.0,0.0,0.0,0.0,0.0,0.0,0.0,0.0,0.0,0.0,0.0,0.0,0.0,0.0,0.0,0.0,0.0,0.0,0.0,0.0,0.0,0.0,0.0,0.0,0.0,0.0,0.0,0.0,0.0,0.0,0.0,0.0,0.0,0.0,0.0,0.0,0.0,0.0,0.0,76.0,0.0,0.0,0.0,0.0,0.0,0.0,0.0,0.0,0.0,0.0,0.0,0.0,0.0,0.0,0.0,0.0,0.0,0.0,0.0,0.0,0.0,0.0,0.0,0.0,0.0,0.0,0.0,0.0,0.0,0.0,0.0,0.0,0.0,0.0,0.0,76.0,0.0,76.0,76.0,76.0,76.0,0.0,0.0,0.0,0.0,0.0,0.0,0.0,0.0,0.0,0.0,0.0,0.0,0.0,0.0,0.0,0.0,0.0,0.0,0.0,0.0,0.0,0.0,0.0,0.0,0.0,0.0,0.0,0.0,0.0,0.0,0.0,0.0,0.0,0.0,22.0,19.0,28.0,76.0,64.0,55.0,0.0,0.0,0.0,0.0,0.0,0.0,0.0,0.0,0.0,0.0,0.0,0.0,0.0,0.0,0.0,0.0,0.0,0.0,0.0,0.0,0.0,0.0,0.0,0.0,0.0,0.0,0.0,0.0,0.0,0.0,0.0,0.0,0.0,0.0,17.0,17.0,17.0,14.0,10.0,10.0,10.0,9.0,9.0,0.0,0.0,0.0,0.0,0.0,0.0,0.0,0.0,0.0,0.0,0.0,0.0,0.0,0.0,0.0,0.0,0.0,0.0,0.0,0.0,0.0,0.0,0.0,0.0,0.0,0.0,0.0,0.0,25.0,25.0,18.0,17.0,17.0,17.0,10.0,10.0,10.0,10.0,9.0,9.0,0.0,0.0,0.0,0.0,0.0,0.0,0.0,0.0,0.0,0.0,0.0,0.0,0.0,0.0,64.0,63.0,56.0,56.0,0.0,0.0,0.0,0.0,0.0,0.0,0.0,0.0,0.0,0.0,25.0,23.0,18.0,18.0,17.0,17.0,10.0,10.0,10.0,10.0,10.0,0.0,0.0,0.0,0.0,0.0,0.0,0.0,0.0,0.0,0.0,0.0,0.0,0.0,0.0,0.0,64.0,63.0,56.0,56.0,0.0,0.0,0.0,0.0,0.0,0.0,0.0,0.0,0.0,0.0,25.0,20.0,19.0,18.0,17.0,16.0,14.0,11.0,10.0,10.0,12.0,12.0,0.0,0.0,0.0,0.0,0.0,0.0,0.0,0.0,0.0,0.0,0.0,0.0,0.0,0.0,64.0,64.0,56.0,56.0,0.0,0.0,0.0,0.0,0.0,0.0,25.0,25.0,25.0,25.0,25.0,20.0,19.0,18.0,15.0,15.0,14.0,11.0,11.0,11.0,12.0,12.0,0.0,0.0,0.0,0.0,0.0,0.0,0.0,0.0,0.0,0.0,0.0,0.0,0.0,0.0,64.0,64.0,56.0,56.0,0.0,0.0,0.0,0.0,0.0,0.0,25.0,25.0,25.0,25.0,25.0,20.0,19.0,18.0,15.0,15.0,13.0,11.0,11.0,12.0,12.0,0.0,0.0,0.0,0.0,0.0,0.0,0.0,0.0,0.0,0.0,0.0,0.0,0.0,0.0,0.0,64.0,64.0,56.0,56.0,56.0,56.0,0.0,0.0,0.0,0.0,25.0,25.0,25.0,25.0,25.0,20.0,19.0,17.0,15.0,15.0,14.0,12.0,12.0,12.0,0.0,0.0,0.0,0.0,0.0,0.0,0.0,74.0,74.0,0.0,0.0,0.0,70.0,70.0,66.0,65.0,65.0,64.0,60.0,57.0,57.0,57.0,30.0,30.0,29.0,29.0,27.0,26.0,26.0,23.0,23.0,20.0,20.0,19.0,16.0,16.0,15.0,13.0,12.0,12.0,0.0,0.0,0.0,0.0,0.0,0.0,0.0,74.0,74.0,74.0,74.0,0.0,70.0,70.0,69.0,65.0,65.0,65.0,62.0,59.0,57.0,56.0,30.0,30.0,29.0,29.0,28.0,26.0,24.0,23.0,23.0,21.0,22.0,20.0,18.0,16.0,14.0,14.0,13.0,13.0,0.0,0.0,0.0,0.0,0.0,0.0,0.0,74.0,74.0,74.0,74.0,0.0,70.0,70.0,70.0,66.0,66.0,66.0,63.0,62.0,58.0,58.0,36.0,30.0,30.0,29.0,28.0,27.0,25.0,23.0,23.0,22.0,22.0,21.0,18.0,16.0,14.0,13.0,11.0,8.0,2.0,2.0,0.0,0.0,0.0,0.0,0.0,74.0,74.0,74.0,0.0,0.0,70.0,70.0,70.0,66.0,66.0,66.0,63.0,63.0,58.0,58.0,53.0,30.0,30.0,29.0,28.0,27.0,26.0,24.0,24.0,22.0,22.0,21.0,16.0,15.0,7.0,4.0,2.0,2.0,2.0,2.0,0.0,0.0"
       ]
      },
      {
       "output_type": "stream",
       "stream": "stdout",
       "text": [
        ",0.0,0.0,75.0,75.0,75.0,72.0,72.0,72.0,71.0,70.0,70.0,66.0,66.0,66.0,63.0,63.0,58.0,58.0,59.0,37.0,31.0,30.0,28.0,28.0,26.0,24.0,24.0,22.0,22.0,8.0,5.0,5.0,4.0,4.0,2.0,2.0,2.0,1.0,0.0,0.0,0.0,0.0,75.0,75.0,75.0,72.0,72.0,72.0,71.0,71.0,71.0,67.0,67.0,67.0,65.0,61.0,61.0,60.0,59.0,44.0,31.0,31.0,28.0,28.0,26.0,24.0,24.0,22.0,9.0,6.0,6.0,5.0,4.0,28.0,71.0,30.0,1.0,1.0,1.0,0.0,0.0,0.0,63.0,69.0,75.0,73.0,72.0,73.0,72.0,71.0,71.0,67.0,67.0,67.0,66.0,61.0,61.0,61.0,59.0,59.0,32.0,30.0,28.0,28.0,26.0,24.0,24.0,10.0,7.0,6.0,6.0,5.0,3.0,37.0,77.0,58.0,1.0,1.0,1.0,0.0,53.0,53.0,53.0,60.0,75.0,73.0,73.0,73.0,72.0,71.0,71.0,68.0,68.0,68.0,67.0,61.0,61.0,61.0,60.0,60.0,46.0,30.0,28.0,28.0,27.0,17.0,8.0,7.0,7.0,6.0,6.0,4.0,3.0,32.0,77.0,77.0,0.0,0.0,0.0,0.0,53.0,53.0,53.0,52.0,51.0,56.0,71.0,67.0,68.0,54.0,63.0,68.0,68.0,68.0,61.0,46.0,49.0,42.0,43.0,47.0,35.0,31.0,29.0,30.0,19.0,8.0,8.0,7.0,7.0,6.0,6.0,3.0,3.0,0.0,0.0,0.0,0.0,0.0,0.0,0.0,0.0,53.0,53.0,52.0,49.0,49.0,49.0,49.0,45.0,44.0,53.0,69.0,69.0,46.0,42.0,39.0,38.0,37.0,35.0,35.0,33.0,33.0,32.0,32.0,18.0,8.0,8.0,7.0,7.0,0.0,0.0,0.0,0.0,0.0,0.0,0.0,0.0,0.0,0.0,54.0,54.0,53.0,53.0,51.0,49.0,49.0,49.0,48.0,44.0,44.0,56.0,69.0,53.0,48.0,40.0,39.0,38.0,37.0,35.0,35.0,33.0,33.0,33.0,32.0,14.0,8.0,0.0,0.0,0.0,0.0,0.0,0.0,0.0,0.0,0.0,0.0,0.0,0.0,0.0,54.0,54.0,54.0,53.0,51.0,50.0,50.0,50.0,47.0,45.0,44.0,53.0,67.0,44.0,42.0,41.0,41.0,39.0,37.0,36.0,0.0,0.0,0.0,0.0,0.0,8.0,0.0,0.0,0.0,0.0,0.0,0.0,0.0,0.0,0.0,0.0,0.0,0.0,0.0,0.0,0.0,54.0,52.0,0.0,0.0,0.0,51.0,50.0,49.0,48.0,45.0,44.0,43.0,43.0,42.0,41.0,40.0,39.0,0.0,0.0,0.0,0.0,0.0,0.0,0.0,0.0,0.0,0.0,0.0,0.0,0.0,0.0,0.0,0.0,0.0,0.0,0.0,0.0,0.0,0.0,55.0,0.0,51.0,51.0,51.0,51.0,51.0,51.0,50.0,47.0,45.0,44.0,43.0,43.0,42.0,41.0,41.0,0.0,0.0,0.0,0.0,0.0,0.0,0.0,0.0,0.0,0.0,0.0,0.0,0.0,0.0,0.0,0.0,0.0,0.0,0.0,0.0,0.0,0.0,0.0,55.0,55.0,55.0,51.0,51.0,51.0,51.0,51.0,50.0,47.0,46.0,44.0,43.0,43.0,0.0,0.0,0.0,0.0,0.0,0.0,0.0,0.0,0.0,0.0,0.0,0.0,0.0,0.0,0.0,0.0,0.0,0.0,0.0,0.0,0.0,0.0,0.0,0.0,0.0,0.0,55.0,55.0,55.0,0.0,52.0,0.0,51.0,51.0,49.0,46.0,46.0,45.0,43.0,0.0,0.0,0.0,0.0,0.0,0.0,0.0,0.0,0.0,0.0,0.0,0.0,0.0,0.0,0.0,0.0,0.0,0.0,0.0,0.0,0.0,0.0,0.0,0.0,0.0,0.0,0.0,55.0,55.0,55.0,55.0,53.0,52.0,52.0,52.0,52.0,46.0,46.0,43.0,0.0,0.0,0.0,0.0,0.0,0.0,0.0,0.0,0.0,0.0,0.0,0.0,0.0,0.0,0.0,0.0,0.0,0.0,0.0,0.0,0.0,0.0,0.0,0.0,0.0,0.0,0.0,0.0,0.0,55.0,0.0,0.0,53.0,52.0,52.0,52.0,52.0,0.0,0.0,0.0,0.0,0.0,0.0,0.0,0.0,0.0,0.0,0.0,0.0,0.0,0.0,0.0,0.0,0.0,0.0,0.0,0.0,0.0,0.0,0.0,0.0,0.0,0.0,0.0,0.0,0.0,0.0,0.0,]"
       ]
      }
     ],
     "prompt_number": 266
    },
    {
     "cell_type": "code",
     "collapsed": false,
     "input": [
      "# Other stuff for JavaScript\n",
      "\n",
      "mergedComData[['comNum','comName_cen2010']].set_index('comNum').to_dict()"
     ],
     "language": "python",
     "metadata": {},
     "outputs": [
      {
       "metadata": {},
       "output_type": "pyout",
       "prompt_number": 271,
       "text": [
        "{'comName_cen2010': {1: 'Rogers Park',\n",
        "  2: 'West Ridge',\n",
        "  3: 'Uptown',\n",
        "  4: 'Lincoln Square',\n",
        "  5: 'North Center',\n",
        "  6: 'Lake View',\n",
        "  7: 'Lincoln Park',\n",
        "  8: 'Near North Side',\n",
        "  9: 'Edison Park',\n",
        "  10: 'Norwood Park',\n",
        "  11: 'Jefferson Park',\n",
        "  12: 'Forest Glen',\n",
        "  13: 'North Park',\n",
        "  14: 'Albany Park',\n",
        "  15: 'Portage Park',\n",
        "  16: 'Irving Park',\n",
        "  17: 'Dunning',\n",
        "  18: 'Montclare',\n",
        "  19: 'Belmont Cragin',\n",
        "  20: 'Hermosa',\n",
        "  21: 'Avondale',\n",
        "  22: 'Logan Square',\n",
        "  23: 'Humboldt Park',\n",
        "  24: 'West Town',\n",
        "  25: 'Austin',\n",
        "  26: 'West Garfield Park',\n",
        "  27: 'East Garfield Park',\n",
        "  28: 'Near West Side',\n",
        "  29: 'North Lawndale',\n",
        "  30: 'South Lawndale',\n",
        "  31: 'Lower West Side',\n",
        "  32: 'Loop',\n",
        "  33: 'Near South Side',\n",
        "  34: 'Armour Square',\n",
        "  35: 'Douglas',\n",
        "  36: 'Oakland',\n",
        "  37: 'Fuller Park',\n",
        "  38: 'Grand Boulevard',\n",
        "  39: 'Kenwood',\n",
        "  40: 'Washington Park',\n",
        "  41: 'Hyde Park',\n",
        "  42: 'Woodlawn',\n",
        "  43: 'South Shore',\n",
        "  44: 'Chatham',\n",
        "  45: 'Avalon Park',\n",
        "  46: 'South Chicago',\n",
        "  47: 'Burnside',\n",
        "  48: 'Calumet Heights',\n",
        "  49: 'Roseland',\n",
        "  50: 'Pullman',\n",
        "  51: 'South Deering',\n",
        "  52: 'East Side',\n",
        "  53: 'West Pullman',\n",
        "  54: 'Riverdale',\n",
        "  55: 'Hegewisch',\n",
        "  56: 'Garfield Ridge',\n",
        "  57: 'Archer Heights',\n",
        "  58: 'Brighton Park',\n",
        "  59: 'McKinley Park',\n",
        "  60: 'Bridgeport',\n",
        "  61: 'New City',\n",
        "  62: 'West Elsdon',\n",
        "  63: 'Gage Park',\n",
        "  64: 'Clearing',\n",
        "  65: 'West Lawn',\n",
        "  66: 'Chicago Lawn',\n",
        "  67: 'West Englewood',\n",
        "  68: 'Englewood',\n",
        "  69: 'Greater Grand Crossing',\n",
        "  70: 'Ashburn',\n",
        "  71: 'Auburn Gresham',\n",
        "  72: 'Beverly',\n",
        "  73: 'Washington Heights',\n",
        "  74: 'Mount Greenwood',\n",
        "  75: 'Morgan Park',\n",
        "  76: \"O'Hare\",\n",
        "  77: 'Edgewater'}}"
       ]
      }
     ],
     "prompt_number": 271
    }
   ],
   "metadata": {}
  }
 ]
}