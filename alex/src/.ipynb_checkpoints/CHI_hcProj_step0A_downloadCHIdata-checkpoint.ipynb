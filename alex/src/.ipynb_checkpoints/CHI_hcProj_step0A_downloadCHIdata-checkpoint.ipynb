{
 "metadata": {
  "name": "",
  "signature": "sha256:8c9dfe7220efd6738bb36c4b66eb8a5b4c4956fa94e7c5eb94d1de6dc3d5445c"
 },
 "nbformat": 3,
 "nbformat_minor": 0,
 "worksheets": [
  {
   "cells": [
    {
     "cell_type": "code",
     "collapsed": false,
     "input": [
      "import requests\n",
      "import StringIO\n",
      "import os\n",
      "import csv\n",
      "import urllib2"
     ],
     "language": "python",
     "metadata": {},
     "outputs": []
    },
    {
     "cell_type": "code",
     "collapsed": false,
     "input": [
      "# This class downloads the Chicago Crime Data\n",
      "\n",
      "# Crime Data\n",
      "class CrimeDataDownload(object):\n",
      "    def __init__(self):\n",
      "        self.temp = 0\n",
      "    \n",
      "    def downloadData(self):\n",
      "        if 'Crimes_-_2001_to_present.csv' not in os.listdir('../data'):\n",
      "            msg = 'Download crime data now? This may take an hour...:'\n",
      "            shall = True if raw_input(\"%s (y/N) \" % msg).lower() == 'y' else False\n",
      "            if shall:\n",
      "            \n",
      "                CrimeURL = 'https://data.cityofchicago.org/api/views/ijzp-q8t2/rows.csv?accessType=DOWNLOAD'\n",
      "                response = urllib2.urlopen(CrimeURL)\n",
      "                csvR = csv.reader(response)\n",
      "            \n",
      "                writer = csv.writer(open(\"Crimes_-_2001_to_present.csv\", 'w'))\n",
      "                count = 0\n",
      "                csvRL = 'many'\n",
      "                for row in csvR:\n",
      "                    if count % 100000==0:\n",
      "                        print str(count) + ' of ' + csvRL\n",
      "                    writer.writerow(row)\n",
      "                    count += 1\n",
      "                return True\n",
      "            else:\n",
      "                return False\n",
      "        else:\n",
      "            print 'Crime Data in Data Folder... all set'\n",
      "            return True\n",
      "    \n",
      "# Do write this to download a few other csvs (see instructions documented in evernote), \n",
      "# though not all data is packaged online as a csv"
     ],
     "language": "python",
     "metadata": {},
     "outputs": [
      {
       "output_type": "stream",
       "stream": "stdout",
       "text": [
        "Crime data already downloaded\n"
       ]
      }
     ],
     "prompt_number": 38
    },
    {
     "cell_type": "code",
     "collapsed": false,
     "input": [
      "run = CrimeDataDownload()\n",
      "run.downloadData()"
     ],
     "language": "python",
     "metadata": {},
     "outputs": []
    },
    {
     "cell_type": "markdown",
     "metadata": {},
     "source": [
      "# Data Notes\n",
      "1. Walk Score data, google walkscore Chicago ()\n",
      "1. Other data, see evernote\n",
      "1. Custom written neibourhood name to community mapper (http://en.wikipedia.org/wiki/Community_areas_in_Chicago)"
     ]
    },
    {
     "cell_type": "markdown",
     "metadata": {},
     "source": [
      "## All Data Sources\n",
      "\n",
      "* CHIcommAreaNums.csv\n",
      "    - Community Numbers Standardized\n",
      "    - Data from (https://data.cityofchicago.org/Facilities-Geographic-Boundaries/Boundaries-Community-Areas-current-/cauq-8yn6)\n",
      "    - This website also includes \n",
      "    - in sqr-feet (it took me a while to discern this)\n",
      "\n",
      "\n",
      "\t* comNames.csv\n",
      "\t* \n",
      "\t\t* I've adapted to be single words\n",
      "\n",
      "\t* walkscores.csv\n",
      "\t* \n",
      "\t\t* Thi data from http://www.walkscore.com/IL/Chicago, \n",
      "\n",
      "\t* neibCom.csv \n",
      "\t* \n",
      "\t\t* neibourhood to community name KEY, : http://en.wikipedia.org/wiki/Neighborhoods_in_Chicago\n",
      "\n",
      "\t* \n",
      "\t\t* This file is effectively a dictionary between the names of neibourhoods and communities\n",
      "\t\t* note that neibCom2.csv is the same as the original, now I've updated the dict to have more neibs to community areas (to correspond to walkscore Neibourhood names)\n",
      "\t\t* \n",
      "\t\t\t* Most of these new dict items are because of walkscore neib name misspellings... I should write spellchk code next time\n",
      "\t\t\t* Note that this list does not comprise of a list of unique neighbourhoods.  Thus, one can use it to map neibourhoods to communities, but not the other way around.\n",
      "\n",
      "\n",
      "\t* comPops.csv\n",
      "\t* \n",
      "\t\t* http://www.robparal.com/downloads/ACS0509/HistoricalData/Chicago%20Community%20Areas%20Historical%20Data.htm\n",
      "\n",
      "\t* chicago-community-areas.csv\n",
      "\t* \n",
      "\t\t* https://github.com/dssg/411-on-311/blob/master/data/chicago-community-areas.csv\n",
      "\t\t* contains 2010 populations and median household income\n",
      "\n",
      "\t* \n",
      "\n",
      "\t* priceLatLon.csv\n",
      "\t* \n",
      "\t\t* scraped data from trulia.com\n",
      "\t\t* \n",
      "\t\t\t* all apartments/condos/townhouses in community numbers 5,6,7,8,16,21,22,24\n",
      "\t\t\t* price pertains to these housing types sold in the last 9 months\n",
      "\t\t\t* with prices are latlon coordinates\n",
      "\n",
      "\n",
      "\t* priceLatLonOther.csv\n",
      "\t* \n",
      "\t\t* rescraped like above but including more communities\n",
      "\t\t* \n",
      "\t\t\t* all apartments/condos/townhouses in community numbers 5,6,7,8,16,21,22,24+[3,4,14,20,23]\n",
      "\t\t\t* price pertains to these housing types sold in the last 9 months\n",
      "\t\t\t* with prices are latlon coordinates and house type\n",
      "\n",
      "\n",
      "\t* priceLatLonOther.csv\n",
      "\t* \n",
      "\t\t* same as above, with all communities in Chicago\n",
      "\n",
      "\t* City of Chicago data portal community area shape files \n",
      "\t* \n",
      "\t\t* downloaded and converted to kml format to be uploaded into a google maps fusion table\n",
      "\n",
      "\t* other community area\n",
      "\t* \n",
      "\t\t* http://robparal.blogspot.com/2012/05/hard-to-find-census-data-on-chicago.html\n",
      "\n",
      "\t* OTHER DATA NOT USED\n",
      "\t* \n",
      "\t\t* http://www.housingstudies.org/dataportal/composition/housing-units-composition/community-area/2005/2013/\n",
      "\t\t* census\n",
      "\t\t* \n",
      "\t\t\t* http://factfinder2.census.gov/faces/nav/jsf/pages/download_center.xhtml\n",
      "\n",
      "\n",
      "\n"
     ]
    }
   ],
   "metadata": {}
  }
 ]
}