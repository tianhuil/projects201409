{
 "metadata": {
  "name": "",
  "signature": "sha256:630bcbf0576ab4d28a12118c21430e69dafe8172eeb24f8c349bfdbc383541a5"
 },
 "nbformat": 3,
 "nbformat_minor": 0,
 "worksheets": [
  {
   "cells": [
    {
     "cell_type": "code",
     "collapsed": false,
     "input": [
      "import numpy as np\n",
      "import pandas as pd\n",
      "import matplotlib.pylab as plt"
     ],
     "language": "python",
     "metadata": {},
     "outputs": [],
     "prompt_number": 1
    },
    {
     "cell_type": "code",
     "collapsed": false,
     "input": [
      "# Read City of Chicago Crime Data\n",
      "\n",
      "df_crimeDataR = pd.read_csv('../data/Crimes_-_2001_to_present.csv', \n",
      "                            iterator=True, chunksize=1000, nrows=10000000, usecols = [2,3]+range(5,15)+[17,19,20])\n",
      "df_crimeDataR.rename(columns = {'Community Area':'comNum', 'Latitude':'lat', 'Longitude':'lng'}, inplace=True)\n",
      "\n",
      "# The following converts all the comNums into the same format:\n",
      "def convert_to_float(x):\n",
      "    if type(x)==type('hello'): # type string\n",
      "        if x.isdigit()==True:\n",
      "            return float(x)\n",
      "        else:\n",
      "            return 0.\n",
      "    elif type(x)==type(1): # type integer\n",
      "        return float(x)\n",
      "    elif type(x)==type(1.): # type float\n",
      "        if np.isnan(x):\n",
      "            return 0.\n",
      "        else:\n",
      "            return x\n",
      "    else:\n",
      "        return 0.\n",
      "\n",
      "df_crimeDataR.comNum = df_crimeDataR.comNum.apply(convert_to_float) # converts comNums to floats\n",
      "df_crimeDataR['Month'] = df_crimeDataR.Date.apply(lambda x: float(x.split('/')[0])) # gets month\n",
      "#df_crimeDataR['Date'] = pd.to_datetime(df_crimeDataR.Date) # This code is currently killing my Kernel\n",
      "df_crimeDataR['DateYr'] = df_crimeDataR.Year + (df_crimeDataR.Month-1)/12 # data in fraction of the year (by month)\n",
      "\n",
      "comNums = [3,4,5,6,7,8,14,16,20,21,22,23,24]\n",
      "df_recCr = df_crimeDataR[df_crimeDataR.Year >= 2013]\n",
      "df_recCr['gridNum'] = 0 #Initializes grid numbers, which will be counted from (bottom-left rightward, and end at the top-right)"
     ],
     "language": "python",
     "metadata": {},
     "outputs": [
      {
       "output_type": "stream",
       "stream": "stderr",
       "text": [
        "/home/aloosley/anaconda/lib/python2.7/site-packages/pandas/io/parsers.py:1130: DtypeWarning: Columns (13) have mixed types. Specify dtype option on import or set low_memory=False.\n",
        "  data = self._reader.read(nrows)\n"
       ]
      }
     ],
     "prompt_number": 2
    },
    {
     "cell_type": "markdown",
     "metadata": {},
     "source": [
      "comNums = [3,4,5,6,7,8,14,16,20,21,22,23,24]\n",
      "df_recCr = df_crimeDataR[df_crimeDataR.Year >= 2013]\n",
      "df_recCr['gridNum'] = 0 #Initializes grid numbers, which will be counted from (bottom-left rightward, and end at the top-right)"
     ]
    },
    {
     "cell_type": "code",
     "collapsed": false,
     "input": [
      "class DataGrids(object):\n",
      "    # Constructor\n",
      "    def __init__(self, data, tarCol, gData):\n",
      "        # Input a pandas DataFrame called data with a lat and lng column,\n",
      "        # a target column to aggregate (tarCol), and grid data (gData)\n",
      "        self.data = data\n",
      "        self.tarCol = tarCol\n",
      "        self.gData = gData\n",
      "        \n",
      "    def AssignGridValues(self):\n",
      "        \n",
      "        try:\n",
      "            self.data.gridNum = 0 # If this doesn't exist, the except initializes it\n",
      "        except:\n",
      "            self.data['gridNum'] = 0\n",
      "            \n",
      "        # The for loops start at the bottom-left, and col upward to the top before\n",
      "        # moving one column to the right and repeating\n",
      "        #\n",
      "        # This can be done better with a map reduce (see assignGridValues_MR method)\n",
      "        gCount = 1\n",
      "        for gXidx in range(self.gData['gNumX']):\n",
      "            for gYidx in range(self.gData['gNumY']):\n",
      "                self.data.loc[(self.data.lat >=self.gData['bottom']+self.gData['gSpaceY']*gYidx) & \n",
      "                              (self.data.lat < self.gData['bottom']+self.gData['gSpaceY']*(gYidx+1)) &\n",
      "                              (self.data.lng >=self.gData['left']  +self.gData['gSpaceX']*gXidx) &\n",
      "                              (self.data.lng < self.gData['left']  +self.gData['gSpaceX']*(gXidx+1)),'gridNum'] = gCount\n",
      "                gCount += 1\n",
      "                if gCount==self.gData['gNumX']*self.gData['gNumY']//2:\n",
      "                    print '50% complete' \n",
      "        print '100% complete'\n",
      "        \n",
      "        self.gb = self.data.groupby('gridNum')\n",
      "        \n",
      "        return self.data\n",
      "    \n",
      "    def AggDataByGrid(self,f):\n",
      "        try:\n",
      "            return self.gb.apply(f)\n",
      "        except:\n",
      "            print(\"Call AssignGridValues() before calling AggDataByGrid(f), or make sure f is a defined function to apply to df\")\n",
      "            return None\n",
      "        "
     ],
     "language": "python",
     "metadata": {},
     "outputs": [],
     "prompt_number": 3
    },
    {
     "cell_type": "code",
     "collapsed": false,
     "input": [
      "gData = {\n",
      "    'top': 41.968003,\n",
      "    'bottom': 41.913278,\n",
      "    'left': -87.748468,\n",
      "    'right': -87.626452,\n",
      "    'gNumX': 20,\n",
      "    'gNumY': 14,\n",
      "    'milesPerLat': 111.2 * 0.621371, # miles/lat (near Chi)\n",
      "    'milesPerLng': 82.63 * 0.621371 # miles/lng (near Chi)\n",
      "}\n",
      "gData['gSpaceX'] = (gData['right'] - gData['left'])/gData['gNumX']\n",
      "gData['gSpaceY'] = (gData['top'] - gData['bottom'])/gData['gNumY']\n",
      "gData['gridArea'] = gData['gSpaceX']*gData['milesPerLng'] * gData['gSpaceY']*gData['milesPerLat']\n",
      "\n",
      "# Aggregate Data into Grids\n",
      "crDataGrid = DataGrids(df_recCr,1,gData)\n",
      "df_recCr = crDataGrid.AssignGridValues()\n",
      "df_recCr_gAllCrime = crDataGrid.AggDataByGrid(lambda x: len(x)) # total number of crimes per grid (gridNum = 0, all crimes outside of grid)\n",
      "df_recCr_gComNum = np.round(crDataGrid.gb.mean(),0).comNum # Calculates Community Numbers Corresponding to Each Grid"
     ],
     "language": "python",
     "metadata": {},
     "outputs": [
      {
       "output_type": "stream",
       "stream": "stdout",
       "text": [
        "50% complete\n",
        "100% complete"
       ]
      },
      {
       "output_type": "stream",
       "stream": "stdout",
       "text": [
        "\n"
       ]
      }
     ],
     "prompt_number": 11
    },
    {
     "cell_type": "code",
     "collapsed": false,
     "input": [
      "# Read Scraped Price Data:\n",
      "df_hPrices = pd.read_csv('../data/priceLatLngAll.csv')\n",
      "\n",
      "prDataGrid = DataGrids(df_hPrices,1,gData)\n",
      "df_recPr = prDataGrid.AssignGridValues()\n",
      "df_recPr_gMeanPrice = np.round(prDataGrid.gb.mean(),0).price"
     ],
     "language": "python",
     "metadata": {},
     "outputs": [
      {
       "output_type": "stream",
       "stream": "stdout",
       "text": [
        "50% complete\n",
        "100% complete"
       ]
      },
      {
       "output_type": "stream",
       "stream": "stdout",
       "text": [
        "\n"
       ]
      },
      {
       "metadata": {},
       "output_type": "pyout",
       "prompt_number": 45,
       "text": [
        "gridNum\n",
        "8           65900\n",
        "9          135000\n",
        "10         355000\n",
        "11         138500\n",
        "12         174600\n",
        "14          55000\n",
        "16          62500\n",
        "21         176833\n",
        "23         425000\n",
        "24         299000\n",
        "25         216875\n",
        "26         358000\n",
        "27         282500\n",
        "28         114800\n",
        "29          27000\n",
        "...\n",
        "240        515819\n",
        "241        484444\n",
        "242        297333\n",
        "243        277891\n",
        "244        263940\n",
        "245        339633\n",
        "246        315511\n",
        "247        203214\n",
        "248        145417\n",
        "253        462200\n",
        "254        349309\n",
        "255        545705\n",
        "256        317769\n",
        "258        302891\n",
        "259        217233\n",
        "Name: price, Length: 203, dtype: float64"
       ]
      }
     ],
     "prompt_number": 45
    },
    {
     "cell_type": "markdown",
     "metadata": {},
     "source": [
      "# This is old but I'm keeping it until the above code is bug free\n",
      "\n",
      "# Parameters that define the grid\n",
      "gTop = 41.968003\n",
      "gBot = 41.913278\n",
      "gLeft = -87.748468\n",
      "gRight = -87.626452\n",
      "gNumX = 20\n",
      "gNumY = 14\n",
      "gSpaceX = (gRight - gLeft)/gNumX\n",
      "gSpaceY = (gTop - gBot)/gNumY\n",
      "# grid size in miles (calculated by hand)\n",
      "milesPerLat = 111.2 * 0.621371 # miles/lat (near Chi)\n",
      "milesPerLng = 82.63 * 0.621371 # miles/lng (near Chi)\n",
      "gridArea = gSpaceX*milesPerLng * gSpaceY*milesPerLat\n",
      "\n",
      "\n",
      "# WE could index df_recCr for speed in the for loops below:\n",
      "gCount = 1\n",
      "for gXidx in range(gNumX):\n",
      "    for gYidx in range(gNumY):\n",
      "        df_recCr.loc[(df_recCr.lat>=gBot+gSpaceY*gYidx)   &\n",
      "                     (df_recCr.lat<gBot+gSpaceY*(gYidx+1)) &\n",
      "                     (df_recCr.lng>=gLeft+gSpaceX*gXidx) &\n",
      "                     (df_recCr.lng<gLeft+gSpaceX*(gXidx+1)),'gridNum'] = gCount\n",
      "        gCount += 1\n",
      "        if gCount==gNumX*gNumY//2:\n",
      "            print '50% complete' \n",
      "print '100% complete'"
     ]
    },
    {
     "cell_type": "code",
     "collapsed": false,
     "input": [
      "# Community Area Populations over time\n",
      "# By the end of this cell, mergedComData contains the 2014 estimated pop\n",
      "# by community number, and population density\n",
      "comPops = pd.read_csv('../data/comPops.csv')\n",
      "colsToKeep = [col for col in comPops.columns if (col.find('Total')==0 | col.find('Comm'))==0]\n",
      "comPops = comPops[colsToKeep]\n",
      "comPops.rename(columns = {colsToKeep[0]:\"comNum\"}, inplace=True)\n",
      "comPops['pop2010'] = pd.read_csv('../data/mergedData.csv', usecols=[2])\n",
      "\n",
      "# get linear model coeficents to extrapolate poputaltion over time:\n",
      "popChgPerYear = zeros(77)\n",
      "popAt0 = popChgPerYear.copy()\n",
      "for k in range(len(popChgPerYear)):\n",
      "    popChgPerYear[k], popAt0[k] = np.polyfit([2000,2009,2010],comPops.ix[k,-3:],1)\n",
      "pop2014linEst = popChgPerYear*2014 + popAt0\n",
      "mergedComData = pd.read_csv('../data/mergedData.csv')\n",
      "pop2014wsEst = np.array(mergedComData.comPop)\n",
      "\n",
      "# Not all the walk score (ws) estimated populations are correct because of data set incompleteness\n",
      "# If the pop2014wsEst is too far off from the linEst, take the linEst\n",
      "if len(pop2014linEst) == len(pop2014wsEst):\n",
      "    popEst2014 = pop2014linEst\n",
      "    for idx in range(len(popEst2014)):\n",
      "        if abs(pop2014wsEst[idx] - pop2014linEst[idx]) < 1000:\n",
      "            popEst2014[idx] = pop2014wsEst[idx]\n",
      "mergedComData['comPop2014est'] = floor(popEst2014)\n",
      "mergedComData['popDen2014est'] = mergedComData.comPop2014est / mergedComData.area * (5280**2) # Note the units, ppl/sqMile"
     ],
     "language": "python",
     "metadata": {},
     "outputs": [],
     "prompt_number": 13
    },
    {
     "cell_type": "code",
     "collapsed": false,
     "input": [
      "# Here we group by grid numbers and calculate\n",
      "# the amount of crime in each grid, as well as the population\n",
      "# and the associated comNum\n",
      "\n",
      "gCrime_all = np.zeros(crDataGrid.gData['gNumX']*crDataGrid.gData['gNumY']+1)\n",
      "gComNum = gCrime_all.copy()\n",
      "gPrice = gCrime_all.copy()\n",
      "for idx in df_recCr_gAllCrime.index:\n",
      "    gCrime_all[idx] = df_recCr_gAllCrime[idx]\n",
      "    gComNum[idx] = df_recCr_gComNum[idx]\n",
      "for idx in df_recPr_gMeanPrice.index:\n",
      "    gPrice[idx] = df_recPr_gMeanPrice[idx]\n",
      "# The reason for this for loop is that not all grid number occur in the \"df_recCr_gAllCrime\" DataFrame\n",
      "\n",
      "gCrime_all = gCrime_all[1:]\n",
      "gComNum = gComNum[1:]\n",
      "gPrice = gPrice[1:]\n",
      "# note above that grid square 1 corresponds to index 0 \n",
      "# grid# n corresponds to index n-1\n",
      "\n",
      "gPop = []\n",
      "for idx in range(len(gComNum)):\n",
      "    try:\n",
      "        gPop.append(float(mergedComData.popDen2014est[mergedComData.comNum==gComNum[idx]])*crDataGrid.gData['gridArea'])\n",
      "    except: # when comNum = 0 because grid is outside a community or no crime occured there\n",
      "        gPop.append(0)\n",
      "    \n",
      "gCrimePer100000 = floor(gCrime_all/gPop*100000)\n",
      "gCrimePer100000[np.isnan(gCrimePer100000)] = 0\n",
      "# At this point, we have the crimesPer100000 for each grid point"
     ],
     "language": "python",
     "metadata": {},
     "outputs": [],
     "prompt_number": 47
    },
    {
     "cell_type": "code",
     "collapsed": false,
     "input": [
      "import sys\n",
      "import colour\n",
      "from matplotlib import colors\n",
      "\n",
      "def GetGridColors(gData,cLimLow,cLimHigh):\n",
      "    highCrimeColorIdx = 255\n",
      "    colormap = matplotlib.cm.jet(arange(highCrimeColorIdx))*255.\n",
      "\n",
      "    def rgb_to_hex(rgb):\n",
      "        return '#%02x%02x%02x' % (rgb[0],rgb[1],rgb[2])\n",
      "\n",
      "    colormap_hex = []\n",
      "    for idx, color in enumerate(colormap):\n",
      "        colormap_hex.append(rgb_to_hex(color))\n",
      "\n",
      "    crColors = []\n",
      " \n",
      "    for dataVal in gData:\n",
      "        colorIdx = int(floor((highCrimeColorIdx-1)*(dataVal-cLimLow)/(cLimHigh-cLimLow)))\n",
      "        #print colorIdx\n",
      "        #print crimePer\n",
      "        if colorIdx < 0:\n",
      "            crColors.append(colormap_hex[0])\n",
      "        elif colorIdx > highCrimeColorIdx-1:\n",
      "            crColors.append(colormap_hex[-1])\n",
      "        else:\n",
      "            crColors.append(colormap_hex[colorIdx])\n",
      "        if dataVal == 0:\n",
      "            crColors[-1] = '#000000'\n",
      "\n",
      "    def horzPrintList(l):\n",
      "        sys.stdout.write('[')\n",
      "        for st in l:\n",
      "            sys.stdout.write(\"'\")\n",
      "            sys.stdout.write(st)\n",
      "            sys.stdout.write(\"'\")\n",
      "            sys.stdout.write(',')\n",
      "        sys.stdout.write(']')\n",
      "\n",
      "    #colormap_hex[250:265]\n",
      "    print len(crColors)\n",
      "    horzPrintList(crColors)"
     ],
     "language": "python",
     "metadata": {},
     "outputs": [],
     "prompt_number": 48
    },
    {
     "cell_type": "code",
     "collapsed": false,
     "input": [
      "GetGridColors(gCrimePer100000,1000,15000)"
     ],
     "language": "python",
     "metadata": {},
     "outputs": [
      {
       "output_type": "stream",
       "stream": "stdout",
       "text": [
        "280\n",
        "['#ffc400','#d10000','#840000','#ffcf00','#840000','#a3ff53','#840000','#f4f802','#ffbd00','#90ff66','#840000','#18ffdd','#00a8ff','#007cff','#00a0ff','#93ff63','#ff9f00','#ffae00','#ec0300','#69ff8d','#ff5c00','#00bcff','#0044ff','#00e0fa','#46ffb0','#004cff','#2cffca','#ffde00','#840000','#ff1d00','#ffb100','#b10000','#0080ff','#4fffa6','#ffe900','#ff8500','#840000','#00d4ff','#ff7600','#63ff93','#ffd300','#00c0ff','#840000','#840000','#840000','#caff2c','#e0ff15','#ff4a00','#840000','#840000','#840000','#0088ff','#840000','#ff3b00','#aaff4c','#3cffba','#ff9000','#840000','#ff2c00','#d10000','#8d0000','#840000','#840000','#cdff29','#00d0ff','#00dcfe','#ff1600','#b7ff3f','#ff2800','#ff7600','#840000','#840000','#840000','#8dff69','#840000','#840000','#840000','#00a4ff','#d0ff25','#ff1a00','#cc0000','#a30000','#ff1a00','#840000','#ff4600','#840000','#ff2500','#da0000','#840000','#ff7a00','#ff9800','#0010ff','#ff2500','#ff6400','#e30000','#eaff0c','#ff8500','#ffcf00','#ff5900','#ffbd00','#de0000','#ff3000','#f7f400','#c7ff2f','#ff8100','#00ccff','#c3ff32','#ffaa00','#ff6000','#e4ff12','#b7ff3f','#009cff','#ff2500','#d10000','#840000','#36ffc0','#d0ff25','#00e4f7','#a0ff56','#0000ff','#7cff79','#0000f5','#0090ff','#0000e3','#9a0000','#00e4f7','#ac0000','#840000','#ff4600','#ffd300','#d0ff25','#0cf4ea','#0084ff','#840000','#ffaa00','#22ffd4','#53ffa3','#00bcff','#b60000','#8d0000','#da0000','#ffc000','#ffbd00','#0040ff','#840000','#18ffdd','#c0ff36','#90ff66','#4cffaa','#69ff8d','#22ffd4','#5fff96','#a6ff4f','#ff7a00','#ffbd00','#9a0000','#3cffba','#003cff','#4fffa6','#3fffb7','#ff1a00','#bdff39','#49ffad','#89ff6c','#ffb900','#f1fc05','#fa0f00','#f1fc05','#ff7a00','#adff49','#00d8ff','#ffb500','#0044ff','#0000ac','#00a8ff','#36ffc0','#005cff','#0034ff','#00b0ff','#0004ff','#ff9b00','#00dcfe','#0034ff','#12fce4','#840000','#a30000','#89ff6c','#15ffe1','#79ff7d','#53ffa3','#4fffa6','#00ccff','#adff49','#0000ff','#ff8500','#b7ff3f','#0000d5','#e4ff12','#73ff83','#ffa600','#a6ff4f','#12fce4','#66ff90','#00e4f7','#9aff5c','#d4ff22','#0068ff','#00007f','#63ff93','#840000','#9aff5c','#ff1600','#ff8500','#840000','#c80000','#b0ff46','#840000','#840000','#840000','#baff3c','#840000','#ff2500','#840000','#840000','#02e8f4','#840000','#840000','#840000','#840000','#840000','#840000','#840000','#840000','#840000','#840000','#a0ff56','#d7ff1f','#cdff29','#0ff8e7','#cdff29','#de0000','#840000','#840000','#840000','#840000','#adff49','#0054ff','#00a0ff','#0000bf','#00007f','#00008d','#0000ff','#840000','#ac0000','#daff1c','#0078ff','#0000e3','#0088ff','#0000d1','#00007f','#00007f','#00007f','#00007f','#00007f','#00007f','#00007f','#0000da','#00007f','#001cff','#00007f','#00007f','#00007f','#00007f','#00007f','#00007f','#00007f','#00007f','#00007f','#00007f','#00007f',]"
       ]
      }
     ],
     "prompt_number": 49
    },
    {
     "cell_type": "code",
     "collapsed": false,
     "input": [
      "GetGridColors(gPrice,100000,400000)"
     ],
     "language": "python",
     "metadata": {},
     "outputs": [
      {
       "output_type": "stream",
       "stream": "stdout",
       "text": [
        "280\n",
        "['#00007f','#00007f','#00007f','#00007f','#00007f','#00007f','#00007f','#00007f','#0000ff','#ff3f00','#0000ff','#007cff','#00007f','#00007f','#00007f','#00007f','#00007f','#00007f','#00007f','#00007f','#0084ff','#00007f','#840000','#feed00','#1cffda','#ff3400','#d0ff25','#0000b6','#00007f','#00007f','#00007f','#00007f','#00007f','#00007f','#00007f','#00007f','#00007f','#00007f','#00009f','#0000c3','#00007f','#0000da','#00007f','#00007f','#00007f','#00007f','#00007f','#004cff','#00007f','#18ffdd','#00c0ff','#00007f','#ddff18','#00007f','#00007f','#00007f','#0000ff','#00007f','#00007f','#0074ff','#00007f','#00007f','#00007f','#00c8ff','#ffcb00','#0078ff','#0040ff','#00007f','#00007f','#0000ac','#0054ff','#0014ff','#00a8ff','#00007f','#86ff70','#0000f1','#ff9000','#00007f','#00007f','#0000bf','#0050ff','#00007f','#0058ff','#0014ff','#93ff63','#83ff73','#0080ff','#ff5900','#1fffd7','#2fffc7','#00007f','#00007f','#6cff89','#005cff','#0018ff','#0000ff','#42ffb3','#0038ff','#00b4ff','#00e4f7','#ff9400','#ff6000','#83ff73','#00a8ff','#0000cc','#840000','#0000a3','#00007f','#00d0ff','#9aff5c','#0078ff','#08f0ed','#1cffda','#ff5100','#ffb900','#ff4d00','#ffcf00','#ff9000','#d0ff25','#eaff0c','#00007f','#d4ff22','#00c8ff','#00a4ff','#15ffe1','#c3ff32','#ff2800','#840000','#9a0000','#ff4200','#ffd300','#0000c3','#00007f','#840000','#00007f','#00007f','#ffb900','#ffa300','#ff2800','#42ffb3','#840000','#ff5500','#840000','#ff2c00','#ff8100','#ffcf00','#840000','#840000','#c0ff36','#a0ff56','#840000','#00007f','#3fffb7','#00007f','#840000','#840000','#c80000','#00007f','#840000','#840000','#840000','#ff7e00','#840000','#840000','#b10000','#ffb100','#ff8c00','#76ff80','#840000','#b60000','#c7ff2f','#840000','#840000','#840000','#840000','#880000','#840000','#90ff66','#ff4200','#59ff9d','#9dff59','#90ff66','#00007f','#00007f','#840000','#840000','#840000','#840000','#840000','#840000','#840000','#840000','#840000','#e0ff15','#70ff86','#a3ff53','#00007f','#840000','#840000','#840000','#840000','#840000','#840000','#840000','#840000','#c30000','#840000','#00007f','#6cff89','#89ff6c','#840000','#840000','#840000','#840000','#840000','#840000','#840000','#840000','#840000','#c30000','#ffe900','#caff2c','#d4ff22','#5fff96','#840000','#840000','#ffb500','#840000','#840000','#840000','#880000','#bf0000',"
       ]
      },
      {
       "output_type": "stream",
       "stream": "stdout",
       "text": [
        "'#ff8c00','#d7ff1f','#0098ff','#007cff','#0044ff','#00007f','#840000','#840000','#840000','#faf000','#c3ff32','#9dff59','#ff6f00','#ffb900','#00dcfe','#0018ff','#00007f','#00007f','#00007f','#00007f','#840000','#ff4d00','#840000','#ffb100','#00007f','#ffe200','#1fffd7','#00007f','#00007f','#00007f','#00007f','#00007f','#00007f','#00007f','#00007f','#00007f','#00007f','#00007f','#00007f','#00007f','#00007f','#00007f','#00007f','#00007f','#00007f','#00007f','#00007f','#00007f',]"
       ]
      }
     ],
     "prompt_number": 51
    },
    {
     "cell_type": "code",
     "collapsed": false,
     "input": [],
     "language": "python",
     "metadata": {},
     "outputs": []
    }
   ],
   "metadata": {}
  }
 ]
}