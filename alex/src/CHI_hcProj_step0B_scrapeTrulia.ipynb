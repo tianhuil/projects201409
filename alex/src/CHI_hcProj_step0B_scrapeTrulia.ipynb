{
 "metadata": {
  "name": "",
  "signature": "sha256:fcc2fc7cbedf7325ac52b842254b71628e02da77f03140719583604a3e53bbb9"
 },
 "nbformat": 3,
 "nbformat_minor": 0,
 "worksheets": [
  {
   "cells": [
    {
     "cell_type": "code",
     "collapsed": false,
     "input": [
      "%reset\n",
      "\n",
      "import urllib2\n",
      "from bs4 import BeautifulSoup\n",
      "import time\n",
      "import pandas as pd\n",
      "import numpy as np"
     ],
     "language": "python",
     "metadata": {},
     "outputs": [
      {
       "name": "stdout",
       "output_type": "stream",
       "stream": "stdout",
       "text": [
        "Once deleted, variables cannot be recovered. Proceed (y/[n])? y\n"
       ]
      }
     ],
     "prompt_number": 1
    },
    {
     "cell_type": "markdown",
     "metadata": {},
     "source": [
      "* The following try except statement will initialize variables only when necessary\n",
      "* Thus, if there is an error, just rerun the following cell of code to keep going"
     ]
    },
    {
     "cell_type": "markdown",
     "metadata": {},
     "source": [
      "# Testing Ground\n",
      "\n",
      "endPage = 130\n",
      "try:\n",
      "    lats\n",
      "    lons\n",
      "    prices\n",
      "    htype\n",
      "    comm\n",
      "    pg\n",
      "except NameError:\n",
      "    lats = []\n",
      "    lons = []\n",
      "    prices = []\n",
      "    htype = []\n",
      "    comm = []\n",
      "    pg = 1 # start scraping at page 1\n",
      "    \n",
      "pg = 1 if pg==endPage else pg\n",
      "sleepTime = 0.1*1.03**(pg-1)\n",
      "time.sleep(sleepTime) # exponential backoff (starting at 100ms)\n",
      "print(\"waiting \"+ str(sleepTime) +\"s to scrape page \"+str(pg))\n",
      "#url = \"http://www.trulia.com/sold/2884,2919,2923,2924,2927,2933,2937,2968_nh/9_srl/APARTMENT%7CCONDO%7CTOWNHOUSE,CONDO,TOWNHOUSE,APARTMENT_type/\"+str(pg)+\"_p\" \n",
      "#url = \"http://www.trulia.com/sold/2877,2884,2916,2917,2919,2923,2924,2925,2933,2937,2959,2968_nh/9_srl/APARTMENT%7CCONDO%7CTOWNHOUSE,CONDO,TOWNHOUSE,APARTMENT_type/\"+str(pg)+\"_p\" \n",
      "url = \"http://www.trulia.com/sold/Chicago,IL/9_srl/APARTMENT%7CCONDO%7CTOWNHOUSE,CONDO,TOWNHOUSE,APARTMENT_type/\"+str(pg)+\"_p\"\n",
      "try:\n",
      "    raw_page = urllib2.urlopen(url).read()\n",
      "except:\n",
      "    print \"waiting 10 s\"\n",
      "    time.sleep(10)\n",
      "    raw_page = urllib2.urlopen(url).read()\n",
      "soup = BeautifulSoup(raw_page)\n",
      "print(\"scraping page complete\")\n",
      "house_CSS = soup.select('li.hover')\n",
      "for house in house_CSS:\n",
      "    lats.append(house.select('div meta[itemprop=\"latitude\"]')[0]['content'])\n",
      "    lons.append(house.select('div meta[itemprop=\"longitude\"]')[0]['content'])\n",
      "    prices.append(house.select('span.h4 b')[0].text)\n",
      "    htype.append(house.select('div.cols5 strong')[0].text)\n",
      "    comm.append(house.select('div.typeTruncate')[0].text)\n",
      "        \n",
      "# converting prices to floats, to put in a pandas dataframe\n",
      "def prices_to_float(p):\n",
      "    for idx, price in enumerate(p):\n",
      "        p[idx] = price.replace(',','')[1:]\n",
      "    return p\n",
      "pricesF = prices_to_float(prices)\n",
      "\n",
      "data = np.zeros([len(lats),3])\n",
      "data[:] = np.NAN\n",
      "data[:,0] = lats\n",
      "data[:,1] = lons\n",
      "data[:,2] = pricesF\n",
      "df = pd.DataFrame(data, columns=['lat','lon','price'])\n",
      "df['htype'] = htype\n",
      "df['comm'] = comm"
     ]
    },
    {
     "cell_type": "code",
     "collapsed": false,
     "input": [
      "endPage = 504\n",
      "try:\n",
      "    lats\n",
      "    lngs\n",
      "    prices\n",
      "    htype\n",
      "    comm\n",
      "    pg\n",
      "except NameError:\n",
      "    lats = []\n",
      "    lngs = []\n",
      "    prices = []\n",
      "    htype = []\n",
      "    comm = []\n",
      "    pg = 1 # start scraping at page 1\n",
      "\n",
      "pg = 1 if pg==endPage else pg\n",
      "    \n",
      "for pg in range(pg,endPage+1):\n",
      "    sleepResetPeriod = 20\n",
      "    sleepTime = 0.1*1.2**(pg%sleepResetPeriod-1)\n",
      "    if pg%sleepResetPeriod == 0:\n",
      "        print \"sleeping 30s and reseting exponential backoff timer\"\n",
      "        time.sleep(30)\n",
      "        \n",
      "    time.sleep(sleepTime) # exponential backoff (starting at 100ms)\n",
      "    print(\"waiting \"+ str(sleepTime) +\"s to scrape page \"+str(pg))\n",
      "    #url = \"http://www.trulia.com/sold/2884,2919,2923,2924,2927,2933,2937,2968_nh/9_srl/APARTMENT%7CCONDO%7CTOWNHOUSE,CONDO,TOWNHOUSE,APARTMENT_type/\"+str(pg)+\"_p\" \n",
      "    #url = \"http://www.trulia.com/sold/2877,2884,2916,2917,2919,2923,2924,2925,2933,2937,2959,2968_nh/9_srl/APARTMENT%7CCONDO%7CTOWNHOUSE,CONDO,TOWNHOUSE,APARTMENT_type/\"+str(pg)+\"_p\" \n",
      "    # above is houses sold in comNum = [3,4,5,6,7,8,14,16,20,21,22,23,24]\n",
      "    \n",
      "    url = \"http://www.trulia.com/sold/Chicago,IL/9_srl/APARTMENT%7CCONDO%7CTOWNHOUSE,CONDO,TOWNHOUSE,APARTMENT_type/\"+str(pg)+\"_p\"\n",
      "    try:\n",
      "        try:\n",
      "            raw_page = urllib2.urlopen(url).read()\n",
      "        except:\n",
      "            print \"waiting 10 s\"\n",
      "            time.sleep(10)\n",
      "            raw_page = urllib2.urlopen(url).read()\n",
      "        soup = BeautifulSoup(raw_page)\n",
      "        print(\"scraping page complete\")\n",
      "        house_CSS = soup.select('li.hover')\n",
      "\n",
      "        # In case of an error, this makes sure all the data is aligned on re-run\n",
      "        lats = lats[:15*(pg-1)]\n",
      "        lngs = lngs[:15*(pg-1)]\n",
      "        prices = prices[:15*(pg-1)]\n",
      "        htype = htype[:15*(pg-1)]\n",
      "        comm = comm[:15*(pg-1)]\n",
      "        for house in house_CSS:\n",
      "            lats.append(house.select('div meta[itemprop=\"latitude\"]')[0]['content'])\n",
      "            lngs.append(house.select('div meta[itemprop=\"longitude\"]')[0]['content'])\n",
      "            prices.append(house.select('span.h4 b')[0].text)\n",
      "            htype.append(house.select('div.cols5 strong')[0].text)\n",
      "            comm.append(house.select('div.typeTruncate')[0].text)\n",
      "    except:\n",
      "        print \"Crawl Error, trying again in 10s\"\n",
      "        time.sleep(10)\n",
      "        try:\n",
      "            raw_page = urllib2.urlopen(url).read()\n",
      "        except:\n",
      "            print \"waiting 10 s\"\n",
      "            time.sleep(10)\n",
      "            raw_page = urllib2.urlopen(url).read()\n",
      "        soup = BeautifulSoup(raw_page)\n",
      "        print(\"scraping page complete\")\n",
      "        house_CSS = soup.select('li.hover')\n",
      "\n",
      "        # In case of an error, this makes sure all the data is aligned on re-run\n",
      "        lats = lats[:15*(pg-1)]\n",
      "        lngs = lngs[:15*(pg-1)]\n",
      "        prices = prices[:15*(pg-1)]\n",
      "        htype = htype[:15*(pg-1)]\n",
      "        comm = comm[:15*(pg-1)]\n",
      "        for house in house_CSS:\n",
      "            lats.append(house.select('div meta[itemprop=\"latitude\"]')[0]['content'])\n",
      "            lngs.append(house.select('div meta[itemprop=\"longitude\"]')[0]['content'])\n",
      "            prices.append(house.select('span.h4 b')[0].text)\n",
      "            htype.append(house.select('div.cols5 strong')[0].text)\n",
      "            comm.append(house.select('div.typeTruncate')[0].text)\n",
      "        \n",
      "\n",
      "# converting prices to floats, to put in a pandas dataframe\n",
      "def prices_to_float(p):\n",
      "    for idx, price in enumerate(p):\n",
      "        p[idx] = price.replace(',','')[1:]\n",
      "    return p\n",
      "pricesF = prices_to_float(prices)\n",
      "\n",
      "data = np.zeros([len(lats),3])\n",
      "data[:] = np.NAN\n",
      "data[:,0] = lats\n",
      "data[:,1] = lngs\n",
      "data[:,2] = pricesF\n",
      "df = pd.DataFrame(data, columns=['lat','lng','price'])\n",
      "df['htype'] = htype\n",
      "df['comm'] = comm"
     ],
     "language": "python",
     "metadata": {},
     "outputs": [
      {
       "output_type": "stream",
       "stream": "stdout",
       "text": [
        "waiting 0.1728s to scrape page 344\n",
        "scraping page complete"
       ]
      },
      {
       "output_type": "stream",
       "stream": "stdout",
       "text": [
        "\n",
        "waiting 0.20736s to scrape page 345"
       ]
      },
      {
       "output_type": "stream",
       "stream": "stdout",
       "text": [
        "\n",
        "scraping page complete"
       ]
      },
      {
       "output_type": "stream",
       "stream": "stdout",
       "text": [
        "\n",
        "waiting 0.248832s to scrape page 346"
       ]
      },
      {
       "output_type": "stream",
       "stream": "stdout",
       "text": [
        "\n",
        "scraping page complete"
       ]
      },
      {
       "output_type": "stream",
       "stream": "stdout",
       "text": [
        "\n",
        "waiting 0.2985984s to scrape page 347"
       ]
      },
      {
       "output_type": "stream",
       "stream": "stdout",
       "text": [
        "\n",
        "scraping page complete"
       ]
      },
      {
       "output_type": "stream",
       "stream": "stdout",
       "text": [
        "\n",
        "waiting 0.35831808s to scrape page 348"
       ]
      },
      {
       "output_type": "stream",
       "stream": "stdout",
       "text": [
        "\n",
        "scraping page complete"
       ]
      },
      {
       "output_type": "stream",
       "stream": "stdout",
       "text": [
        "\n",
        "waiting 0.429981696s to scrape page 349"
       ]
      },
      {
       "output_type": "stream",
       "stream": "stdout",
       "text": [
        "\n",
        "scraping page complete"
       ]
      },
      {
       "output_type": "stream",
       "stream": "stdout",
       "text": [
        "\n",
        "waiting 0.5159780352s to scrape page 350"
       ]
      },
      {
       "output_type": "stream",
       "stream": "stdout",
       "text": [
        "\n",
        "scraping page complete"
       ]
      },
      {
       "output_type": "stream",
       "stream": "stdout",
       "text": [
        "\n",
        "waiting 0.61917364224s to scrape page 351"
       ]
      },
      {
       "output_type": "stream",
       "stream": "stdout",
       "text": [
        "\n",
        "scraping page complete"
       ]
      },
      {
       "output_type": "stream",
       "stream": "stdout",
       "text": [
        "\n",
        "waiting 0.743008370688s to scrape page 352"
       ]
      },
      {
       "output_type": "stream",
       "stream": "stdout",
       "text": [
        "\n",
        "scraping page complete"
       ]
      },
      {
       "output_type": "stream",
       "stream": "stdout",
       "text": [
        "\n",
        "waiting 0.891610044826s to scrape page 353"
       ]
      },
      {
       "output_type": "stream",
       "stream": "stdout",
       "text": [
        "\n",
        "scraping page complete"
       ]
      },
      {
       "output_type": "stream",
       "stream": "stdout",
       "text": [
        "\n",
        "waiting 1.06993205379s to scrape page 354"
       ]
      },
      {
       "output_type": "stream",
       "stream": "stdout",
       "text": [
        "\n",
        "scraping page complete"
       ]
      },
      {
       "output_type": "stream",
       "stream": "stdout",
       "text": [
        "\n",
        "waiting 1.28391846455s to scrape page 355"
       ]
      },
      {
       "output_type": "stream",
       "stream": "stdout",
       "text": [
        "\n",
        "scraping page complete"
       ]
      },
      {
       "output_type": "stream",
       "stream": "stdout",
       "text": [
        "\n",
        "waiting 1.54070215746s to scrape page 356"
       ]
      },
      {
       "output_type": "stream",
       "stream": "stdout",
       "text": [
        "\n",
        "scraping page complete"
       ]
      },
      {
       "output_type": "stream",
       "stream": "stdout",
       "text": [
        "\n",
        "waiting 1.84884258895s to scrape page 357"
       ]
      },
      {
       "output_type": "stream",
       "stream": "stdout",
       "text": [
        "\n",
        "scraping page complete"
       ]
      },
      {
       "output_type": "stream",
       "stream": "stdout",
       "text": [
        "\n",
        "waiting 2.21861110674s to scrape page 358"
       ]
      },
      {
       "output_type": "stream",
       "stream": "stdout",
       "text": [
        "\n",
        "scraping page complete"
       ]
      },
      {
       "output_type": "stream",
       "stream": "stdout",
       "text": [
        "\n",
        "waiting 2.66233332809s to scrape page 359"
       ]
      },
      {
       "output_type": "stream",
       "stream": "stdout",
       "text": [
        "\n",
        "scraping page complete"
       ]
      },
      {
       "output_type": "stream",
       "stream": "stdout",
       "text": [
        "\n",
        "sleeping 30s and reseting exponential backoff timer\n",
        "waiting 0.0833333333333s to scrape page 360"
       ]
      },
      {
       "output_type": "stream",
       "stream": "stdout",
       "text": [
        "\n",
        "scraping page complete"
       ]
      },
      {
       "output_type": "stream",
       "stream": "stdout",
       "text": [
        "\n",
        "waiting 0.1s to scrape page 361"
       ]
      },
      {
       "output_type": "stream",
       "stream": "stdout",
       "text": [
        "\n",
        "scraping page complete"
       ]
      },
      {
       "output_type": "stream",
       "stream": "stdout",
       "text": [
        "\n",
        "waiting 0.12s to scrape page 362"
       ]
      },
      {
       "output_type": "stream",
       "stream": "stdout",
       "text": [
        "\n",
        "scraping page complete"
       ]
      },
      {
       "output_type": "stream",
       "stream": "stdout",
       "text": [
        "\n",
        "waiting 0.144s to scrape page 363"
       ]
      },
      {
       "output_type": "stream",
       "stream": "stdout",
       "text": [
        "\n",
        "scraping page complete"
       ]
      },
      {
       "output_type": "stream",
       "stream": "stdout",
       "text": [
        "\n",
        "waiting 0.1728s to scrape page 364"
       ]
      },
      {
       "output_type": "stream",
       "stream": "stdout",
       "text": [
        "\n",
        "scraping page complete"
       ]
      },
      {
       "output_type": "stream",
       "stream": "stdout",
       "text": [
        "\n",
        "waiting 0.20736s to scrape page 365"
       ]
      },
      {
       "output_type": "stream",
       "stream": "stdout",
       "text": [
        "\n",
        "scraping page complete"
       ]
      },
      {
       "output_type": "stream",
       "stream": "stdout",
       "text": [
        "\n",
        "Crawl Error, trying again in 10s\n",
        "scraping page complete"
       ]
      },
      {
       "output_type": "stream",
       "stream": "stdout",
       "text": [
        "\n",
        "waiting 0.248832s to scrape page 366"
       ]
      },
      {
       "output_type": "stream",
       "stream": "stdout",
       "text": [
        "\n",
        "scraping page complete"
       ]
      },
      {
       "output_type": "stream",
       "stream": "stdout",
       "text": [
        "\n",
        "waiting 0.2985984s to scrape page 367"
       ]
      },
      {
       "output_type": "stream",
       "stream": "stdout",
       "text": [
        "\n",
        "scraping page complete"
       ]
      },
      {
       "output_type": "stream",
       "stream": "stdout",
       "text": [
        "\n",
        "waiting 0.35831808s to scrape page 368"
       ]
      },
      {
       "output_type": "stream",
       "stream": "stdout",
       "text": [
        "\n",
        "scraping page complete"
       ]
      },
      {
       "output_type": "stream",
       "stream": "stdout",
       "text": [
        "\n",
        "waiting 0.429981696s to scrape page 369"
       ]
      },
      {
       "output_type": "stream",
       "stream": "stdout",
       "text": [
        "\n",
        "scraping page complete"
       ]
      },
      {
       "output_type": "stream",
       "stream": "stdout",
       "text": [
        "\n",
        "waiting 0.5159780352s to scrape page 370"
       ]
      },
      {
       "output_type": "stream",
       "stream": "stdout",
       "text": [
        "\n",
        "scraping page complete"
       ]
      },
      {
       "output_type": "stream",
       "stream": "stdout",
       "text": [
        "\n",
        "waiting 0.61917364224s to scrape page 371"
       ]
      },
      {
       "output_type": "stream",
       "stream": "stdout",
       "text": [
        "\n",
        "scraping page complete"
       ]
      },
      {
       "output_type": "stream",
       "stream": "stdout",
       "text": [
        "\n",
        "waiting 0.743008370688s to scrape page 372"
       ]
      },
      {
       "output_type": "stream",
       "stream": "stdout",
       "text": [
        "\n",
        "scraping page complete"
       ]
      },
      {
       "output_type": "stream",
       "stream": "stdout",
       "text": [
        "\n",
        "waiting 0.891610044826s to scrape page 373"
       ]
      },
      {
       "output_type": "stream",
       "stream": "stdout",
       "text": [
        "\n",
        "scraping page complete"
       ]
      },
      {
       "output_type": "stream",
       "stream": "stdout",
       "text": [
        "\n",
        "waiting 1.06993205379s to scrape page 374"
       ]
      },
      {
       "output_type": "stream",
       "stream": "stdout",
       "text": [
        "\n",
        "scraping page complete"
       ]
      },
      {
       "output_type": "stream",
       "stream": "stdout",
       "text": [
        "\n",
        "waiting 1.28391846455s to scrape page 375"
       ]
      },
      {
       "output_type": "stream",
       "stream": "stdout",
       "text": [
        "\n",
        "scraping page complete"
       ]
      },
      {
       "output_type": "stream",
       "stream": "stdout",
       "text": [
        "\n",
        "waiting 1.54070215746s to scrape page 376"
       ]
      },
      {
       "output_type": "stream",
       "stream": "stdout",
       "text": [
        "\n",
        "scraping page complete"
       ]
      },
      {
       "output_type": "stream",
       "stream": "stdout",
       "text": [
        "\n",
        "waiting 1.84884258895s to scrape page 377"
       ]
      },
      {
       "output_type": "stream",
       "stream": "stdout",
       "text": [
        "\n",
        "scraping page complete"
       ]
      },
      {
       "output_type": "stream",
       "stream": "stdout",
       "text": [
        "\n",
        "waiting 2.21861110674s to scrape page 378"
       ]
      },
      {
       "output_type": "stream",
       "stream": "stdout",
       "text": [
        "\n",
        "scraping page complete"
       ]
      },
      {
       "output_type": "stream",
       "stream": "stdout",
       "text": [
        "\n",
        "waiting 2.66233332809s to scrape page 379"
       ]
      },
      {
       "output_type": "stream",
       "stream": "stdout",
       "text": [
        "\n",
        "scraping page complete"
       ]
      },
      {
       "output_type": "stream",
       "stream": "stdout",
       "text": [
        "\n",
        "sleeping 30s and reseting exponential backoff timer\n",
        "waiting 0.0833333333333s to scrape page 380"
       ]
      },
      {
       "output_type": "stream",
       "stream": "stdout",
       "text": [
        "\n",
        "scraping page complete"
       ]
      },
      {
       "output_type": "stream",
       "stream": "stdout",
       "text": [
        "\n",
        "waiting 0.1s to scrape page 381"
       ]
      },
      {
       "output_type": "stream",
       "stream": "stdout",
       "text": [
        "\n",
        "scraping page complete"
       ]
      },
      {
       "output_type": "stream",
       "stream": "stdout",
       "text": [
        "\n",
        "waiting 0.12s to scrape page 382"
       ]
      },
      {
       "output_type": "stream",
       "stream": "stdout",
       "text": [
        "\n",
        "scraping page complete"
       ]
      },
      {
       "output_type": "stream",
       "stream": "stdout",
       "text": [
        "\n",
        "waiting 0.144s to scrape page 383"
       ]
      },
      {
       "output_type": "stream",
       "stream": "stdout",
       "text": [
        "\n",
        "scraping page complete"
       ]
      },
      {
       "output_type": "stream",
       "stream": "stdout",
       "text": [
        "\n",
        "waiting 0.1728s to scrape page 384"
       ]
      },
      {
       "output_type": "stream",
       "stream": "stdout",
       "text": [
        "\n",
        "scraping page complete"
       ]
      },
      {
       "output_type": "stream",
       "stream": "stdout",
       "text": [
        "\n",
        "waiting 0.20736s to scrape page 385"
       ]
      },
      {
       "output_type": "stream",
       "stream": "stdout",
       "text": [
        "\n",
        "scraping page complete"
       ]
      },
      {
       "output_type": "stream",
       "stream": "stdout",
       "text": [
        "\n",
        "waiting 0.248832s to scrape page 386"
       ]
      },
      {
       "output_type": "stream",
       "stream": "stdout",
       "text": [
        "\n",
        "scraping page complete"
       ]
      },
      {
       "output_type": "stream",
       "stream": "stdout",
       "text": [
        "\n",
        "waiting 0.2985984s to scrape page 387"
       ]
      },
      {
       "output_type": "stream",
       "stream": "stdout",
       "text": [
        "\n",
        "scraping page complete"
       ]
      },
      {
       "output_type": "stream",
       "stream": "stdout",
       "text": [
        "\n",
        "waiting 0.35831808s to scrape page 388"
       ]
      },
      {
       "output_type": "stream",
       "stream": "stdout",
       "text": [
        "\n",
        "scraping page complete"
       ]
      },
      {
       "output_type": "stream",
       "stream": "stdout",
       "text": [
        "\n",
        "waiting 0.429981696s to scrape page 389"
       ]
      },
      {
       "output_type": "stream",
       "stream": "stdout",
       "text": [
        "\n",
        "scraping page complete"
       ]
      },
      {
       "output_type": "stream",
       "stream": "stdout",
       "text": [
        "\n",
        "waiting 0.5159780352s to scrape page 390"
       ]
      },
      {
       "output_type": "stream",
       "stream": "stdout",
       "text": [
        "\n",
        "scraping page complete"
       ]
      },
      {
       "output_type": "stream",
       "stream": "stdout",
       "text": [
        "\n",
        "waiting 0.61917364224s to scrape page 391"
       ]
      },
      {
       "output_type": "stream",
       "stream": "stdout",
       "text": [
        "\n",
        "scraping page complete"
       ]
      },
      {
       "output_type": "stream",
       "stream": "stdout",
       "text": [
        "\n",
        "waiting 0.743008370688s to scrape page 392"
       ]
      },
      {
       "output_type": "stream",
       "stream": "stdout",
       "text": [
        "\n",
        "scraping page complete"
       ]
      },
      {
       "output_type": "stream",
       "stream": "stdout",
       "text": [
        "\n",
        "waiting 0.891610044826s to scrape page 393"
       ]
      },
      {
       "output_type": "stream",
       "stream": "stdout",
       "text": [
        "\n",
        "scraping page complete"
       ]
      },
      {
       "output_type": "stream",
       "stream": "stdout",
       "text": [
        "\n",
        "waiting 1.06993205379s to scrape page 394"
       ]
      },
      {
       "output_type": "stream",
       "stream": "stdout",
       "text": [
        "\n",
        "scraping page complete"
       ]
      },
      {
       "output_type": "stream",
       "stream": "stdout",
       "text": [
        "\n",
        "waiting 1.28391846455s to scrape page 395"
       ]
      },
      {
       "output_type": "stream",
       "stream": "stdout",
       "text": [
        "\n",
        "scraping page complete"
       ]
      },
      {
       "output_type": "stream",
       "stream": "stdout",
       "text": [
        "\n",
        "waiting 1.54070215746s to scrape page 396"
       ]
      },
      {
       "output_type": "stream",
       "stream": "stdout",
       "text": [
        "\n",
        "scraping page complete"
       ]
      },
      {
       "output_type": "stream",
       "stream": "stdout",
       "text": [
        "\n",
        "waiting 1.84884258895s to scrape page 397"
       ]
      },
      {
       "output_type": "stream",
       "stream": "stdout",
       "text": [
        "\n",
        "scraping page complete"
       ]
      },
      {
       "output_type": "stream",
       "stream": "stdout",
       "text": [
        "\n",
        "waiting 2.21861110674s to scrape page 398"
       ]
      },
      {
       "output_type": "stream",
       "stream": "stdout",
       "text": [
        "\n",
        "scraping page complete"
       ]
      },
      {
       "output_type": "stream",
       "stream": "stdout",
       "text": [
        "\n",
        "waiting 2.66233332809s to scrape page 399"
       ]
      },
      {
       "output_type": "stream",
       "stream": "stdout",
       "text": [
        "\n",
        "scraping page complete"
       ]
      },
      {
       "output_type": "stream",
       "stream": "stdout",
       "text": [
        "\n",
        "sleeping 30s and reseting exponential backoff timer\n",
        "waiting 0.0833333333333s to scrape page 400"
       ]
      },
      {
       "output_type": "stream",
       "stream": "stdout",
       "text": [
        "\n",
        "scraping page complete"
       ]
      },
      {
       "output_type": "stream",
       "stream": "stdout",
       "text": [
        "\n",
        "waiting 0.1s to scrape page 401"
       ]
      },
      {
       "output_type": "stream",
       "stream": "stdout",
       "text": [
        "\n",
        "scraping page complete"
       ]
      },
      {
       "output_type": "stream",
       "stream": "stdout",
       "text": [
        "\n",
        "waiting 0.12s to scrape page 402"
       ]
      },
      {
       "output_type": "stream",
       "stream": "stdout",
       "text": [
        "\n",
        "scraping page complete"
       ]
      },
      {
       "output_type": "stream",
       "stream": "stdout",
       "text": [
        "\n",
        "waiting 0.144s to scrape page 403"
       ]
      },
      {
       "output_type": "stream",
       "stream": "stdout",
       "text": [
        "\n",
        "scraping page complete"
       ]
      },
      {
       "output_type": "stream",
       "stream": "stdout",
       "text": [
        "\n",
        "waiting 0.1728s to scrape page 404"
       ]
      },
      {
       "output_type": "stream",
       "stream": "stdout",
       "text": [
        "\n",
        "scraping page complete"
       ]
      },
      {
       "output_type": "stream",
       "stream": "stdout",
       "text": [
        "\n",
        "waiting 0.20736s to scrape page 405"
       ]
      },
      {
       "output_type": "stream",
       "stream": "stdout",
       "text": [
        "\n",
        "scraping page complete"
       ]
      },
      {
       "output_type": "stream",
       "stream": "stdout",
       "text": [
        "\n",
        "Crawl Error, trying again in 10s\n",
        "scraping page complete"
       ]
      },
      {
       "output_type": "stream",
       "stream": "stdout",
       "text": [
        "\n",
        "waiting 0.248832s to scrape page 406"
       ]
      },
      {
       "output_type": "stream",
       "stream": "stdout",
       "text": [
        "\n",
        "scraping page complete"
       ]
      },
      {
       "output_type": "stream",
       "stream": "stdout",
       "text": [
        "\n",
        "waiting 0.2985984s to scrape page 407"
       ]
      },
      {
       "output_type": "stream",
       "stream": "stdout",
       "text": [
        "\n",
        "scraping page complete"
       ]
      },
      {
       "output_type": "stream",
       "stream": "stdout",
       "text": [
        "\n",
        "waiting 0.35831808s to scrape page 408"
       ]
      },
      {
       "output_type": "stream",
       "stream": "stdout",
       "text": [
        "\n",
        "scraping page complete"
       ]
      },
      {
       "output_type": "stream",
       "stream": "stdout",
       "text": [
        "\n",
        "waiting 0.429981696s to scrape page 409"
       ]
      },
      {
       "output_type": "stream",
       "stream": "stdout",
       "text": [
        "\n",
        "scraping page complete"
       ]
      },
      {
       "output_type": "stream",
       "stream": "stdout",
       "text": [
        "\n",
        "waiting 0.5159780352s to scrape page 410"
       ]
      },
      {
       "output_type": "stream",
       "stream": "stdout",
       "text": [
        "\n",
        "scraping page complete"
       ]
      },
      {
       "output_type": "stream",
       "stream": "stdout",
       "text": [
        "\n",
        "waiting 0.61917364224s to scrape page 411"
       ]
      },
      {
       "output_type": "stream",
       "stream": "stdout",
       "text": [
        "\n",
        "scraping page complete"
       ]
      },
      {
       "output_type": "stream",
       "stream": "stdout",
       "text": [
        "\n",
        "waiting 0.743008370688s to scrape page 412"
       ]
      },
      {
       "output_type": "stream",
       "stream": "stdout",
       "text": [
        "\n",
        "scraping page complete"
       ]
      },
      {
       "output_type": "stream",
       "stream": "stdout",
       "text": [
        "\n",
        "waiting 0.891610044826s to scrape page 413"
       ]
      },
      {
       "output_type": "stream",
       "stream": "stdout",
       "text": [
        "\n",
        "scraping page complete"
       ]
      },
      {
       "output_type": "stream",
       "stream": "stdout",
       "text": [
        "\n",
        "waiting 1.06993205379s to scrape page 414"
       ]
      },
      {
       "output_type": "stream",
       "stream": "stdout",
       "text": [
        "\n",
        "scraping page complete"
       ]
      },
      {
       "output_type": "stream",
       "stream": "stdout",
       "text": [
        "\n",
        "waiting 1.28391846455s to scrape page 415"
       ]
      },
      {
       "output_type": "stream",
       "stream": "stdout",
       "text": [
        "\n",
        "scraping page complete"
       ]
      },
      {
       "output_type": "stream",
       "stream": "stdout",
       "text": [
        "\n",
        "waiting 1.54070215746s to scrape page 416"
       ]
      },
      {
       "output_type": "stream",
       "stream": "stdout",
       "text": [
        "\n",
        "scraping page complete"
       ]
      },
      {
       "output_type": "stream",
       "stream": "stdout",
       "text": [
        "\n",
        "waiting 1.84884258895s to scrape page 417"
       ]
      },
      {
       "output_type": "stream",
       "stream": "stdout",
       "text": [
        "\n",
        "scraping page complete"
       ]
      },
      {
       "output_type": "stream",
       "stream": "stdout",
       "text": [
        "\n",
        "waiting 2.21861110674s to scrape page 418"
       ]
      },
      {
       "output_type": "stream",
       "stream": "stdout",
       "text": [
        "\n",
        "scraping page complete"
       ]
      },
      {
       "output_type": "stream",
       "stream": "stdout",
       "text": [
        "\n",
        "waiting 2.66233332809s to scrape page 419"
       ]
      },
      {
       "output_type": "stream",
       "stream": "stdout",
       "text": [
        "\n",
        "scraping page complete"
       ]
      },
      {
       "output_type": "stream",
       "stream": "stdout",
       "text": [
        "\n",
        "sleeping 30s and reseting exponential backoff timer\n",
        "waiting 0.0833333333333s to scrape page 420"
       ]
      },
      {
       "output_type": "stream",
       "stream": "stdout",
       "text": [
        "\n",
        "scraping page complete"
       ]
      },
      {
       "output_type": "stream",
       "stream": "stdout",
       "text": [
        "\n",
        "Crawl Error, trying again in 10s\n",
        "scraping page complete"
       ]
      },
      {
       "output_type": "stream",
       "stream": "stdout",
       "text": [
        "\n",
        "waiting 0.1s to scrape page 421"
       ]
      },
      {
       "output_type": "stream",
       "stream": "stdout",
       "text": [
        "\n",
        "scraping page complete"
       ]
      },
      {
       "output_type": "stream",
       "stream": "stdout",
       "text": [
        "\n",
        "waiting 0.12s to scrape page 422"
       ]
      },
      {
       "output_type": "stream",
       "stream": "stdout",
       "text": [
        "\n",
        "scraping page complete"
       ]
      },
      {
       "output_type": "stream",
       "stream": "stdout",
       "text": [
        "\n",
        "waiting 0.144s to scrape page 423"
       ]
      },
      {
       "output_type": "stream",
       "stream": "stdout",
       "text": [
        "\n",
        "scraping page complete"
       ]
      },
      {
       "output_type": "stream",
       "stream": "stdout",
       "text": [
        "\n",
        "waiting 0.1728s to scrape page 424"
       ]
      },
      {
       "output_type": "stream",
       "stream": "stdout",
       "text": [
        "\n",
        "scraping page complete"
       ]
      },
      {
       "output_type": "stream",
       "stream": "stdout",
       "text": [
        "\n",
        "waiting 0.20736s to scrape page 425"
       ]
      },
      {
       "output_type": "stream",
       "stream": "stdout",
       "text": [
        "\n",
        "scraping page complete"
       ]
      },
      {
       "output_type": "stream",
       "stream": "stdout",
       "text": [
        "\n",
        "waiting 0.248832s to scrape page 426"
       ]
      },
      {
       "output_type": "stream",
       "stream": "stdout",
       "text": [
        "\n",
        "scraping page complete"
       ]
      },
      {
       "output_type": "stream",
       "stream": "stdout",
       "text": [
        "\n",
        "waiting 0.2985984s to scrape page 427"
       ]
      },
      {
       "output_type": "stream",
       "stream": "stdout",
       "text": [
        "\n",
        "scraping page complete"
       ]
      },
      {
       "output_type": "stream",
       "stream": "stdout",
       "text": [
        "\n",
        "waiting 0.35831808s to scrape page 428"
       ]
      },
      {
       "output_type": "stream",
       "stream": "stdout",
       "text": [
        "\n",
        "scraping page complete"
       ]
      },
      {
       "output_type": "stream",
       "stream": "stdout",
       "text": [
        "\n",
        "waiting 0.429981696s to scrape page 429"
       ]
      },
      {
       "output_type": "stream",
       "stream": "stdout",
       "text": [
        "\n",
        "scraping page complete"
       ]
      },
      {
       "output_type": "stream",
       "stream": "stdout",
       "text": [
        "\n",
        "waiting 0.5159780352s to scrape page 430"
       ]
      },
      {
       "output_type": "stream",
       "stream": "stdout",
       "text": [
        "\n",
        "scraping page complete"
       ]
      },
      {
       "output_type": "stream",
       "stream": "stdout",
       "text": [
        "\n",
        "waiting 0.61917364224s to scrape page 431"
       ]
      },
      {
       "output_type": "stream",
       "stream": "stdout",
       "text": [
        "\n",
        "scraping page complete"
       ]
      },
      {
       "output_type": "stream",
       "stream": "stdout",
       "text": [
        "\n",
        "waiting 0.743008370688s to scrape page 432"
       ]
      },
      {
       "output_type": "stream",
       "stream": "stdout",
       "text": [
        "\n",
        "scraping page complete"
       ]
      },
      {
       "output_type": "stream",
       "stream": "stdout",
       "text": [
        "\n",
        "waiting 0.891610044826s to scrape page 433"
       ]
      },
      {
       "output_type": "stream",
       "stream": "stdout",
       "text": [
        "\n",
        "scraping page complete"
       ]
      },
      {
       "output_type": "stream",
       "stream": "stdout",
       "text": [
        "\n",
        "waiting 1.06993205379s to scrape page 434"
       ]
      },
      {
       "output_type": "stream",
       "stream": "stdout",
       "text": [
        "\n",
        "scraping page complete"
       ]
      },
      {
       "output_type": "stream",
       "stream": "stdout",
       "text": [
        "\n",
        "waiting 1.28391846455s to scrape page 435"
       ]
      },
      {
       "output_type": "stream",
       "stream": "stdout",
       "text": [
        "\n",
        "scraping page complete"
       ]
      },
      {
       "output_type": "stream",
       "stream": "stdout",
       "text": [
        "\n",
        "waiting 1.54070215746s to scrape page 436"
       ]
      },
      {
       "output_type": "stream",
       "stream": "stdout",
       "text": [
        "\n",
        "scraping page complete"
       ]
      },
      {
       "output_type": "stream",
       "stream": "stdout",
       "text": [
        "\n",
        "waiting 1.84884258895s to scrape page 437"
       ]
      },
      {
       "output_type": "stream",
       "stream": "stdout",
       "text": [
        "\n",
        "scraping page complete"
       ]
      },
      {
       "output_type": "stream",
       "stream": "stdout",
       "text": [
        "\n",
        "waiting 2.21861110674s to scrape page 438"
       ]
      },
      {
       "output_type": "stream",
       "stream": "stdout",
       "text": [
        "\n",
        "scraping page complete"
       ]
      },
      {
       "output_type": "stream",
       "stream": "stdout",
       "text": [
        "\n",
        "waiting 2.66233332809s to scrape page 439"
       ]
      },
      {
       "output_type": "stream",
       "stream": "stdout",
       "text": [
        "\n",
        "scraping page complete"
       ]
      },
      {
       "output_type": "stream",
       "stream": "stdout",
       "text": [
        "\n",
        "sleeping 30s and reseting exponential backoff timer\n",
        "waiting 0.0833333333333s to scrape page 440"
       ]
      },
      {
       "output_type": "stream",
       "stream": "stdout",
       "text": [
        "\n",
        "scraping page complete"
       ]
      },
      {
       "output_type": "stream",
       "stream": "stdout",
       "text": [
        "\n",
        "waiting 0.1s to scrape page 441"
       ]
      },
      {
       "output_type": "stream",
       "stream": "stdout",
       "text": [
        "\n",
        "scraping page complete"
       ]
      },
      {
       "output_type": "stream",
       "stream": "stdout",
       "text": [
        "\n",
        "waiting 0.12s to scrape page 442"
       ]
      },
      {
       "output_type": "stream",
       "stream": "stdout",
       "text": [
        "\n",
        "scraping page complete"
       ]
      },
      {
       "output_type": "stream",
       "stream": "stdout",
       "text": [
        "\n",
        "waiting 0.144s to scrape page 443"
       ]
      },
      {
       "output_type": "stream",
       "stream": "stdout",
       "text": [
        "\n",
        "scraping page complete"
       ]
      },
      {
       "output_type": "stream",
       "stream": "stdout",
       "text": [
        "\n",
        "waiting 0.1728s to scrape page 444"
       ]
      },
      {
       "output_type": "stream",
       "stream": "stdout",
       "text": [
        "\n",
        "scraping page complete"
       ]
      },
      {
       "output_type": "stream",
       "stream": "stdout",
       "text": [
        "\n",
        "waiting 0.20736s to scrape page 445"
       ]
      },
      {
       "output_type": "stream",
       "stream": "stdout",
       "text": [
        "\n",
        "scraping page complete"
       ]
      },
      {
       "output_type": "stream",
       "stream": "stdout",
       "text": [
        "\n",
        "waiting 0.248832s to scrape page 446"
       ]
      },
      {
       "output_type": "stream",
       "stream": "stdout",
       "text": [
        "\n",
        "scraping page complete"
       ]
      },
      {
       "output_type": "stream",
       "stream": "stdout",
       "text": [
        "\n",
        "waiting 0.2985984s to scrape page 447"
       ]
      },
      {
       "output_type": "stream",
       "stream": "stdout",
       "text": [
        "\n",
        "scraping page complete"
       ]
      },
      {
       "output_type": "stream",
       "stream": "stdout",
       "text": [
        "\n",
        "waiting 0.35831808s to scrape page 448"
       ]
      },
      {
       "output_type": "stream",
       "stream": "stdout",
       "text": [
        "\n",
        "scraping page complete"
       ]
      },
      {
       "output_type": "stream",
       "stream": "stdout",
       "text": [
        "\n",
        "waiting 0.429981696s to scrape page 449"
       ]
      },
      {
       "output_type": "stream",
       "stream": "stdout",
       "text": [
        "\n",
        "scraping page complete"
       ]
      },
      {
       "output_type": "stream",
       "stream": "stdout",
       "text": [
        "\n",
        "waiting 0.5159780352s to scrape page 450"
       ]
      },
      {
       "output_type": "stream",
       "stream": "stdout",
       "text": [
        "\n",
        "scraping page complete"
       ]
      },
      {
       "output_type": "stream",
       "stream": "stdout",
       "text": [
        "\n",
        "waiting 0.61917364224s to scrape page 451"
       ]
      },
      {
       "output_type": "stream",
       "stream": "stdout",
       "text": [
        "\n",
        "scraping page complete"
       ]
      },
      {
       "output_type": "stream",
       "stream": "stdout",
       "text": [
        "\n",
        "waiting 0.743008370688s to scrape page 452"
       ]
      },
      {
       "output_type": "stream",
       "stream": "stdout",
       "text": [
        "\n",
        "scraping page complete"
       ]
      },
      {
       "output_type": "stream",
       "stream": "stdout",
       "text": [
        "\n",
        "waiting 0.891610044826s to scrape page 453"
       ]
      },
      {
       "output_type": "stream",
       "stream": "stdout",
       "text": [
        "\n",
        "scraping page complete"
       ]
      },
      {
       "output_type": "stream",
       "stream": "stdout",
       "text": [
        "\n",
        "waiting 1.06993205379s to scrape page 454"
       ]
      },
      {
       "output_type": "stream",
       "stream": "stdout",
       "text": [
        "\n",
        "scraping page complete"
       ]
      },
      {
       "output_type": "stream",
       "stream": "stdout",
       "text": [
        "\n",
        "waiting 1.28391846455s to scrape page 455"
       ]
      },
      {
       "output_type": "stream",
       "stream": "stdout",
       "text": [
        "\n",
        "scraping page complete"
       ]
      },
      {
       "output_type": "stream",
       "stream": "stdout",
       "text": [
        "\n",
        "waiting 1.54070215746s to scrape page 456"
       ]
      },
      {
       "output_type": "stream",
       "stream": "stdout",
       "text": [
        "\n",
        "scraping page complete"
       ]
      },
      {
       "output_type": "stream",
       "stream": "stdout",
       "text": [
        "\n",
        "waiting 1.84884258895s to scrape page 457"
       ]
      },
      {
       "output_type": "stream",
       "stream": "stdout",
       "text": [
        "\n",
        "scraping page complete"
       ]
      },
      {
       "output_type": "stream",
       "stream": "stdout",
       "text": [
        "\n",
        "waiting 2.21861110674s to scrape page 458"
       ]
      },
      {
       "output_type": "stream",
       "stream": "stdout",
       "text": [
        "\n",
        "scraping page complete"
       ]
      },
      {
       "output_type": "stream",
       "stream": "stdout",
       "text": [
        "\n",
        "waiting 2.66233332809s to scrape page 459"
       ]
      },
      {
       "output_type": "stream",
       "stream": "stdout",
       "text": [
        "\n",
        "scraping page complete"
       ]
      },
      {
       "output_type": "stream",
       "stream": "stdout",
       "text": [
        "\n",
        "sleeping 30s and reseting exponential backoff timer"
       ]
      },
      {
       "output_type": "stream",
       "stream": "stdout",
       "text": [
        "\n",
        "waiting 0.0833333333333s to scrape page 460"
       ]
      },
      {
       "output_type": "stream",
       "stream": "stdout",
       "text": [
        "\n",
        "scraping page complete"
       ]
      },
      {
       "output_type": "stream",
       "stream": "stdout",
       "text": [
        "\n",
        "Crawl Error, trying again in 10s\n",
        "scraping page complete"
       ]
      },
      {
       "output_type": "stream",
       "stream": "stdout",
       "text": [
        "\n",
        "waiting 0.1s to scrape page 461"
       ]
      },
      {
       "output_type": "stream",
       "stream": "stdout",
       "text": [
        "\n",
        "scraping page complete"
       ]
      },
      {
       "output_type": "stream",
       "stream": "stdout",
       "text": [
        "\n",
        "waiting 0.12s to scrape page 462"
       ]
      },
      {
       "output_type": "stream",
       "stream": "stdout",
       "text": [
        "\n",
        "scraping page complete"
       ]
      },
      {
       "output_type": "stream",
       "stream": "stdout",
       "text": [
        "\n",
        "waiting 0.144s to scrape page 463"
       ]
      },
      {
       "output_type": "stream",
       "stream": "stdout",
       "text": [
        "\n",
        "scraping page complete"
       ]
      },
      {
       "output_type": "stream",
       "stream": "stdout",
       "text": [
        "\n",
        "waiting 0.1728s to scrape page 464"
       ]
      },
      {
       "output_type": "stream",
       "stream": "stdout",
       "text": [
        "\n",
        "scraping page complete"
       ]
      },
      {
       "output_type": "stream",
       "stream": "stdout",
       "text": [
        "\n",
        "waiting 0.20736s to scrape page 465"
       ]
      },
      {
       "output_type": "stream",
       "stream": "stdout",
       "text": [
        "\n",
        "scraping page complete"
       ]
      },
      {
       "output_type": "stream",
       "stream": "stdout",
       "text": [
        "\n",
        "waiting 0.248832s to scrape page 466"
       ]
      },
      {
       "output_type": "stream",
       "stream": "stdout",
       "text": [
        "\n",
        "scraping page complete"
       ]
      },
      {
       "output_type": "stream",
       "stream": "stdout",
       "text": [
        "\n",
        "waiting 0.2985984s to scrape page 467"
       ]
      },
      {
       "output_type": "stream",
       "stream": "stdout",
       "text": [
        "\n",
        "scraping page complete"
       ]
      },
      {
       "output_type": "stream",
       "stream": "stdout",
       "text": [
        "\n",
        "waiting 0.35831808s to scrape page 468"
       ]
      },
      {
       "output_type": "stream",
       "stream": "stdout",
       "text": [
        "\n",
        "scraping page complete"
       ]
      },
      {
       "output_type": "stream",
       "stream": "stdout",
       "text": [
        "\n",
        "waiting 0.429981696s to scrape page 469"
       ]
      },
      {
       "output_type": "stream",
       "stream": "stdout",
       "text": [
        "\n",
        "scraping page complete"
       ]
      },
      {
       "output_type": "stream",
       "stream": "stdout",
       "text": [
        "\n",
        "waiting 0.5159780352s to scrape page 470"
       ]
      },
      {
       "output_type": "stream",
       "stream": "stdout",
       "text": [
        "\n",
        "scraping page complete"
       ]
      },
      {
       "output_type": "stream",
       "stream": "stdout",
       "text": [
        "\n",
        "waiting 0.61917364224s to scrape page 471"
       ]
      },
      {
       "output_type": "stream",
       "stream": "stdout",
       "text": [
        "\n",
        "scraping page complete"
       ]
      },
      {
       "output_type": "stream",
       "stream": "stdout",
       "text": [
        "\n",
        "waiting 0.743008370688s to scrape page 472"
       ]
      },
      {
       "output_type": "stream",
       "stream": "stdout",
       "text": [
        "\n",
        "scraping page complete"
       ]
      },
      {
       "output_type": "stream",
       "stream": "stdout",
       "text": [
        "\n",
        "waiting 0.891610044826s to scrape page 473"
       ]
      },
      {
       "output_type": "stream",
       "stream": "stdout",
       "text": [
        "\n",
        "scraping page complete"
       ]
      },
      {
       "output_type": "stream",
       "stream": "stdout",
       "text": [
        "\n",
        "waiting 1.06993205379s to scrape page 474"
       ]
      },
      {
       "output_type": "stream",
       "stream": "stdout",
       "text": [
        "\n",
        "scraping page complete"
       ]
      },
      {
       "output_type": "stream",
       "stream": "stdout",
       "text": [
        "\n",
        "waiting 1.28391846455s to scrape page 475"
       ]
      },
      {
       "output_type": "stream",
       "stream": "stdout",
       "text": [
        "\n",
        "scraping page complete"
       ]
      },
      {
       "output_type": "stream",
       "stream": "stdout",
       "text": [
        "\n",
        "waiting 1.54070215746s to scrape page 476"
       ]
      },
      {
       "output_type": "stream",
       "stream": "stdout",
       "text": [
        "\n",
        "scraping page complete"
       ]
      },
      {
       "output_type": "stream",
       "stream": "stdout",
       "text": [
        "\n",
        "waiting 1.84884258895s to scrape page 477"
       ]
      },
      {
       "output_type": "stream",
       "stream": "stdout",
       "text": [
        "\n",
        "scraping page complete"
       ]
      },
      {
       "output_type": "stream",
       "stream": "stdout",
       "text": [
        "\n",
        "waiting 2.21861110674s to scrape page 478"
       ]
      },
      {
       "output_type": "stream",
       "stream": "stdout",
       "text": [
        "\n",
        "scraping page complete"
       ]
      },
      {
       "output_type": "stream",
       "stream": "stdout",
       "text": [
        "\n",
        "waiting 2.66233332809s to scrape page 479"
       ]
      },
      {
       "output_type": "stream",
       "stream": "stdout",
       "text": [
        "\n",
        "scraping page complete"
       ]
      },
      {
       "output_type": "stream",
       "stream": "stdout",
       "text": [
        "\n",
        "sleeping 30s and reseting exponential backoff timer\n",
        "waiting 0.0833333333333s to scrape page 480"
       ]
      },
      {
       "output_type": "stream",
       "stream": "stdout",
       "text": [
        "\n",
        "scraping page complete"
       ]
      },
      {
       "output_type": "stream",
       "stream": "stdout",
       "text": [
        "\n",
        "waiting 0.1s to scrape page 481"
       ]
      },
      {
       "output_type": "stream",
       "stream": "stdout",
       "text": [
        "\n",
        "scraping page complete"
       ]
      },
      {
       "output_type": "stream",
       "stream": "stdout",
       "text": [
        "\n",
        "Crawl Error, trying again in 10s\n",
        "scraping page complete"
       ]
      },
      {
       "output_type": "stream",
       "stream": "stdout",
       "text": [
        "\n",
        "waiting 0.12s to scrape page 482"
       ]
      },
      {
       "output_type": "stream",
       "stream": "stdout",
       "text": [
        "\n",
        "scraping page complete"
       ]
      },
      {
       "output_type": "stream",
       "stream": "stdout",
       "text": [
        "\n",
        "waiting 0.144s to scrape page 483"
       ]
      },
      {
       "output_type": "stream",
       "stream": "stdout",
       "text": [
        "\n",
        "scraping page complete"
       ]
      },
      {
       "output_type": "stream",
       "stream": "stdout",
       "text": [
        "\n",
        "waiting 0.1728s to scrape page 484"
       ]
      },
      {
       "output_type": "stream",
       "stream": "stdout",
       "text": [
        "\n",
        "scraping page complete"
       ]
      },
      {
       "output_type": "stream",
       "stream": "stdout",
       "text": [
        "\n",
        "waiting 0.20736s to scrape page 485"
       ]
      },
      {
       "output_type": "stream",
       "stream": "stdout",
       "text": [
        "\n",
        "scraping page complete"
       ]
      },
      {
       "output_type": "stream",
       "stream": "stdout",
       "text": [
        "\n",
        "waiting 0.248832s to scrape page 486"
       ]
      },
      {
       "output_type": "stream",
       "stream": "stdout",
       "text": [
        "\n",
        "scraping page complete"
       ]
      },
      {
       "output_type": "stream",
       "stream": "stdout",
       "text": [
        "\n",
        "waiting 0.2985984s to scrape page 487"
       ]
      },
      {
       "output_type": "stream",
       "stream": "stdout",
       "text": [
        "\n",
        "scraping page complete"
       ]
      },
      {
       "output_type": "stream",
       "stream": "stdout",
       "text": [
        "\n",
        "waiting 0.35831808s to scrape page 488"
       ]
      },
      {
       "output_type": "stream",
       "stream": "stdout",
       "text": [
        "\n",
        "scraping page complete"
       ]
      },
      {
       "output_type": "stream",
       "stream": "stdout",
       "text": [
        "\n",
        "waiting 0.429981696s to scrape page 489"
       ]
      },
      {
       "output_type": "stream",
       "stream": "stdout",
       "text": [
        "\n",
        "scraping page complete"
       ]
      },
      {
       "output_type": "stream",
       "stream": "stdout",
       "text": [
        "\n",
        "waiting 0.5159780352s to scrape page 490"
       ]
      },
      {
       "output_type": "stream",
       "stream": "stdout",
       "text": [
        "\n",
        "scraping page complete"
       ]
      },
      {
       "output_type": "stream",
       "stream": "stdout",
       "text": [
        "\n",
        "waiting 0.61917364224s to scrape page 491"
       ]
      },
      {
       "output_type": "stream",
       "stream": "stdout",
       "text": [
        "\n",
        "scraping page complete"
       ]
      },
      {
       "output_type": "stream",
       "stream": "stdout",
       "text": [
        "\n",
        "waiting 0.743008370688s to scrape page 492"
       ]
      },
      {
       "output_type": "stream",
       "stream": "stdout",
       "text": [
        "\n",
        "scraping page complete"
       ]
      },
      {
       "output_type": "stream",
       "stream": "stdout",
       "text": [
        "\n",
        "waiting 0.891610044826s to scrape page 493"
       ]
      },
      {
       "output_type": "stream",
       "stream": "stdout",
       "text": [
        "\n",
        "scraping page complete"
       ]
      },
      {
       "output_type": "stream",
       "stream": "stdout",
       "text": [
        "\n",
        "waiting 1.06993205379s to scrape page 494"
       ]
      },
      {
       "output_type": "stream",
       "stream": "stdout",
       "text": [
        "\n",
        "scraping page complete"
       ]
      },
      {
       "output_type": "stream",
       "stream": "stdout",
       "text": [
        "\n",
        "waiting 1.28391846455s to scrape page 495"
       ]
      },
      {
       "output_type": "stream",
       "stream": "stdout",
       "text": [
        "\n",
        "scraping page complete"
       ]
      },
      {
       "output_type": "stream",
       "stream": "stdout",
       "text": [
        "\n",
        "waiting 1.54070215746s to scrape page 496"
       ]
      },
      {
       "output_type": "stream",
       "stream": "stdout",
       "text": [
        "\n",
        "scraping page complete"
       ]
      },
      {
       "output_type": "stream",
       "stream": "stdout",
       "text": [
        "\n",
        "waiting 1.84884258895s to scrape page 497"
       ]
      },
      {
       "output_type": "stream",
       "stream": "stdout",
       "text": [
        "\n",
        "scraping page complete"
       ]
      },
      {
       "output_type": "stream",
       "stream": "stdout",
       "text": [
        "\n",
        "waiting 2.21861110674s to scrape page 498"
       ]
      },
      {
       "output_type": "stream",
       "stream": "stdout",
       "text": [
        "\n",
        "scraping page complete"
       ]
      },
      {
       "output_type": "stream",
       "stream": "stdout",
       "text": [
        "\n",
        "waiting 2.66233332809s to scrape page 499"
       ]
      },
      {
       "output_type": "stream",
       "stream": "stdout",
       "text": [
        "\n",
        "scraping page complete"
       ]
      },
      {
       "output_type": "stream",
       "stream": "stdout",
       "text": [
        "\n",
        "sleeping 30s and reseting exponential backoff timer\n",
        "waiting 0.0833333333333s to scrape page 500"
       ]
      },
      {
       "output_type": "stream",
       "stream": "stdout",
       "text": [
        "\n",
        "scraping page complete"
       ]
      },
      {
       "output_type": "stream",
       "stream": "stdout",
       "text": [
        "\n",
        "waiting 0.1s to scrape page 501"
       ]
      },
      {
       "output_type": "stream",
       "stream": "stdout",
       "text": [
        "\n",
        "scraping page complete"
       ]
      },
      {
       "output_type": "stream",
       "stream": "stdout",
       "text": [
        "\n",
        "Crawl Error, trying again in 10s\n",
        "scraping page complete"
       ]
      },
      {
       "output_type": "stream",
       "stream": "stdout",
       "text": [
        "\n",
        "waiting 0.12s to scrape page 502"
       ]
      },
      {
       "output_type": "stream",
       "stream": "stdout",
       "text": [
        "\n",
        "scraping page complete"
       ]
      },
      {
       "output_type": "stream",
       "stream": "stdout",
       "text": [
        "\n",
        "waiting 0.144s to scrape page 503"
       ]
      },
      {
       "output_type": "stream",
       "stream": "stdout",
       "text": [
        "\n",
        "scraping page complete"
       ]
      },
      {
       "output_type": "stream",
       "stream": "stdout",
       "text": [
        "\n",
        "waiting 0.1728s to scrape page 504"
       ]
      },
      {
       "output_type": "stream",
       "stream": "stdout",
       "text": [
        "\n",
        "scraping page complete"
       ]
      },
      {
       "output_type": "stream",
       "stream": "stdout",
       "text": [
        "\n"
       ]
      }
     ],
     "prompt_number": 32
    },
    {
     "cell_type": "code",
     "collapsed": false,
     "input": [
      "df"
     ],
     "language": "python",
     "metadata": {},
     "outputs": [
      {
       "html": [
        "<div style=\"max-height:1000px;max-width:1500px;overflow:auto;\">\n",
        "<table border=\"1\" class=\"dataframe\">\n",
        "  <thead>\n",
        "    <tr style=\"text-align: right;\">\n",
        "      <th></th>\n",
        "      <th>lat</th>\n",
        "      <th>lng</th>\n",
        "      <th>price</th>\n",
        "      <th>htype</th>\n",
        "      <th>comm</th>\n",
        "    </tr>\n",
        "  </thead>\n",
        "  <tbody>\n",
        "    <tr>\n",
        "      <th>0   </th>\n",
        "      <td> 41.965702</td>\n",
        "      <td>-87.711494</td>\n",
        "      <td>  231500</td>\n",
        "      <td>     Condo</td>\n",
        "      <td>                       Albany Park</td>\n",
        "    </tr>\n",
        "    <tr>\n",
        "      <th>1   </th>\n",
        "      <td> 42.010204</td>\n",
        "      <td>-87.666830</td>\n",
        "      <td>  166500</td>\n",
        "      <td>     Condo</td>\n",
        "      <td>                       Rogers Park</td>\n",
        "    </tr>\n",
        "    <tr>\n",
        "      <th>2   </th>\n",
        "      <td> 41.893677</td>\n",
        "      <td>-87.641045</td>\n",
        "      <td>  442500</td>\n",
        "      <td>     Condo</td>\n",
        "      <td>                   Near North Side</td>\n",
        "    </tr>\n",
        "    <tr>\n",
        "      <th>3   </th>\n",
        "      <td> 41.893140</td>\n",
        "      <td>-87.629340</td>\n",
        "      <td>  291000</td>\n",
        "      <td>     Condo</td>\n",
        "      <td>                   Near North Side</td>\n",
        "    </tr>\n",
        "    <tr>\n",
        "      <th>4   </th>\n",
        "      <td> 41.850740</td>\n",
        "      <td>-87.623300</td>\n",
        "      <td>  409000</td>\n",
        "      <td>     Condo</td>\n",
        "      <td>                   Near South Side</td>\n",
        "    </tr>\n",
        "    <tr>\n",
        "      <th>5   </th>\n",
        "      <td> 41.793640</td>\n",
        "      <td>-87.594420</td>\n",
        "      <td>  205000</td>\n",
        "      <td>     Condo</td>\n",
        "      <td>                         Hyde Park</td>\n",
        "    </tr>\n",
        "    <tr>\n",
        "      <th>6   </th>\n",
        "      <td> 41.972916</td>\n",
        "      <td>-87.651634</td>\n",
        "      <td>   82000</td>\n",
        "      <td>     Condo</td>\n",
        "      <td>                            Uptown</td>\n",
        "    </tr>\n",
        "    <tr>\n",
        "      <th>7   </th>\n",
        "      <td> 41.954292</td>\n",
        "      <td>-87.647160</td>\n",
        "      <td>  130000</td>\n",
        "      <td>     Condo</td>\n",
        "      <td>                                  </td>\n",
        "    </tr>\n",
        "    <tr>\n",
        "      <th>8   </th>\n",
        "      <td> 41.932110</td>\n",
        "      <td>-87.654790</td>\n",
        "      <td>  463000</td>\n",
        "      <td>     Condo</td>\n",
        "      <td>                            DePaul</td>\n",
        "    </tr>\n",
        "    <tr>\n",
        "      <th>9   </th>\n",
        "      <td> 41.908000</td>\n",
        "      <td>-87.629170</td>\n",
        "      <td>  372500</td>\n",
        "      <td>     Condo</td>\n",
        "      <td>                   Near North Side</td>\n",
        "    </tr>\n",
        "    <tr>\n",
        "      <th>10  </th>\n",
        "      <td> 41.949047</td>\n",
        "      <td>-87.644264</td>\n",
        "      <td>   82000</td>\n",
        "      <td>     Condo</td>\n",
        "      <td>                                  </td>\n",
        "    </tr>\n",
        "    <tr>\n",
        "      <th>11  </th>\n",
        "      <td> 41.929565</td>\n",
        "      <td>-87.646840</td>\n",
        "      <td>  875000</td>\n",
        "      <td>     Condo</td>\n",
        "      <td>                      Lincoln Park</td>\n",
        "    </tr>\n",
        "    <tr>\n",
        "      <th>12  </th>\n",
        "      <td> 41.891520</td>\n",
        "      <td>-87.612780</td>\n",
        "      <td>  410000</td>\n",
        "      <td>     Condo</td>\n",
        "      <td>                   Near North Side</td>\n",
        "    </tr>\n",
        "    <tr>\n",
        "      <th>13  </th>\n",
        "      <td> 41.860558</td>\n",
        "      <td>-87.659690</td>\n",
        "      <td>  112000</td>\n",
        "      <td>     Condo</td>\n",
        "      <td> University Village / Little Italy</td>\n",
        "    </tr>\n",
        "    <tr>\n",
        "      <th>14  </th>\n",
        "      <td> 41.963250</td>\n",
        "      <td>-87.663345</td>\n",
        "      <td>  210000</td>\n",
        "      <td>     Condo</td>\n",
        "      <td>                            Uptown</td>\n",
        "    </tr>\n",
        "    <tr>\n",
        "      <th>15  </th>\n",
        "      <td> 41.928226</td>\n",
        "      <td>-87.639600</td>\n",
        "      <td>  265000</td>\n",
        "      <td>     Condo</td>\n",
        "      <td>                      Lincoln Park</td>\n",
        "    </tr>\n",
        "    <tr>\n",
        "      <th>16  </th>\n",
        "      <td> 41.871666</td>\n",
        "      <td>-87.629800</td>\n",
        "      <td>  463500</td>\n",
        "      <td>     Condo</td>\n",
        "      <td>                              Loop</td>\n",
        "    </tr>\n",
        "    <tr>\n",
        "      <th>17  </th>\n",
        "      <td> 41.892014</td>\n",
        "      <td>-87.623600</td>\n",
        "      <td>  330000</td>\n",
        "      <td>     Condo</td>\n",
        "      <td>                   Near North Side</td>\n",
        "    </tr>\n",
        "    <tr>\n",
        "      <th>18  </th>\n",
        "      <td> 41.891520</td>\n",
        "      <td>-87.612780</td>\n",
        "      <td>  100000</td>\n",
        "      <td>     Condo</td>\n",
        "      <td>                   Near North Side</td>\n",
        "    </tr>\n",
        "    <tr>\n",
        "      <th>19  </th>\n",
        "      <td> 41.928604</td>\n",
        "      <td>-87.662460</td>\n",
        "      <td>  518000</td>\n",
        "      <td>     Condo</td>\n",
        "      <td>                            DePaul</td>\n",
        "    </tr>\n",
        "    <tr>\n",
        "      <th>20  </th>\n",
        "      <td> 41.969917</td>\n",
        "      <td>-87.669235</td>\n",
        "      <td>  127500</td>\n",
        "      <td>     Condo</td>\n",
        "      <td>                        Ravenswood</td>\n",
        "    </tr>\n",
        "    <tr>\n",
        "      <th>21  </th>\n",
        "      <td> 41.962868</td>\n",
        "      <td>-87.704260</td>\n",
        "      <td>  215000</td>\n",
        "      <td>     Condo</td>\n",
        "      <td>                       Albany Park</td>\n",
        "    </tr>\n",
        "    <tr>\n",
        "      <th>22  </th>\n",
        "      <td> 41.969788</td>\n",
        "      <td>-87.766770</td>\n",
        "      <td>  124000</td>\n",
        "      <td>     Condo</td>\n",
        "      <td>                    Jefferson Park</td>\n",
        "    </tr>\n",
        "    <tr>\n",
        "      <th>23  </th>\n",
        "      <td> 41.897305</td>\n",
        "      <td>-87.674980</td>\n",
        "      <td>  129000</td>\n",
        "      <td>     Condo</td>\n",
        "      <td>                  Ukranian Village</td>\n",
        "    </tr>\n",
        "    <tr>\n",
        "      <th>24  </th>\n",
        "      <td> 41.925987</td>\n",
        "      <td>-87.639496</td>\n",
        "      <td>  320000</td>\n",
        "      <td>     Condo</td>\n",
        "      <td>                      Lincoln Park</td>\n",
        "    </tr>\n",
        "    <tr>\n",
        "      <th>25  </th>\n",
        "      <td> 41.880090</td>\n",
        "      <td>-87.654000</td>\n",
        "      <td>  703500</td>\n",
        "      <td>     Condo</td>\n",
        "      <td>                                  </td>\n",
        "    </tr>\n",
        "    <tr>\n",
        "      <th>26  </th>\n",
        "      <td> 41.820760</td>\n",
        "      <td>-87.605770</td>\n",
        "      <td>  345000</td>\n",
        "      <td>     Condo</td>\n",
        "      <td>                           Oakland</td>\n",
        "    </tr>\n",
        "    <tr>\n",
        "      <th>27  </th>\n",
        "      <td> 41.885520</td>\n",
        "      <td>-87.614690</td>\n",
        "      <td>  460000</td>\n",
        "      <td>     Condo</td>\n",
        "      <td>                              Loop</td>\n",
        "    </tr>\n",
        "    <tr>\n",
        "      <th>28  </th>\n",
        "      <td> 41.897755</td>\n",
        "      <td>-87.657250</td>\n",
        "      <td>  367500</td>\n",
        "      <td>     Condo</td>\n",
        "      <td>                      Goose Island</td>\n",
        "    </tr>\n",
        "    <tr>\n",
        "      <th>29  </th>\n",
        "      <td> 41.915000</td>\n",
        "      <td>-87.639084</td>\n",
        "      <td>  900000</td>\n",
        "      <td>     Condo</td>\n",
        "      <td>                      Lincoln Park</td>\n",
        "    </tr>\n",
        "    <tr>\n",
        "      <th>...</th>\n",
        "      <td>...</td>\n",
        "      <td>...</td>\n",
        "      <td>...</td>\n",
        "      <td>...</td>\n",
        "      <td>...</td>\n",
        "    </tr>\n",
        "    <tr>\n",
        "      <th>7517</th>\n",
        "      <td> 41.905113</td>\n",
        "      <td>-87.625520</td>\n",
        "      <td>  670000</td>\n",
        "      <td>     Condo</td>\n",
        "      <td>                   Near North Side</td>\n",
        "    </tr>\n",
        "    <tr>\n",
        "      <th>7518</th>\n",
        "      <td> 41.992725</td>\n",
        "      <td>-87.654970</td>\n",
        "      <td>  214000</td>\n",
        "      <td>     Condo</td>\n",
        "      <td>                         Edgewater</td>\n",
        "    </tr>\n",
        "    <tr>\n",
        "      <th>7519</th>\n",
        "      <td> 41.909008</td>\n",
        "      <td>-87.629200</td>\n",
        "      <td>  510000</td>\n",
        "      <td>     Condo</td>\n",
        "      <td>                   Near North Side</td>\n",
        "    </tr>\n",
        "    <tr>\n",
        "      <th>7520</th>\n",
        "      <td> 41.906612</td>\n",
        "      <td>-87.627106</td>\n",
        "      <td> 1820000</td>\n",
        "      <td>     Condo</td>\n",
        "      <td>                   Near North Side</td>\n",
        "    </tr>\n",
        "    <tr>\n",
        "      <th>7521</th>\n",
        "      <td> 41.929230</td>\n",
        "      <td>-87.667890</td>\n",
        "      <td>  333500</td>\n",
        "      <td>     Condo</td>\n",
        "      <td>                            DePaul</td>\n",
        "    </tr>\n",
        "    <tr>\n",
        "      <th>7522</th>\n",
        "      <td> 41.949104</td>\n",
        "      <td>-87.647950</td>\n",
        "      <td>  351500</td>\n",
        "      <td>     Condo</td>\n",
        "      <td>                                  </td>\n",
        "    </tr>\n",
        "    <tr>\n",
        "      <th>7523</th>\n",
        "      <td> 41.967930</td>\n",
        "      <td>-87.761300</td>\n",
        "      <td>  230000</td>\n",
        "      <td>     Condo</td>\n",
        "      <td>                    Jefferson Park</td>\n",
        "    </tr>\n",
        "    <tr>\n",
        "      <th>7524</th>\n",
        "      <td> 41.950600</td>\n",
        "      <td>-87.657900</td>\n",
        "      <td>  430500</td>\n",
        "      <td>     Condo</td>\n",
        "      <td>                          Lakeview</td>\n",
        "    </tr>\n",
        "    <tr>\n",
        "      <th>7525</th>\n",
        "      <td> 41.950520</td>\n",
        "      <td>-87.658714</td>\n",
        "      <td>  395000</td>\n",
        "      <td>     Condo</td>\n",
        "      <td>                          Lakeview</td>\n",
        "    </tr>\n",
        "    <tr>\n",
        "      <th>7526</th>\n",
        "      <td> 42.000305</td>\n",
        "      <td>-87.811650</td>\n",
        "      <td>  118000</td>\n",
        "      <td>     Condo</td>\n",
        "      <td>                       Edison Park</td>\n",
        "    </tr>\n",
        "    <tr>\n",
        "      <th>7527</th>\n",
        "      <td> 41.942005</td>\n",
        "      <td>-87.667640</td>\n",
        "      <td>  258000</td>\n",
        "      <td>     Condo</td>\n",
        "      <td>                                  </td>\n",
        "    </tr>\n",
        "    <tr>\n",
        "      <th>7528</th>\n",
        "      <td> 41.995758</td>\n",
        "      <td>-87.688240</td>\n",
        "      <td>   75000</td>\n",
        "      <td>     Condo</td>\n",
        "      <td>                  West Rogers Park</td>\n",
        "    </tr>\n",
        "    <tr>\n",
        "      <th>7529</th>\n",
        "      <td> 41.908120</td>\n",
        "      <td>-87.668910</td>\n",
        "      <td>  507500</td>\n",
        "      <td>     Condo</td>\n",
        "      <td>                       Wicker Park</td>\n",
        "    </tr>\n",
        "    <tr>\n",
        "      <th>7530</th>\n",
        "      <td> 41.938450</td>\n",
        "      <td>-87.651430</td>\n",
        "      <td>  240000</td>\n",
        "      <td>     Condo</td>\n",
        "      <td>                                  </td>\n",
        "    </tr>\n",
        "    <tr>\n",
        "      <th>7531</th>\n",
        "      <td> 41.885010</td>\n",
        "      <td>-87.614810</td>\n",
        "      <td>  380000</td>\n",
        "      <td>     Condo</td>\n",
        "      <td>                              Loop</td>\n",
        "    </tr>\n",
        "    <tr>\n",
        "      <th>7532</th>\n",
        "      <td> 41.933254</td>\n",
        "      <td>-87.686310</td>\n",
        "      <td>  407500</td>\n",
        "      <td> Townhouse</td>\n",
        "      <td>                          Bucktown</td>\n",
        "    </tr>\n",
        "    <tr>\n",
        "      <th>7533</th>\n",
        "      <td> 41.863125</td>\n",
        "      <td>-87.624535</td>\n",
        "      <td>  279000</td>\n",
        "      <td>     Condo</td>\n",
        "      <td>                   Near South Side</td>\n",
        "    </tr>\n",
        "    <tr>\n",
        "      <th>7534</th>\n",
        "      <td> 41.865578</td>\n",
        "      <td>-87.623085</td>\n",
        "      <td>  205000</td>\n",
        "      <td>     Condo</td>\n",
        "      <td>                   Near South Side</td>\n",
        "    </tr>\n",
        "    <tr>\n",
        "      <th>7535</th>\n",
        "      <td> 41.914116</td>\n",
        "      <td>-87.677720</td>\n",
        "      <td>  710500</td>\n",
        "      <td> Townhouse</td>\n",
        "      <td>                       Wicker Park</td>\n",
        "    </tr>\n",
        "    <tr>\n",
        "      <th>7536</th>\n",
        "      <td> 41.887196</td>\n",
        "      <td>-87.616120</td>\n",
        "      <td>  224000</td>\n",
        "      <td>     Condo</td>\n",
        "      <td>                              Loop</td>\n",
        "    </tr>\n",
        "    <tr>\n",
        "      <th>7537</th>\n",
        "      <td> 41.889793</td>\n",
        "      <td>-87.626050</td>\n",
        "      <td>  254000</td>\n",
        "      <td>     Condo</td>\n",
        "      <td>                   Near North Side</td>\n",
        "    </tr>\n",
        "    <tr>\n",
        "      <th>7538</th>\n",
        "      <td> 41.950836</td>\n",
        "      <td>-87.673515</td>\n",
        "      <td>  198000</td>\n",
        "      <td>     Condo</td>\n",
        "      <td>                                  </td>\n",
        "    </tr>\n",
        "    <tr>\n",
        "      <th>7539</th>\n",
        "      <td> 41.940050</td>\n",
        "      <td>-87.662315</td>\n",
        "      <td>  461500</td>\n",
        "      <td>     Condo</td>\n",
        "      <td>                                  </td>\n",
        "    </tr>\n",
        "    <tr>\n",
        "      <th>7540</th>\n",
        "      <td> 41.969300</td>\n",
        "      <td>-87.657420</td>\n",
        "      <td>  148000</td>\n",
        "      <td>     Condo</td>\n",
        "      <td>                            Uptown</td>\n",
        "    </tr>\n",
        "    <tr>\n",
        "      <th>7541</th>\n",
        "      <td> 41.878020</td>\n",
        "      <td>-87.658516</td>\n",
        "      <td>  569000</td>\n",
        "      <td>     Condo</td>\n",
        "      <td>                                  </td>\n",
        "    </tr>\n",
        "    <tr>\n",
        "      <th>7542</th>\n",
        "      <td> 41.922035</td>\n",
        "      <td>-87.679880</td>\n",
        "      <td>  445500</td>\n",
        "      <td>     Condo</td>\n",
        "      <td>                          Bucktown</td>\n",
        "    </tr>\n",
        "    <tr>\n",
        "      <th>7543</th>\n",
        "      <td> 41.986645</td>\n",
        "      <td>-87.654650</td>\n",
        "      <td>  223000</td>\n",
        "      <td>     Condo</td>\n",
        "      <td>                         Edgewater</td>\n",
        "    </tr>\n",
        "    <tr>\n",
        "      <th>7544</th>\n",
        "      <td> 41.878290</td>\n",
        "      <td>-87.644700</td>\n",
        "      <td>  330000</td>\n",
        "      <td>     Condo</td>\n",
        "      <td>                                  </td>\n",
        "    </tr>\n",
        "    <tr>\n",
        "      <th>7545</th>\n",
        "      <td> 41.947970</td>\n",
        "      <td>-87.678230</td>\n",
        "      <td>  203000</td>\n",
        "      <td>     Condo</td>\n",
        "      <td>                      North Center</td>\n",
        "    </tr>\n",
        "    <tr>\n",
        "      <th>7546</th>\n",
        "      <td> 41.900005</td>\n",
        "      <td>-87.689200</td>\n",
        "      <td>   83000</td>\n",
        "      <td>     Condo</td>\n",
        "      <td>                         West Town</td>\n",
        "    </tr>\n",
        "  </tbody>\n",
        "</table>\n",
        "<p>7547 rows \u00d7 5 columns</p>\n",
        "</div>"
       ],
       "metadata": {},
       "output_type": "pyout",
       "prompt_number": 44,
       "text": [
        "            lat        lng    price      htype  \\\n",
        "0     41.965702 -87.711494   231500      Condo   \n",
        "1     42.010204 -87.666830   166500      Condo   \n",
        "2     41.893677 -87.641045   442500      Condo   \n",
        "3     41.893140 -87.629340   291000      Condo   \n",
        "4     41.850740 -87.623300   409000      Condo   \n",
        "5     41.793640 -87.594420   205000      Condo   \n",
        "6     41.972916 -87.651634    82000      Condo   \n",
        "7     41.954292 -87.647160   130000      Condo   \n",
        "8     41.932110 -87.654790   463000      Condo   \n",
        "9     41.908000 -87.629170   372500      Condo   \n",
        "10    41.949047 -87.644264    82000      Condo   \n",
        "11    41.929565 -87.646840   875000      Condo   \n",
        "12    41.891520 -87.612780   410000      Condo   \n",
        "13    41.860558 -87.659690   112000      Condo   \n",
        "14    41.963250 -87.663345   210000      Condo   \n",
        "15    41.928226 -87.639600   265000      Condo   \n",
        "16    41.871666 -87.629800   463500      Condo   \n",
        "17    41.892014 -87.623600   330000      Condo   \n",
        "18    41.891520 -87.612780   100000      Condo   \n",
        "19    41.928604 -87.662460   518000      Condo   \n",
        "20    41.969917 -87.669235   127500      Condo   \n",
        "21    41.962868 -87.704260   215000      Condo   \n",
        "22    41.969788 -87.766770   124000      Condo   \n",
        "23    41.897305 -87.674980   129000      Condo   \n",
        "24    41.925987 -87.639496   320000      Condo   \n",
        "25    41.880090 -87.654000   703500      Condo   \n",
        "26    41.820760 -87.605770   345000      Condo   \n",
        "27    41.885520 -87.614690   460000      Condo   \n",
        "28    41.897755 -87.657250   367500      Condo   \n",
        "29    41.915000 -87.639084   900000      Condo   \n",
        "...         ...        ...      ...        ...   \n",
        "7517  41.905113 -87.625520   670000      Condo   \n",
        "7518  41.992725 -87.654970   214000      Condo   \n",
        "7519  41.909008 -87.629200   510000      Condo   \n",
        "7520  41.906612 -87.627106  1820000      Condo   \n",
        "7521  41.929230 -87.667890   333500      Condo   \n",
        "7522  41.949104 -87.647950   351500      Condo   \n",
        "7523  41.967930 -87.761300   230000      Condo   \n",
        "7524  41.950600 -87.657900   430500      Condo   \n",
        "7525  41.950520 -87.658714   395000      Condo   \n",
        "7526  42.000305 -87.811650   118000      Condo   \n",
        "7527  41.942005 -87.667640   258000      Condo   \n",
        "7528  41.995758 -87.688240    75000      Condo   \n",
        "7529  41.908120 -87.668910   507500      Condo   \n",
        "7530  41.938450 -87.651430   240000      Condo   \n",
        "7531  41.885010 -87.614810   380000      Condo   \n",
        "7532  41.933254 -87.686310   407500  Townhouse   \n",
        "7533  41.863125 -87.624535   279000      Condo   \n",
        "7534  41.865578 -87.623085   205000      Condo   \n",
        "7535  41.914116 -87.677720   710500  Townhouse   \n",
        "7536  41.887196 -87.616120   224000      Condo   \n",
        "7537  41.889793 -87.626050   254000      Condo   \n",
        "7538  41.950836 -87.673515   198000      Condo   \n",
        "7539  41.940050 -87.662315   461500      Condo   \n",
        "7540  41.969300 -87.657420   148000      Condo   \n",
        "7541  41.878020 -87.658516   569000      Condo   \n",
        "7542  41.922035 -87.679880   445500      Condo   \n",
        "7543  41.986645 -87.654650   223000      Condo   \n",
        "7544  41.878290 -87.644700   330000      Condo   \n",
        "7545  41.947970 -87.678230   203000      Condo   \n",
        "7546  41.900005 -87.689200    83000      Condo   \n",
        "\n",
        "                                   comm  \n",
        "0                           Albany Park  \n",
        "1                           Rogers Park  \n",
        "2                       Near North Side  \n",
        "3                       Near North Side  \n",
        "4                       Near South Side  \n",
        "5                             Hyde Park  \n",
        "6                                Uptown  \n",
        "7                                        \n",
        "8                                DePaul  \n",
        "9                       Near North Side  \n",
        "10                                       \n",
        "11                         Lincoln Park  \n",
        "12                      Near North Side  \n",
        "13    University Village / Little Italy  \n",
        "14                               Uptown  \n",
        "15                         Lincoln Park  \n",
        "16                                 Loop  \n",
        "17                      Near North Side  \n",
        "18                      Near North Side  \n",
        "19                               DePaul  \n",
        "20                           Ravenswood  \n",
        "21                          Albany Park  \n",
        "22                       Jefferson Park  \n",
        "23                     Ukranian Village  \n",
        "24                         Lincoln Park  \n",
        "25                                       \n",
        "26                              Oakland  \n",
        "27                                 Loop  \n",
        "28                         Goose Island  \n",
        "29                         Lincoln Park  \n",
        "...                                 ...  \n",
        "7517                    Near North Side  \n",
        "7518                          Edgewater  \n",
        "7519                    Near North Side  \n",
        "7520                    Near North Side  \n",
        "7521                             DePaul  \n",
        "7522                                     \n",
        "7523                     Jefferson Park  \n",
        "7524                           Lakeview  \n",
        "7525                           Lakeview  \n",
        "7526                        Edison Park  \n",
        "7527                                     \n",
        "7528                   West Rogers Park  \n",
        "7529                        Wicker Park  \n",
        "7530                                     \n",
        "7531                               Loop  \n",
        "7532                           Bucktown  \n",
        "7533                    Near South Side  \n",
        "7534                    Near South Side  \n",
        "7535                        Wicker Park  \n",
        "7536                               Loop  \n",
        "7537                    Near North Side  \n",
        "7538                                     \n",
        "7539                                     \n",
        "7540                             Uptown  \n",
        "7541                                     \n",
        "7542                           Bucktown  \n",
        "7543                          Edgewater  \n",
        "7544                                     \n",
        "7545                       North Center  \n",
        "7546                          West Town  \n",
        "\n",
        "[7547 rows x 5 columns]"
       ]
      }
     ],
     "prompt_number": 44
    },
    {
     "cell_type": "code",
     "collapsed": false,
     "input": [
      "df.to_csv('../data/priceLatLngAll.csv')"
     ],
     "language": "python",
     "metadata": {},
     "outputs": [],
     "prompt_number": 46
    },
    {
     "cell_type": "code",
     "collapsed": false,
     "input": [
      "df"
     ],
     "language": "python",
     "metadata": {},
     "outputs": [
      {
       "html": [
        "<div style=\"max-height:1000px;max-width:1500px;overflow:auto;\">\n",
        "<table border=\"1\" class=\"dataframe\">\n",
        "  <thead>\n",
        "    <tr style=\"text-align: right;\">\n",
        "      <th></th>\n",
        "      <th>lat</th>\n",
        "      <th>lng</th>\n",
        "      <th>price</th>\n",
        "      <th>htype</th>\n",
        "      <th>comm</th>\n",
        "    </tr>\n",
        "  </thead>\n",
        "  <tbody>\n",
        "    <tr>\n",
        "      <th>0   </th>\n",
        "      <td> 41.965702</td>\n",
        "      <td>-87.711494</td>\n",
        "      <td>  231500</td>\n",
        "      <td>     Condo</td>\n",
        "      <td>                       Albany Park</td>\n",
        "    </tr>\n",
        "    <tr>\n",
        "      <th>1   </th>\n",
        "      <td> 42.010204</td>\n",
        "      <td>-87.666830</td>\n",
        "      <td>  166500</td>\n",
        "      <td>     Condo</td>\n",
        "      <td>                       Rogers Park</td>\n",
        "    </tr>\n",
        "    <tr>\n",
        "      <th>2   </th>\n",
        "      <td> 41.893677</td>\n",
        "      <td>-87.641045</td>\n",
        "      <td>  442500</td>\n",
        "      <td>     Condo</td>\n",
        "      <td>                   Near North Side</td>\n",
        "    </tr>\n",
        "    <tr>\n",
        "      <th>3   </th>\n",
        "      <td> 41.893140</td>\n",
        "      <td>-87.629340</td>\n",
        "      <td>  291000</td>\n",
        "      <td>     Condo</td>\n",
        "      <td>                   Near North Side</td>\n",
        "    </tr>\n",
        "    <tr>\n",
        "      <th>4   </th>\n",
        "      <td> 41.850740</td>\n",
        "      <td>-87.623300</td>\n",
        "      <td>  409000</td>\n",
        "      <td>     Condo</td>\n",
        "      <td>                   Near South Side</td>\n",
        "    </tr>\n",
        "    <tr>\n",
        "      <th>5   </th>\n",
        "      <td> 41.793640</td>\n",
        "      <td>-87.594420</td>\n",
        "      <td>  205000</td>\n",
        "      <td>     Condo</td>\n",
        "      <td>                         Hyde Park</td>\n",
        "    </tr>\n",
        "    <tr>\n",
        "      <th>6   </th>\n",
        "      <td> 41.972916</td>\n",
        "      <td>-87.651634</td>\n",
        "      <td>   82000</td>\n",
        "      <td>     Condo</td>\n",
        "      <td>                            Uptown</td>\n",
        "    </tr>\n",
        "    <tr>\n",
        "      <th>7   </th>\n",
        "      <td> 41.954292</td>\n",
        "      <td>-87.647160</td>\n",
        "      <td>  130000</td>\n",
        "      <td>     Condo</td>\n",
        "      <td>                                  </td>\n",
        "    </tr>\n",
        "    <tr>\n",
        "      <th>8   </th>\n",
        "      <td> 41.932110</td>\n",
        "      <td>-87.654790</td>\n",
        "      <td>  463000</td>\n",
        "      <td>     Condo</td>\n",
        "      <td>                            DePaul</td>\n",
        "    </tr>\n",
        "    <tr>\n",
        "      <th>9   </th>\n",
        "      <td> 41.908000</td>\n",
        "      <td>-87.629170</td>\n",
        "      <td>  372500</td>\n",
        "      <td>     Condo</td>\n",
        "      <td>                   Near North Side</td>\n",
        "    </tr>\n",
        "    <tr>\n",
        "      <th>10  </th>\n",
        "      <td> 41.949047</td>\n",
        "      <td>-87.644264</td>\n",
        "      <td>   82000</td>\n",
        "      <td>     Condo</td>\n",
        "      <td>                                  </td>\n",
        "    </tr>\n",
        "    <tr>\n",
        "      <th>11  </th>\n",
        "      <td> 41.929565</td>\n",
        "      <td>-87.646840</td>\n",
        "      <td>  875000</td>\n",
        "      <td>     Condo</td>\n",
        "      <td>                      Lincoln Park</td>\n",
        "    </tr>\n",
        "    <tr>\n",
        "      <th>12  </th>\n",
        "      <td> 41.891520</td>\n",
        "      <td>-87.612780</td>\n",
        "      <td>  410000</td>\n",
        "      <td>     Condo</td>\n",
        "      <td>                   Near North Side</td>\n",
        "    </tr>\n",
        "    <tr>\n",
        "      <th>13  </th>\n",
        "      <td> 41.860558</td>\n",
        "      <td>-87.659690</td>\n",
        "      <td>  112000</td>\n",
        "      <td>     Condo</td>\n",
        "      <td> University Village / Little Italy</td>\n",
        "    </tr>\n",
        "    <tr>\n",
        "      <th>14  </th>\n",
        "      <td> 41.963250</td>\n",
        "      <td>-87.663345</td>\n",
        "      <td>  210000</td>\n",
        "      <td>     Condo</td>\n",
        "      <td>                            Uptown</td>\n",
        "    </tr>\n",
        "    <tr>\n",
        "      <th>15  </th>\n",
        "      <td> 41.928226</td>\n",
        "      <td>-87.639600</td>\n",
        "      <td>  265000</td>\n",
        "      <td>     Condo</td>\n",
        "      <td>                      Lincoln Park</td>\n",
        "    </tr>\n",
        "    <tr>\n",
        "      <th>16  </th>\n",
        "      <td> 41.871666</td>\n",
        "      <td>-87.629800</td>\n",
        "      <td>  463500</td>\n",
        "      <td>     Condo</td>\n",
        "      <td>                              Loop</td>\n",
        "    </tr>\n",
        "    <tr>\n",
        "      <th>17  </th>\n",
        "      <td> 41.892014</td>\n",
        "      <td>-87.623600</td>\n",
        "      <td>  330000</td>\n",
        "      <td>     Condo</td>\n",
        "      <td>                   Near North Side</td>\n",
        "    </tr>\n",
        "    <tr>\n",
        "      <th>18  </th>\n",
        "      <td> 41.891520</td>\n",
        "      <td>-87.612780</td>\n",
        "      <td>  100000</td>\n",
        "      <td>     Condo</td>\n",
        "      <td>                   Near North Side</td>\n",
        "    </tr>\n",
        "    <tr>\n",
        "      <th>19  </th>\n",
        "      <td> 41.928604</td>\n",
        "      <td>-87.662460</td>\n",
        "      <td>  518000</td>\n",
        "      <td>     Condo</td>\n",
        "      <td>                            DePaul</td>\n",
        "    </tr>\n",
        "    <tr>\n",
        "      <th>20  </th>\n",
        "      <td> 41.969917</td>\n",
        "      <td>-87.669235</td>\n",
        "      <td>  127500</td>\n",
        "      <td>     Condo</td>\n",
        "      <td>                        Ravenswood</td>\n",
        "    </tr>\n",
        "    <tr>\n",
        "      <th>21  </th>\n",
        "      <td> 41.962868</td>\n",
        "      <td>-87.704260</td>\n",
        "      <td>  215000</td>\n",
        "      <td>     Condo</td>\n",
        "      <td>                       Albany Park</td>\n",
        "    </tr>\n",
        "    <tr>\n",
        "      <th>22  </th>\n",
        "      <td> 41.969788</td>\n",
        "      <td>-87.766770</td>\n",
        "      <td>  124000</td>\n",
        "      <td>     Condo</td>\n",
        "      <td>                    Jefferson Park</td>\n",
        "    </tr>\n",
        "    <tr>\n",
        "      <th>23  </th>\n",
        "      <td> 41.897305</td>\n",
        "      <td>-87.674980</td>\n",
        "      <td>  129000</td>\n",
        "      <td>     Condo</td>\n",
        "      <td>                  Ukranian Village</td>\n",
        "    </tr>\n",
        "    <tr>\n",
        "      <th>24  </th>\n",
        "      <td> 41.925987</td>\n",
        "      <td>-87.639496</td>\n",
        "      <td>  320000</td>\n",
        "      <td>     Condo</td>\n",
        "      <td>                      Lincoln Park</td>\n",
        "    </tr>\n",
        "    <tr>\n",
        "      <th>25  </th>\n",
        "      <td> 41.880090</td>\n",
        "      <td>-87.654000</td>\n",
        "      <td>  703500</td>\n",
        "      <td>     Condo</td>\n",
        "      <td>                                  </td>\n",
        "    </tr>\n",
        "    <tr>\n",
        "      <th>26  </th>\n",
        "      <td> 41.820760</td>\n",
        "      <td>-87.605770</td>\n",
        "      <td>  345000</td>\n",
        "      <td>     Condo</td>\n",
        "      <td>                           Oakland</td>\n",
        "    </tr>\n",
        "    <tr>\n",
        "      <th>27  </th>\n",
        "      <td> 41.885520</td>\n",
        "      <td>-87.614690</td>\n",
        "      <td>  460000</td>\n",
        "      <td>     Condo</td>\n",
        "      <td>                              Loop</td>\n",
        "    </tr>\n",
        "    <tr>\n",
        "      <th>28  </th>\n",
        "      <td> 41.897755</td>\n",
        "      <td>-87.657250</td>\n",
        "      <td>  367500</td>\n",
        "      <td>     Condo</td>\n",
        "      <td>                      Goose Island</td>\n",
        "    </tr>\n",
        "    <tr>\n",
        "      <th>29  </th>\n",
        "      <td> 41.915000</td>\n",
        "      <td>-87.639084</td>\n",
        "      <td>  900000</td>\n",
        "      <td>     Condo</td>\n",
        "      <td>                      Lincoln Park</td>\n",
        "    </tr>\n",
        "    <tr>\n",
        "      <th>...</th>\n",
        "      <td>...</td>\n",
        "      <td>...</td>\n",
        "      <td>...</td>\n",
        "      <td>...</td>\n",
        "      <td>...</td>\n",
        "    </tr>\n",
        "    <tr>\n",
        "      <th>7517</th>\n",
        "      <td> 41.905113</td>\n",
        "      <td>-87.625520</td>\n",
        "      <td>  670000</td>\n",
        "      <td>     Condo</td>\n",
        "      <td>                   Near North Side</td>\n",
        "    </tr>\n",
        "    <tr>\n",
        "      <th>7518</th>\n",
        "      <td> 41.992725</td>\n",
        "      <td>-87.654970</td>\n",
        "      <td>  214000</td>\n",
        "      <td>     Condo</td>\n",
        "      <td>                         Edgewater</td>\n",
        "    </tr>\n",
        "    <tr>\n",
        "      <th>7519</th>\n",
        "      <td> 41.909008</td>\n",
        "      <td>-87.629200</td>\n",
        "      <td>  510000</td>\n",
        "      <td>     Condo</td>\n",
        "      <td>                   Near North Side</td>\n",
        "    </tr>\n",
        "    <tr>\n",
        "      <th>7520</th>\n",
        "      <td> 41.906612</td>\n",
        "      <td>-87.627106</td>\n",
        "      <td> 1820000</td>\n",
        "      <td>     Condo</td>\n",
        "      <td>                   Near North Side</td>\n",
        "    </tr>\n",
        "    <tr>\n",
        "      <th>7521</th>\n",
        "      <td> 41.929230</td>\n",
        "      <td>-87.667890</td>\n",
        "      <td>  333500</td>\n",
        "      <td>     Condo</td>\n",
        "      <td>                            DePaul</td>\n",
        "    </tr>\n",
        "    <tr>\n",
        "      <th>7522</th>\n",
        "      <td> 41.949104</td>\n",
        "      <td>-87.647950</td>\n",
        "      <td>  351500</td>\n",
        "      <td>     Condo</td>\n",
        "      <td>                                  </td>\n",
        "    </tr>\n",
        "    <tr>\n",
        "      <th>7523</th>\n",
        "      <td> 41.967930</td>\n",
        "      <td>-87.761300</td>\n",
        "      <td>  230000</td>\n",
        "      <td>     Condo</td>\n",
        "      <td>                    Jefferson Park</td>\n",
        "    </tr>\n",
        "    <tr>\n",
        "      <th>7524</th>\n",
        "      <td> 41.950600</td>\n",
        "      <td>-87.657900</td>\n",
        "      <td>  430500</td>\n",
        "      <td>     Condo</td>\n",
        "      <td>                          Lakeview</td>\n",
        "    </tr>\n",
        "    <tr>\n",
        "      <th>7525</th>\n",
        "      <td> 41.950520</td>\n",
        "      <td>-87.658714</td>\n",
        "      <td>  395000</td>\n",
        "      <td>     Condo</td>\n",
        "      <td>                          Lakeview</td>\n",
        "    </tr>\n",
        "    <tr>\n",
        "      <th>7526</th>\n",
        "      <td> 42.000305</td>\n",
        "      <td>-87.811650</td>\n",
        "      <td>  118000</td>\n",
        "      <td>     Condo</td>\n",
        "      <td>                       Edison Park</td>\n",
        "    </tr>\n",
        "    <tr>\n",
        "      <th>7527</th>\n",
        "      <td> 41.942005</td>\n",
        "      <td>-87.667640</td>\n",
        "      <td>  258000</td>\n",
        "      <td>     Condo</td>\n",
        "      <td>                                  </td>\n",
        "    </tr>\n",
        "    <tr>\n",
        "      <th>7528</th>\n",
        "      <td> 41.995758</td>\n",
        "      <td>-87.688240</td>\n",
        "      <td>   75000</td>\n",
        "      <td>     Condo</td>\n",
        "      <td>                  West Rogers Park</td>\n",
        "    </tr>\n",
        "    <tr>\n",
        "      <th>7529</th>\n",
        "      <td> 41.908120</td>\n",
        "      <td>-87.668910</td>\n",
        "      <td>  507500</td>\n",
        "      <td>     Condo</td>\n",
        "      <td>                       Wicker Park</td>\n",
        "    </tr>\n",
        "    <tr>\n",
        "      <th>7530</th>\n",
        "      <td> 41.938450</td>\n",
        "      <td>-87.651430</td>\n",
        "      <td>  240000</td>\n",
        "      <td>     Condo</td>\n",
        "      <td>                                  </td>\n",
        "    </tr>\n",
        "    <tr>\n",
        "      <th>7531</th>\n",
        "      <td> 41.885010</td>\n",
        "      <td>-87.614810</td>\n",
        "      <td>  380000</td>\n",
        "      <td>     Condo</td>\n",
        "      <td>                              Loop</td>\n",
        "    </tr>\n",
        "    <tr>\n",
        "      <th>7532</th>\n",
        "      <td> 41.933254</td>\n",
        "      <td>-87.686310</td>\n",
        "      <td>  407500</td>\n",
        "      <td> Townhouse</td>\n",
        "      <td>                          Bucktown</td>\n",
        "    </tr>\n",
        "    <tr>\n",
        "      <th>7533</th>\n",
        "      <td> 41.863125</td>\n",
        "      <td>-87.624535</td>\n",
        "      <td>  279000</td>\n",
        "      <td>     Condo</td>\n",
        "      <td>                   Near South Side</td>\n",
        "    </tr>\n",
        "    <tr>\n",
        "      <th>7534</th>\n",
        "      <td> 41.865578</td>\n",
        "      <td>-87.623085</td>\n",
        "      <td>  205000</td>\n",
        "      <td>     Condo</td>\n",
        "      <td>                   Near South Side</td>\n",
        "    </tr>\n",
        "    <tr>\n",
        "      <th>7535</th>\n",
        "      <td> 41.914116</td>\n",
        "      <td>-87.677720</td>\n",
        "      <td>  710500</td>\n",
        "      <td> Townhouse</td>\n",
        "      <td>                       Wicker Park</td>\n",
        "    </tr>\n",
        "    <tr>\n",
        "      <th>7536</th>\n",
        "      <td> 41.887196</td>\n",
        "      <td>-87.616120</td>\n",
        "      <td>  224000</td>\n",
        "      <td>     Condo</td>\n",
        "      <td>                              Loop</td>\n",
        "    </tr>\n",
        "    <tr>\n",
        "      <th>7537</th>\n",
        "      <td> 41.889793</td>\n",
        "      <td>-87.626050</td>\n",
        "      <td>  254000</td>\n",
        "      <td>     Condo</td>\n",
        "      <td>                   Near North Side</td>\n",
        "    </tr>\n",
        "    <tr>\n",
        "      <th>7538</th>\n",
        "      <td> 41.950836</td>\n",
        "      <td>-87.673515</td>\n",
        "      <td>  198000</td>\n",
        "      <td>     Condo</td>\n",
        "      <td>                                  </td>\n",
        "    </tr>\n",
        "    <tr>\n",
        "      <th>7539</th>\n",
        "      <td> 41.940050</td>\n",
        "      <td>-87.662315</td>\n",
        "      <td>  461500</td>\n",
        "      <td>     Condo</td>\n",
        "      <td>                                  </td>\n",
        "    </tr>\n",
        "    <tr>\n",
        "      <th>7540</th>\n",
        "      <td> 41.969300</td>\n",
        "      <td>-87.657420</td>\n",
        "      <td>  148000</td>\n",
        "      <td>     Condo</td>\n",
        "      <td>                            Uptown</td>\n",
        "    </tr>\n",
        "    <tr>\n",
        "      <th>7541</th>\n",
        "      <td> 41.878020</td>\n",
        "      <td>-87.658516</td>\n",
        "      <td>  569000</td>\n",
        "      <td>     Condo</td>\n",
        "      <td>                                  </td>\n",
        "    </tr>\n",
        "    <tr>\n",
        "      <th>7542</th>\n",
        "      <td> 41.922035</td>\n",
        "      <td>-87.679880</td>\n",
        "      <td>  445500</td>\n",
        "      <td>     Condo</td>\n",
        "      <td>                          Bucktown</td>\n",
        "    </tr>\n",
        "    <tr>\n",
        "      <th>7543</th>\n",
        "      <td> 41.986645</td>\n",
        "      <td>-87.654650</td>\n",
        "      <td>  223000</td>\n",
        "      <td>     Condo</td>\n",
        "      <td>                         Edgewater</td>\n",
        "    </tr>\n",
        "    <tr>\n",
        "      <th>7544</th>\n",
        "      <td> 41.878290</td>\n",
        "      <td>-87.644700</td>\n",
        "      <td>  330000</td>\n",
        "      <td>     Condo</td>\n",
        "      <td>                                  </td>\n",
        "    </tr>\n",
        "    <tr>\n",
        "      <th>7545</th>\n",
        "      <td> 41.947970</td>\n",
        "      <td>-87.678230</td>\n",
        "      <td>  203000</td>\n",
        "      <td>     Condo</td>\n",
        "      <td>                      North Center</td>\n",
        "    </tr>\n",
        "    <tr>\n",
        "      <th>7546</th>\n",
        "      <td> 41.900005</td>\n",
        "      <td>-87.689200</td>\n",
        "      <td>   83000</td>\n",
        "      <td>     Condo</td>\n",
        "      <td>                         West Town</td>\n",
        "    </tr>\n",
        "  </tbody>\n",
        "</table>\n",
        "<p>7547 rows \u00d7 5 columns</p>\n",
        "</div>"
       ],
       "metadata": {},
       "output_type": "pyout",
       "prompt_number": 45,
       "text": [
        "            lat        lng    price      htype  \\\n",
        "0     41.965702 -87.711494   231500      Condo   \n",
        "1     42.010204 -87.666830   166500      Condo   \n",
        "2     41.893677 -87.641045   442500      Condo   \n",
        "3     41.893140 -87.629340   291000      Condo   \n",
        "4     41.850740 -87.623300   409000      Condo   \n",
        "5     41.793640 -87.594420   205000      Condo   \n",
        "6     41.972916 -87.651634    82000      Condo   \n",
        "7     41.954292 -87.647160   130000      Condo   \n",
        "8     41.932110 -87.654790   463000      Condo   \n",
        "9     41.908000 -87.629170   372500      Condo   \n",
        "10    41.949047 -87.644264    82000      Condo   \n",
        "11    41.929565 -87.646840   875000      Condo   \n",
        "12    41.891520 -87.612780   410000      Condo   \n",
        "13    41.860558 -87.659690   112000      Condo   \n",
        "14    41.963250 -87.663345   210000      Condo   \n",
        "15    41.928226 -87.639600   265000      Condo   \n",
        "16    41.871666 -87.629800   463500      Condo   \n",
        "17    41.892014 -87.623600   330000      Condo   \n",
        "18    41.891520 -87.612780   100000      Condo   \n",
        "19    41.928604 -87.662460   518000      Condo   \n",
        "20    41.969917 -87.669235   127500      Condo   \n",
        "21    41.962868 -87.704260   215000      Condo   \n",
        "22    41.969788 -87.766770   124000      Condo   \n",
        "23    41.897305 -87.674980   129000      Condo   \n",
        "24    41.925987 -87.639496   320000      Condo   \n",
        "25    41.880090 -87.654000   703500      Condo   \n",
        "26    41.820760 -87.605770   345000      Condo   \n",
        "27    41.885520 -87.614690   460000      Condo   \n",
        "28    41.897755 -87.657250   367500      Condo   \n",
        "29    41.915000 -87.639084   900000      Condo   \n",
        "...         ...        ...      ...        ...   \n",
        "7517  41.905113 -87.625520   670000      Condo   \n",
        "7518  41.992725 -87.654970   214000      Condo   \n",
        "7519  41.909008 -87.629200   510000      Condo   \n",
        "7520  41.906612 -87.627106  1820000      Condo   \n",
        "7521  41.929230 -87.667890   333500      Condo   \n",
        "7522  41.949104 -87.647950   351500      Condo   \n",
        "7523  41.967930 -87.761300   230000      Condo   \n",
        "7524  41.950600 -87.657900   430500      Condo   \n",
        "7525  41.950520 -87.658714   395000      Condo   \n",
        "7526  42.000305 -87.811650   118000      Condo   \n",
        "7527  41.942005 -87.667640   258000      Condo   \n",
        "7528  41.995758 -87.688240    75000      Condo   \n",
        "7529  41.908120 -87.668910   507500      Condo   \n",
        "7530  41.938450 -87.651430   240000      Condo   \n",
        "7531  41.885010 -87.614810   380000      Condo   \n",
        "7532  41.933254 -87.686310   407500  Townhouse   \n",
        "7533  41.863125 -87.624535   279000      Condo   \n",
        "7534  41.865578 -87.623085   205000      Condo   \n",
        "7535  41.914116 -87.677720   710500  Townhouse   \n",
        "7536  41.887196 -87.616120   224000      Condo   \n",
        "7537  41.889793 -87.626050   254000      Condo   \n",
        "7538  41.950836 -87.673515   198000      Condo   \n",
        "7539  41.940050 -87.662315   461500      Condo   \n",
        "7540  41.969300 -87.657420   148000      Condo   \n",
        "7541  41.878020 -87.658516   569000      Condo   \n",
        "7542  41.922035 -87.679880   445500      Condo   \n",
        "7543  41.986645 -87.654650   223000      Condo   \n",
        "7544  41.878290 -87.644700   330000      Condo   \n",
        "7545  41.947970 -87.678230   203000      Condo   \n",
        "7546  41.900005 -87.689200    83000      Condo   \n",
        "\n",
        "                                   comm  \n",
        "0                           Albany Park  \n",
        "1                           Rogers Park  \n",
        "2                       Near North Side  \n",
        "3                       Near North Side  \n",
        "4                       Near South Side  \n",
        "5                             Hyde Park  \n",
        "6                                Uptown  \n",
        "7                                        \n",
        "8                                DePaul  \n",
        "9                       Near North Side  \n",
        "10                                       \n",
        "11                         Lincoln Park  \n",
        "12                      Near North Side  \n",
        "13    University Village / Little Italy  \n",
        "14                               Uptown  \n",
        "15                         Lincoln Park  \n",
        "16                                 Loop  \n",
        "17                      Near North Side  \n",
        "18                      Near North Side  \n",
        "19                               DePaul  \n",
        "20                           Ravenswood  \n",
        "21                          Albany Park  \n",
        "22                       Jefferson Park  \n",
        "23                     Ukranian Village  \n",
        "24                         Lincoln Park  \n",
        "25                                       \n",
        "26                              Oakland  \n",
        "27                                 Loop  \n",
        "28                         Goose Island  \n",
        "29                         Lincoln Park  \n",
        "...                                 ...  \n",
        "7517                    Near North Side  \n",
        "7518                          Edgewater  \n",
        "7519                    Near North Side  \n",
        "7520                    Near North Side  \n",
        "7521                             DePaul  \n",
        "7522                                     \n",
        "7523                     Jefferson Park  \n",
        "7524                           Lakeview  \n",
        "7525                           Lakeview  \n",
        "7526                        Edison Park  \n",
        "7527                                     \n",
        "7528                   West Rogers Park  \n",
        "7529                        Wicker Park  \n",
        "7530                                     \n",
        "7531                               Loop  \n",
        "7532                           Bucktown  \n",
        "7533                    Near South Side  \n",
        "7534                    Near South Side  \n",
        "7535                        Wicker Park  \n",
        "7536                               Loop  \n",
        "7537                    Near North Side  \n",
        "7538                                     \n",
        "7539                                     \n",
        "7540                             Uptown  \n",
        "7541                                     \n",
        "7542                           Bucktown  \n",
        "7543                          Edgewater  \n",
        "7544                                     \n",
        "7545                       North Center  \n",
        "7546                          West Town  \n",
        "\n",
        "[7547 rows x 5 columns]"
       ]
      }
     ],
     "prompt_number": 45
    },
    {
     "cell_type": "code",
     "collapsed": false,
     "input": [
      "pricesF[7520]"
     ],
     "language": "python",
     "metadata": {},
     "outputs": [
      {
       "metadata": {},
       "output_type": "pyout",
       "prompt_number": 36,
       "text": [
        "u'1820000'"
       ]
      }
     ],
     "prompt_number": 36
    },
    {
     "cell_type": "code",
     "collapsed": false,
     "input": [
      "df[50:80]"
     ],
     "language": "python",
     "metadata": {},
     "outputs": [
      {
       "html": [
        "<div style=\"max-height:1000px;max-width:1500px;overflow:auto;\">\n",
        "<table border=\"1\" class=\"dataframe\">\n",
        "  <thead>\n",
        "    <tr style=\"text-align: right;\">\n",
        "      <th></th>\n",
        "      <th>lat</th>\n",
        "      <th>lon</th>\n",
        "      <th>price</th>\n",
        "      <th>htype</th>\n",
        "      <th>comm</th>\n",
        "    </tr>\n",
        "  </thead>\n",
        "  <tbody>\n",
        "    <tr>\n",
        "      <th>50</th>\n",
        "      <td> 41.975784</td>\n",
        "      <td>-87.678430</td>\n",
        "      <td>  38000</td>\n",
        "      <td>     Condo</td>\n",
        "      <td>  Lincoln Square</td>\n",
        "    </tr>\n",
        "    <tr>\n",
        "      <th>51</th>\n",
        "      <td> 41.908245</td>\n",
        "      <td>-87.629740</td>\n",
        "      <td>  78000</td>\n",
        "      <td>     Condo</td>\n",
        "      <td> Near North Side</td>\n",
        "    </tr>\n",
        "    <tr>\n",
        "      <th>52</th>\n",
        "      <td> 41.909126</td>\n",
        "      <td>-87.649895</td>\n",
        "      <td>  41000</td>\n",
        "      <td>     Condo</td>\n",
        "      <td> Near North Side</td>\n",
        "    </tr>\n",
        "    <tr>\n",
        "      <th>53</th>\n",
        "      <td> 41.909126</td>\n",
        "      <td>-87.649895</td>\n",
        "      <td>  42000</td>\n",
        "      <td>     Condo</td>\n",
        "      <td> Near North Side</td>\n",
        "    </tr>\n",
        "    <tr>\n",
        "      <th>54</th>\n",
        "      <td> 41.965004</td>\n",
        "      <td>-87.664220</td>\n",
        "      <td>  99000</td>\n",
        "      <td>     Condo</td>\n",
        "      <td>          Uptown</td>\n",
        "    </tr>\n",
        "    <tr>\n",
        "      <th>55</th>\n",
        "      <td> 41.931946</td>\n",
        "      <td>-87.645720</td>\n",
        "      <td>  15000</td>\n",
        "      <td>     Condo</td>\n",
        "      <td>    Lincoln Park</td>\n",
        "    </tr>\n",
        "    <tr>\n",
        "      <th>56</th>\n",
        "      <td> 41.897810</td>\n",
        "      <td>-87.634926</td>\n",
        "      <td>  80000</td>\n",
        "      <td>     Condo</td>\n",
        "      <td> Near North Side</td>\n",
        "    </tr>\n",
        "    <tr>\n",
        "      <th>57</th>\n",
        "      <td> 41.968240</td>\n",
        "      <td>-87.703060</td>\n",
        "      <td>  81000</td>\n",
        "      <td>     Condo</td>\n",
        "      <td>     Albany Park</td>\n",
        "    </tr>\n",
        "    <tr>\n",
        "      <th>58</th>\n",
        "      <td> 41.918804</td>\n",
        "      <td>-87.636990</td>\n",
        "      <td>  45000</td>\n",
        "      <td>     Condo</td>\n",
        "      <td>    Lincoln Park</td>\n",
        "    </tr>\n",
        "    <tr>\n",
        "      <th>59</th>\n",
        "      <td> 41.902214</td>\n",
        "      <td>-87.625930</td>\n",
        "      <td>  19000</td>\n",
        "      <td>     Condo</td>\n",
        "      <td> Near North Side</td>\n",
        "    </tr>\n",
        "    <tr>\n",
        "      <th>60</th>\n",
        "      <td> 41.901370</td>\n",
        "      <td>-87.624680</td>\n",
        "      <td>  40000</td>\n",
        "      <td>     Condo</td>\n",
        "      <td> Near North Side</td>\n",
        "    </tr>\n",
        "    <tr>\n",
        "      <th>61</th>\n",
        "      <td> 41.889584</td>\n",
        "      <td>-87.633060</td>\n",
        "      <td>  69500</td>\n",
        "      <td>     Condo</td>\n",
        "      <td> Near North Side</td>\n",
        "    </tr>\n",
        "    <tr>\n",
        "      <th>62</th>\n",
        "      <td> 41.893677</td>\n",
        "      <td>-87.641045</td>\n",
        "      <td>  95000</td>\n",
        "      <td>     Condo</td>\n",
        "      <td> Near North Side</td>\n",
        "    </tr>\n",
        "    <tr>\n",
        "      <th>63</th>\n",
        "      <td> 41.979313</td>\n",
        "      <td>-87.689964</td>\n",
        "      <td>   5000</td>\n",
        "      <td>     Condo</td>\n",
        "      <td>  Lincoln Square</td>\n",
        "    </tr>\n",
        "    <tr>\n",
        "      <th>64</th>\n",
        "      <td> 41.898716</td>\n",
        "      <td>-87.620940</td>\n",
        "      <td>  83000</td>\n",
        "      <td>     Condo</td>\n",
        "      <td> Near North Side</td>\n",
        "    </tr>\n",
        "    <tr>\n",
        "      <th>65</th>\n",
        "      <td> 41.896347</td>\n",
        "      <td>-87.697070</td>\n",
        "      <td>  35000</td>\n",
        "      <td>     Condo</td>\n",
        "      <td>       West Town</td>\n",
        "    </tr>\n",
        "    <tr>\n",
        "      <th>66</th>\n",
        "      <td> 41.964466</td>\n",
        "      <td>-87.706116</td>\n",
        "      <td>      0</td>\n",
        "      <td>     Condo</td>\n",
        "      <td>     Albany Park</td>\n",
        "    </tr>\n",
        "    <tr>\n",
        "      <th>67</th>\n",
        "      <td> 41.899834</td>\n",
        "      <td>-87.620810</td>\n",
        "      <td>   5000</td>\n",
        "      <td>     Condo</td>\n",
        "      <td> Near North Side</td>\n",
        "    </tr>\n",
        "    <tr>\n",
        "      <th>68</th>\n",
        "      <td> 41.909607</td>\n",
        "      <td>-87.632470</td>\n",
        "      <td>  77500</td>\n",
        "      <td>     Condo</td>\n",
        "      <td> Near North Side</td>\n",
        "    </tr>\n",
        "    <tr>\n",
        "      <th>69</th>\n",
        "      <td> 41.893677</td>\n",
        "      <td>-87.641045</td>\n",
        "      <td>  95000</td>\n",
        "      <td>     Condo</td>\n",
        "      <td> Near North Side</td>\n",
        "    </tr>\n",
        "    <tr>\n",
        "      <th>70</th>\n",
        "      <td> 41.899970</td>\n",
        "      <td>-87.698400</td>\n",
        "      <td>  55000</td>\n",
        "      <td>     Condo</td>\n",
        "      <td>       West Town</td>\n",
        "    </tr>\n",
        "    <tr>\n",
        "      <th>71</th>\n",
        "      <td> 41.901210</td>\n",
        "      <td>-87.628040</td>\n",
        "      <td>  43000</td>\n",
        "      <td>     Condo</td>\n",
        "      <td> Near North Side</td>\n",
        "    </tr>\n",
        "    <tr>\n",
        "      <th>72</th>\n",
        "      <td> 41.971375</td>\n",
        "      <td>-87.655876</td>\n",
        "      <td>  92500</td>\n",
        "      <td>     Condo</td>\n",
        "      <td>          Uptown</td>\n",
        "    </tr>\n",
        "    <tr>\n",
        "      <th>73</th>\n",
        "      <td> 41.900880</td>\n",
        "      <td>-87.629486</td>\n",
        "      <td> 625000</td>\n",
        "      <td>     Condo</td>\n",
        "      <td> Near North Side</td>\n",
        "    </tr>\n",
        "    <tr>\n",
        "      <th>74</th>\n",
        "      <td> 41.920414</td>\n",
        "      <td>-87.638440</td>\n",
        "      <td>  40000</td>\n",
        "      <td>     Condo</td>\n",
        "      <td>    Lincoln Park</td>\n",
        "    </tr>\n",
        "    <tr>\n",
        "      <th>75</th>\n",
        "      <td> 41.893143</td>\n",
        "      <td>-87.620640</td>\n",
        "      <td>  40000</td>\n",
        "      <td>     Condo</td>\n",
        "      <td> Near North Side</td>\n",
        "    </tr>\n",
        "    <tr>\n",
        "      <th>76</th>\n",
        "      <td> 41.908870</td>\n",
        "      <td>-87.640656</td>\n",
        "      <td>  60000</td>\n",
        "      <td> Townhouse</td>\n",
        "      <td> Near North Side</td>\n",
        "    </tr>\n",
        "    <tr>\n",
        "      <th>77</th>\n",
        "      <td> 41.930810</td>\n",
        "      <td>-87.640010</td>\n",
        "      <td>  15000</td>\n",
        "      <td>     Condo</td>\n",
        "      <td>    Lincoln Park</td>\n",
        "    </tr>\n",
        "    <tr>\n",
        "      <th>78</th>\n",
        "      <td> 41.964380</td>\n",
        "      <td>-87.710980</td>\n",
        "      <td>  57000</td>\n",
        "      <td>     Condo</td>\n",
        "      <td>     Albany Park</td>\n",
        "    </tr>\n",
        "    <tr>\n",
        "      <th>79</th>\n",
        "      <td> 41.894550</td>\n",
        "      <td>-87.635210</td>\n",
        "      <td>  63000</td>\n",
        "      <td>     Condo</td>\n",
        "      <td> Near North Side</td>\n",
        "    </tr>\n",
        "  </tbody>\n",
        "</table>\n",
        "</div>"
       ],
       "metadata": {},
       "output_type": "pyout",
       "prompt_number": 313,
       "text": [
        "          lat        lon   price      htype             comm\n",
        "50  41.975784 -87.678430   38000      Condo   Lincoln Square\n",
        "51  41.908245 -87.629740   78000      Condo  Near North Side\n",
        "52  41.909126 -87.649895   41000      Condo  Near North Side\n",
        "53  41.909126 -87.649895   42000      Condo  Near North Side\n",
        "54  41.965004 -87.664220   99000      Condo           Uptown\n",
        "55  41.931946 -87.645720   15000      Condo     Lincoln Park\n",
        "56  41.897810 -87.634926   80000      Condo  Near North Side\n",
        "57  41.968240 -87.703060   81000      Condo      Albany Park\n",
        "58  41.918804 -87.636990   45000      Condo     Lincoln Park\n",
        "59  41.902214 -87.625930   19000      Condo  Near North Side\n",
        "60  41.901370 -87.624680   40000      Condo  Near North Side\n",
        "61  41.889584 -87.633060   69500      Condo  Near North Side\n",
        "62  41.893677 -87.641045   95000      Condo  Near North Side\n",
        "63  41.979313 -87.689964    5000      Condo   Lincoln Square\n",
        "64  41.898716 -87.620940   83000      Condo  Near North Side\n",
        "65  41.896347 -87.697070   35000      Condo        West Town\n",
        "66  41.964466 -87.706116       0      Condo      Albany Park\n",
        "67  41.899834 -87.620810    5000      Condo  Near North Side\n",
        "68  41.909607 -87.632470   77500      Condo  Near North Side\n",
        "69  41.893677 -87.641045   95000      Condo  Near North Side\n",
        "70  41.899970 -87.698400   55000      Condo        West Town\n",
        "71  41.901210 -87.628040   43000      Condo  Near North Side\n",
        "72  41.971375 -87.655876   92500      Condo           Uptown\n",
        "73  41.900880 -87.629486  625000      Condo  Near North Side\n",
        "74  41.920414 -87.638440   40000      Condo     Lincoln Park\n",
        "75  41.893143 -87.620640   40000      Condo  Near North Side\n",
        "76  41.908870 -87.640656   60000  Townhouse  Near North Side\n",
        "77  41.930810 -87.640010   15000      Condo     Lincoln Park\n",
        "78  41.964380 -87.710980   57000      Condo      Albany Park\n",
        "79  41.894550 -87.635210   63000      Condo  Near North Side"
       ]
      }
     ],
     "prompt_number": 313
    }
   ],
   "metadata": {}
  }
 ]
}