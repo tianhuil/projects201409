{
 "metadata": {
  "name": "",
  "signature": "sha256:d0aff6bd37c62c51caeaa67d085fc45a611aa5d1ce4e5a932cbd5a820d057bc8"
 },
 "nbformat": 3,
 "nbformat_minor": 0,
 "worksheets": [
  {
   "cells": [
    {
     "cell_type": "markdown",
     "metadata": {},
     "source": [
      "<b>Deliverable:</b> I want an algorithm that determines the extent that local crime rate affects housing price by housing type (htpye) with respect to the city wide average housing price by htype.\n"
     ]
    },
    {
     "cell_type": "markdown",
     "metadata": {},
     "source": [
      "<b>Approach:</b> The most basic approach would be to characterize the correlation between absolute house price and crime.  The problem with finding one city-wide correlation curve between these two variables is that other factors such as proximity to city center, commute time, geographic beauty, etc. are not factored in.\n",
      "<P>\n",
      "Instead, I will take a localized approach, something like this (using Chicago Data):\n",
      "<ol>\n",
      "<li> Discretize Chicago into regions containing 8-10 communities (77 in total)\n",
      "<li> Calculate a characteristic curve: regional housing price vs. crimerate (linear regression)\n",
      "<li> With the characteristic curve, estimate the localized effect of crime on housing price\n",
      "</ol>\n"
     ]
    },
    {
     "cell_type": "markdown",
     "metadata": {},
     "source": [
      "Sample Data:"
     ]
    },
    {
     "cell_type": "code",
     "collapsed": false,
     "input": [
      "# del something"
     ],
     "language": "python",
     "metadata": {},
     "outputs": [],
     "prompt_number": 76
    },
    {
     "cell_type": "code",
     "collapsed": false,
     "input": [
      "from pandas import *"
     ],
     "language": "python",
     "metadata": {},
     "outputs": [],
     "prompt_number": 2
    },
    {
     "cell_type": "code",
     "collapsed": false,
     "input": [
      "cols = ['rgn','communCode','crimeProp','crimeViol','crimeSex','price1b','price2b','price3b']"
     ],
     "language": "python",
     "metadata": {},
     "outputs": [],
     "prompt_number": 3
    },
    {
     "cell_type": "code",
     "collapsed": false,
     "input": [
      "# generates rgn array:\n",
      "def rgnAry(numCumm):\n",
      "    out = zeros(numCumm)\n",
      "    tick = 1\n",
      "    for idx in range(numCumm):\n",
      "        out[idx] = tick\n",
      "        if (idx+1) % 8 == 0:\n",
      "            tick += 1\n",
      "    return out\n",
      "numComms = 77\n",
      "\n",
      "rgn = rgnAry(numComms)\n",
      "communCode = arange(1,numComms+1)\n",
      "crimeProp = rand(numComms)\n",
      "crimeViol = rand(numComms)\n",
      "crimeSex  = rand(numComms)\n",
      "\n",
      "stdPrices = array([100000.,170000.,220000.])\n",
      "priceDropRates = 0.1*stdPrices\n",
      "\n",
      "\n",
      "price1b = stdPrices[0] - priceDropRates[0]*crimeProp + 1000*randn(numComms)\n",
      "price2b = stdPrices[1] - priceDropRates[1]*crimeProp + 1000*randn(numComms)\n",
      "price3b = stdPrices[2] - priceDropRates[2]*crimeProp + 1000*randn(numComms)\n",
      "\n",
      "d = {cols[0]: Series(rgn), cols[1]: Series(communCode), cols[2]: Series(crimeProp),\n",
      "     cols[3]: Series(crimeViol), cols[4]: Series(crimeSex), cols[5]: Series(price1b), cols[6]: Series(price2b),\n",
      "     cols[7]: Series(price3b)}"
     ],
     "language": "python",
     "metadata": {},
     "outputs": [],
     "prompt_number": 4
    },
    {
     "cell_type": "code",
     "collapsed": false,
     "input": [
      "df = DataFrame(d)"
     ],
     "language": "python",
     "metadata": {},
     "outputs": [],
     "prompt_number": 5
    },
    {
     "cell_type": "markdown",
     "metadata": {},
     "source": [
      "Some city-wide data is plotted below"
     ]
    },
    {
     "cell_type": "code",
     "collapsed": false,
     "input": [
      "plot(df.crimeProp,df.price1b,'b.')\n",
      "xlabel('prop crime rate (AU)')\n",
      "ylabel('1br price ($)')"
     ],
     "language": "python",
     "metadata": {},
     "outputs": [
      {
       "metadata": {},
       "output_type": "pyout",
       "prompt_number": 6,
       "text": [
        "<matplotlib.text.Text at 0x7f57c92c4990>"
       ]
      },
      {
       "metadata": {},
       "output_type": "display_data",
       "png": "[encoded data removed]",
       "text": [
        "<matplotlib.figure.Figure at 0x7f57c9583a90>"
       ]
      }
     ],
     "prompt_number": 6
    },
    {
     "cell_type": "code",
     "collapsed": false,
     "input": [
      "plot(df.crimeSex,df.price1b,'k.')\n",
      "xlabel('sex crime rate (AU)')\n",
      "ylabel('1br price ($)')"
     ],
     "language": "python",
     "metadata": {},
     "outputs": [
      {
       "metadata": {},
       "output_type": "pyout",
       "prompt_number": 7,
       "text": [
        "<matplotlib.text.Text at 0x7f57c9177bd0>"
       ]
      },
      {
       "metadata": {},
       "output_type": "display_data",
       "png": "[encoded data removed]",
       "text": [
        "<matplotlib.figure.Figure at 0x7f57c9583310>"
       ]
      }
     ],
     "prompt_number": 7
    },
    {
     "cell_type": "markdown",
     "metadata": {},
     "source": [
      "Below, an algorithm groups data by regions (RGN) and calculations the regional crimerate effect on housing prices."
     ]
    },
    {
     "cell_type": "code",
     "collapsed": false,
     "input": [
      "max(rgn)"
     ],
     "language": "python",
     "metadata": {},
     "outputs": [
      {
       "metadata": {},
       "output_type": "pyout",
       "prompt_number": 9,
       "text": [
        "10.0"
       ]
      }
     ],
     "prompt_number": 9
    },
    {
     "cell_type": "code",
     "collapsed": false,
     "input": [
      "rgnPriceDropRate = zeros([max(rgn),2])\n",
      "for rgnIdx in range(int(max(rgn))):\n",
      "    # y = a+bx, linear fit\n",
      "    rgnPriceDropRate[rgnIdx,:] = polyfit(df[df.rgn == rgnIdx+1].crimeProp, df[df.rgn == rgnIdx+1].price1b, 1)\n",
      "    "
     ],
     "language": "python",
     "metadata": {},
     "outputs": [],
     "prompt_number": 34
    },
    {
     "cell_type": "code",
     "collapsed": false,
     "input": [
      "plot(unique(rgn),rgnPriceDropRate[:,0],'.')\n",
      "xlabel('region')\n",
      "ylabel('price drop per arb inc in crime rate')"
     ],
     "language": "python",
     "metadata": {},
     "outputs": [
      {
       "metadata": {},
       "output_type": "pyout",
       "prompt_number": 42,
       "text": [
        "<matplotlib.text.Text at 0x7f57c8b3b150>"
       ]
      },
      {
       "metadata": {},
       "output_type": "display_data",
       "png": "[encoded data removed]",
       "text": [
        "<matplotlib.figure.Figure at 0x7f57c8f48e90>"
       ]
      }
     ],
     "prompt_number": 42
    },
    {
     "cell_type": "markdown",
     "metadata": {},
     "source": [
      "The plot above shows the regional decrease in 1bdrm price as a function of crime rate uptick (crime rate currently in AU between 0 and 1). Each region contains 8 communities in Chicago.  By choosing to group communities by region and analyze each separately, we reduce the analysis of non causal correlations between price and crime.  This approach approach also illuminates areas of the city with housing markets that are inelastic to variation in crime rate."
     ]
    },
    {
     "cell_type": "markdown",
     "metadata": {},
     "source": [
      "Questions:\n",
      "<li> If I have pandas, why do I need SQL?\n"
     ]
    }
   ],
   "metadata": {}
  }
 ]
}