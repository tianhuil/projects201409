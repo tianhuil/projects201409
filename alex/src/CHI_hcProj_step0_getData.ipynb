{
 "metadata": {
  "name": "",
  "signature": "sha256:324291dc2700a8f6c14840c6dd3db67008207d83cde72b50201c93e717a243d2"
 },
 "nbformat": 3,
 "nbformat_minor": 0,
 "worksheets": [
  {
   "cells": [
    {
     "cell_type": "code",
     "collapsed": false,
     "input": [
      "import requests\n",
      "import StringIO\n",
      "import pandas as pd\n",
      "import numpy as np\n",
      "import os\n",
      "import csv\n",
      "import urllib2\n",
      "\n",
      "# Small test CSV\n",
      "#CrimeURL = 'https://data.cityofchicago.org/api/views/xzkq-xp2w/rows.csv?accessType=DOWNLOAD'\n",
      "\n",
      "# Crime Data\n",
      "if 'Crimes_-_2001_to_present.csv' not in os.listdir('../data'):\n",
      "    CrimeURL = 'https://data.cityofchicago.org/api/views/ijzp-q8t2/rows.csv?accessType=DOWNLOAD'\n",
      "    response = urllib2.urlopen(CrimeURL)\n",
      "    csvR = csv.reader(response)\n",
      "\n",
      "    writer = csv.writer(open(\"Crimes_-_2001_to_present.csv\", 'w'))\n",
      "    count = 0\n",
      "    csvRL = 'many'\n",
      "    for row in csvR:\n",
      "        if count % 100000==0:\n",
      "            print str(count) + ' of ' + csvRL\n",
      "        writer.writerow(row)\n",
      "        count += 1\n",
      "else:\n",
      "    print 'Crime data already downloaded'\n",
      "    \n",
      "# Do write this to download a few other csvs (see instructions documented in evernote), \n",
      "# though not all data is packaged online as a csv"
     ],
     "language": "python",
     "metadata": {},
     "outputs": [
      {
       "output_type": "stream",
       "stream": "stdout",
       "text": [
        "Crime data already downloaded\n"
       ]
      }
     ],
     "prompt_number": 38
    },
    {
     "cell_type": "markdown",
     "metadata": {},
     "source": [
      "# Data Notes\n",
      "1. Walk Score data, google walkscore Chicago\n",
      "1. Other data, see evernote\n",
      "1. Custom written neibourhood name to community mapper (http://en.wikipedia.org/wiki/Community_areas_in_Chicago)"
     ]
    }
   ],
   "metadata": {}
  }
 ]
}