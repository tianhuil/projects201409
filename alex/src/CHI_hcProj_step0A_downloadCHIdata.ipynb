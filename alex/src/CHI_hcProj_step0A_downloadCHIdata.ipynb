{
 "metadata": {
  "name": "",
  "signature": "sha256:edcdea154454eb4e622accbac55b751ec07d5a2bf524d0577ea1721ab73c753d"
 },
 "nbformat": 3,
 "nbformat_minor": 0,
 "worksheets": [
  {
   "cells": [
    {
     "cell_type": "code",
     "collapsed": false,
     "input": [
      "import requests\n",
      "import StringIO\n",
      "import os\n",
      "import csv\n",
      "import urllib2"
     ],
     "language": "python",
     "metadata": {},
     "outputs": []
    },
    {
     "cell_type": "code",
     "collapsed": false,
     "input": [
      "# This class downloads the Chicago Crime Data\n",
      "\n",
      "# Crime Data\n",
      "class CrimeDataDownload(object):\n",
      "    def __init__(self):\n",
      "        self.temp = 0\n",
      "    \n",
      "    def downloadData(self):\n",
      "        if 'Crimes_-_2001_to_present.csv' not in os.listdir('../data'):\n",
      "            msg = 'Download crime data now? This may take an hour...:'\n",
      "            shall = True if raw_input(\"%s (y/N) \" % msg).lower() == 'y' else False\n",
      "            if shall:\n",
      "            \n",
      "                CrimeURL = 'https://data.cityofchicago.org/api/views/ijzp-q8t2/rows.csv?accessType=DOWNLOAD'\n",
      "                response = urllib2.urlopen(CrimeURL)\n",
      "                csvR = csv.reader(response)\n",
      "            \n",
      "                writer = csv.writer(open(\"Crimes_-_2001_to_present.csv\", 'w'))\n",
      "                count = 0\n",
      "                csvRL = 'many'\n",
      "                for row in csvR:\n",
      "                    if count % 100000==0:\n",
      "                        print str(count) + ' of ' + csvRL\n",
      "                    writer.writerow(row)\n",
      "                    count += 1\n",
      "                return True\n",
      "            else:\n",
      "                return False\n",
      "        else:\n",
      "            print 'Crime Data in Data Folder... all set'\n",
      "            return True\n",
      "    \n",
      "# Do write this to download a few other csvs (see instructions documented in evernote), \n",
      "# though not all data is packaged online as a csv"
     ],
     "language": "python",
     "metadata": {},
     "outputs": [
      {
       "output_type": "stream",
       "stream": "stdout",
       "text": [
        "Crime data already downloaded\n"
       ]
      }
     ],
     "prompt_number": 38
    },
    {
     "cell_type": "code",
     "collapsed": false,
     "input": [
      "run = CrimeDataDownload()\n",
      "run.downloadData()"
     ],
     "language": "python",
     "metadata": {},
     "outputs": []
    },
    {
     "cell_type": "markdown",
     "metadata": {},
     "source": [
      "## All Other Data Sources\n",
      "\n",
      "* CHIcommAreaNums.csv\n",
      "    - Community Numbers Standardized\n",
      "    - in sqr-feet (it took me a while to discern this)\n",
      "    - [Source](https://data.cityofchicago.org/Facilities-Geographic-Boundaries/Boundaries-Community-Areas-current-/cauq-8yn6)\n",
      "    - One can also find kml files here for plotting community areas into a dynamic map (e.g. using the google map api)\n",
      "\n",
      "* Chicago_Public_Schools_-_Progress_Report_Cards__2011-2012_.csv\n",
      "    - These are public school report cards for the city of Chicago\n",
      "    - [Source](https://data.cityofchicago.org/Education/Chicago-Public-Schools-Progress-Report-Cards-2011-/9xs2-f89t)\n",
      "\n",
      "* walkscores.csv\n",
      "\t- [walkscore](http://www.walkscore.com/IL/Chicago)\n",
      "\n",
      "* comPops.csv\n",
      "\t- [community populations](http://www.robparal.com/downloads/ACS0509/HistoricalData/Chicago%20Community%20Areas%20Historical%20Data.htm)\n",
      "\n",
      "* priceLatLonAll.csv\n",
      "\t- scraped data from trulia.com (see my step0B ipython notebook for this script)\n",
      "\n",
      "* neibCom_zillowData.csv\n",
      "    - This is a custom written mapper from neighbourhood name to community name and number\n",
      "    - I had to write this to account of all the degeneracy that existed in writing neighbourhood names\n",
      "    - This file helped me much easier merge data on community area\n",
      "    - [source](107.170.158.84:8000/neibCom_zillowData.csv)"
     ]
    }
   ],
   "metadata": {}
  }
 ]
}