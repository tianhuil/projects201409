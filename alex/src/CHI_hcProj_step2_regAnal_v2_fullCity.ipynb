{
 "metadata": {
  "name": "",
  "signature": "sha256:2d597a346523e27da8176e7bcf303ed5e4a237a16a078ed4fbecb635e86d07be"
 },
 "nbformat": 3,
 "nbformat_minor": 0,
 "worksheets": [
  {
   "cells": [
    {
     "cell_type": "code",
     "collapsed": false,
     "input": [
      "import pandas as pd\n",
      "import numpy as np\n",
      "import datetime as dt\n",
      "import matplotlib.pylab as plt\n",
      "\n",
      "from sklearn import datasets\n",
      "from sklearn import linear_model\n",
      "from sklearn import utils\n",
      "from sklearn import cross_validation\n",
      "from scipy import stats # for Pearson correlations"
     ],
     "language": "python",
     "metadata": {},
     "outputs": [],
     "prompt_number": 196
    },
    {
     "cell_type": "markdown",
     "metadata": {},
     "source": [
      "## Transforming Data to Better Tell a Story ##"
     ]
    },
    {
     "cell_type": "code",
     "collapsed": false,
     "input": [
      "# Load df\n",
      "df = pd.read_csv('../data/gDataOut2.csv')\n",
      "\n",
      "# *** Convert Numbers to make them more interpretable:***\n",
      "\n",
      "# scale walkscore.com scores: All scored represent perentage score wrt rest of city\n",
      "def rescaleWalkScore(s):\n",
      "    return 100*(s-min(s))/(max(s)-min(s))\n",
      "\n",
      "df.walkScore = rescaleWalkScore(df.walkScore)\n",
      "df.tranScore = rescaleWalkScore(df.tranScore)\n",
      "df.bikeScore = rescaleWalkScore(df.bikeScore)\n",
      "\n",
      "# Remove data points without prices\n",
      "df = df[df.gPrice!=0]\n",
      "\n",
      "# ****** THIS IS A HACK that needs to be changed if the gridsize changes *******\n",
      "for idx in df.index:\n",
      "    if df.gSchScore[idx] == 0:\n",
      "        gNeibs = []\n",
      "        if idx-1 in df.index:\n",
      "            gNeibs.append(df.gSchScore[idx-1])\n",
      "        if idx+1 in df.index:\n",
      "            gNeibs.append(df.gSchScore[idx+1])\n",
      "        if idx-40 in df.index:\n",
      "            gNeibs.append(df.gSchScore[idx-40])\n",
      "        if idx+40 in df.index:\n",
      "            gNeibs.append(df.gSchScore[idx+40])\n",
      "        if len(gNeibs) > 2:\n",
      "            df.gSchScore[idx] = mean(gNeibs)\n",
      "\n",
      "# Remove remaining data points without school scores\n",
      "df = df[df.gSchScore != 0]"
     ],
     "language": "python",
     "metadata": {},
     "outputs": [],
     "prompt_number": 197
    },
    {
     "cell_type": "code",
     "collapsed": false,
     "input": [
      "df = df.set_index('gNum')"
     ],
     "language": "python",
     "metadata": {},
     "outputs": [],
     "prompt_number": 198
    },
    {
     "cell_type": "markdown",
     "metadata": {},
     "source": [
      "## First: Cross correlation between parameters\n",
      "1. Plotting absolute values of the cross correlation matrix below\n",
      "1. Choose parameters with low absolute cross correlation"
     ]
    },
    {
     "cell_type": "code",
     "collapsed": false,
     "input": [
      "colsForX_all = ['gAllCrimePer','gHOMIper','gBURGper','gNARCper','gPopDen',\n",
      "                'walkScore','tranScore','bikeScore','gSchScore','gSqDistFromCBD']\n",
      "X_all = df.ix[:,colsForX_all]\n",
      "y_all = df.gPrice # Note that there are some NAN\n",
      "\n",
      "\n",
      "# drop any rows with NANs (n=37 instead of 38) (drop at same time)\n",
      "X_all, y_all = X_all.drop(pd.isnull(X_all).any(1).nonzero()[0]), y_all.drop(pd.isnull(X_all).any(1).nonzero()[0])\n",
      "\n",
      "plt.pcolor(X_all.corr().abs())\n",
      "plt.colorbar()\n",
      "plt.yticks(arange(0.5,len(X_all.corr().columns)+0.5),X_all.corr().columns)\n",
      "plt.xticks(arange(0.5,len(X_all.corr().columns)+0.5),range(0,len(X_all.corr().columns)))"
     ],
     "language": "python",
     "metadata": {},
     "outputs": [
      {
       "metadata": {},
       "output_type": "pyout",
       "prompt_number": 199,
       "text": [
        "([<matplotlib.axis.XTick at 0x7f4b684f3f90>,\n",
        "  <matplotlib.axis.XTick at 0x7f4b685bae10>,\n",
        "  <matplotlib.axis.XTick at 0x7f4b68466a50>,\n",
        "  <matplotlib.axis.XTick at 0x7f4b68466190>,\n",
        "  <matplotlib.axis.XTick at 0x7f4b683bcc50>,\n",
        "  <matplotlib.axis.XTick at 0x7f4b683c4850>,\n",
        "  <matplotlib.axis.XTick at 0x7f4b684661d0>,\n",
        "  <matplotlib.axis.XTick at 0x7f4b68560550>,\n",
        "  <matplotlib.axis.XTick at 0x7f4b68380a10>,\n",
        "  <matplotlib.axis.XTick at 0x7f4b68380d90>],\n",
        " <a list of 10 Text xticklabel objects>)"
       ]
      },
      {
       "metadata": {},
       "output_type": "display_data",
       "png": "[encoded data removed]",
       "text": [
        "<matplotlib.figure.Figure at 0x7f4b685373d0>"
       ]
      }
     ],
     "prompt_number": 199
    },
    {
     "cell_type": "code",
     "collapsed": false,
     "input": [
      "\n",
      "savefig('corr.png')"
     ],
     "language": "python",
     "metadata": {},
     "outputs": [
      {
       "metadata": {},
       "output_type": "display_data",
       "text": [
        "<matplotlib.figure.Figure at 0x7f4b68538fd0>"
       ]
      }
     ],
     "prompt_number": 200
    },
    {
     "cell_type": "code",
     "collapsed": false,
     "input": [
      "eigvals, eigvecs = np.linalg.eig(X_all.corr()) # gives sorted list of eigenvalues\n",
      "\n",
      "maxInds = []\n",
      "for vec in eigvecs:\n",
      "    maxInds.append([i for i, val in enumerate(vec) if abs(val) == max(abs(vec))])\n",
      "    \n",
      "maxInds = (np.array(maxInds).ravel()[:8])\n",
      "maxInds"
     ],
     "language": "python",
     "metadata": {},
     "outputs": [
      {
       "metadata": {},
       "output_type": "pyout",
       "prompt_number": 167,
       "text": [
        "array([6, 8, 4, 4, 3, 5, 9, 7])"
       ]
      }
     ],
     "prompt_number": 167
    },
    {
     "cell_type": "markdown",
     "metadata": {},
     "source": [
      "## Quick PCA (but not projection)"
     ]
    },
    {
     "cell_type": "markdown",
     "metadata": {},
     "source": [
      "**The array above tells me parameters I should regress on, in order from best to worst**\n",
      "\n",
      "* This list of parameters contains, transit scores, pop density, homicide-, battery-, and narcotic-crime-rates\n",
      "* Below is a python implementation that accepts all the X data, target prices (y), and a list of X parameter indices to regress on"
     ]
    },
    {
     "cell_type": "code",
     "collapsed": false,
     "input": [
      "# For model 1, let's look at everything\n",
      "X_model1 = X_all[['gHOMIper','gPopDen','gSchScore']]\n",
      "X_model1 = X_model1[X_model1.gSchScore != 0] # Only looking at places with school scores\n",
      "y_model1 = y_all[X_model1.index]\n",
      "\n",
      "# For model 2, let's look at grids with at least 2 homicides (regress on data we're sure we have)\n",
      "X_model2 = X_all[['gHOMIper','gPopDen','gSchScore']]\n",
      "X_model2 = X_model2[(X_model2.gSchScore != 0) & (X_model2.gHOMIper > 2)] # Only looking at places with school scores\n",
      "y_model2 = y_all[X_model2.index]\n",
      "\n",
      "# For model 3, let's regress all narcotics data instead of homicides\n",
      "X_model3 = X_all[['gNARCper','gPopDen','gSchScore']]\n",
      "X_model3 = X_model3[X_model3.gSchScore != 0] # Only looking at places with school scores\n",
      "y_model3 = y_all[X_model3.index]\n",
      "\n",
      "# As we'll see below, model3 is only slightly better than model2 in terms of predicting house prices...\n",
      "# I want to add a new variable, DISTANCE FROM CBD, to remove that factor\n",
      "X_model4 = X_all[['gNARCper','gSqDistFromCBD','gSchScore']] # Note that sqDistance is actually just distance\n",
      "X_model4 = X_model4[X_model4.gSchScore != 0] # Only looking at places with school scores\n",
      "y_model4 = y_all[X_model4.index]\n",
      "\n",
      "X_model5 = X_all[['gHOMIper','gSqDistFromCBD','gSchScore']]\n",
      "X_model5 = X_model5[X_model5.gSchScore != 0]\n",
      "X_model5 = X_model5[X_model5.gSqDistFromCBD < 8]\n",
      "X_model5 = X_model5[X_model5.gHOMIper > 0]\n",
      "y_model5 = y_all[X_model5.index]"
     ],
     "language": "python",
     "metadata": {},
     "outputs": [],
     "prompt_number": 173
    },
    {
     "cell_type": "code",
     "collapsed": false,
     "input": [
      "for col in X_model1.columns:\n",
      "    plt.figure()\n",
      "    plt.title(col)\n",
      "    plt.plot(X_model1[col], y_model1, '.')\n",
      "    plt.xlabel(col)\n",
      "    plt.ylabel('Home Price')\n",
      "    plt.ylim([0,600000])"
     ],
     "language": "python",
     "metadata": {},
     "outputs": [
      {
       "metadata": {},
       "output_type": "display_data",
       "png": "[encoded data removed]",
       "text": [
        "<matplotlib.figure.Figure at 0x7f4b68647510>"
       ]
      },
      {
       "metadata": {},
       "output_type": "display_data",
       "png": "[encoded data removed]",
       "text": [
        "<matplotlib.figure.Figure at 0x7f4b6823bf90>"
       ]
      },
      {
       "metadata": {},
       "output_type": "display_data",
       "png": "[encoded data removed]",
       "text": [
        "<matplotlib.figure.Figure at 0x7f4b681507d0>"
       ]
      }
     ],
     "prompt_number": 204
    },
    {
     "cell_type": "code",
     "collapsed": false,
     "input": [
      "from sklearn import datasets\n",
      "from sklearn import linear_model\n",
      "from sklearn import utils\n",
      "from sklearn import cross_validation\n",
      "import pandas as pd\n",
      "import matplotlib.pylab as plt\n",
      "from sklearn.datasets import fetch_mldata\n",
      "import numpy as np\n",
      "from scipy import stats\n",
      "\n",
      "def trainLRM(X,y):\n",
      "    X_train, X_test, y_train, y_test = cross_validation.train_test_split(X, y, test_size=0.2, random_state=42)\n",
      "    \n",
      "    cv = cross_validation.ShuffleSplit(len(y), n_iter=1000, test_size=0.2, random_state=42)\n",
      "    def compute_error(clf, X, y):\n",
      "        return - cross_validation.cross_val_score(clf, X, y, cv=cv, scoring='mean_squared_error').mean()\n",
      "\n",
      "    def abs_corr(x, y):\n",
      "        return np.abs(stats.pearsonr(x, y)[0])\n",
      "    \n",
      "    clf = linear_model.LinearRegression()\n",
      "    clf.fit(X_train,y_train)\n",
      "    model_performance = pd.DataFrame([\n",
      "        (\"Mean Model\", y.var()),\n",
      "        #(\"Original Features, Pearson > .6\", compute_error(clf, X[[col for col in X.columns if abs_corr(X[col], y) > .6]], y)),\n",
      "        (\"Original Features, Pearson > .4\", compute_error(clf, X[[col for col in X.columns if abs_corr(X[col], y) > .4]], y)),\n",
      "        (\"Original Features\", compute_error(clf, X, y)),\n",
      "    ], columns=[\"Model\", \"MSE\"])\n",
      "    model_performance.set_index(\"Model\")\n",
      "    model_performance = model_performance # normalize by price\n",
      "    model_performance.plot(x=\"Model\", y=\"MSE\", kind=\"Bar\")\n",
      "    return clf, cv\n",
      "\n",
      "clf, cv = trainLRM(X_model5,y_model5)"
     ],
     "language": "python",
     "metadata": {},
     "outputs": [
      {
       "metadata": {},
       "output_type": "display_data",
       "png": "[encoded data removed]",
       "text": [
        "<matplotlib.figure.Figure at 0x7f4b68538150>"
       ]
      }
     ],
     "prompt_number": 179
    },
    {
     "cell_type": "code",
     "collapsed": false,
     "input": [
      "#X_model4.gNARCper.mean()\n",
      "X_model5.gHOMIper.mean()"
     ],
     "language": "python",
     "metadata": {},
     "outputs": [
      {
       "metadata": {},
       "output_type": "pyout",
       "prompt_number": 180,
       "text": [
        "51.56818181818182"
       ]
      }
     ],
     "prompt_number": 180
    },
    {
     "cell_type": "code",
     "collapsed": false,
     "input": [
      "X_model5.columns"
     ],
     "language": "python",
     "metadata": {},
     "outputs": [
      {
       "metadata": {},
       "output_type": "pyout",
       "prompt_number": 181,
       "text": [
        "Index([u'gHOMIper', u'gSqDistFromCBD', u'gSchScore'], dtype='object')"
       ]
      }
     ],
     "prompt_number": 181
    },
    {
     "cell_type": "code",
     "collapsed": false,
     "input": [
      "clf.intercept_, clf.coef_"
     ],
     "language": "python",
     "metadata": {},
     "outputs": [
      {
       "metadata": {},
       "output_type": "pyout",
       "prompt_number": 182,
       "text": [
        "(310654.09621414455,\n",
        " array([  -941.8100969 , -32499.81088365,   1638.01299531]))"
       ]
      }
     ],
     "prompt_number": 182
    },
    {
     "cell_type": "code",
     "collapsed": false,
     "input": [
      "X_model4"
     ],
     "language": "python",
     "metadata": {},
     "outputs": [
      {
       "html": [
        "<div style=\"max-height:1000px;max-width:1500px;overflow:auto;\">\n",
        "<table border=\"1\" class=\"dataframe\">\n",
        "  <thead>\n",
        "    <tr style=\"text-align: right;\">\n",
        "      <th></th>\n",
        "      <th>gNARCper</th>\n",
        "      <th>gSqDistFromCBD</th>\n",
        "      <th>gSchScore</th>\n",
        "    </tr>\n",
        "  </thead>\n",
        "  <tbody>\n",
        "    <tr>\n",
        "      <th>9  </th>\n",
        "      <td>  1947</td>\n",
        "      <td> 12.703482</td>\n",
        "      <td> 19.000000</td>\n",
        "    </tr>\n",
        "    <tr>\n",
        "      <th>18 </th>\n",
        "      <td>   386</td>\n",
        "      <td> 10.610174</td>\n",
        "      <td> 47.330000</td>\n",
        "    </tr>\n",
        "    <tr>\n",
        "      <th>21 </th>\n",
        "      <td>   722</td>\n",
        "      <td> 10.385947</td>\n",
        "      <td> 19.670000</td>\n",
        "    </tr>\n",
        "    <tr>\n",
        "      <th>26 </th>\n",
        "      <td>   843</td>\n",
        "      <td>  5.541003</td>\n",
        "      <td> 31.000000</td>\n",
        "    </tr>\n",
        "    <tr>\n",
        "      <th>27 </th>\n",
        "      <td>   775</td>\n",
        "      <td>  4.649998</td>\n",
        "      <td> 15.330000</td>\n",
        "    </tr>\n",
        "    <tr>\n",
        "      <th>28 </th>\n",
        "      <td>   615</td>\n",
        "      <td>  5.019247</td>\n",
        "      <td> 45.330000</td>\n",
        "    </tr>\n",
        "    <tr>\n",
        "      <th>29 </th>\n",
        "      <td>   638</td>\n",
        "      <td>  4.112735</td>\n",
        "      <td> 55.670000</td>\n",
        "    </tr>\n",
        "    <tr>\n",
        "      <th>30 </th>\n",
        "      <td>   262</td>\n",
        "      <td>  4.526030</td>\n",
        "      <td> 56.830000</td>\n",
        "    </tr>\n",
        "    <tr>\n",
        "      <th>31 </th>\n",
        "      <td>   342</td>\n",
        "      <td>  3.606756</td>\n",
        "      <td> 59.670000</td>\n",
        "    </tr>\n",
        "    <tr>\n",
        "      <th>32 </th>\n",
        "      <td>   171</td>\n",
        "      <td>  4.071737</td>\n",
        "      <td> 58.542500</td>\n",
        "    </tr>\n",
        "    <tr>\n",
        "      <th>33 </th>\n",
        "      <td>    91</td>\n",
        "      <td>  3.147185</td>\n",
        "      <td> 59.000000</td>\n",
        "    </tr>\n",
        "    <tr>\n",
        "      <th>34 </th>\n",
        "      <td>    68</td>\n",
        "      <td> 11.235881</td>\n",
        "      <td> 73.670000</td>\n",
        "    </tr>\n",
        "    <tr>\n",
        "      <th>35 </th>\n",
        "      <td>   386</td>\n",
        "      <td>  8.383434</td>\n",
        "      <td> 47.667500</td>\n",
        "    </tr>\n",
        "    <tr>\n",
        "      <th>37 </th>\n",
        "      <td>  1169</td>\n",
        "      <td>  7.214173</td>\n",
        "      <td> 34.000000</td>\n",
        "    </tr>\n",
        "    <tr>\n",
        "      <th>39 </th>\n",
        "      <td>   420</td>\n",
        "      <td>  6.441480</td>\n",
        "      <td> 45.170000</td>\n",
        "    </tr>\n",
        "    <tr>\n",
        "      <th>42 </th>\n",
        "      <td> 31637</td>\n",
        "      <td>  4.785013</td>\n",
        "      <td> 59.670000</td>\n",
        "    </tr>\n",
        "    <tr>\n",
        "      <th>43 </th>\n",
        "      <td> 29865</td>\n",
        "      <td>  4.169708</td>\n",
        "      <td> 52.145000</td>\n",
        "    </tr>\n",
        "    <tr>\n",
        "      <th>44 </th>\n",
        "      <td> 20330</td>\n",
        "      <td>  3.560698</td>\n",
        "      <td> 44.470000</td>\n",
        "    </tr>\n",
        "    <tr>\n",
        "      <th>45 </th>\n",
        "      <td>   885</td>\n",
        "      <td>  2.961869</td>\n",
        "      <td> 43.170000</td>\n",
        "    </tr>\n",
        "    <tr>\n",
        "      <th>46 </th>\n",
        "      <td>  5012</td>\n",
        "      <td>  2.793642</td>\n",
        "      <td> 49.330000</td>\n",
        "    </tr>\n",
        "    <tr>\n",
        "      <th>47 </th>\n",
        "      <td>   419</td>\n",
        "      <td>  2.380915</td>\n",
        "      <td> 43.792500</td>\n",
        "    </tr>\n",
        "    <tr>\n",
        "      <th>48 </th>\n",
        "      <td>  1235</td>\n",
        "      <td>  2.168069</td>\n",
        "      <td> 59.670000</td>\n",
        "    </tr>\n",
        "    <tr>\n",
        "      <th>49 </th>\n",
        "      <td>   606</td>\n",
        "      <td>  6.703930</td>\n",
        "      <td> 44.000000</td>\n",
        "    </tr>\n",
        "    <tr>\n",
        "      <th>50 </th>\n",
        "      <td>  2611</td>\n",
        "      <td>  1.834893</td>\n",
        "      <td> 28.000000</td>\n",
        "    </tr>\n",
        "    <tr>\n",
        "      <th>51 </th>\n",
        "      <td>   326</td>\n",
        "      <td>  1.548741</td>\n",
        "      <td> 67.560000</td>\n",
        "    </tr>\n",
        "    <tr>\n",
        "      <th>52 </th>\n",
        "      <td>   163</td>\n",
        "      <td>  1.366344</td>\n",
        "      <td> 50.330000</td>\n",
        "    </tr>\n",
        "    <tr>\n",
        "      <th>53 </th>\n",
        "      <td>   932</td>\n",
        "      <td>  0.947978</td>\n",
        "      <td> 21.582500</td>\n",
        "    </tr>\n",
        "    <tr>\n",
        "      <th>57 </th>\n",
        "      <td>    97</td>\n",
        "      <td> 10.609550</td>\n",
        "      <td> 18.000000</td>\n",
        "    </tr>\n",
        "    <tr>\n",
        "      <th>58 </th>\n",
        "      <td>   367</td>\n",
        "      <td> 10.125075</td>\n",
        "      <td> 54.000000</td>\n",
        "    </tr>\n",
        "    <tr>\n",
        "      <th>61 </th>\n",
        "      <td>    48</td>\n",
        "      <td>  9.794328</td>\n",
        "      <td> 30.148889</td>\n",
        "    </tr>\n",
        "    <tr>\n",
        "      <th>...</th>\n",
        "      <td>...</td>\n",
        "      <td>...</td>\n",
        "      <td>...</td>\n",
        "    </tr>\n",
        "    <tr>\n",
        "      <th>537</th>\n",
        "      <td>  2022</td>\n",
        "      <td>  8.772512</td>\n",
        "      <td> 33.000000</td>\n",
        "    </tr>\n",
        "    <tr>\n",
        "      <th>538</th>\n",
        "      <td>  2963</td>\n",
        "      <td>  8.124275</td>\n",
        "      <td> 52.670000</td>\n",
        "    </tr>\n",
        "    <tr>\n",
        "      <th>539</th>\n",
        "      <td>  3989</td>\n",
        "      <td>  8.959295</td>\n",
        "      <td> 46.000000</td>\n",
        "    </tr>\n",
        "    <tr>\n",
        "      <th>540</th>\n",
        "      <td>  1755</td>\n",
        "      <td>  8.325613</td>\n",
        "      <td> 24.670000</td>\n",
        "    </tr>\n",
        "    <tr>\n",
        "      <th>541</th>\n",
        "      <td>  3624</td>\n",
        "      <td>  9.186019</td>\n",
        "      <td> 52.446667</td>\n",
        "    </tr>\n",
        "    <tr>\n",
        "      <th>545</th>\n",
        "      <td>   843</td>\n",
        "      <td>  3.085442</td>\n",
        "      <td> 54.220000</td>\n",
        "    </tr>\n",
        "    <tr>\n",
        "      <th>546</th>\n",
        "      <td>  4739</td>\n",
        "      <td> 11.284354</td>\n",
        "      <td> 53.178333</td>\n",
        "    </tr>\n",
        "    <tr>\n",
        "      <th>549</th>\n",
        "      <td>   861</td>\n",
        "      <td>  2.414242</td>\n",
        "      <td> 35.330000</td>\n",
        "    </tr>\n",
        "    <tr>\n",
        "      <th>550</th>\n",
        "      <td>  4797</td>\n",
        "      <td>  3.771352</td>\n",
        "      <td> 44.830000</td>\n",
        "    </tr>\n",
        "    <tr>\n",
        "      <th>551</th>\n",
        "      <td>   698</td>\n",
        "      <td>  3.102256</td>\n",
        "      <td> 46.330000</td>\n",
        "    </tr>\n",
        "    <tr>\n",
        "      <th>552</th>\n",
        "      <td>  2538</td>\n",
        "      <td>  3.889618</td>\n",
        "      <td> 33.670000</td>\n",
        "    </tr>\n",
        "    <tr>\n",
        "      <th>554</th>\n",
        "      <td>  1753</td>\n",
        "      <td> 10.494693</td>\n",
        "      <td> 69.330000</td>\n",
        "    </tr>\n",
        "    <tr>\n",
        "      <th>555</th>\n",
        "      <td>  2860</td>\n",
        "      <td> 10.618505</td>\n",
        "      <td> 45.330000</td>\n",
        "    </tr>\n",
        "    <tr>\n",
        "      <th>558</th>\n",
        "      <td>  6367</td>\n",
        "      <td> 10.057821</td>\n",
        "      <td> 54.003333</td>\n",
        "    </tr>\n",
        "    <tr>\n",
        "      <th>559</th>\n",
        "      <td>  1859</td>\n",
        "      <td>  5.785042</td>\n",
        "      <td> 49.470000</td>\n",
        "    </tr>\n",
        "    <tr>\n",
        "      <th>560</th>\n",
        "      <td>  1470</td>\n",
        "      <td>  5.862827</td>\n",
        "      <td> 24.170000</td>\n",
        "    </tr>\n",
        "    <tr>\n",
        "      <th>561</th>\n",
        "      <td>  1512</td>\n",
        "      <td>  5.362695</td>\n",
        "      <td> 34.330000</td>\n",
        "    </tr>\n",
        "    <tr>\n",
        "      <th>563</th>\n",
        "      <td>  4122</td>\n",
        "      <td>  5.113165</td>\n",
        "      <td> 52.330000</td>\n",
        "    </tr>\n",
        "    <tr>\n",
        "      <th>564</th>\n",
        "      <td>  6441</td>\n",
        "      <td>  5.201008</td>\n",
        "      <td> 26.170000</td>\n",
        "    </tr>\n",
        "    <tr>\n",
        "      <th>565</th>\n",
        "      <td>   353</td>\n",
        "      <td>  2.435694</td>\n",
        "      <td> 62.170000</td>\n",
        "    </tr>\n",
        "    <tr>\n",
        "      <th>566</th>\n",
        "      <td>   476</td>\n",
        "      <td>  1.774525</td>\n",
        "      <td> 40.556667</td>\n",
        "    </tr>\n",
        "    <tr>\n",
        "      <th>570</th>\n",
        "      <td>  1206</td>\n",
        "      <td> 11.208417</td>\n",
        "      <td> 52.723333</td>\n",
        "    </tr>\n",
        "    <tr>\n",
        "      <th>571</th>\n",
        "      <td> 13214</td>\n",
        "      <td>  7.193080</td>\n",
        "      <td> 38.670000</td>\n",
        "    </tr>\n",
        "    <tr>\n",
        "      <th>573</th>\n",
        "      <td>  2504</td>\n",
        "      <td>  6.527075</td>\n",
        "      <td> 31.042500</td>\n",
        "    </tr>\n",
        "    <tr>\n",
        "      <th>574</th>\n",
        "      <td>  1105</td>\n",
        "      <td>  6.212147</td>\n",
        "      <td> 46.080000</td>\n",
        "    </tr>\n",
        "    <tr>\n",
        "      <th>579</th>\n",
        "      <td>  3703</td>\n",
        "      <td> 11.539439</td>\n",
        "      <td> 61.170000</td>\n",
        "    </tr>\n",
        "    <tr>\n",
        "      <th>580</th>\n",
        "      <td>  2492</td>\n",
        "      <td> 11.716340</td>\n",
        "      <td> 46.353333</td>\n",
        "    </tr>\n",
        "    <tr>\n",
        "      <th>581</th>\n",
        "      <td>    60</td>\n",
        "      <td>  6.656631</td>\n",
        "      <td> 34.330000</td>\n",
        "    </tr>\n",
        "    <tr>\n",
        "      <th>582</th>\n",
        "      <td>   531</td>\n",
        "      <td>  6.006726</td>\n",
        "      <td> 37.000000</td>\n",
        "    </tr>\n",
        "    <tr>\n",
        "      <th>583</th>\n",
        "      <td>    15</td>\n",
        "      <td>  6.842568</td>\n",
        "      <td> 72.000000</td>\n",
        "    </tr>\n",
        "  </tbody>\n",
        "</table>\n",
        "<p>267 rows \u00d7 3 columns</p>\n",
        "</div>"
       ],
       "metadata": {},
       "output_type": "pyout",
       "prompt_number": 160,
       "text": [
        "     gNARCper  gSqDistFromCBD  gSchScore\n",
        "9        1947       12.703482  19.000000\n",
        "18        386       10.610174  47.330000\n",
        "21        722       10.385947  19.670000\n",
        "26        843        5.541003  31.000000\n",
        "27        775        4.649998  15.330000\n",
        "28        615        5.019247  45.330000\n",
        "29        638        4.112735  55.670000\n",
        "30        262        4.526030  56.830000\n",
        "31        342        3.606756  59.670000\n",
        "32        171        4.071737  58.542500\n",
        "33         91        3.147185  59.000000\n",
        "34         68       11.235881  73.670000\n",
        "35        386        8.383434  47.667500\n",
        "37       1169        7.214173  34.000000\n",
        "39        420        6.441480  45.170000\n",
        "42      31637        4.785013  59.670000\n",
        "43      29865        4.169708  52.145000\n",
        "44      20330        3.560698  44.470000\n",
        "45        885        2.961869  43.170000\n",
        "46       5012        2.793642  49.330000\n",
        "47        419        2.380915  43.792500\n",
        "48       1235        2.168069  59.670000\n",
        "49        606        6.703930  44.000000\n",
        "50       2611        1.834893  28.000000\n",
        "51        326        1.548741  67.560000\n",
        "52        163        1.366344  50.330000\n",
        "53        932        0.947978  21.582500\n",
        "57         97       10.609550  18.000000\n",
        "58        367       10.125075  54.000000\n",
        "61         48        9.794328  30.148889\n",
        "..        ...             ...        ...\n",
        "537      2022        8.772512  33.000000\n",
        "538      2963        8.124275  52.670000\n",
        "539      3989        8.959295  46.000000\n",
        "540      1755        8.325613  24.670000\n",
        "541      3624        9.186019  52.446667\n",
        "545       843        3.085442  54.220000\n",
        "546      4739       11.284354  53.178333\n",
        "549       861        2.414242  35.330000\n",
        "550      4797        3.771352  44.830000\n",
        "551       698        3.102256  46.330000\n",
        "552      2538        3.889618  33.670000\n",
        "554      1753       10.494693  69.330000\n",
        "555      2860       10.618505  45.330000\n",
        "558      6367       10.057821  54.003333\n",
        "559      1859        5.785042  49.470000\n",
        "560      1470        5.862827  24.170000\n",
        "561      1512        5.362695  34.330000\n",
        "563      4122        5.113165  52.330000\n",
        "564      6441        5.201008  26.170000\n",
        "565       353        2.435694  62.170000\n",
        "566       476        1.774525  40.556667\n",
        "570      1206       11.208417  52.723333\n",
        "571     13214        7.193080  38.670000\n",
        "573      2504        6.527075  31.042500\n",
        "574      1105        6.212147  46.080000\n",
        "579      3703       11.539439  61.170000\n",
        "580      2492       11.716340  46.353333\n",
        "581        60        6.656631  34.330000\n",
        "582       531        6.006726  37.000000\n",
        "583        15        6.842568  72.000000\n",
        "\n",
        "[267 rows x 3 columns]"
       ]
      }
     ],
     "prompt_number": 160
    },
    {
     "cell_type": "code",
     "collapsed": false,
     "input": [
      "from sklearn import linear_model\n",
      "import statsmodels.formula.api as sm\n",
      "from sklearn.metrics import mean_squared_error\n",
      "from math import sqrt\n",
      "\n",
      "class linRegOutput(object):\n",
      "    def __init__(self, X_all, y_all, regInds):\n",
      "        self.X = X_all.ix[:,unique(regInds)]\n",
      "        self.y = y_all\n",
      "        \n",
      "        self.parmLabels = {'medInc2010':'$Inc', \n",
      "                          'walkScore':'% walkability',\n",
      "                          'tranScore':'% transit access',\n",
      "                          'bikeScore':'% bikability',\n",
      "                          'popDen2010':'person per sqmi',\n",
      "                          'HOM_TA2010_per':'homicides per 100,000 ppl',\n",
      "                          'BAT_TA2010_per':'batteries per 100,000 ppl',\n",
      "                          'BUR_TA2010_per':'burgleries per 100,000 ppl',\n",
      "                          'ROB_TA2010_per':'robberies per 100,000 ppl',\n",
      "                          'NAR_TA2010_per':'narcotics crimes per 100,000 ppl',\n",
      "                          'HOM_TA2010':'homicide',\n",
      "                          'BAT_TA2010':'battery',\n",
      "                          'BUR_TA2010':'burglery',\n",
      "                          'ROB_TA2010':'robbery',\n",
      "                          'NAR_TA2010':'narcotics crime',\n",
      "                          'intercept':''}\n",
      "\n",
      "    def fitSKlearn(self):\n",
      "        self.clf = linear_model.LinearRegression(fit_intercept = True)\n",
      "        self.clf.fit(self.X,self.y)\n",
      "        \n",
      "        self.paramsLi = [coef for coef in self.clf.coef_]\n",
      "        \n",
      "    def fitStatsModels(self):\n",
      "        X = self.X.copy()\n",
      "        X['intercept'] = np.ones(( len(self.X), )) # creates const data for intercept\n",
      "        self.X_const = X\n",
      "        self.clf2 = sm.OLS(self.y, self.X_const)\n",
      "        self.result = self.clf2.fit()\n",
      "        \n",
      "        \n",
      "        self.paramsLi = [self.result.params[k] for k in range(len(self.result.params))]\n",
      "        self.CIs = self.result.conf_int()\n",
      "        \n",
      "        \n",
      "    def printCoefs(self):\n",
      "        for idx, coef in enumerate(self.paramsLi):\n",
      "            try:\n",
      "                print self.X_const.columns[idx] + ': $' + str(round(coef,2)) + ' per ' + self.parmLabels[self.X.columns[idx]]\n",
      "            except:\n",
      "                print self.X_const.columns[idx] + ': $' + str(round(coef,2)) + ' '\n",
      "        if 'intercept' not in self.X_const.columns:\n",
      "            print 'intercept: $' + str(round(self.clf.intercept_))\n",
      "\n",
      "    \n",
      "    def get_df_summary(self):\n",
      "        coefsRet = pd.DataFrame(self.paramsLi, columns = ['Coefs'])\n",
      "        coefsRet['CI low'] = np.array(self.CIs[0])\n",
      "        coefsRet['CI high'] = np.array(self.CIs[1])\n",
      "        units = []\n",
      "        for k in range(len(coefsRet)):\n",
      "            if k < len(coefsRet)-1:\n",
      "                units.append('$ / ['+self.parmLabels[self.X.columns[k]]+']')\n",
      "            else:\n",
      "                units.append('$')\n",
      "        coefsRet['units'] = units\n",
      "        return coefsRet\n",
      "        \n",
      "    def plotScats(self):\n",
      "        for col in self.X:\n",
      "            plt.figure()\n",
      "            plt.plot(self.X[col], self.y, '.')\n",
      "            plt.xlabel(col)\n",
      "            plt.ylabel('Home Price ($)')\n",
      "            \n",
      "    def get_score(self):\n",
      "        try:\n",
      "            return self.result.rsquared_adj\n",
      "        except:\n",
      "            return nan   "
     ],
     "language": "python",
     "metadata": {},
     "outputs": [],
     "prompt_number": 44
    },
    {
     "cell_type": "code",
     "collapsed": false,
     "input": [
      "regInds = [2,10,4]\n",
      "X_all.columns[regInds]"
     ],
     "language": "python",
     "metadata": {},
     "outputs": [
      {
       "metadata": {},
       "output_type": "pyout",
       "prompt_number": 45,
       "text": [
        "Index([u'tranScore', u'HOM_TA2010_per', u'popDen2010'], dtype='object')"
       ]
      }
     ],
     "prompt_number": 45
    },
    {
     "cell_type": "code",
     "collapsed": false,
     "input": [
      "scores = []\n",
      "model1 = linRegOutput(X_all,y_all,regInds) # can run X.columns[regInds] to see parameters regressing over\n",
      "model1.fitStatsModels()\n",
      "model1Sum = model1.get_df_summary()\n",
      "scores.append(model1.get_score())\n",
      "print 'adjusted Rsq = '+ str(scores)\n",
      "model1Sum\n",
      "#model1.plotScats()\n",
      "#scores.append(model1.get_score())\n",
      "#scores"
     ],
     "language": "python",
     "metadata": {},
     "outputs": [
      {
       "output_type": "stream",
       "stream": "stdout",
       "text": [
        "adjusted Rsq = [0.56015956545241474]\n"
       ]
      },
      {
       "html": [
        "<div style=\"max-height:1000px;max-width:1500px;overflow:auto;\">\n",
        "<table border=\"1\" class=\"dataframe\">\n",
        "  <thead>\n",
        "    <tr style=\"text-align: right;\">\n",
        "      <th></th>\n",
        "      <th>Coefs</th>\n",
        "      <th>CI low</th>\n",
        "      <th>CI high</th>\n",
        "      <th>units</th>\n",
        "    </tr>\n",
        "  </thead>\n",
        "  <tbody>\n",
        "    <tr>\n",
        "      <th>0</th>\n",
        "      <td>   2633.464133</td>\n",
        "      <td>  1637.465658</td>\n",
        "      <td>   3629.462608</td>\n",
        "      <td>          $ / [% transit access]</td>\n",
        "    </tr>\n",
        "    <tr>\n",
        "      <th>1</th>\n",
        "      <td>     -0.385321</td>\n",
        "      <td>    -3.336910</td>\n",
        "      <td>      2.566268</td>\n",
        "      <td>           $ / [person per sqmi]</td>\n",
        "    </tr>\n",
        "    <tr>\n",
        "      <th>2</th>\n",
        "      <td>  -2163.355434</td>\n",
        "      <td> -3752.854485</td>\n",
        "      <td>   -573.856383</td>\n",
        "      <td> $ / [homicides per 100,000 ppl]</td>\n",
        "    </tr>\n",
        "    <tr>\n",
        "      <th>3</th>\n",
        "      <td> 109324.519552</td>\n",
        "      <td> 55720.902875</td>\n",
        "      <td> 162928.136230</td>\n",
        "      <td>                               $</td>\n",
        "    </tr>\n",
        "  </tbody>\n",
        "</table>\n",
        "</div>"
       ],
       "metadata": {},
       "output_type": "pyout",
       "prompt_number": 46,
       "text": [
        "           Coefs        CI low        CI high                            units\n",
        "0    2633.464133   1637.465658    3629.462608           $ / [% transit access]\n",
        "1      -0.385321     -3.336910       2.566268            $ / [person per sqmi]\n",
        "2   -2163.355434  -3752.854485    -573.856383  $ / [homicides per 100,000 ppl]\n",
        "3  109324.519552  55720.902875  162928.136230                                $"
       ]
      }
     ],
     "prompt_number": 46
    },
    {
     "cell_type": "code",
     "collapsed": false,
     "input": [
      "model1.plotScats()"
     ],
     "language": "python",
     "metadata": {},
     "outputs": [
      {
       "metadata": {},
       "output_type": "display_data",
       "png": "[encoded data removed]",
       "text": [
        "<matplotlib.figure.Figure at 0x7fc62aeac090>"
       ]
      },
      {
       "metadata": {},
       "output_type": "display_data",
       "png": "[encoded data removed]",
       "text": [
        "<matplotlib.figure.Figure at 0x7fc62ac06ed0>"
       ]
      },
      {
       "metadata": {},
       "output_type": "display_data",
       "png": "[encoded data removed]",
       "text": [
        "<matplotlib.figure.Figure at 0x7fc62ab946d0>"
       ]
      }
     ],
     "prompt_number": 47
    },
    {
     "cell_type": "markdown",
     "metadata": {},
     "source": [
      "Based on these plots, I'm disagree that housing price should decrease with increasing population density.\n",
      "\n",
      "## Maybe people only care about the absolute number of homocides, regardless of the community population\n",
      "\n",
      "I'll try this below now (but more likely, I will regress over even few parameters)"
     ]
    },
    {
     "cell_type": "code",
     "collapsed": false,
     "input": [
      "regInds = [2,5,4]\n",
      "X_all.columns[regInds]\n",
      "absHomiMdl = linRegOutput(X_all,y_all,regInds) # can run X.columns[regInds] to see parameters regressing over\n",
      "absHomiMdl.fitStatsModels()\n",
      "absHomiMdlSum = absHomiMdl.get_df_summary()\n",
      "scores.append(absHomiMdl.get_score())\n",
      "absHomiMdlSum"
     ],
     "language": "python",
     "metadata": {},
     "outputs": [
      {
       "html": [
        "<div style=\"max-height:1000px;max-width:1500px;overflow:auto;\">\n",
        "<table border=\"1\" class=\"dataframe\">\n",
        "  <thead>\n",
        "    <tr style=\"text-align: right;\">\n",
        "      <th></th>\n",
        "      <th>Coefs</th>\n",
        "      <th>CI low</th>\n",
        "      <th>CI high</th>\n",
        "      <th>units</th>\n",
        "    </tr>\n",
        "  </thead>\n",
        "  <tbody>\n",
        "    <tr>\n",
        "      <th>0</th>\n",
        "      <td>  2480.193868</td>\n",
        "      <td>  1409.497056</td>\n",
        "      <td>   3550.890681</td>\n",
        "      <td> $ / [% transit access]</td>\n",
        "    </tr>\n",
        "    <tr>\n",
        "      <th>1</th>\n",
        "      <td>     0.809325</td>\n",
        "      <td>    -2.230127</td>\n",
        "      <td>      3.848778</td>\n",
        "      <td>  $ / [person per sqmi]</td>\n",
        "    </tr>\n",
        "    <tr>\n",
        "      <th>2</th>\n",
        "      <td> -2456.057364</td>\n",
        "      <td> -6404.005244</td>\n",
        "      <td>   1491.890515</td>\n",
        "      <td>         $ / [homicide]</td>\n",
        "    </tr>\n",
        "    <tr>\n",
        "      <th>3</th>\n",
        "      <td> 83622.819182</td>\n",
        "      <td> 30503.257448</td>\n",
        "      <td> 136742.380916</td>\n",
        "      <td>                      $</td>\n",
        "    </tr>\n",
        "  </tbody>\n",
        "</table>\n",
        "</div>"
       ],
       "metadata": {},
       "output_type": "pyout",
       "prompt_number": 48,
       "text": [
        "          Coefs        CI low        CI high                   units\n",
        "0   2480.193868   1409.497056    3550.890681  $ / [% transit access]\n",
        "1      0.809325     -2.230127       3.848778   $ / [person per sqmi]\n",
        "2  -2456.057364  -6404.005244    1491.890515          $ / [homicide]\n",
        "3  83622.819182  30503.257448  136742.380916                       $"
       ]
      }
     ],
     "prompt_number": 48
    },
    {
     "cell_type": "code",
     "collapsed": false,
     "input": [
      "model1Sum"
     ],
     "language": "python",
     "metadata": {},
     "outputs": [
      {
       "html": [
        "<div style=\"max-height:1000px;max-width:1500px;overflow:auto;\">\n",
        "<table border=\"1\" class=\"dataframe\">\n",
        "  <thead>\n",
        "    <tr style=\"text-align: right;\">\n",
        "      <th></th>\n",
        "      <th>Coefs</th>\n",
        "      <th>CI low</th>\n",
        "      <th>CI high</th>\n",
        "      <th>units</th>\n",
        "    </tr>\n",
        "  </thead>\n",
        "  <tbody>\n",
        "    <tr>\n",
        "      <th>0</th>\n",
        "      <td>   2633.464133</td>\n",
        "      <td>  1637.465658</td>\n",
        "      <td>   3629.462608</td>\n",
        "      <td>          $ / [% transit access]</td>\n",
        "    </tr>\n",
        "    <tr>\n",
        "      <th>1</th>\n",
        "      <td>     -0.385321</td>\n",
        "      <td>    -3.336910</td>\n",
        "      <td>      2.566268</td>\n",
        "      <td>           $ / [person per sqmi]</td>\n",
        "    </tr>\n",
        "    <tr>\n",
        "      <th>2</th>\n",
        "      <td>  -2163.355434</td>\n",
        "      <td> -3752.854485</td>\n",
        "      <td>   -573.856383</td>\n",
        "      <td> $ / [homicides per 100,000 ppl]</td>\n",
        "    </tr>\n",
        "    <tr>\n",
        "      <th>3</th>\n",
        "      <td> 109324.519552</td>\n",
        "      <td> 55720.902875</td>\n",
        "      <td> 162928.136230</td>\n",
        "      <td>                               $</td>\n",
        "    </tr>\n",
        "  </tbody>\n",
        "</table>\n",
        "</div>"
       ],
       "metadata": {},
       "output_type": "pyout",
       "prompt_number": 49,
       "text": [
        "           Coefs        CI low        CI high                            units\n",
        "0    2633.464133   1637.465658    3629.462608           $ / [% transit access]\n",
        "1      -0.385321     -3.336910       2.566268            $ / [person per sqmi]\n",
        "2   -2163.355434  -3752.854485    -573.856383  $ / [homicides per 100,000 ppl]\n",
        "3  109324.519552  55720.902875  162928.136230                                $"
       ]
      }
     ],
     "prompt_number": 49
    },
    {
     "cell_type": "code",
     "collapsed": false,
     "input": [
      "plt.bar(np.arange(0.5,len(scores)-0.4),scores, width=0.5)\n",
      "plt.ylim([0,1])\n",
      "plt.xticks(np.arange(0.5,len(scores)-0.4),range(0,len(scores)))\n",
      "plt.xlabel('model #')\n",
      "plt.ylabel('adj R squared')"
     ],
     "language": "python",
     "metadata": {},
     "outputs": [
      {
       "metadata": {},
       "output_type": "pyout",
       "prompt_number": 50,
       "text": [
        "<matplotlib.text.Text at 0x7fc62aa46fd0>"
       ]
      },
      {
       "metadata": {},
       "output_type": "display_data",
       "png": "[encoded data removed]",
       "text": [
        "<matplotlib.figure.Figure at 0x7fc62aaff5d0>"
       ]
      }
     ],
     "prompt_number": 50
    },
    {
     "cell_type": "code",
     "collapsed": false,
     "input": [
      "absHomiMdl.plotScats()"
     ],
     "language": "python",
     "metadata": {},
     "outputs": [
      {
       "metadata": {},
       "output_type": "display_data",
       "png": "[encoded data removed]",
       "text": [
        "<matplotlib.figure.Figure at 0x7fc62aef6050>"
       ]
      },
      {
       "metadata": {},
       "output_type": "display_data",
       "png": "[encoded data removed]",
       "text": [
        "<matplotlib.figure.Figure at 0x7fc62aad2b50>"
       ]
      },
      {
       "metadata": {},
       "output_type": "display_data",
       "png": "[encoded data removed]",
       "text": [
        "<matplotlib.figure.Figure at 0x7fc62aba7f50>"
       ]
      }
     ],
     "prompt_number": 51
    },
    {
     "cell_type": "markdown",
     "metadata": {},
     "source": [
      "## Let's look at Burglery Rate and call it a day"
     ]
    },
    {
     "cell_type": "code",
     "collapsed": false,
     "input": [
      "regInds = [2,12,4]\n",
      "X_all.columns[regInds]\n",
      "burgRateMdl = linRegOutput(X_all,y_all,regInds) # can run X.columns[regInds] to see parameters regressing over\n",
      "burgRateMdl.fitStatsModels()\n",
      "burgRateMdlSum = burgRateMdl.get_df_summary()\n",
      "scores.append(burgRateMdl.get_score())\n",
      "burgRateMdlSum"
     ],
     "language": "python",
     "metadata": {},
     "outputs": [
      {
       "html": [
        "<div style=\"max-height:1000px;max-width:1500px;overflow:auto;\">\n",
        "<table border=\"1\" class=\"dataframe\">\n",
        "  <thead>\n",
        "    <tr style=\"text-align: right;\">\n",
        "      <th></th>\n",
        "      <th>Coefs</th>\n",
        "      <th>CI low</th>\n",
        "      <th>CI high</th>\n",
        "      <th>units</th>\n",
        "    </tr>\n",
        "  </thead>\n",
        "  <tbody>\n",
        "    <tr>\n",
        "      <th>0</th>\n",
        "      <td>   2526.043805</td>\n",
        "      <td>  1517.743074</td>\n",
        "      <td>   3534.344536</td>\n",
        "      <td>           $ / [% transit access]</td>\n",
        "    </tr>\n",
        "    <tr>\n",
        "      <th>1</th>\n",
        "      <td>      0.427348</td>\n",
        "      <td>    -2.458413</td>\n",
        "      <td>      3.313109</td>\n",
        "      <td>            $ / [person per sqmi]</td>\n",
        "    </tr>\n",
        "    <tr>\n",
        "      <th>2</th>\n",
        "      <td>    -44.871265</td>\n",
        "      <td>   -82.164277</td>\n",
        "      <td>     -7.578254</td>\n",
        "      <td> $ / [burgleries per 100,000 ppl]</td>\n",
        "    </tr>\n",
        "    <tr>\n",
        "      <th>3</th>\n",
        "      <td> 111461.311942</td>\n",
        "      <td> 54432.225069</td>\n",
        "      <td> 168490.398815</td>\n",
        "      <td>                                $</td>\n",
        "    </tr>\n",
        "  </tbody>\n",
        "</table>\n",
        "</div>"
       ],
       "metadata": {},
       "output_type": "pyout",
       "prompt_number": 52,
       "text": [
        "           Coefs        CI low        CI high  \\\n",
        "0    2526.043805   1517.743074    3534.344536   \n",
        "1       0.427348     -2.458413       3.313109   \n",
        "2     -44.871265    -82.164277      -7.578254   \n",
        "3  111461.311942  54432.225069  168490.398815   \n",
        "\n",
        "                              units  \n",
        "0            $ / [% transit access]  \n",
        "1             $ / [person per sqmi]  \n",
        "2  $ / [burgleries per 100,000 ppl]  \n",
        "3                                 $  "
       ]
      }
     ],
     "prompt_number": 52
    },
    {
     "cell_type": "code",
     "collapsed": false,
     "input": [
      "burgRateMdl.plotScats()"
     ],
     "language": "python",
     "metadata": {},
     "outputs": [
      {
       "metadata": {},
       "output_type": "display_data",
       "png": "[encoded data removed]",
       "text": [
        "<matplotlib.figure.Figure at 0x7fc62aee9950>"
       ]
      },
      {
       "metadata": {},
       "output_type": "display_data",
       "png": "[encoded data removed]",
       "text": [
        "<matplotlib.figure.Figure at 0x7fc62aba04d0>"
       ]
      },
      {
       "metadata": {},
       "output_type": "display_data",
       "png": "[encoded data removed]",
       "text": [
        "<matplotlib.figure.Figure at 0x7fc62aad2a10>"
       ]
      }
     ],
     "prompt_number": 53
    },
    {
     "cell_type": "markdown",
     "metadata": {},
     "source": [
      "* If neib population = 100,000, let burglery rate be, $b_{rate} = N_{burg}$/pop\n",
      "* If one loses \\$1000 per incident, then one's expectated yearly loss is $ \\$ 1000 \\cdot b_{rate} \\sim \\$ 0.50$/year $ \\ll \\$ 45$/year"
     ]
    },
    {
     "cell_type": "markdown",
     "metadata": {},
     "source": [
      "## Ignore Everything Below"
     ]
    },
    {
     "cell_type": "code",
     "collapsed": false,
     "input": [
      "\n",
      "\n",
      "# simple fitting min viable products (no grid search yet)\n",
      "\n",
      "def get_crimeRate_BASICdec(df, targetCol, **kwargs):\n",
      "    #minDP = kwargs['minDP'] if 'minDP' in kwargs else 20\n",
      "    \n",
      "    X = df.drop([targetCol],axis=1) # removes target col from df\n",
      "    y = df[targetCol] # pandas Series of targetCol data\n",
      "    \n",
      "    # Cross Neibourhood linear regression (basic)\n",
      "    cfl = linear_model.LinearRegression()\n",
      "    \n",
      "\n",
      "    cv =cross_validation.ShuffleSplit(len(y), n_iter=20, test_size=0.5) # splits datasets 20 ways, randomly? (bootstrap?)\n",
      "    def compute_error(clf, X, y):\n",
      "        return -cross_validation.cross_val_score(clf, X, y, cv=cv, scoring='mean_squared_error').mean()\n",
      "    def abs_corr(x, y):\n",
      "        return np.abs(stats.pearsonr(x, y)[0])\n",
      "    \n",
      "    model_performance = pd.DataFrame([\n",
      "        (\"Mean Model\", y.var()),\n",
      "        (\"Original Features, Pearson > .6\", compute_error(clf, X[[col for col in X.columns if abs_corr(X[col], y) > .6]], y)),\n",
      "        (\"Original Features, Pearson > .4\", compute_error(clf, X[[col for col in X.columns if abs_corr(X[col], y) > .4]], y)),], columns=[\"Model\", \"MSE\"])\n",
      "    model_performance.set_index(\"Model\")\n",
      "    model_performance.plot(x=\"Model\", y=\"MSE\", kind=\"Bar\")\n",
      "    \n",
      "    cfl.fit(X.drop)\n",
      "\n",
      "get_crime_rate_dec(df_noString, 'Pr2010')"
     ],
     "language": "python",
     "metadata": {},
     "outputs": [
      {
       "metadata": {},
       "output_type": "display_data",
       "png": "[encoded data removed]",
       "text": [
        "<matplotlib.figure.Figure at 0x7fd5182c6190>"
       ]
      }
     ],
     "prompt_number": 77
    },
    {
     "cell_type": "code",
     "collapsed": false,
     "input": [],
     "language": "python",
     "metadata": {},
     "outputs": []
    }
   ],
   "metadata": {}
  }
 ]
}