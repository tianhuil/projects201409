{
 "metadata": {
  "name": "",
  "signature": "sha256:2a04ae50bdb2526a4f95d15c7555bb845fbb5a9b8a8744fc8990d50d72bb7431"
 },
 "nbformat": 3,
 "nbformat_minor": 0,
 "worksheets": [
  {
   "cells": [
    {
     "cell_type": "code",
     "collapsed": false,
     "input": [
      "import pandas as pd\n",
      "import numpy as np\n",
      "import datetime as dt\n",
      "import matplotlib.pylab as plt\n",
      "import sys\n",
      "\n",
      "print (sys.version)"
     ],
     "language": "python",
     "metadata": {},
     "outputs": [
      {
       "output_type": "stream",
       "stream": "stdout",
       "text": [
        "2.7.7 |Anaconda 2.0.1 (64-bit)| (default, Jun  2 2014, 12:34:02) \n",
        "[GCC 4.1.2 20080704 (Red Hat 4.1.2-54)]\n"
       ]
      }
     ],
     "prompt_number": 2
    },
    {
     "cell_type": "code",
     "collapsed": false,
     "input": [
      "from sklearn import datasets\n",
      "from sklearn import linear_model\n",
      "from sklearn import utils\n",
      "from sklearn import cross_validation\n",
      "from scipy import stats # for Pearson correlations"
     ],
     "language": "python",
     "metadata": {},
     "outputs": [],
     "prompt_number": 3
    },
    {
     "cell_type": "markdown",
     "metadata": {},
     "source": [
      "## Transforming Data to Better Tell a Story ##"
     ]
    },
    {
     "cell_type": "code",
     "collapsed": false,
     "input": [
      "# Load df\n",
      "df = pd.read_csv('../data/gDataOut2.csv')\n",
      "\n",
      "# *** Convert Numbers to make them more interpretable:***\n",
      "\n",
      "# scale walkscore.com scores: All scored represent perentage score wrt rest of city\n",
      "def rescaleWalkScore(s):\n",
      "    return 100*(s-min(s))/(max(s)-min(s))\n",
      "\n",
      "df.walkScore = rescaleWalkScore(df.walkScore)\n",
      "df.tranScore = rescaleWalkScore(df.tranScore)\n",
      "df.bikeScore = rescaleWalkScore(df.bikeScore)\n",
      "\n",
      "# Remove data points without prices\n",
      "df = df[df.gPrice!=0]\n",
      "\n",
      "# ****** THIS IS A HACK that needs to be changed if the gridsize changes *******\n",
      "for idx in df.index:\n",
      "    if df.gSchScore[idx] == 0:\n",
      "        gNeibs = []\n",
      "        if idx-1 in df.index:\n",
      "            gNeibs.append(df.gSchScore[idx-1])\n",
      "        if idx+1 in df.index:\n",
      "            gNeibs.append(df.gSchScore[idx+1])\n",
      "        if idx-40 in df.index:\n",
      "            gNeibs.append(df.gSchScore[idx-40])\n",
      "        if idx+40 in df.index:\n",
      "            gNeibs.append(df.gSchScore[idx+40])\n",
      "        if len(gNeibs) > 2:\n",
      "            df.gSchScore[idx] = mean(gNeibs)\n",
      "\n",
      "# Remove remaining data points without school scores\n",
      "df = df[df.gSchScore != 0]"
     ],
     "language": "python",
     "metadata": {},
     "outputs": [],
     "prompt_number": 4
    },
    {
     "cell_type": "code",
     "collapsed": false,
     "input": [
      "df = df.set_index('gNum')"
     ],
     "language": "python",
     "metadata": {},
     "outputs": [],
     "prompt_number": 5
    },
    {
     "cell_type": "markdown",
     "metadata": {},
     "source": [
      "## First: Cross correlation between parameters\n",
      "1. Plotting absolute values of the cross correlation matrix below\n",
      "1. Choose parameters with low absolute cross correlation"
     ]
    },
    {
     "cell_type": "code",
     "collapsed": false,
     "input": [
      "colsForX_all = ['gAllCrimePer','gHOMIper','gBURGper','gNARCper','gPopDen',\n",
      "                'walkScore','tranScore','bikeScore','gSchScore','gSqDistFromCBD']\n",
      "X_all = df.ix[:,colsForX_all]\n",
      "y_all = df.gPrice # Note that there are some NAN\n",
      "\n",
      "\n",
      "# drop any rows with NANs (n=37 instead of 38) (drop at same time)\n",
      "X_all, y_all = X_all.drop(pd.isnull(X_all).any(1).nonzero()[0]), y_all.drop(pd.isnull(X_all).any(1).nonzero()[0])\n",
      "\n",
      "plt.pcolor(X_all.corr().abs())\n",
      "plt.colorbar()\n",
      "plt.yticks(arange(0.5,len(X_all.corr().columns)+0.5),X_all.corr().columns)\n",
      "plt.xticks(arange(0.5,len(X_all.corr().columns)+0.5),range(0,len(X_all.corr().columns)))"
     ],
     "language": "python",
     "metadata": {},
     "outputs": [
      {
       "metadata": {},
       "output_type": "pyout",
       "prompt_number": 6,
       "text": [
        "([<matplotlib.axis.XTick at 0x7fe5ed288f10>,\n",
        "  <matplotlib.axis.XTick at 0x7fe5ed239b10>,\n",
        "  <matplotlib.axis.XTick at 0x7fe5ed103c50>,\n",
        "  <matplotlib.axis.XTick at 0x7fe5ed10b1d0>,\n",
        "  <matplotlib.axis.XTick at 0x7fe5ed10b6d0>,\n",
        "  <matplotlib.axis.XTick at 0x7fe5ed10be10>,\n",
        "  <matplotlib.axis.XTick at 0x7fe5ed113590>,\n",
        "  <matplotlib.axis.XTick at 0x7fe5ed113cd0>,\n",
        "  <matplotlib.axis.XTick at 0x7fe5ed11c450>,\n",
        "  <matplotlib.axis.XTick at 0x7fe5ed11cb90>],\n",
        " <a list of 10 Text xticklabel objects>)"
       ]
      },
      {
       "metadata": {},
       "output_type": "display_data",
       "png": "[encoded data removed]",
       "text": [
        "<matplotlib.figure.Figure at 0x7fe5ed288250>"
       ]
      }
     ],
     "prompt_number": 6
    },
    {
     "cell_type": "code",
     "collapsed": false,
     "input": [
      "eigvals, eigvecs = np.linalg.eig(X_all.corr()) # gives sorted list of eigenvalues\n",
      "\n",
      "maxInds = []\n",
      "for vec in eigvecs:\n",
      "    maxInds.append([i for i, val in enumerate(vec) if abs(val) == max(abs(vec))])\n",
      "    \n",
      "maxInds = (np.array(maxInds).ravel()[:8])\n",
      "maxInds"
     ],
     "language": "python",
     "metadata": {},
     "outputs": [
      {
       "metadata": {},
       "output_type": "pyout",
       "prompt_number": 7,
       "text": [
        "array([6, 8, 4, 4, 3, 5, 9, 7])"
       ]
      }
     ],
     "prompt_number": 7
    },
    {
     "cell_type": "markdown",
     "metadata": {},
     "source": [
      "## Quick PCA (but not projection)"
     ]
    },
    {
     "cell_type": "markdown",
     "metadata": {},
     "source": [
      "**The array above tells me parameters I should regress on, in order from best to worst**\n",
      "\n",
      "* This list of parameters contains, transit scores, pop density, homicide-, battery-, and narcotic-crime-rates\n",
      "* Below is a python implementation that accepts all the X data, target prices (y), and a list of X parameter indices to regress on"
     ]
    },
    {
     "cell_type": "code",
     "collapsed": false,
     "input": [
      "# For model 1, let's look at everything\n",
      "X_model1 = X_all[['gHOMIper','gPopDen','gSchScore']]\n",
      "X_model1 = X_model1[X_model1.gSchScore != 0] # Only looking at places with school scores\n",
      "y_model1 = y_all[X_model1.index]\n",
      "\n",
      "# For model 2, let's look at grids with at least 2 homicides (regress on data we're sure we have)\n",
      "X_model2 = X_all[['gHOMIper','gPopDen','gSchScore']]\n",
      "X_model2 = X_model2[(X_model2.gSchScore != 0) & (X_model2.gHOMIper > 2)] # Only looking at places with school scores\n",
      "y_model2 = y_all[X_model2.index]\n",
      "\n",
      "# For model 3, let's regress all narcotics data instead of homicides\n",
      "X_model3 = X_all[['gNARCper','gPopDen','gSchScore']]\n",
      "X_model3 = X_model3[X_model3.gSchScore != 0] # Only looking at places with school scores\n",
      "y_model3 = y_all[X_model3.index]\n",
      "\n",
      "# As we'll see below, model3 is only slightly better than model2 in terms of predicting house prices...\n",
      "# I want to add a new variable, DISTANCE FROM CBD, to remove that factor\n",
      "X_model4 = X_all[['gNARCper','gSqDistFromCBD','gSchScore']] # Note that sqDistance is actually just distance\n",
      "X_model4 = X_model4[X_model4.gSchScore != 0] # Only looking at places with school scores\n",
      "y_model4 = y_all[X_model4.index]\n",
      "\n",
      "# For linear regression, ignore data points in the nonlinear range\n",
      "X_model5 = X_all[['gHOMIper','gSqDistFromCBD','gSchScore']]\n",
      "X_model5 = X_model5[X_model5.gSchScore != 0]\n",
      "X_model5 = X_model5[X_model5.gSqDistFromCBD < 8]\n",
      "X_model5 = X_model5[X_model5.gHOMIper > 0]\n",
      "y_model5 = y_all[X_model5.index]\n",
      "\n",
      "# Keeping datapoints for custum nonlinear model\n",
      "X_model_nonLin = X_all[['gHOMIper','gSqDistFromCBD','gSchScore']]\n",
      "X_model_nonLin = X_model_nonLin[X_model_nonLin.gSchScore != 0]\n",
      "X_model_nonLin = X_model_nonLin[X_model_nonLin.gHOMIper <170]\n",
      "y_model_nonLin = y_all[X_model_nonLin.index]\n",
      "\n",
      "# Other Transformations\n",
      "X_model_toUse = X_all[['gHOMIper','gSqDistFromCBD','gSchScore']]\n",
      "X_model_toUse = X_model_toUse[X_model_toUse.gSchScore != 0]\n",
      "X_model_toUse = X_model_toUse[X_model_toUse.gHOMIper <170]\n",
      "X_model_toUse.gSqDistFromCBD = 1/X_model_toUse.gSqDistFromCBD \n",
      "X_model_toUse.gHOMIper = 1/X_model_toUse.gHOMIper\n",
      "X_model_toUse.gSchScore = X_model_toUse.gSchScore\n",
      "y_model_toUse = y_all[X_model_toUse.index]"
     ],
     "language": "python",
     "metadata": {},
     "outputs": [],
     "prompt_number": 8
    },
    {
     "cell_type": "code",
     "collapsed": false,
     "input": [
      "for col in X_model_nonLin.columns:\n",
      "    plt.figure()\n",
      "    plt.title(col)\n",
      "    plt.plot(X_model_nonLin[col], y_model_nonLin, '.')\n",
      "    plt.xlabel(col)\n",
      "    plt.ylabel('Home Price')\n",
      "    plt.ylim([0,600000])"
     ],
     "language": "python",
     "metadata": {},
     "outputs": [
      {
       "metadata": {},
       "output_type": "display_data",
       "png": "[encoded data removed]",
       "text": [
        "<matplotlib.figure.Figure at 0x7fe5ed2e0550>"
       ]
      },
      {
       "metadata": {},
       "output_type": "display_data",
       "png": "[encoded data removed]",
       "text": [
        "<matplotlib.figure.Figure at 0x7fe5ed077f50>"
       ]
      },
      {
       "metadata": {},
       "output_type": "display_data",
       "png": "[encoded data removed]",
       "text": [
        "<matplotlib.figure.Figure at 0x7fe5ecf91790>"
       ]
      }
     ],
     "prompt_number": 9
    },
    {
     "cell_type": "markdown",
     "metadata": {},
     "source": [
      "### Below we train our website model based on the following data: \n",
      "X_model_nonLin, y_model_nonLin"
     ]
    },
    {
     "cell_type": "code",
     "collapsed": false,
     "input": [
      "X_model_nonLin.columns"
     ],
     "language": "python",
     "metadata": {},
     "outputs": [
      {
       "metadata": {},
       "output_type": "pyout",
       "prompt_number": 10,
       "text": [
        "Index([u'gHOMIper', u'gSqDistFromCBD', u'gSchScore'], dtype='object')"
       ]
      }
     ],
     "prompt_number": 10
    },
    {
     "cell_type": "code",
     "collapsed": false,
     "input": [
      "from scipy.optimize import curve_fit\n",
      "\n",
      "def fitfunc(X,h,d,s,b):\n",
      "   if X.gSqDistFromCBD < 8:\n",
      "      return b + h*X.gHOMIper + s*X.gSchScore + d*X.gSqDistFromCBD\n",
      "   else:\n",
      "      return b + h*X.gHOMIper + s*X.gSchScore + d*8 # housing value doesn't decrease after 8 miles\n",
      "\n",
      "fitfunc_vec = np.vectorize(fitfunc) #vectorize so you can use func with array\n",
      "\n",
      "def fitfunc_vec_self(X,h,d,s,b):\n",
      "  y = np.zeros(len(X))\n",
      "  for idx in range(len(y)):\n",
      "    y[idx]=fitfunc(X.iloc[idx],h,d,s,b)\n",
      "  return y\n",
      "\n",
      "\n",
      "popt, pcov = curve_fit(fitfunc_vec_self, X_model_nonLin, y_model_nonLin) #fitting routine that gives error\n",
      "print popt"
     ],
     "language": "python",
     "metadata": {},
     "outputs": [
      {
       "output_type": "stream",
       "stream": "stdout",
       "text": [
        "[  -1184.69916982  -42617.29635827    1039.36493733  411294.293399  ]\n"
       ]
      }
     ],
     "prompt_number": 11
    },
    {
     "cell_type": "code",
     "collapsed": false,
     "input": [
      "def BSidx(l):\n",
      "    return np.random.random_integers(0,l-1,l)\n",
      "\n",
      "N = 1000\n",
      "coefs = np.zeros([N,X_model_nonLin.shape[1]+1])\n",
      "Xlen = len(y_model_nonLin)\n",
      "for idx in xrange(N):\n",
      "    idxForBS = BSidx(Xlen)\n",
      "    X_train = X_model_nonLin.iloc[idxForBS]\n",
      "    y_train = y_model_nonLin.iloc[idxForBS]\n",
      "    coefs[idx,:] = curve_fit(fitfunc_vec_self, X_train, y_train)[0]\n",
      "    if idx%100==0:\n",
      "        print(floor(100*idx/N))\n",
      "    \n"
     ],
     "language": "python",
     "metadata": {},
     "outputs": [
      {
       "output_type": "stream",
       "stream": "stdout",
       "text": [
        "0.0\n",
        "10.0"
       ]
      },
      {
       "output_type": "stream",
       "stream": "stdout",
       "text": [
        "\n",
        "20.0"
       ]
      },
      {
       "output_type": "stream",
       "stream": "stdout",
       "text": [
        "\n",
        "30.0"
       ]
      },
      {
       "output_type": "stream",
       "stream": "stdout",
       "text": [
        "\n",
        "40.0"
       ]
      },
      {
       "output_type": "stream",
       "stream": "stdout",
       "text": [
        "\n",
        "50.0"
       ]
      },
      {
       "output_type": "stream",
       "stream": "stdout",
       "text": [
        "\n",
        "60.0"
       ]
      },
      {
       "output_type": "stream",
       "stream": "stdout",
       "text": [
        "\n",
        "70.0"
       ]
      },
      {
       "output_type": "stream",
       "stream": "stdout",
       "text": [
        "\n",
        "80.0"
       ]
      },
      {
       "output_type": "stream",
       "stream": "stdout",
       "text": [
        "\n",
        "90.0"
       ]
      },
      {
       "output_type": "stream",
       "stream": "stdout",
       "text": [
        "\n"
       ]
      }
     ],
     "prompt_number": 22
    },
    {
     "cell_type": "code",
     "collapsed": false,
     "input": [
      "plt.figure()\n",
      "plt.hist(coefs[:,0],20)\n",
      "plt.figure()\n",
      "plt.hist(coefs[:,1],20)"
     ],
     "language": "python",
     "metadata": {},
     "outputs": [
      {
       "metadata": {},
       "output_type": "pyout",
       "prompt_number": 33,
       "text": [
        "(array([   2.,    9.,   19.,   33.,   44.,   69.,   98.,   96.,  131.,\n",
        "         121.,  104.,   95.,   61.,   53.,   30.,   20.,    7.,    5.,\n",
        "           2.,    1.]),\n",
        " array([-49756.21364969, -48978.99702887, -48201.78040805, -47424.56378723,\n",
        "        -46647.34716641, -45870.13054558, -45092.91392476, -44315.69730394,\n",
        "        -43538.48068312, -42761.26406229, -41984.04744147, -41206.83082065,\n",
        "        -40429.61419983, -39652.39757901, -38875.18095818, -38097.96433736,\n",
        "        -37320.74771654, -36543.53109572, -35766.31447489, -34989.09785407,\n",
        "        -34211.88123325]),\n",
        " <a list of 20 Patch objects>)"
       ]
      },
      {
       "metadata": {},
       "output_type": "display_data",
       "png": "[encoded data removed]",
       "text": [
        "<matplotlib.figure.Figure at 0x7fe5ec1fea90>"
       ]
      },
      {
       "metadata": {},
       "output_type": "display_data",
       "png": "[encoded data removed]",
       "text": [
        "<matplotlib.figure.Figure at 0x7fe5ec0fbc50>"
       ]
      }
     ],
     "prompt_number": 33
    },
    {
     "cell_type": "code",
     "collapsed": false,
     "input": [
      "coefs.mean(0)"
     ],
     "language": "python",
     "metadata": {},
     "outputs": [
      {
       "metadata": {},
       "output_type": "pyout",
       "prompt_number": 23,
       "text": [
        "array([  -1185.36521756,  -42719.71574089,    1042.22513012,\n",
        "        411779.70772168])"
       ]
      }
     ],
     "prompt_number": 23
    },
    {
     "cell_type": "code",
     "collapsed": false,
     "input": [
      "coefs.std(0)"
     ],
     "language": "python",
     "metadata": {},
     "outputs": [
      {
       "metadata": {},
       "output_type": "pyout",
       "prompt_number": 24,
       "text": [
        "array([   144.56843124,   2512.59823449,    323.08440325,  26269.46053624])"
       ]
      }
     ],
     "prompt_number": 24
    },
    {
     "cell_type": "code",
     "collapsed": false,
     "input": [
      "gPricePredictionTemp = fitfunc_vec_self(X_all,coefs.mean(0)[0],coefs.mean(0)[1],coefs.mean(0)[2],coefs.mean(0)[3])\n",
      "gResidualsTemp = np.array( y_all - gPricePredictionTemp )\n",
      "indices = [int(idx) for idx in X_all.index]"
     ],
     "language": "python",
     "metadata": {},
     "outputs": [],
     "prompt_number": 34
    },
    {
     "cell_type": "code",
     "collapsed": false,
     "input": [
      "matplotlib.rc('xtick', labelsize=14) \n",
      "matplotlib.rc('ytick', labelsize=14) \n",
      "matplotlib.rcParams.update({'font.size': 15})\n",
      "plt.hist(gResidualsTemp,30,normed=True, color='Green')\n",
      "plt.xlim([-250000,250000])\n",
      "plt.xlabel(\"Price ($)\")"
     ],
     "language": "python",
     "metadata": {},
     "outputs": [
      {
       "metadata": {},
       "output_type": "pyout",
       "prompt_number": 59,
       "text": [
        "<matplotlib.text.Text at 0x7fe5c57b7290>"
       ]
      },
      {
       "metadata": {},
       "output_type": "display_data",
       "png": "[encoded data removed]",
       "text": [
        "<matplotlib.figure.Figure at 0x7fe5c5704310>"
       ]
      }
     ],
     "prompt_number": 59
    },
    {
     "cell_type": "markdown",
     "metadata": {},
     "source": [
      "## Looking at R^2 score\n",
      "note that other scores can be found in the models_v2_byGrids.ipynb"
     ]
    },
    {
     "cell_type": "code",
     "collapsed": false,
     "input": [
      "# R^2\n",
      "score_nonLin_fitPiecewise = 1-np.mean(gResidualsTemp**2)/y_all.var()"
     ],
     "language": "python",
     "metadata": {},
     "outputs": [],
     "prompt_number": 39
    },
    {
     "cell_type": "code",
     "collapsed": false,
     "input": [
      "# Investigating relateive errors\n",
      "y_all.std(), ((1-score_nonLin_fitPiecewise)*y_all.var())**(0.5)"
     ],
     "language": "python",
     "metadata": {},
     "outputs": [
      {
       "metadata": {},
       "output_type": "pyout",
       "prompt_number": 72,
       "text": [
        "(137851.57177340577, 89256.429777964004)"
       ]
      }
     ],
     "prompt_number": 72
    },
    {
     "cell_type": "code",
     "collapsed": false,
     "input": [
      "gPricePredictionTemp[gPricePredictionTemp<1] = 1\n",
      "\n",
      "gPricePrediction = zeros([1200,1])\n",
      "gResiduals = gPricePrediction.copy()\n",
      "idxCount = 0\n",
      "for idx in indices:\n",
      "    gResiduals[idx-1] = gResidualsTemp[idxCount]\n",
      "    gPricePrediction[idx-1] = gPricePredictionTemp[idxCount]\n",
      "    idxCount += 1\n"
     ],
     "language": "python",
     "metadata": {},
     "outputs": [],
     "prompt_number": 40
    },
    {
     "cell_type": "code",
     "collapsed": false,
     "input": [
      "import sys\n",
      "import colour\n",
      "from matplotlib import colors\n",
      "\n",
      "def GetGridColors(gData,cLimLow,cLimHigh):\n",
      "    highCrimeColorIdx = 255\n",
      "    colormap = matplotlib.cm.jet(arange(highCrimeColorIdx))*255.\n",
      "\n",
      "    def rgb_to_hex(rgb):\n",
      "        return '#%02x%02x%02x' % (rgb[0],rgb[1],rgb[2])\n",
      "\n",
      "    colormap_hex = []\n",
      "    for idx, color in enumerate(colormap):\n",
      "        colormap_hex.append(rgb_to_hex(color))\n",
      "\n",
      "    crColors = []\n",
      " \n",
      "    for dataVal in gData:\n",
      "        colorIdx = int(floor((highCrimeColorIdx-1)*(dataVal-cLimLow)/(cLimHigh-cLimLow)))\n",
      "        #print colorIdx\n",
      "        #print crimePer\n",
      "        if colorIdx < 0:\n",
      "            crColors.append(colormap_hex[0])\n",
      "        elif colorIdx > highCrimeColorIdx-1:\n",
      "            crColors.append(colormap_hex[-1])\n",
      "        else:\n",
      "            crColors.append(colormap_hex[colorIdx])\n",
      "        if dataVal == 0:\n",
      "            crColors[-1] = '#000000'\n",
      "\n",
      "    def horzPrintList(l):\n",
      "        sys.stdout.write('[')\n",
      "        for st in l:\n",
      "            sys.stdout.write(\"'\")\n",
      "            sys.stdout.write(st)\n",
      "            sys.stdout.write(\"'\")\n",
      "            sys.stdout.write(',')\n",
      "        sys.stdout.write(']')\n",
      "\n",
      "    #colormap_hex[250:265]\n",
      "    print len(crColors)\n",
      "    horzPrintList(crColors)\n",
      "    \n",
      "def horzPrintArray(a):\n",
      "    print len(a)\n",
      "    sys.stdout.write('[')\n",
      "    for num in a:\n",
      "        sys.stdout.write(str(num))\n",
      "        sys.stdout.write(',')\n",
      "    sys.stdout.write(']')"
     ],
     "language": "python",
     "metadata": {},
     "outputs": [],
     "prompt_number": 41
    },
    {
     "cell_type": "code",
     "collapsed": false,
     "input": [
      "horzPrintArray(gResiduals.squeeze(1))"
     ],
     "language": "python",
     "metadata": {},
     "outputs": [
      {
       "output_type": "stream",
       "stream": "stdout",
       "text": [
        "1200\n",
        "[0.0,0.0,0.0,0.0,0.0,0.0,0.0,0.0,0.0,0.0,0.0,0.0,0.0,0.0,0.0,0.0,0.0,0.0,0.0,0.0,0.0,0.0,0.0,0.0,0.0,0.0,0.0,0.0,0.0,0.0,0.0,0.0,0.0,0.0,0.0,0.0,0.0,0.0,0.0,0.0,0.0,0.0,0.0,0.0,0.0,0.0,0.0,0.0,0.0,0.0,0.0,0.0,0.0,0.0,0.0,0.0,0.0,0.0,0.0,0.0,0.0,0.0,0.0,0.0,0.0,0.0,0.0,0.0,0.0,0.0,0.0,0.0,0.0,0.0,0.0,0.0,0.0,0.0,0.0,0.0,0.0,0.0,0.0,0.0,0.0,0.0,0.0,0.0,0.0,0.0,0.0,0.0,0.0,0.0,0.0,0.0,0.0,0.0,0.0,0.0,0.0,0.0,0.0,0.0,0.0,0.0,0.0,0.0,0.0,0.0,0.0,0.0,0.0,0.0,0.0,0.0,0.0,0.0,0.0,0.0,0.0,0.0,0.0,0.0,0.0,0.0,0.0,0.0,0.0,0.0,0.0,0.0,0.0,0.0,0.0,0.0,0.0,0.0,0.0,0.0,0.0,0.0,0.0,0.0,0.0,0.0,0.0,0.0,0.0,0.0,0.0,0.0,0.0,0.0,14034.7407331,0.0,0.0,0.0,0.0,0.0,0.0,0.0,0.0,0.0,0.0,0.0,0.0,0.0,0.0,0.0,0.0,0.0,0.0,0.0,0.0,0.0,0.0,0.0,0.0,0.0,0.0,0.0,0.0,0.0,0.0,0.0,0.0,0.0,0.0,0.0,0.0,-22523.7071306,0.0,0.0,0.0,0.0,0.0,0.0,0.0,0.0,0.0,0.0,0.0,0.0,0.0,0.0,0.0,0.0,0.0,0.0,0.0,0.0,0.0,0.0,0.0,0.0,0.0,0.0,0.0,0.0,0.0,0.0,0.0,0.0,0.0,0.0,0.0,0.0,0.0,0.0,-10833.8666026,89984.7232694,26467.5825753,0.0,78987.8882395,41384.5717605,0.0,0.0,0.0,0.0,0.0,0.0,0.0,0.0,0.0,0.0,0.0,0.0,0.0,0.0,0.0,0.0,0.0,0.0,0.0,0.0,0.0,0.0,0.0,0.0,0.0,0.0,0.0,0.0,0.0,0.0,0.0,0.0,0.0,22674.8668303,-2539.19408526,-21237.2249358,71613.4109186,0.0,-23461.342985,-72162.2024208,13681.4504546,-6172.68095953,0.0,0.0,0.0,0.0,0.0,0.0,0.0,0.0,0.0,0.0,0.0,0.0,0.0,0.0,0.0,0.0,-34831.5399123,0.0,0.0,0.0,0.0,0.0,0.0,0.0,0.0,0.0,0.0,0.0,0.0,38069.9098572,-54631.913691,-60302.1388211,36425.2957267,0.0,-19868.194654,0.0,-30458.2045282,49569.285268,-5781.98699944,0.0,0.0,0.0,0.0,0.0,0.0,0.0,0.0,0.0,0.0,0.0,0.0,0.0,0.0,0.0,0.0,0.0,-70646.6414236,0.0,0.0,0.0,0.0,0.0,0.0,0.0,0.0,0.0,0.0,0.0,0.0,-1217.12025141,18467.3975537,18797.7518154,46210.6768581,15274.5914695,33186.1462525,0.0,0.0,22620.8659672,0.0,0.0,0.0,0.0,0.0,0.0,0.0,0.0,0.0,0.0,0.0,0.0,0.0,0.0,0.0,0.0,0.0,-32782.0341368,-51802.1388211,0.0,-6253.69461352,0.0,0.0,0.0,0.0,0.0,0.0,-115581.479466,-73223.5318874,-52955.5810616,0.0,-50327.2653868,-82304.5601907,0.0,17857.2933635,-49673.5629103,-5421.15156559,-2893.13882114,0.0,0.0,0.0,0.0,0.0,0.0,0.0,0.0,0.0,0.0,0.0,0.0,0.0,0.0,0.0,0.0,0.0,0.0,0.0,0.0,0.0,0.0,0.0,0.0,0.0,0.0,0.0,0.0,0.0,0.0,0.0,13450.532327,0.0,0.0,5471.36688414,-84027.9341042,-60447.2042306,0.0,-32351.5029667,24730.0931115,-33747.0788776,0.0,0.0,0.0,0.0,0.0,0.0,0.0,0.0,0.0,0.0,0.0,0.0,0.0,0.0,0.0,0.0,0.0,0.0,24556.0885602,0.0,0.0,0.0,0.0,0.0,0.0,0.0,0.0,0.0,0.0,-40347.6619008,0.0,0.0,0.0,0.0,0.0,-36939.1297758,8561.03520661,38432.7617438,49840.8347382,0.0,0.0,0.0,0.0,0.0,0.0,0.0,0.0,0.0,0.0,0.0,0.0,0.0,0.0,0.0,0.0,0.0,0.0,0.0,0.0,76966.8612505,-60408.5966827,0.0,0.0,0.0,0.0,0.0,0.0,0.0,0.0,105051.569764,0.0,-160845.755153,0.0,-183897.037495,0.0,-6845.83287622,85752.3423027,-22956.7578906,1763.12750226,59356.7093572,0.0,0.0,0.0,0.0,0.0,0.0,0.0,0.0,0.0,0.0,-81097.714732,0.0,0.0,0.0,0.0,0.0,-5260.73851123,-65283.4066336,-91915.9793981,0.0,-6961.85208376,0.0,0.0,0.0,0.0,0.0,0.0,-102542.54284,-81789.1345043,21313.9562736,0.0,0.0,-147765.168992,-116926.45088,7376.83487814,-65108.02767,27710.324164,5937.84871018,-15632.7572674,-45962.8811403,48124.0996739,-27268.515773,0.0,0.0,0.0,0.0,0.0,0.0,0.0,0.0,51944.5103981,0.0,0.0,0.0,0.0,30649.5027968,0.0,0.0,0.0,0.0,-84136.495225,-10574.9528139,0.0,0.0,0.0,0.0,0.0,-34087.8617334,-120307.594113,-124488.803681,-137509.748897,0.0,-102110.825729,32681.6059372,29820.0513429,42460.8394575,-37603.2648611,-35510.5455883,-12329.8821045,-25089.2985293,-19861.9134117,613.361248696,-16215.046943,-28074.2320176,0.0,0.0,0.0,0.0,0.0,0.0,0.0,0.0,0.0,0.0,0.0,-37721.4196651,0.0,0.0,0.0,59865.5331648,0.0,0.0,0.0,39834.7085979,0.0,0.0,0.0,0.0,174.660736026,-238900.974356,-186487.246191,-4809.78884851,-34297.6765734,27401.5046093,32730.3396855,29264.0201566,13231.5122383,8177.56735842,50050.6607135,3709.1639148,-12751.3867901,-12051.0788776,-36779.6414236,-27795.6578029,0.0,0.0,0.0,0.0,0.0,0.0,52482.2776667,0.0,0.0,0.0,0.0,0.0,0.0,0.0,0.0,0.0,0.0,0.0,0.0,-125971.010253,-26027.0338361,-130442.525068,-66278.4907305,0.0,-141728.949177,-176882.662909,-52962.6816941,21819.9792341,88329.4603968,76254.3084475,93180.2717698,79511.4133769,114945.188256,150496.855858,82418.657759,73028.1753591,-28082.1555937,-49377.3301788,-26753.780439,-9801.85999357,0.0,0.0,0.0,0.0,0.0,0.0,-5605.94548232,-83610.7961515,0.0,0.0,0.0,0.0,-4087.63381492,0.0,0.0,0.0,0.0,0.0,0.0,0.0,0.0,0.0,-138336.890161,-71933.3181947,-42445.9415024,-181474.982659,-58569.8731105,39393.9557693,94841.6875562,98838.8455782,160805.507595,149453.543095,129109.737376,124597.814376,73340.0073466,112094.351336,152262.316697,227.783630155,9151.67583845,40267.3191315,5066.14155517,0.0,0.0,0.0,0.0,0.0,0.0,-11704.8537475,0.0,0.0,0.0,0.0,0.0,0.0,21863.8637567,0.0,0.0,0.0,0.0,0.0,0.0,55356.2940254,0.0,-145002.26463,46007.479616,122354.339241,-51988.7581535,16871.9487222,15187.6342188,198434.948659,206764.355181,190427.583967,133458.27661,151234.258919,52506.9546897,164634.838015,68003.3815898,49155.8531033,0.0,54995.1027713,0.0,0.0,0.0,0.0,0.0,0.0,89266.033219,0.0,0.0,0.0,0.0,0.0,0.0,0.0,0.0,0.0,0.0,0.0,0.0,0.0,-129121.626121,-21420.2691289,0.0,-72869.0310107,-6838.28936081,-36904.1728509,0.0,27399.5770864,94894.5188979,166966.493903,92307.541743,132921.161684,29527.3609659,-43609.4742176,12237.9876466,0.0,0.0,0.0,0.0,0.0,0.0,0.0,0.0,0.0,0.0,0.0,0.0,0.0,0.0,0.0,0.0,0.0,3078.59944964,0.0,0.0,0.0,0.0,0.0,-64084.6762159,-164498.521539,62153.2634603,-40396.9677606,-132465.787424,-1908.15073319,0.0,0.0,0.0,53746.1656855,-24210.1194397,134923.566306,-22038.4710219,-1890.40809677,20678.1917549,0.0,0.0,0.0,0.0,0.0,0.0,0.0,0.0,0.0,0.0,0.0,0.0,0.0,0.0,0.0,0.0,0.0,-35972.1717948,0.0,0.0,0.0,0.0,-70568.0965794,-35002.5335732,-106370.248112,-116672.072296,152337.437498,-71989.7855543,-228323.109276,-104466.677942,27232.5294249,-86404.8215175,-35994.9564457,-22021.4411392,132712.53835,140191.454965,0.0,0.0,0.0,0.0,0.0,0.0,0.0,0.0,0.0,0.0,0.0,0.0,0.0,0.0,0.0,0.0,0.0,37095.7447152,0.0,0.0,-66595.9734292,-82318.8857402,21358.5786194,0.0,0.0,199720.871685,61702.4722977,-128423.182278,-24765.7942981,-3050.78792327,-11836.1264241,-69810.271028,0.0,0.0,0.0,0.0,0.0,24901.0126732,332494.057436,0.0,0.0,0.0,0.0,0.0,0.0,0.0,0.0,0.0,0.0,0.0,0.0,0.0,0.0,0.0,0.0,0.0,0.0,0.0,0.0,0.0,68048.0489345,-22458.7686719,65937.3326743,326526.153308,0.0,-13491.0543631,-17555.463351,217446.070811,3513.59238829,-19836.7230275,-68034.0896643,0.0,0.0,0.0,0.0,0.0,0.0,0.0,0.0,0.0,0.0,0.0,0.0,0.0,0.0,0.0,0.0,0.0,0.0,0.0,0.0,0.0,0.0,0.0,0.0,0.0,0.0,0.0,0.0,0.0,0.0,0.0,0.0,-26236.9318637,30822.2671863,19559.585831,-42875.6929636,93103.1302298,146839.125968,0.0,0.0,0.0,0.0,0.0,0.0,0.0,0.0,0.0,0.0,0.0,0.0,0.0,0.0,0.0,0.0,0.0,0.0,0.0,0.0,0.0,0.0,0.0,0.0,0.0,0.0,0.0,0.0,0.0,0.0,0.0,-25946.9625575,0.0,0.0,25181.9725223,-17583.8855969,46837.0025202,0.0,0.0,0.0,0.0,0.0,0.0,0.0,0.0,0.0,0.0,0.0,0.0,0.0,0.0,0.0,0.0,0.0,0.0,0.0,0.0,0.0,0.0,0.0,0.0,0.0,0.0,0.0,0.0,0.0,0.0,0.0,0.0,114292.750381,490364.196677,91239.2702338,0.0,0.0,62110.1656597,22625.575535,0.0,0.0,0.0,0.0,0.0,0.0,0.0,0.0,0.0,0.0,0.0,0.0,0.0,0.0,0.0,0.0,0.0,0.0,0.0,0.0,0.0,0.0,0.0,0.0,0.0,0.0,0.0,0.0,0.0,0.0,0.0,0.0,0.0,0.0,0.0,0.0,0.0,0.0,-32139.3346338,0.0,0.0,0.0,0.0,0.0,0.0,0.0,0.0,0.0,0.0,0.0,0.0,0.0,0.0,0.0,0.0,0.0,0.0,0.0,0.0,0.0,0.0,0.0,0.0,0.0,0.0,0.0,0.0,0.0,0.0,0.0,0.0,0.0,0.0,0.0,0.0,0.0,0.0,0.0,0.0,0.0,0.0,0.0,0.0,0.0,0.0,0.0,0.0,0.0,0.0,0.0,0.0,0.0,0.0,0.0,0.0,0.0,0.0,0.0,0.0,0.0,0.0,0.0,0.0,0.0,0.0,0.0,0.0,0.0,0.0,0.0,0.0,0.0,0.0,0.0,0.0,0.0,0.0,0.0,0.0,0.0,0.0,0.0,0.0,0.0,0.0,0.0,0.0,0.0,0.0,0.0,0.0,0.0,0.0,0.0,0.0,0.0,0.0,0.0,0.0,0.0,0.0,0.0,0.0,0.0,0.0,0.0,0.0,]"
       ]
      }
     ],
     "prompt_number": 42
    },
    {
     "cell_type": "code",
     "collapsed": false,
     "input": [
      "GetGridColors(np.abs(gResiduals),0,100000)\n",
      "#GetGridColors(gPricePrediction,50000,450000)"
     ],
     "language": "python",
     "metadata": {},
     "outputs": [
      {
       "output_type": "stream",
       "stream": "stdout",
       "text": [
        "1200\n",
        "['#000000','#000000','#000000','#000000','#000000','#000000','#000000','#000000','#000000','#000000','#000000','#000000','#000000','#000000','#000000','#000000','#000000','#000000','#000000','#000000','#000000','#000000','#000000','#000000','#000000','#000000','#000000','#000000','#000000','#000000','#000000','#000000','#000000','#000000','#000000','#000000','#000000','#000000','#000000','#000000','#000000','#000000','#000000','#000000','#000000','#000000','#000000','#000000','#000000','#000000','#000000','#000000','#000000','#000000','#000000','#000000','#000000','#000000','#000000','#000000','#000000','#000000','#000000','#000000','#000000','#000000','#000000','#000000','#000000','#000000','#000000','#000000','#000000','#000000','#000000','#000000','#000000','#000000','#000000','#000000','#000000','#000000','#000000','#000000','#000000','#000000','#000000','#000000','#000000','#000000','#000000','#000000','#000000','#000000','#000000','#000000','#000000','#000000','#000000','#000000','#000000','#000000','#000000','#000000','#000000','#000000','#000000','#000000','#000000','#000000','#000000','#000000','#000000','#000000','#000000','#000000','#000000','#000000','#000000','#000000','#000000','#000000','#000000','#000000','#000000','#000000','#000000','#000000','#000000','#000000','#000000','#000000','#000000','#000000','#000000','#000000','#000000','#000000','#000000','#000000','#000000','#000000','#000000','#000000','#000000','#000000','#000000','#000000','#000000','#000000','#000000','#000000','#000000','#000000','#000cff','#000000','#000000','#000000','#000000','#000000','#000000','#000000','#000000','#000000','#000000','#000000','#000000','#000000','#000000','#000000','#000000','#000000','#000000','#000000','#000000','#000000','#000000','#000000','#000000','#000000','#000000','#000000','#000000','#000000','#000000','#000000','#000000','#000000','#000000','#000000','#000000','#0064ff','#000000','#000000','#000000','#000000','#000000','#000000','#000000','#000000','#000000','#000000','#000000','#000000','#000000','#000000','#000000','#000000','#000000','#000000','#000000','#000000','#000000','#000000','#000000','#000000','#000000','#000000','#000000','#000000','#000000','#000000','#000000','#000000','#000000','#000000','#000000','#000000','#000000','#000000','#0000fa','#fa0f00','#008cff','#000000','#ff7600','#32ffc3','#000000','#000000','#000000','#000000','#000000','#000000','#000000','#000000','#000000','#000000','#000000','#000000','#000000','#000000','#000000','#000000','#000000','#000000','#000000','#000000','#000000','#000000','#000000','#000000','#000000','#000000','#000000','#000000','#000000','#000000','#000000','#000000','#000000','#0064ff','#00009a','#0054ff','#ffbd00','#000000','#006cff','#ffb500','#0008ff','#0000c3','#000000','#000000','#000000','#000000','#000000','#000000','#000000','#000000','#000000','#000000','#000000','#000000','#000000','#000000','#000000','#000000','#00e0fa','#000000','#000000','#000000','#000000','#000000','#000000','#000000','#000000','#000000','#000000','#000000','#000000','#15ffe1','#9dff59','#cdff29','#08f0ed','#000000','#0048ff','#000000','#00b4ff','#73ff83','#0000bf','#000000','#000000','#000000','#000000','#000000','#000000','#000000','#000000','#000000','#000000','#000000','#000000','#000000','#000000','#000000','#000000','#000000','#ffc400','#000000','#000000','#000000','#000000','#000000','#000000','#000000','#000000','#000000','#000000','#000000','#000000','#00008d','#0038ff','#003cff','#59ff9d','#0018ff','#00d0ff','#000000','#000000','#0064ff','#000000','#000000','#000000','#000000','#000000','#000000','#000000','#000000','#000000','#000000','#000000','#000000','#000000','#000000','#000000','#000000','#000000','#00ccff','#86ff70','#000000','#0000c3','#000000','#000000','#000000','#000000','#000000','#000000','#840000','#ffae00','#90ff66','#000000','#79ff7d','#ff5500','#000000','#0034ff','#76ff80','#0000ba','#00009f','#000000','#000000','#000000','#000000','#000000','#000000','#000000','#000000','#000000','#000000','#000000','#000000','#000000','#000000','#000000','#000000','#000000','#000000','#000000','#000000','#000000','#000000','#000000','#000000','#000000','#000000','#000000','#000000','#000000','#000000','#000000','#0008ff','#000000','#000000','#0000ba','#ff4600','#cdff29','#000000','#00c8ff','#0078ff','#00d4ff','#000000','#000000','#000000','#000000','#000000','#000000','#000000','#000000','#000000','#000000','#000000','#000000','#000000','#000000','#000000','#000000','#000000','#000000','#0078ff','#000000','#000000','#000000','#000000','#000000','#000000','#000000','#000000','#000000','#000000','#29ffcd','#000000','#000000','#000000','#000000','#000000','#0cf4ea','#0000de','#18ffdd','#76ff80','#000000','#000000','#000000','#000000','#000000','#000000','#000000','#000000','#000000','#000000','#000000','#000000','#000000','#000000','#000000','#000000','#000000','#000000','#000000','#000000','#ff8900','#cdff29','#000000','#000000','#000000','#000000','#000000','#000000','#000000','#000000','#840000','#000000','#840000','#000000','#840000','#000000','#0000cc','#ff3700','#0068ff','#000091','#c3ff32','#000000','#000000','#000000','#000000','#000000','#000000','#000000','#000000','#000000','#000000','#ff6400','#000000','#000000','#000000','#000000','#000000','#0000ba','#f4f802','#e30000','#000000','#0000cc','#000000','#000000','#000000','#000000','#000000','#000000','#840000','#ff5c00','#0058ff','#000000','#000000','#840000','#840000','#0000d1','#f4f802','#0098ff','#0000c3','#001cff','#56ffa0','#69ff8d','#0094ff','#000000','#000000','#000000','#000000','#000000','#000000','#000000','#000000','#86ff70','#000000','#000000','#000000','#000000','#00b4ff','#000000','#000000','#000000','#000000','#ff4600','#0000f5','#000000','#000000','#000000','#000000','#000000','#00d8ff','#840000','#840000','#840000','#000000','#840000','#00ccff','#00acff','#39ffbd','#12fce4','#02e8f4','#0000ff','#007cff','#0048ff','#000084','#0024ff','#009cff','#000000','#000000','#000000','#000000','#000000','#000000','#000000','#000000','#000000','#000000','#000000','#12fce4','#000000','#000000','#000000','#caff2c','#000000','#000000','#000000','#25ffd0','#000000','#000000','#000000','#000000','#00007f','#840000','#840000','#0000b6','#00dcfe','#0094ff','#00ccff','#00a8ff','#0004ff','#0000da','#79ff7d','#0000a8','#0000ff','#0000ff','#0cf4ea','#0098ff','#000000','#000000','#000000','#000000','#000000','#000000','#8dff69','#000000','#000000','#000000','#000000','#000000','#000000','#000000','#000000','#000000','#000000','#000000','#000000','#840000','#0088ff','#840000','#feed00','#000000','#840000','#840000','#90ff66','#005cff','#ff1d00','#ff9000','#d50000','#ff7300','#840000','#840000','#ff5500','#ffae00','#009cff','"
       ]
      },
      {
       "output_type": "stream",
       "stream": "stdout",
       "text": [
        "#73ff83','#008cff','#0000ec','#000000','#000000','#000000','#000000','#000000','#000000','#0000bf','#ff4a00','#000000','#000000','#000000','#000000','#0000ac','#000000','#000000','#000000','#000000','#000000','#000000','#000000','#000000','#000000','#840000','#ffb900','#39ffbd','#840000','#bdff39','#22ffd4','#c30000','#910000','#840000','#840000','#840000','#840000','#ffaa00','#840000','#840000','#00007f','#0000e8','#29ffcd','#0000b6','#000000','#000000','#000000','#000000','#000000','#000000','#0000ff','#000000','#000000','#000000','#000000','#000000','#000000','#005cff','#000000','#000000','#000000','#000000','#000000','#000000','#a3ff53','#000000','#840000','#56ffa0','#840000','#89ff6c','#0028ff','#0018ff','#840000','#840000','#840000','#840000','#840000','#8dff69','#840000','#ffde00','#70ff86','#000000','#a0ff56','#000000','#000000','#000000','#000000','#000000','#000000','#ff1600','#000000','#000000','#000000','#000000','#000000','#000000','#000000','#000000','#000000','#000000','#000000','#000000','#000000','#840000','#0058ff','#000000','#ffae00','#0000cc','#0cf4ea','#000000','#0094ff','#bf0000','#840000','#de0000','#840000','#00a8ff','#42ffb3','#0000ff','#000000','#000000','#000000','#000000','#000000','#000000','#000000','#000000','#000000','#000000','#000000','#000000','#000000','#000000','#000000','#000000','#000000','#00009f','#000000','#000000','#000000','#000000','#000000','#eaff0c','#840000','#daff1c','#29ffcd','#840000','#000091','#000000','#000000','#000000','#96ff5f','#0074ff','#840000','#005cff','#000091','#0050ff','#000000','#000000','#000000','#000000','#000000','#000000','#000000','#000000','#000000','#000000','#000000','#000000','#000000','#000000','#000000','#000000','#000000','#05ecf1','#000000','#000000','#000000','#000000','#ffc400','#00e0fa','#840000','#840000','#840000','#ffb900','#840000','#840000','#0094ff','#ff3000','#05ecf1','#005cff','#840000','#840000','#000000','#000000','#000000','#000000','#000000','#000000','#000000','#000000','#000000','#000000','#000000','#000000','#000000','#000000','#000000','#000000','#000000','#0ff8e7','#000000','#000000','#ffe900','#ff5500','#0058ff','#000000','#000000','#840000','#d7ff1f','#840000','#0078ff','#00009f','#0000ff','#ffcb00','#000000','#000000','#000000','#000000','#000000','#007cff','#840000','#000000','#000000','#000000','#000000','#000000','#000000','#000000','#000000','#000000','#000000','#000000','#000000','#000000','#000000','#000000','#000000','#000000','#000000','#000000','#000000','#000000','#ffde00','#0064ff','#faf000','#840000','#000000','#0008ff','#0030ff','#840000','#0000a3','#0048ff','#ffde00','#000000','#000000','#000000','#000000','#000000','#000000','#000000','#000000','#000000','#000000','#000000','#000000','#000000','#000000','#000000','#000000','#000000','#000000','#000000','#000000','#000000','#000000','#000000','#000000','#000000','#000000','#000000','#000000','#000000','#000000','#000000','#000000','#0088ff','#00b8ff','#0044ff','#3cffba','#d50000','#840000','#000000','#000000','#000000','#000000','#000000','#000000','#000000','#000000','#000000','#000000','#000000','#000000','#000000','#000000','#000000','#000000','#000000','#000000','#000000','#000000','#000000','#000000','#000000','#000000','#000000','#000000','#000000','#000000','#000000','#000000','#000000','#0084ff','#000000','#000000','#007cff','#0030ff','#5cff9a','#000000','#000000','#000000','#000000','#000000','#000000','#000000','#000000','#000000','#000000','#000000','#000000','#000000','#000000','#000000','#000000','#000000','#000000','#000000','#000000','#000000','#000000','#000000','#000000','#000000','#000000','#000000','#000000','#000000','#000000','#000000','#000000','#840000','#840000','#ec0300','#000000','#000000','#daff1c','#0064ff','#000000','#000000','#000000','#000000','#000000','#000000','#000000','#000000','#000000','#000000','#000000','#000000','#000000','#000000','#000000','#000000','#000000','#000000','#000000','#000000','#000000','#000000','#000000','#000000','#000000','#000000','#000000','#000000','#000000','#000000','#000000','#000000','#000000','#000000','#000000','#000000','#000000','#000000','#00c4ff','#000000','#000000','#000000','#000000','#000000','#000000','#000000','#000000','#000000','#000000','#000000','#000000','#000000','#000000','#000000','#000000','#000000','#000000','#000000','#000000','#000000','#000000','#000000','"
       ]
      },
      {
       "output_type": "stream",
       "stream": "stdout",
       "text": [
        "#000000','#000000','#000000','#000000','#000000','#000000','#000000','#000000','#000000','#000000','#000000','#000000','#000000','#000000','#000000','#000000','#000000','#000000','#000000','#000000','#000000','#000000','#000000','#000000','#000000','#000000','#000000','#000000','#000000','#000000','#000000','#000000','#000000','#000000','#000000','#000000','#000000','#000000','#000000','#000000','#000000','#000000','#000000','#000000','#000000','#000000','#000000','#000000','#000000','#000000','#000000','#000000','#000000','#000000','#000000','#000000','#000000','#000000','#000000','#000000','#000000','#000000','#000000','#000000','#000000','#000000','#000000','#000000','#000000','#000000','#000000','#000000','#000000','#000000','#000000','#000000','#000000','#000000','#000000','#000000','#000000','#000000','#000000','#000000','#000000',]"
       ]
      }
     ],
     "prompt_number": 44
    },
    {
     "cell_type": "code",
     "collapsed": false,
     "input": [
      "from sklearn import linear_model\n",
      "import statsmodels.formula.api as sm\n",
      "from sklearn.metrics import mean_squared_error\n",
      "from math import sqrt\n",
      "\n",
      "class linRegOutput(object):\n",
      "    def __init__(self, X_all, y_all, regInds):\n",
      "        self.X = X_all.ix[:,unique(regInds)]\n",
      "        self.y = y_all\n",
      "        \n",
      "        self.parmLabels = {'medInc2010':'$Inc', \n",
      "                          'walkScore':'% walkability',\n",
      "                          'tranScore':'% transit access',\n",
      "                          'bikeScore':'% bikability',\n",
      "                          'popDen2010':'person per sqmi',\n",
      "                          'HOM_TA2010_per':'homicides per 100,000 ppl',\n",
      "                          'BAT_TA2010_per':'batteries per 100,000 ppl',\n",
      "                          'BUR_TA2010_per':'burgleries per 100,000 ppl',\n",
      "                          'ROB_TA2010_per':'robberies per 100,000 ppl',\n",
      "                          'NAR_TA2010_per':'narcotics crimes per 100,000 ppl',\n",
      "                          'HOM_TA2010':'homicide',\n",
      "                          'BAT_TA2010':'battery',\n",
      "                          'BUR_TA2010':'burglery',\n",
      "                          'ROB_TA2010':'robbery',\n",
      "                          'NAR_TA2010':'narcotics crime',\n",
      "                          'intercept':''}\n",
      "\n",
      "    def fitSKlearn(self):\n",
      "        self.clf = linear_model.LinearRegression(fit_intercept = True)\n",
      "        self.clf.fit(self.X,self.y)\n",
      "        \n",
      "        self.paramsLi = [coef for coef in self.clf.coef_]\n",
      "        \n",
      "    def fitStatsModels(self):\n",
      "        X = self.X.copy()\n",
      "        X['intercept'] = np.ones(( len(self.X), )) # creates const data for intercept\n",
      "        self.X_const = X\n",
      "        self.clf2 = sm.OLS(self.y, self.X_const)\n",
      "        self.result = self.clf2.fit()\n",
      "        \n",
      "        \n",
      "        self.paramsLi = [self.result.params[k] for k in range(len(self.result.params))]\n",
      "        self.CIs = self.result.conf_int()\n",
      "        \n",
      "        \n",
      "    def printCoefs(self):\n",
      "        for idx, coef in enumerate(self.paramsLi):\n",
      "            try:\n",
      "                print self.X_const.columns[idx] + ': $' + str(round(coef,2)) + ' per ' + self.parmLabels[self.X.columns[idx]]\n",
      "            except:\n",
      "                print self.X_const.columns[idx] + ': $' + str(round(coef,2)) + ' '\n",
      "        if 'intercept' not in self.X_const.columns:\n",
      "            print 'intercept: $' + str(round(self.clf.intercept_))\n",
      "\n",
      "    \n",
      "    def get_df_summary(self):\n",
      "        coefsRet = pd.DataFrame(self.paramsLi, columns = ['Coefs'])\n",
      "        coefsRet['CI low'] = np.array(self.CIs[0])\n",
      "        coefsRet['CI high'] = np.array(self.CIs[1])\n",
      "        units = []\n",
      "        for k in range(len(coefsRet)):\n",
      "            if k < len(coefsRet)-1:\n",
      "                units.append('$ / ['+self.parmLabels[self.X.columns[k]]+']')\n",
      "            else:\n",
      "                units.append('$')\n",
      "        coefsRet['units'] = units\n",
      "        return coefsRet\n",
      "        \n",
      "    def plotScats(self):\n",
      "        for col in self.X:\n",
      "            plt.figure()\n",
      "            plt.plot(self.X[col], self.y, '.')\n",
      "            plt.xlabel(col)\n",
      "            plt.ylabel('Home Price ($)')\n",
      "            \n",
      "    def get_score(self):\n",
      "        try:\n",
      "            return self.result.rsquared_adj\n",
      "        except:\n",
      "            return nan   "
     ],
     "language": "python",
     "metadata": {},
     "outputs": [],
     "prompt_number": 44
    },
    {
     "cell_type": "code",
     "collapsed": false,
     "input": [
      "regInds = [2,10,4]\n",
      "X_all.columns[regInds]"
     ],
     "language": "python",
     "metadata": {},
     "outputs": [
      {
       "metadata": {},
       "output_type": "pyout",
       "prompt_number": 45,
       "text": [
        "Index([u'tranScore', u'HOM_TA2010_per', u'popDen2010'], dtype='object')"
       ]
      }
     ],
     "prompt_number": 45
    },
    {
     "cell_type": "code",
     "collapsed": false,
     "input": [
      "scores = []\n",
      "model1 = linRegOutput(X_all,y_all,regInds) # can run X.columns[regInds] to see parameters regressing over\n",
      "model1.fitStatsModels()\n",
      "model1Sum = model1.get_df_summary()\n",
      "scores.append(model1.get_score())\n",
      "print 'adjusted Rsq = '+ str(scores)\n",
      "model1Sum\n",
      "#model1.plotScats()\n",
      "#scores.append(model1.get_score())\n",
      "#scores"
     ],
     "language": "python",
     "metadata": {},
     "outputs": [
      {
       "output_type": "stream",
       "stream": "stdout",
       "text": [
        "adjusted Rsq = [0.56015956545241474]\n"
       ]
      },
      {
       "html": [
        "<div style=\"max-height:1000px;max-width:1500px;overflow:auto;\">\n",
        "<table border=\"1\" class=\"dataframe\">\n",
        "  <thead>\n",
        "    <tr style=\"text-align: right;\">\n",
        "      <th></th>\n",
        "      <th>Coefs</th>\n",
        "      <th>CI low</th>\n",
        "      <th>CI high</th>\n",
        "      <th>units</th>\n",
        "    </tr>\n",
        "  </thead>\n",
        "  <tbody>\n",
        "    <tr>\n",
        "      <th>0</th>\n",
        "      <td>   2633.464133</td>\n",
        "      <td>  1637.465658</td>\n",
        "      <td>   3629.462608</td>\n",
        "      <td>          $ / [% transit access]</td>\n",
        "    </tr>\n",
        "    <tr>\n",
        "      <th>1</th>\n",
        "      <td>     -0.385321</td>\n",
        "      <td>    -3.336910</td>\n",
        "      <td>      2.566268</td>\n",
        "      <td>           $ / [person per sqmi]</td>\n",
        "    </tr>\n",
        "    <tr>\n",
        "      <th>2</th>\n",
        "      <td>  -2163.355434</td>\n",
        "      <td> -3752.854485</td>\n",
        "      <td>   -573.856383</td>\n",
        "      <td> $ / [homicides per 100,000 ppl]</td>\n",
        "    </tr>\n",
        "    <tr>\n",
        "      <th>3</th>\n",
        "      <td> 109324.519552</td>\n",
        "      <td> 55720.902875</td>\n",
        "      <td> 162928.136230</td>\n",
        "      <td>                               $</td>\n",
        "    </tr>\n",
        "  </tbody>\n",
        "</table>\n",
        "</div>"
       ],
       "metadata": {},
       "output_type": "pyout",
       "prompt_number": 46,
       "text": [
        "           Coefs        CI low        CI high                            units\n",
        "0    2633.464133   1637.465658    3629.462608           $ / [% transit access]\n",
        "1      -0.385321     -3.336910       2.566268            $ / [person per sqmi]\n",
        "2   -2163.355434  -3752.854485    -573.856383  $ / [homicides per 100,000 ppl]\n",
        "3  109324.519552  55720.902875  162928.136230                                $"
       ]
      }
     ],
     "prompt_number": 46
    },
    {
     "cell_type": "code",
     "collapsed": false,
     "input": [
      "model1.plotScats()"
     ],
     "language": "python",
     "metadata": {},
     "outputs": [
      {
       "metadata": {},
       "output_type": "display_data",
       "png": "[encoded data removed]",
       "text": [
        "<matplotlib.figure.Figure at 0x7fc62aeac090>"
       ]
      },
      {
       "metadata": {},
       "output_type": "display_data",
       "png": "[encoded data removed]",
       "text": [
        "<matplotlib.figure.Figure at 0x7fc62ac06ed0>"
       ]
      },
      {
       "metadata": {},
       "output_type": "display_data",
       "png": "[encoded data removed]",
       "text": [
        "<matplotlib.figure.Figure at 0x7fc62ab946d0>"
       ]
      }
     ],
     "prompt_number": 47
    },
    {
     "cell_type": "markdown",
     "metadata": {},
     "source": [
      "Based on these plots, I'm disagree that housing price should decrease with increasing population density.\n",
      "\n",
      "## Maybe people only care about the absolute number of homocides, regardless of the community population\n",
      "\n",
      "I'll try this below now (but more likely, I will regress over even few parameters)"
     ]
    },
    {
     "cell_type": "code",
     "collapsed": false,
     "input": [
      "regInds = [2,5,4]\n",
      "X_all.columns[regInds]\n",
      "absHomiMdl = linRegOutput(X_all,y_all,regInds) # can run X.columns[regInds] to see parameters regressing over\n",
      "absHomiMdl.fitStatsModels()\n",
      "absHomiMdlSum = absHomiMdl.get_df_summary()\n",
      "scores.append(absHomiMdl.get_score())\n",
      "absHomiMdlSum"
     ],
     "language": "python",
     "metadata": {},
     "outputs": [
      {
       "html": [
        "<div style=\"max-height:1000px;max-width:1500px;overflow:auto;\">\n",
        "<table border=\"1\" class=\"dataframe\">\n",
        "  <thead>\n",
        "    <tr style=\"text-align: right;\">\n",
        "      <th></th>\n",
        "      <th>Coefs</th>\n",
        "      <th>CI low</th>\n",
        "      <th>CI high</th>\n",
        "      <th>units</th>\n",
        "    </tr>\n",
        "  </thead>\n",
        "  <tbody>\n",
        "    <tr>\n",
        "      <th>0</th>\n",
        "      <td>  2480.193868</td>\n",
        "      <td>  1409.497056</td>\n",
        "      <td>   3550.890681</td>\n",
        "      <td> $ / [% transit access]</td>\n",
        "    </tr>\n",
        "    <tr>\n",
        "      <th>1</th>\n",
        "      <td>     0.809325</td>\n",
        "      <td>    -2.230127</td>\n",
        "      <td>      3.848778</td>\n",
        "      <td>  $ / [person per sqmi]</td>\n",
        "    </tr>\n",
        "    <tr>\n",
        "      <th>2</th>\n",
        "      <td> -2456.057364</td>\n",
        "      <td> -6404.005244</td>\n",
        "      <td>   1491.890515</td>\n",
        "      <td>         $ / [homicide]</td>\n",
        "    </tr>\n",
        "    <tr>\n",
        "      <th>3</th>\n",
        "      <td> 83622.819182</td>\n",
        "      <td> 30503.257448</td>\n",
        "      <td> 136742.380916</td>\n",
        "      <td>                      $</td>\n",
        "    </tr>\n",
        "  </tbody>\n",
        "</table>\n",
        "</div>"
       ],
       "metadata": {},
       "output_type": "pyout",
       "prompt_number": 48,
       "text": [
        "          Coefs        CI low        CI high                   units\n",
        "0   2480.193868   1409.497056    3550.890681  $ / [% transit access]\n",
        "1      0.809325     -2.230127       3.848778   $ / [person per sqmi]\n",
        "2  -2456.057364  -6404.005244    1491.890515          $ / [homicide]\n",
        "3  83622.819182  30503.257448  136742.380916                       $"
       ]
      }
     ],
     "prompt_number": 48
    },
    {
     "cell_type": "code",
     "collapsed": false,
     "input": [
      "model1Sum"
     ],
     "language": "python",
     "metadata": {},
     "outputs": [
      {
       "html": [
        "<div style=\"max-height:1000px;max-width:1500px;overflow:auto;\">\n",
        "<table border=\"1\" class=\"dataframe\">\n",
        "  <thead>\n",
        "    <tr style=\"text-align: right;\">\n",
        "      <th></th>\n",
        "      <th>Coefs</th>\n",
        "      <th>CI low</th>\n",
        "      <th>CI high</th>\n",
        "      <th>units</th>\n",
        "    </tr>\n",
        "  </thead>\n",
        "  <tbody>\n",
        "    <tr>\n",
        "      <th>0</th>\n",
        "      <td>   2633.464133</td>\n",
        "      <td>  1637.465658</td>\n",
        "      <td>   3629.462608</td>\n",
        "      <td>          $ / [% transit access]</td>\n",
        "    </tr>\n",
        "    <tr>\n",
        "      <th>1</th>\n",
        "      <td>     -0.385321</td>\n",
        "      <td>    -3.336910</td>\n",
        "      <td>      2.566268</td>\n",
        "      <td>           $ / [person per sqmi]</td>\n",
        "    </tr>\n",
        "    <tr>\n",
        "      <th>2</th>\n",
        "      <td>  -2163.355434</td>\n",
        "      <td> -3752.854485</td>\n",
        "      <td>   -573.856383</td>\n",
        "      <td> $ / [homicides per 100,000 ppl]</td>\n",
        "    </tr>\n",
        "    <tr>\n",
        "      <th>3</th>\n",
        "      <td> 109324.519552</td>\n",
        "      <td> 55720.902875</td>\n",
        "      <td> 162928.136230</td>\n",
        "      <td>                               $</td>\n",
        "    </tr>\n",
        "  </tbody>\n",
        "</table>\n",
        "</div>"
       ],
       "metadata": {},
       "output_type": "pyout",
       "prompt_number": 49,
       "text": [
        "           Coefs        CI low        CI high                            units\n",
        "0    2633.464133   1637.465658    3629.462608           $ / [% transit access]\n",
        "1      -0.385321     -3.336910       2.566268            $ / [person per sqmi]\n",
        "2   -2163.355434  -3752.854485    -573.856383  $ / [homicides per 100,000 ppl]\n",
        "3  109324.519552  55720.902875  162928.136230                                $"
       ]
      }
     ],
     "prompt_number": 49
    },
    {
     "cell_type": "code",
     "collapsed": false,
     "input": [
      "plt.bar(np.arange(0.5,len(scores)-0.4),scores, width=0.5)\n",
      "plt.ylim([0,1])\n",
      "plt.xticks(np.arange(0.5,len(scores)-0.4),range(0,len(scores)))\n",
      "plt.xlabel('model #')\n",
      "plt.ylabel('adj R squared')"
     ],
     "language": "python",
     "metadata": {},
     "outputs": [
      {
       "metadata": {},
       "output_type": "pyout",
       "prompt_number": 50,
       "text": [
        "<matplotlib.text.Text at 0x7fc62aa46fd0>"
       ]
      },
      {
       "metadata": {},
       "output_type": "display_data",
       "png": "[encoded data removed]",
       "text": [
        "<matplotlib.figure.Figure at 0x7fc62aaff5d0>"
       ]
      }
     ],
     "prompt_number": 50
    },
    {
     "cell_type": "code",
     "collapsed": false,
     "input": [
      "absHomiMdl.plotScats()"
     ],
     "language": "python",
     "metadata": {},
     "outputs": [
      {
       "metadata": {},
       "output_type": "display_data",
       "png": "[encoded data removed]",
       "text": [
        "<matplotlib.figure.Figure at 0x7fc62aef6050>"
       ]
      },
      {
       "metadata": {},
       "output_type": "display_data",
       "png": "[encoded data removed]",
       "text": [
        "<matplotlib.figure.Figure at 0x7fc62aad2b50>"
       ]
      },
      {
       "metadata": {},
       "output_type": "display_data",
       "png": "[encoded data removed]",
       "text": [
        "<matplotlib.figure.Figure at 0x7fc62aba7f50>"
       ]
      }
     ],
     "prompt_number": 51
    },
    {
     "cell_type": "markdown",
     "metadata": {},
     "source": [
      "## Let's look at Burglery Rate and call it a day"
     ]
    },
    {
     "cell_type": "code",
     "collapsed": false,
     "input": [
      "regInds = [2,12,4]\n",
      "X_all.columns[regInds]\n",
      "burgRateMdl = linRegOutput(X_all,y_all,regInds) # can run X.columns[regInds] to see parameters regressing over\n",
      "burgRateMdl.fitStatsModels()\n",
      "burgRateMdlSum = burgRateMdl.get_df_summary()\n",
      "scores.append(burgRateMdl.get_score())\n",
      "burgRateMdlSum"
     ],
     "language": "python",
     "metadata": {},
     "outputs": [
      {
       "html": [
        "<div style=\"max-height:1000px;max-width:1500px;overflow:auto;\">\n",
        "<table border=\"1\" class=\"dataframe\">\n",
        "  <thead>\n",
        "    <tr style=\"text-align: right;\">\n",
        "      <th></th>\n",
        "      <th>Coefs</th>\n",
        "      <th>CI low</th>\n",
        "      <th>CI high</th>\n",
        "      <th>units</th>\n",
        "    </tr>\n",
        "  </thead>\n",
        "  <tbody>\n",
        "    <tr>\n",
        "      <th>0</th>\n",
        "      <td>   2526.043805</td>\n",
        "      <td>  1517.743074</td>\n",
        "      <td>   3534.344536</td>\n",
        "      <td>           $ / [% transit access]</td>\n",
        "    </tr>\n",
        "    <tr>\n",
        "      <th>1</th>\n",
        "      <td>      0.427348</td>\n",
        "      <td>    -2.458413</td>\n",
        "      <td>      3.313109</td>\n",
        "      <td>            $ / [person per sqmi]</td>\n",
        "    </tr>\n",
        "    <tr>\n",
        "      <th>2</th>\n",
        "      <td>    -44.871265</td>\n",
        "      <td>   -82.164277</td>\n",
        "      <td>     -7.578254</td>\n",
        "      <td> $ / [burgleries per 100,000 ppl]</td>\n",
        "    </tr>\n",
        "    <tr>\n",
        "      <th>3</th>\n",
        "      <td> 111461.311942</td>\n",
        "      <td> 54432.225069</td>\n",
        "      <td> 168490.398815</td>\n",
        "      <td>                                $</td>\n",
        "    </tr>\n",
        "  </tbody>\n",
        "</table>\n",
        "</div>"
       ],
       "metadata": {},
       "output_type": "pyout",
       "prompt_number": 52,
       "text": [
        "           Coefs        CI low        CI high  \\\n",
        "0    2526.043805   1517.743074    3534.344536   \n",
        "1       0.427348     -2.458413       3.313109   \n",
        "2     -44.871265    -82.164277      -7.578254   \n",
        "3  111461.311942  54432.225069  168490.398815   \n",
        "\n",
        "                              units  \n",
        "0            $ / [% transit access]  \n",
        "1             $ / [person per sqmi]  \n",
        "2  $ / [burgleries per 100,000 ppl]  \n",
        "3                                 $  "
       ]
      }
     ],
     "prompt_number": 52
    },
    {
     "cell_type": "code",
     "collapsed": false,
     "input": [
      "burgRateMdl.plotScats()"
     ],
     "language": "python",
     "metadata": {},
     "outputs": [
      {
       "metadata": {},
       "output_type": "display_data",
       "png": "[encoded data removed]",
       "text": [
        "<matplotlib.figure.Figure at 0x7fc62aee9950>"
       ]
      },
      {
       "metadata": {},
       "output_type": "display_data",
       "png": "[encoded data removed]",
       "text": [
        "<matplotlib.figure.Figure at 0x7fc62aba04d0>"
       ]
      },
      {
       "metadata": {},
       "output_type": "display_data",
       "png": "[encoded data removed]",
       "text": [
        "<matplotlib.figure.Figure at 0x7fc62aad2a10>"
       ]
      }
     ],
     "prompt_number": 53
    },
    {
     "cell_type": "markdown",
     "metadata": {},
     "source": [
      "* If neib population = 100,000, let burglery rate be, $b_{rate} = N_{burg}$/pop\n",
      "* If one loses \\$1000 per incident, then one's expectated yearly loss is $ \\$ 1000 \\cdot b_{rate} \\sim \\$ 0.50$/year $ \\ll \\$ 45$/year"
     ]
    },
    {
     "cell_type": "markdown",
     "metadata": {},
     "source": [
      "## Ignore Everything Below"
     ]
    },
    {
     "cell_type": "code",
     "collapsed": false,
     "input": [
      "\n",
      "\n",
      "# simple fitting min viable products (no grid search yet)\n",
      "\n",
      "def get_crimeRate_BASICdec(df, targetCol, **kwargs):\n",
      "    #minDP = kwargs['minDP'] if 'minDP' in kwargs else 20\n",
      "    \n",
      "    X = df.drop([targetCol],axis=1) # removes target col from df\n",
      "    y = df[targetCol] # pandas Series of targetCol data\n",
      "    \n",
      "    # Cross Neibourhood linear regression (basic)\n",
      "    cfl = linear_model.LinearRegression()\n",
      "    \n",
      "\n",
      "    cv =cross_validation.ShuffleSplit(len(y), n_iter=20, test_size=0.5) # splits datasets 20 ways, randomly? (bootstrap?)\n",
      "    def compute_error(clf, X, y):\n",
      "        return -cross_validation.cross_val_score(clf, X, y, cv=cv, scoring='mean_squared_error').mean()\n",
      "    def abs_corr(x, y):\n",
      "        return np.abs(stats.pearsonr(x, y)[0])\n",
      "    \n",
      "    model_performance = pd.DataFrame([\n",
      "        (\"Mean Model\", y.var()),\n",
      "        (\"Original Features, Pearson > .6\", compute_error(clf, X[[col for col in X.columns if abs_corr(X[col], y) > .6]], y)),\n",
      "        (\"Original Features, Pearson > .4\", compute_error(clf, X[[col for col in X.columns if abs_corr(X[col], y) > .4]], y)),], columns=[\"Model\", \"MSE\"])\n",
      "    model_performance.set_index(\"Model\")\n",
      "    model_performance.plot(x=\"Model\", y=\"MSE\", kind=\"Bar\")\n",
      "    \n",
      "    cfl.fit(X.drop)\n",
      "\n",
      "get_crime_rate_dec(df_noString, 'Pr2010')"
     ],
     "language": "python",
     "metadata": {},
     "outputs": [
      {
       "metadata": {},
       "output_type": "display_data",
       "png": "[encoded data removed]",
       "text": [
        "<matplotlib.figure.Figure at 0x7fd5182c6190>"
       ]
      }
     ],
     "prompt_number": 77
    },
    {
     "cell_type": "code",
     "collapsed": false,
     "input": [],
     "language": "python",
     "metadata": {},
     "outputs": []
    }
   ],
   "metadata": {}
  }
 ]
}